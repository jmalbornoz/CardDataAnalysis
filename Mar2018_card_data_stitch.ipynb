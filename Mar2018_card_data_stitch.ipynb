{
 "cells": [
  {
   "cell_type": "markdown",
   "metadata": {},
   "source": [
    "# March 2018 Ingenico card data stitch\n",
    "## April 2018\n",
    "### Dr Jose M Albornoz\n",
    "\n",
    "This notebook generates reads individual csv files containing card data for March 2018, combining then into a single file.\n",
    "\n",
    "NOTE: the received files contain data only up to March 30st"
   ]
  },
  {
   "cell_type": "markdown",
   "metadata": {},
   "source": [
    "# 1.- Import necessary modules, define SQLContext"
   ]
  },
  {
   "cell_type": "code",
   "execution_count": 1,
   "metadata": {},
   "outputs": [],
   "source": [
    "# Import required modules\n",
    "from pyspark.context import SparkContext\n",
    "from pyspark.sql.context import SQLContext\n",
    "from pyspark.sql.functions import *\n",
    "from pyspark.sql.types import *\n",
    "from pyspark.sql.functions import unix_timestamp"
   ]
  },
  {
   "cell_type": "code",
   "execution_count": 2,
   "metadata": {},
   "outputs": [],
   "source": [
    "# Define SQLContext\n",
    "sqlContext = SQLContext(sc)"
   ]
  },
  {
   "cell_type": "markdown",
   "metadata": {},
   "source": [
    "# 2.- Generic function to load data from a csv file"
   ]
  },
  {
   "cell_type": "code",
   "execution_count": 3,
   "metadata": {},
   "outputs": [],
   "source": [
    "# a function to load a colon-separated value file\n",
    "def load_data_colon(filename, schema, columns = None):\n",
    "    df = sqlContext.read.format('com.databricks.spark.csv').option(\"delimiter\", \";\").options(header='true'). \\\n",
    "    load(filename, schema = schema)\n",
    "    if columns is None:\n",
    "        # If no columns are given, then select all\n",
    "        columns = schema.names\n",
    "    return df.select(columns)"
   ]
  },
  {
   "cell_type": "markdown",
   "metadata": {},
   "source": [
    "# 3.- Data schema"
   ]
  },
  {
   "cell_type": "code",
   "execution_count": 4,
   "metadata": {},
   "outputs": [],
   "source": [
    "schema = StructType([ \n",
    "    StructField('store_number', IntegerType(), True), \n",
    "    StructField('terminal_number', IntegerType(), True), \n",
    "    StructField('transaction_date', StringType(), True), \n",
    "    StructField('transaction_time', IntegerType(), True), \n",
    "    StructField('transaction_amount', IntegerType(), True),\n",
    "    StructField('card_scheme', StringType(), True),\n",
    "    StructField('card_provider', StringType(), True),\n",
    "    StructField('pan_token', StringType(), True)\n",
    "])"
   ]
  },
  {
   "cell_type": "markdown",
   "metadata": {},
   "source": [
    "# 4.- Load data"
   ]
  },
  {
   "cell_type": "code",
   "execution_count": 6,
   "metadata": {},
   "outputs": [
    {
     "name": "stdout",
     "output_type": "stream",
     "text": [
      "Ingenico/INGENICO_EXTRACT_2018_03_02.csv\n",
      "Ingenico/INGENICO_EXTRACT_2018_03_03.csv\n",
      "Ingenico/INGENICO_EXTRACT_2018_03_04.csv\n",
      "Ingenico/INGENICO_EXTRACT_2018_03_05.csv\n",
      "Ingenico/INGENICO_EXTRACT_2018_03_06.csv\n",
      "Ingenico/INGENICO_EXTRACT_2018_03_07.csv\n",
      "Ingenico/INGENICO_EXTRACT_2018_03_08.csv\n",
      "Ingenico/INGENICO_EXTRACT_2018_03_09.csv\n",
      "Ingenico/INGENICO_EXTRACT_2018_03_10.csv\n",
      "Ingenico/INGENICO_EXTRACT_2018_03_11.csv\n",
      "Ingenico/INGENICO_EXTRACT_2018_03_12.csv\n",
      "Ingenico/INGENICO_EXTRACT_2018_03_13.csv\n",
      "Ingenico/INGENICO_EXTRACT_2018_03_14.csv\n",
      "Ingenico/INGENICO_EXTRACT_2018_03_15.csv\n",
      "Ingenico/INGENICO_EXTRACT_2018_03_16.csv\n",
      "Ingenico/INGENICO_EXTRACT_2018_03_17.csv\n",
      "Ingenico/INGENICO_EXTRACT_2018_03_18.csv\n",
      "Ingenico/INGENICO_EXTRACT_2018_03_19.csv\n",
      "Ingenico/INGENICO_EXTRACT_2018_03_20.csv\n",
      "Ingenico/INGENICO_EXTRACT_2018_03_21.csv\n",
      "Ingenico/INGENICO_EXTRACT_2018_03_22.csv\n",
      "Ingenico/INGENICO_EXTRACT_2018_03_23.csv\n",
      "Ingenico/INGENICO_EXTRACT_2018_03_24.csv\n",
      "Ingenico/INGENICO_EXTRACT_2018_03_25.csv\n",
      "Ingenico/INGENICO_EXTRACT_2018_03_26.csv\n",
      "Ingenico/INGENICO_EXTRACT_2018_03_27.csv\n",
      "Ingenico/INGENICO_EXTRACT_2018_03_28.csv\n",
      "Ingenico/INGENICO_EXTRACT_2018_03_29.csv\n",
      "Ingenico/INGENICO_EXTRACT_2018_03_30.csv\n",
      "Ingenico/INGENICO_EXTRACT_2018_03_31.csv\n"
     ]
    }
   ],
   "source": [
    "for k in range(2,32):\n",
    "    \n",
    "    if len(str(k)) == 1:\n",
    "        day = str(k).zfill(2)\n",
    "    else:\n",
    "        day = str(k)\n",
    "    \n",
    "    name = \"Ingenico/INGENICO_EXTRACT_2018_03_\" + day + \".csv\"\n",
    "    print(name)\n",
    "    \n",
    "    df_tmp = load_data_colon(name, schema=schema)\n",
    "    \n",
    "    if k == 2:\n",
    "        df_01 = df_tmp\n",
    "    elif k == 3:\n",
    "        df_data0 = df_01.unionAll(df_tmp)\n",
    "    else:\n",
    "        df_data0 = df_data0.unionAll(df_tmp)        "
   ]
  },
  {
   "cell_type": "code",
   "execution_count": 7,
   "metadata": {},
   "outputs": [],
   "source": [
    "df_data0 = df_data0.sort('transaction_date', 'transaction_time')"
   ]
  },
  {
   "cell_type": "code",
   "execution_count": 8,
   "metadata": {},
   "outputs": [
    {
     "name": "stdout",
     "output_type": "stream",
     "text": [
      "+------------+---------------+----------------+----------------+------------------+-----------+-------------+-------------------+\n",
      "|store_number|terminal_number|transaction_date|transaction_time|transaction_amount|card_scheme|card_provider|          pan_token|\n",
      "+------------+---------------+----------------+----------------+------------------+-----------+-------------+-------------------+\n",
      "|         599|             23|      2018/03/01|               0|               878|          S|         VISA|4751298424585222103|\n",
      "|        1011|              4|      2018/03/01|               0|               298|          S|         VISA|4659419926128791813|\n",
      "|         913|             20|      2018/03/01|               1|              1045|          S|         VISA|4757142953193939201|\n",
      "|        1521|              2|      2018/03/01|               2|               318|          S|         VISA|4929456025967632008|\n",
      "|         843|              2|      2018/03/01|               2|               529|          S|         VISA|4929151559175619010|\n",
      "|        1263|              2|      2018/03/01|               3|               228|          S|         VISA|4658582005034628017|\n",
      "|         591|              3|      2018/03/01|               3|               757|          S|         VISA|4658587608569660023|\n",
      "|        1480|              1|      2018/03/01|               3|                20|          S|         VISA|4751303596543995509|\n",
      "|         885|             20|      2018/03/01|               4|               169|          S|         VISA|4818911873368461814|\n",
      "|         449|             20|      2018/03/01|               4|               883|          S|         VISA|4658583432941409021|\n",
      "+------------+---------------+----------------+----------------+------------------+-----------+-------------+-------------------+\n",
      "only showing top 10 rows\n",
      "\n"
     ]
    }
   ],
   "source": [
    "df_data0.show(10)"
   ]
  },
  {
   "cell_type": "code",
   "execution_count": 9,
   "metadata": {},
   "outputs": [
    {
     "data": {
      "text/plain": [
       "33080275"
      ]
     },
     "execution_count": 9,
     "metadata": {},
     "output_type": "execute_result"
    }
   ],
   "source": [
    "df_data0.count()"
   ]
  },
  {
   "cell_type": "markdown",
   "metadata": {},
   "source": [
    "# 5.- Write data to disk"
   ]
  },
  {
   "cell_type": "code",
   "execution_count": null,
   "metadata": {},
   "outputs": [],
   "source": [
    "df_data0.repartition(1).write.format('com.databricks.spark.csv').save('March2018.csv', header = 'true')"
   ]
  },
  {
   "cell_type": "code",
   "execution_count": null,
   "metadata": {},
   "outputs": [],
   "source": [
    "|"
   ]
  }
 ],
 "metadata": {
  "kernelspec": {
   "display_name": "Python 3",
   "language": "python",
   "name": "python3"
  },
  "language_info": {
   "codemirror_mode": {
    "name": "ipython",
    "version": 3
   },
   "file_extension": ".py",
   "mimetype": "text/x-python",
   "name": "python",
   "nbconvert_exporter": "python",
   "pygments_lexer": "ipython3",
   "version": "3.5.2"
  }
 },
 "nbformat": 4,
 "nbformat_minor": 1
}
