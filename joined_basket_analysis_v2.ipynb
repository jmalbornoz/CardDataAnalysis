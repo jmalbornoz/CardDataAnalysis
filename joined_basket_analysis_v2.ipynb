{
 "cells": [
  {
   "cell_type": "markdown",
   "metadata": {},
   "source": [
    "# McDonald's Joined Basket Analysis - v2 all card tokens\n",
    "## April 2018\n",
    "### Dr Jose M Albornoz\n",
    "\n",
    "This notebook analyses joined basket data using all card tokens to examine i) unmatched transactions; ii) multiple payments between succesive baskets"
   ]
  },
  {
   "cell_type": "markdown",
   "metadata": {},
   "source": [
    "# 1.- Import necessary modules, define SQLContext"
   ]
  },
  {
   "cell_type": "code",
   "execution_count": 1,
   "metadata": {},
   "outputs": [],
   "source": [
    "# Import required modules\n",
    "from pyspark.context import SparkContext\n",
    "from pyspark.sql.context import SQLContext\n",
    "from pyspark.sql.functions import *\n",
    "from pyspark.sql.functions import col\n",
    "from pyspark.sql.functions import row_number\n",
    "from pyspark.sql.types import *\n",
    "from pyspark.sql.functions import unix_timestamp\n",
    "import math\n",
    "from pyspark.sql.window import *\n",
    "import pandas as pd"
   ]
  },
  {
   "cell_type": "code",
   "execution_count": 2,
   "metadata": {},
   "outputs": [],
   "source": [
    "# Define SQLContext\n",
    "sqlContext = SQLContext(sc)"
   ]
  },
  {
   "cell_type": "markdown",
   "metadata": {},
   "source": [
    "# 2.- Generic functions to load data from a text-based file"
   ]
  },
  {
   "cell_type": "code",
   "execution_count": 3,
   "metadata": {},
   "outputs": [],
   "source": [
    "# a function to load a colon-separated value file\n",
    "def load_data_colon(filename, schema, columns = None):\n",
    "    df = sqlContext.read.format('com.databricks.spark.csv').option(\"delimiter\", \";\").options(header='true'). \\\n",
    "    load(filename, schema = schema)\n",
    "    if columns is None:\n",
    "        # If no columns are given, then select all\n",
    "        columns = schema.names\n",
    "    return df.select(columns)"
   ]
  },
  {
   "cell_type": "code",
   "execution_count": 4,
   "metadata": {},
   "outputs": [],
   "source": [
    "# a function to load a pipe-separated value file\n",
    "def load_data_pipe(filename, schema, columns = None):\n",
    "    df = sqlContext.read.format('com.databricks.spark.csv').option(\"delimiter\", \"|\").options(header='false'). \\\n",
    "    load(filename, schema = schema)\n",
    "    if columns is None:\n",
    "        # If no columns are given, then select all\n",
    "        columns = schema.names\n",
    "    return df.select(columns)"
   ]
  },
  {
   "cell_type": "code",
   "execution_count": 5,
   "metadata": {},
   "outputs": [],
   "source": [
    "# a function to load a comma-separated value file\n",
    "def load_data_comma(filename, schema, columns = None):\n",
    "    df = sqlContext.read.format('com.databricks.spark.csv').option(\"delimiter\", \",\").options(header='true'). \\\n",
    "    load(filename, schema = schema)\n",
    "    if columns is None:\n",
    "        # If no columns are given, then select all\n",
    "        columns = schema.names\n",
    "    return df.select(columns)"
   ]
  },
  {
   "cell_type": "markdown",
   "metadata": {},
   "source": [
    "# 3.- Schema for joined basket file"
   ]
  },
  {
   "cell_type": "code",
   "execution_count": 6,
   "metadata": {},
   "outputs": [],
   "source": [
    "schema_basket = StructType([ \n",
    "    StructField('store_number', IntegerType(), True), \n",
    "    StructField('timestamp_basket', TimestampType(), True), \n",
    "    StructField('pos_code', IntegerType(), True), \n",
    "    StructField('pos_id', StringType(), True), \n",
    "    StructField('sale_number', IntegerType(), True),\n",
    "    StructField('total_cost', FloatType(), True),\n",
    "    StructField('unit_cost', FloatType(), True),\n",
    "    StructField('quantity', IntegerType(), True), \n",
    "    StructField('menu_item_id', IntegerType(), True), \n",
    "    StructField('transaction_amount', FloatType(), True), \n",
    "    StructField('pan_token', StringType(), True), \n",
    "    StructField('timestamp_cards', TimestampType(), True)\n",
    "])"
   ]
  },
  {
   "cell_type": "markdown",
   "metadata": {},
   "source": [
    "# 4.- Load joined basket data"
   ]
  },
  {
   "cell_type": "code",
   "execution_count": 7,
   "metadata": {},
   "outputs": [],
   "source": [
    "df_basket = load_data_comma(\"joined_basket_reading_all_tokens.csv/part-00000-e68b3079-c1d0-427a-b29e-80eb1114b0a4-c000.csv\", \\\n",
    "                           schema_basket)"
   ]
  },
  {
   "cell_type": "code",
   "execution_count": 8,
   "metadata": {},
   "outputs": [],
   "source": [
    "df_basket = df_basket.select('store_number', 'timestamp_basket', 'pos_code', 'pos_id', 'sale_number', 'pan_token', \\\n",
    "                             'timestamp_cards', 'total_cost').orderBy('store_number', 'pos_code', 'pos_id', \\\n",
    "                                                                      'sale_number')"
   ]
  },
  {
   "cell_type": "code",
   "execution_count": 9,
   "metadata": {},
   "outputs": [
    {
     "name": "stdout",
     "output_type": "stream",
     "text": [
      "+------------+-------------------+--------+-----------------+-----------+--------------------+-------------------+----------+\n",
      "|store_number|   timestamp_basket|pos_code|           pos_id|sale_number|           pan_token|    timestamp_cards|total_cost|\n",
      "+------------+-------------------+--------+-----------------+-----------+--------------------+-------------------+----------+\n",
      "|         102|2017-09-01 00:00:51|       1|POS0001:216437503|          1|CC2919271D518CE2B...|2017-09-01 00:01:00|       0.0|\n",
      "|         102|2017-09-01 00:00:51|       1|POS0001:216437503|          2|CC2919271D518CE2B...|2017-09-01 00:01:00|      0.91|\n",
      "|         102|2017-09-01 00:00:51|       1|POS0001:216437503|          3|CC2919271D518CE2B...|2017-09-01 00:01:00|       0.0|\n",
      "|         102|2017-09-01 00:00:51|       1|POS0001:216437503|          4|CC2919271D518CE2B...|2017-09-01 00:01:00|      3.33|\n",
      "|         102|2017-09-01 00:01:40|       1|POS0001:216437504|          1|9DCFC4FE00D7565E7...|2017-09-01 00:02:00|      -0.8|\n",
      "|         102|2017-09-01 00:01:40|       1|POS0001:216437504|          2|9DCFC4FE00D7565E7...|2017-09-01 00:02:00|      4.43|\n",
      "|         102|2017-09-01 00:01:40|       1|POS0001:216437504|          3|9DCFC4FE00D7565E7...|2017-09-01 00:02:00|       0.0|\n",
      "|         102|2017-09-01 00:01:40|       1|POS0001:216437504|          4|9DCFC4FE00D7565E7...|2017-09-01 00:02:00|      0.82|\n",
      "|         102|2017-09-01 00:01:40|       1|POS0001:216437504|          5|9DCFC4FE00D7565E7...|2017-09-01 00:02:00|      1.24|\n",
      "|         102|2017-09-01 00:01:40|       1|POS0001:216437504|          6|9DCFC4FE00D7565E7...|2017-09-01 00:02:00|       0.0|\n",
      "|         102|2017-09-01 00:01:40|       1|POS0001:216437504|          7|9DCFC4FE00D7565E7...|2017-09-01 00:02:00|       0.0|\n",
      "|         102|2017-09-01 00:07:28|       1|POS0001:216437511|          1|CA03E173868FFB0F5...|2017-09-01 00:08:00|      1.24|\n",
      "|         102|2017-09-01 00:07:28|       1|POS0001:216437511|          1|F8FD3E6E72ECDF9D6...|2017-09-01 00:08:00|      1.24|\n",
      "|         102|2017-09-01 00:07:28|       1|POS0001:216437511|          2|CA03E173868FFB0F5...|2017-09-01 00:08:00|      1.24|\n",
      "|         102|2017-09-01 00:07:28|       1|POS0001:216437511|          2|F8FD3E6E72ECDF9D6...|2017-09-01 00:08:00|      1.24|\n",
      "|         102|2017-09-01 00:08:34|       1|POS0001:216437512|          1|                null|               null|      1.16|\n",
      "|         102|2017-09-01 00:08:34|       1|POS0001:216437512|          2|                null|               null|      1.16|\n",
      "|         102|2017-09-01 00:08:34|       1|POS0001:216437512|          3|                null|               null|      1.24|\n",
      "|         102|2017-09-01 00:10:50|       1|POS0001:216437513|          1|820B52BFA23284825...|2017-09-01 00:11:00|      1.16|\n",
      "|         102|2017-09-01 00:10:50|       1|POS0001:216437513|          1|D34051D8DACF1DFB6...|2017-09-01 00:11:00|      1.16|\n",
      "+------------+-------------------+--------+-----------------+-----------+--------------------+-------------------+----------+\n",
      "only showing top 20 rows\n",
      "\n"
     ]
    }
   ],
   "source": [
    "df_basket.show(20)"
   ]
  },
  {
   "cell_type": "code",
   "execution_count": 10,
   "metadata": {},
   "outputs": [
    {
     "data": {
      "text/plain": [
       "1732243"
      ]
     },
     "execution_count": 10,
     "metadata": {},
     "output_type": "execute_result"
    }
   ],
   "source": [
    "df_basket.count()"
   ]
  },
  {
   "cell_type": "code",
   "execution_count": 11,
   "metadata": {},
   "outputs": [
    {
     "name": "stdout",
     "output_type": "stream",
     "text": [
      "+------------+-------------------+--------+-----------------+-----------+--------------------+-------------------+\n",
      "|store_number|   timestamp_basket|pos_code|           pos_id|sale_number|           pan_token|    timestamp_cards|\n",
      "+------------+-------------------+--------+-----------------+-----------+--------------------+-------------------+\n",
      "|         102|2017-09-01 00:00:51|       1|POS0001:216437503|          1|CC2919271D518CE2B...|2017-09-01 00:01:00|\n",
      "|         102|2017-09-01 00:00:51|       1|POS0001:216437503|          2|CC2919271D518CE2B...|2017-09-01 00:01:00|\n",
      "|         102|2017-09-01 00:00:51|       1|POS0001:216437503|          3|CC2919271D518CE2B...|2017-09-01 00:01:00|\n",
      "|         102|2017-09-01 00:00:51|       1|POS0001:216437503|          4|CC2919271D518CE2B...|2017-09-01 00:01:00|\n",
      "|         102|2017-09-01 00:01:40|       1|POS0001:216437504|          1|9DCFC4FE00D7565E7...|2017-09-01 00:02:00|\n",
      "|         102|2017-09-01 00:01:40|       1|POS0001:216437504|          2|9DCFC4FE00D7565E7...|2017-09-01 00:02:00|\n",
      "|         102|2017-09-01 00:01:40|       1|POS0001:216437504|          3|9DCFC4FE00D7565E7...|2017-09-01 00:02:00|\n",
      "|         102|2017-09-01 00:01:40|       1|POS0001:216437504|          4|9DCFC4FE00D7565E7...|2017-09-01 00:02:00|\n",
      "|         102|2017-09-01 00:01:40|       1|POS0001:216437504|          5|9DCFC4FE00D7565E7...|2017-09-01 00:02:00|\n",
      "|         102|2017-09-01 00:01:40|       1|POS0001:216437504|          6|9DCFC4FE00D7565E7...|2017-09-01 00:02:00|\n",
      "+------------+-------------------+--------+-----------------+-----------+--------------------+-------------------+\n",
      "only showing top 10 rows\n",
      "\n"
     ]
    }
   ],
   "source": [
    "df_basket.select('store_number', 'timestamp_basket', 'pos_code', 'pos_id', 'sale_number', 'pan_token', \\\n",
    "                             'timestamp_cards').orderBy('store_number', 'pos_code', 'pos_id', \\\n",
    "                                                                      'sale_number').show(10)"
   ]
  },
  {
   "cell_type": "markdown",
   "metadata": {},
   "source": [
    "# 5.- Compute aggregated basket"
   ]
  },
  {
   "cell_type": "code",
   "execution_count": 12,
   "metadata": {},
   "outputs": [],
   "source": [
    "df_basket_aggregated = df_basket.groupBy(\"store_number\", \"timestamp_basket\", \"pos_code\", \"pos_id\", \\\n",
    "                                         \"pan_token\", \"timestamp_cards\").\\\n",
    "                                 agg(sum(\"total_cost\").alias(\"total_cost\")). \\\n",
    "                                                                         orderBy(\"store_number\", \\\n",
    "                                                                                 \"pos_code\", \"pos_id\", \\\n",
    "                                                                                 \"timestamp_basket\")"
   ]
  },
  {
   "cell_type": "code",
   "execution_count": 13,
   "metadata": {},
   "outputs": [
    {
     "name": "stdout",
     "output_type": "stream",
     "text": [
      "+------------+-------------------+--------+-----------------+--------------------+-------------------+------------------+\n",
      "|store_number|   timestamp_basket|pos_code|           pos_id|           pan_token|    timestamp_cards|        total_cost|\n",
      "+------------+-------------------+--------+-----------------+--------------------+-------------------+------------------+\n",
      "|         102|2017-09-01 00:00:51|       1|POS0001:216437503|CC2919271D518CE2B...|2017-09-01 00:01:00| 4.239999949932098|\n",
      "|         102|2017-09-01 00:01:40|       1|POS0001:216437504|9DCFC4FE00D7565E7...|2017-09-01 00:02:00|  5.68999981880188|\n",
      "|         102|2017-09-01 00:07:28|       1|POS0001:216437511|F8FD3E6E72ECDF9D6...|2017-09-01 00:08:00|2.4800000190734863|\n",
      "|         102|2017-09-01 00:07:28|       1|POS0001:216437511|CA03E173868FFB0F5...|2017-09-01 00:08:00|2.4800000190734863|\n",
      "|         102|2017-09-01 00:08:34|       1|POS0001:216437512|                null|               null| 3.559999942779541|\n",
      "|         102|2017-09-01 00:10:50|       1|POS0001:216437513|820B52BFA23284825...|2017-09-01 00:11:00| 4.889999985694885|\n",
      "|         102|2017-09-01 00:10:50|       1|POS0001:216437513|D34051D8DACF1DFB6...|2017-09-01 00:11:00| 4.889999985694885|\n",
      "|         102|2017-09-01 00:11:14|       1|POS0001:216437514|1F3A3D6A9B05A6DCD...|2017-09-01 00:12:00|3.7399999499320984|\n",
      "|         102|2017-09-01 00:12:16|       1|POS0001:216437516|                null|               null|3.3199999928474426|\n",
      "|         102|2017-09-01 00:14:50|       1|POS0001:216437517|B1E84F9E076CD4A57...|2017-09-01 00:16:00| 2.899999976158142|\n",
      "+------------+-------------------+--------+-----------------+--------------------+-------------------+------------------+\n",
      "only showing top 10 rows\n",
      "\n"
     ]
    }
   ],
   "source": [
    "df_basket_aggregated.show(10)"
   ]
  },
  {
   "cell_type": "code",
   "execution_count": 14,
   "metadata": {},
   "outputs": [
    {
     "data": {
      "text/plain": [
       "371702"
      ]
     },
     "execution_count": 14,
     "metadata": {},
     "output_type": "execute_result"
    }
   ],
   "source": [
    "df_basket_aggregated.count()"
   ]
  },
  {
   "cell_type": "markdown",
   "metadata": {},
   "source": [
    "# 6.- Count of unmatched baskets"
   ]
  },
  {
   "cell_type": "code",
   "execution_count": 15,
   "metadata": {},
   "outputs": [],
   "source": [
    "df_unmatched = df_basket_aggregated.where(col('pan_token').isNull())"
   ]
  },
  {
   "cell_type": "code",
   "execution_count": 16,
   "metadata": {},
   "outputs": [
    {
     "name": "stdout",
     "output_type": "stream",
     "text": [
      "+------------+-------------------+--------+-----------------+---------+---------------+------------------+\n",
      "|store_number|   timestamp_basket|pos_code|           pos_id|pan_token|timestamp_cards|        total_cost|\n",
      "+------------+-------------------+--------+-----------------+---------+---------------+------------------+\n",
      "|         102|2017-09-01 00:08:34|       1|POS0001:216437512|     null|           null| 3.559999942779541|\n",
      "|         102|2017-09-01 00:12:16|       1|POS0001:216437516|     null|           null|3.3199999928474426|\n",
      "|         102|2017-09-01 00:36:16|       1|POS0001:216437530|     null|           null|3.7200000286102295|\n",
      "|         102|2017-09-01 00:52:39|       1|POS0001:216437538|     null|           null| 4.750000059604645|\n",
      "|         102|2017-09-01 01:02:22|       1|POS0001:216437545|     null|           null| 4.070000112056732|\n",
      "|         102|2017-09-01 01:47:04|       1|POS0001:216437575|     null|           null| 2.990000069141388|\n",
      "|         102|2017-09-01 02:03:28|       1|POS0001:216437583|     null|           null| 2.490000009536743|\n",
      "|         102|2017-09-13 00:09:42|       1|POS0001:216437598|     null|           null|3.3199999928474426|\n",
      "|         102|2017-09-13 00:14:03|       1|POS0001:216437606|     null|           null|3.2500000596046448|\n",
      "|         102|2017-09-13 00:30:15|       1|POS0001:216437621|     null|           null| 5.319999933242798|\n",
      "+------------+-------------------+--------+-----------------+---------+---------------+------------------+\n",
      "only showing top 10 rows\n",
      "\n"
     ]
    }
   ],
   "source": [
    "df_unmatched.show(10)"
   ]
  },
  {
   "cell_type": "code",
   "execution_count": 20,
   "metadata": {},
   "outputs": [
    {
     "name": "stdout",
     "output_type": "stream",
     "text": [
      "+------------+-------------------+-----------------+-------------------+\n",
      "|store_number|   timestamp_basket|           pos_id|    timestamp_cards|\n",
      "+------------+-------------------+-----------------+-------------------+\n",
      "|         102|2017-09-01 00:00:51|POS0001:216437503|2017-09-01 00:01:00|\n",
      "|         102|2017-09-01 00:01:40|POS0001:216437504|2017-09-01 00:02:00|\n",
      "|         102|2017-09-01 00:07:28|POS0001:216437511|2017-09-01 00:08:00|\n",
      "|         102|2017-09-01 00:07:28|POS0001:216437511|2017-09-01 00:08:00|\n",
      "|         102|2017-09-01 00:10:50|POS0001:216437513|2017-09-01 00:11:00|\n",
      "|         102|2017-09-01 00:10:50|POS0001:216437513|2017-09-01 00:11:00|\n",
      "|         102|2017-09-01 00:11:14|POS0001:216437514|2017-09-01 00:12:00|\n",
      "|         102|2017-09-01 00:14:50|POS0001:216437517|2017-09-01 00:16:00|\n",
      "|         102|2017-09-01 00:14:50|POS0001:216437517|2017-09-01 00:16:00|\n",
      "|         102|2017-09-01 00:16:23|POS0001:216437518|2017-09-01 00:29:00|\n",
      "|         102|2017-09-01 00:29:23|POS0001:216437526|2017-09-01 00:34:00|\n",
      "|         102|2017-09-01 00:34:19|POS0001:216437527|2017-09-01 00:36:00|\n",
      "|         102|2017-09-01 00:44:44|POS0001:216437534|2017-09-01 00:45:00|\n",
      "|         102|2017-09-01 00:44:44|POS0001:216437534|2017-09-01 00:52:00|\n",
      "|         102|2017-09-01 00:58:46|POS0001:216437541|2017-09-01 01:01:00|\n",
      "|         102|2017-09-01 00:58:46|POS0001:216437541|2017-09-01 00:59:00|\n",
      "|         102|2017-09-01 01:01:27|POS0001:216437544|2017-09-01 01:02:00|\n",
      "|         102|2017-09-01 01:03:44|POS0001:216437547|2017-09-01 01:04:00|\n",
      "|         102|2017-09-01 01:05:56|POS0001:216437550|2017-09-01 01:06:00|\n",
      "|         102|2017-09-01 01:09:48|POS0001:216437555|2017-09-01 01:10:00|\n",
      "+------------+-------------------+-----------------+-------------------+\n",
      "only showing top 20 rows\n",
      "\n"
     ]
    }
   ],
   "source": [
    "df_basket_aggregated.where(col('pan_token').isNotNull()).select('store_number', 'timestamp_basket', 'pos_id', \\\n",
    "                                                               'timestamp_cards').show(20)"
   ]
  },
  {
   "cell_type": "markdown",
   "metadata": {},
   "source": [
    "## 6.1.- Are there any repeated pos_ids in the unmatched baskets?"
   ]
  },
  {
   "cell_type": "code",
   "execution_count": 17,
   "metadata": {},
   "outputs": [
    {
     "data": {
      "text/plain": [
       "51067"
      ]
     },
     "execution_count": 17,
     "metadata": {},
     "output_type": "execute_result"
    }
   ],
   "source": [
    "len([i.pos_id for i in df_unmatched.select('pos_id').distinct().collect()])"
   ]
  },
  {
   "cell_type": "code",
   "execution_count": 18,
   "metadata": {},
   "outputs": [
    {
     "data": {
      "text/plain": [
       "51067"
      ]
     },
     "execution_count": 18,
     "metadata": {},
     "output_type": "execute_result"
    }
   ],
   "source": [
    "df_unmatched.count()"
   ]
  },
  {
   "cell_type": "markdown",
   "metadata": {},
   "source": [
    "# 7.- Count of multiple payments between transactions"
   ]
  },
  {
   "cell_type": "code",
   "execution_count": null,
   "metadata": {},
   "outputs": [],
   "source": [
    "df_basket_multiple_payments = df_basket_aggregated.groupBy('pos_id').count()"
   ]
  },
  {
   "cell_type": "code",
   "execution_count": null,
   "metadata": {},
   "outputs": [],
   "source": [
    "df_basket_multiple_payments.show(10)"
   ]
  },
  {
   "cell_type": "code",
   "execution_count": null,
   "metadata": {},
   "outputs": [],
   "source": [
    "df_basket_multiple_payments.count()"
   ]
  },
  {
   "cell_type": "code",
   "execution_count": null,
   "metadata": {},
   "outputs": [],
   "source": [
    "df_basket_multiple_payments.where(df_basket_multiple_payments['count'] != 1).count()"
   ]
  },
  {
   "cell_type": "markdown",
   "metadata": {},
   "source": [
    "# 8.- Convert to Pandas"
   ]
  },
  {
   "cell_type": "code",
   "execution_count": null,
   "metadata": {},
   "outputs": [],
   "source": [
    "pdf_basket = df_basket.toPandas()"
   ]
  },
  {
   "cell_type": "code",
   "execution_count": null,
   "metadata": {},
   "outputs": [],
   "source": [
    "pdf_basket.head(50)"
   ]
  },
  {
   "cell_type": "code",
   "execution_count": null,
   "metadata": {},
   "outputs": [],
   "source": [
    "pdf_basket.tail(50)"
   ]
  },
  {
   "cell_type": "code",
   "execution_count": null,
   "metadata": {},
   "outputs": [],
   "source": [
    "pdf_basket_aggregated = df_basket_aggregated.toPandas()"
   ]
  },
  {
   "cell_type": "code",
   "execution_count": null,
   "metadata": {},
   "outputs": [],
   "source": [
    "pdf_basket_aggregated.head(50)"
   ]
  },
  {
   "cell_type": "code",
   "execution_count": null,
   "metadata": {},
   "outputs": [],
   "source": [
    "pdf_basket_aggregated.tail(50)"
   ]
  },
  {
   "cell_type": "code",
   "execution_count": null,
   "metadata": {},
   "outputs": [],
   "source": []
  }
 ],
 "metadata": {
  "kernelspec": {
   "display_name": "Python 3",
   "language": "python",
   "name": "python3"
  },
  "language_info": {
   "codemirror_mode": {
    "name": "ipython",
    "version": 3
   },
   "file_extension": ".py",
   "mimetype": "text/x-python",
   "name": "python",
   "nbconvert_exporter": "python",
   "pygments_lexer": "ipython3",
   "version": "3.5.2"
  }
 },
 "nbformat": 4,
 "nbformat_minor": 1
}
