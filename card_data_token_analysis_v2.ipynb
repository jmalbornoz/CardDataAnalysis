{
 "cells": [
  {
   "cell_type": "markdown",
   "metadata": {},
   "source": [
    "# McDonald's Card Token Analysis - v1\n",
    "## March 2018\n",
    "### Dr Jose M Albornoz\n",
    "\n",
    "In this notebook an initial analysis of the card token data is performed using Pandas"
   ]
  },
  {
   "cell_type": "markdown",
   "metadata": {},
   "source": [
    "# 1.- Import necessary modules, define SQLContext"
   ]
  },
  {
   "cell_type": "code",
   "execution_count": 3,
   "metadata": {},
   "outputs": [],
   "source": [
    "# Import required modules\n",
    "from pyspark.context import SparkContext\n",
    "from pyspark.sql.context import SQLContext\n",
    "from pyspark.sql.functions import *\n",
    "from pyspark.sql.types import *\n",
    "from pyspark.sql.functions import unix_timestamp\n",
    "\n",
    "import pandas as pd\n",
    "import gc"
   ]
  },
  {
   "cell_type": "code",
   "execution_count": 4,
   "metadata": {},
   "outputs": [],
   "source": [
    "# Define SQLContext\n",
    "sqlContext = SQLContext(sc)"
   ]
  },
  {
   "cell_type": "markdown",
   "metadata": {},
   "source": [
    "# 2.- Generic function to load data from a csv file"
   ]
  },
  {
   "cell_type": "code",
   "execution_count": 5,
   "metadata": {},
   "outputs": [],
   "source": [
    "def load_data(filename, schema, columns = None):\n",
    "    df = sqlContext.read.format('com.databricks.spark.csv').option(\"delimiter\", \";\").options(header='false'). \\\n",
    "    load(filename, schema = schema)\n",
    "    if columns is None:\n",
    "        # If no columns are given, then select all\n",
    "        columns = schema.names\n",
    "    return df.select(columns)"
   ]
  },
  {
   "cell_type": "markdown",
   "metadata": {},
   "source": [
    "# 3.- Data schema"
   ]
  },
  {
   "cell_type": "code",
   "execution_count": 6,
   "metadata": {},
   "outputs": [],
   "source": [
    "schema = StructType([ \n",
    "    StructField('store_number', IntegerType(), True), \n",
    "    StructField('terminal_number', IntegerType(), True), \n",
    "    StructField('transaction_date', StringType(), True), \n",
    "    StructField('transaction_time', IntegerType(), True), \n",
    "    StructField('transaction_amount', IntegerType(), True),\n",
    "    StructField('card_scheme', StringType(), True),\n",
    "    StructField('pan_token', StringType(), True),\n",
    "    StructField('empty_field', IntegerType(), True)    \n",
    "])"
   ]
  },
  {
   "cell_type": "markdown",
   "metadata": {},
   "source": [
    "# 4.- Load data"
   ]
  },
  {
   "cell_type": "code",
   "execution_count": 7,
   "metadata": {},
   "outputs": [],
   "source": [
    "cols = ['store_number', 'terminal_number', 'transaction_date', 'transaction_time', 'transaction_amount', 'card_scheme',\n",
    "       'pan_token', 'empty_field']"
   ]
  },
  {
   "cell_type": "code",
   "execution_count": 8,
   "metadata": {},
   "outputs": [],
   "source": [
    "filename = 'McD_Card_Data/CT_201709_p1.csv'\n",
    "#df_p1 = load_data(filename, schema)\n",
    "df_p1 = pd.read_csv(filename, names=cols, sep=\";\")"
   ]
  },
  {
   "cell_type": "code",
   "execution_count": 9,
   "metadata": {},
   "outputs": [],
   "source": [
    "filename = 'McD_Card_Data/CT_201709_p2.csv'\n",
    "# df_p2 = load_data(filename, schema)\n",
    "df_p2 = pd.read_csv(filename, names=cols, sep=\";\")"
   ]
  },
  {
   "cell_type": "code",
   "execution_count": 10,
   "metadata": {},
   "outputs": [],
   "source": [
    "filename = 'McD_Card_Data/CT_201709_p3.csv'\n",
    "# df_p3 = load_data(filename, schema)\n",
    "df_p3 = pd.read_csv(filename, names=cols, sep=\";\")"
   ]
  },
  {
   "cell_type": "code",
   "execution_count": 11,
   "metadata": {},
   "outputs": [],
   "source": [
    "# filename = 'McD_Card_Data/CT_201710_p1.csv'\n",
    "# df_p4 = load_data(filename, schema)"
   ]
  },
  {
   "cell_type": "code",
   "execution_count": 12,
   "metadata": {},
   "outputs": [],
   "source": [
    "# filename = 'McD_Card_Data/CT_201710_p2.csv'\n",
    "# df_p5 = load_data(filename, schema)"
   ]
  },
  {
   "cell_type": "code",
   "execution_count": 13,
   "metadata": {},
   "outputs": [],
   "source": [
    "# filename = 'McD_Card_Data/CT_201710_p3.csv'\n",
    "# df_p6 = load_data(filename, schema)"
   ]
  },
  {
   "cell_type": "code",
   "execution_count": 14,
   "metadata": {},
   "outputs": [],
   "source": [
    "# filename = 'McD_Card_Data/CT_201711_p1.csv'\n",
    "# df_p7 = load_data(filename, schema)"
   ]
  },
  {
   "cell_type": "code",
   "execution_count": 15,
   "metadata": {},
   "outputs": [],
   "source": [
    "# filename = 'McD_Card_Data/CT_201711_p2.csv'\n",
    "# df_p8 = load_data(filename, schema)"
   ]
  },
  {
   "cell_type": "code",
   "execution_count": 16,
   "metadata": {},
   "outputs": [],
   "source": [
    "# filename = 'McD_Card_Data/CT_201711_p3.csv'\n",
    "# df_p9 = load_data(filename, schema)"
   ]
  },
  {
   "cell_type": "code",
   "execution_count": 17,
   "metadata": {},
   "outputs": [],
   "source": [
    "# filename = 'McD_Card_Data/CT_201712_p1.csv'\n",
    "# df_p10 = load_data(filename, schema)"
   ]
  },
  {
   "cell_type": "code",
   "execution_count": 18,
   "metadata": {},
   "outputs": [],
   "source": [
    "# filename = 'McD_Card_Data/CT_201712_p2.csv'\n",
    "# df_p11 = load_data(filename, schema)"
   ]
  },
  {
   "cell_type": "code",
   "execution_count": 19,
   "metadata": {},
   "outputs": [],
   "source": [
    "# filename = 'McD_Card_Data/CT_201712_p3.csv'\n",
    "# df_p12 = load_data(filename, schema)"
   ]
  },
  {
   "cell_type": "code",
   "execution_count": 20,
   "metadata": {},
   "outputs": [],
   "source": [
    "# filename = 'McD_Card_Data/CT_201801_p1.csv'\n",
    "# df_p13 = load_data(filename, schema)"
   ]
  },
  {
   "cell_type": "code",
   "execution_count": 21,
   "metadata": {},
   "outputs": [],
   "source": [
    "# filename = 'McD_Card_Data/CT_201801_p2.csv'\n",
    "# df_p14 = load_data(filename, schema)"
   ]
  },
  {
   "cell_type": "code",
   "execution_count": 22,
   "metadata": {},
   "outputs": [],
   "source": [
    "# filename = 'McD_Card_Data/CT_201801_p3.csv'\n",
    "# df_p15 = load_data(filename, schema)"
   ]
  },
  {
   "cell_type": "code",
   "execution_count": 23,
   "metadata": {},
   "outputs": [],
   "source": [
    "filename = 'McD_Card_Data/CT_201802_p1.csv'\n",
    "# df_p16 = load_data(filename, schema)\n",
    "df_p16 = pd.read_csv(filename, names=cols, sep=\";\")"
   ]
  },
  {
   "cell_type": "code",
   "execution_count": 24,
   "metadata": {},
   "outputs": [],
   "source": [
    "filename = 'McD_Card_Data/CT_201802_p2.csv'\n",
    "# df_p17 = load_data(filename, schema)\n",
    "df_p17 = pd.read_csv(filename, names=cols, sep=\";\")"
   ]
  },
  {
   "cell_type": "code",
   "execution_count": 25,
   "metadata": {},
   "outputs": [],
   "source": [
    "filename = 'McD_Card_Data/CT_201802_p3.csv'\n",
    "#df_p18 = load_data(filename, schema)\n",
    "df_p18 = pd.read_csv(filename, names=cols, sep=\";\")"
   ]
  },
  {
   "cell_type": "markdown",
   "metadata": {},
   "source": [
    "# 5.- Concatenate data, delete redundant dataframes from memory"
   ]
  },
  {
   "cell_type": "code",
   "execution_count": 26,
   "metadata": {},
   "outputs": [],
   "source": [
    "df_Sep2017 = pd.concat([df_p1, df_p2, df_p3])"
   ]
  },
  {
   "cell_type": "code",
   "execution_count": 27,
   "metadata": {},
   "outputs": [],
   "source": [
    "df_Feb2018 = pd.concat([df_p16, df_p17, df_p18])"
   ]
  },
  {
   "cell_type": "code",
   "execution_count": 28,
   "metadata": {},
   "outputs": [
    {
     "data": {
      "text/plain": [
       "28"
      ]
     },
     "execution_count": 28,
     "metadata": {},
     "output_type": "execute_result"
    },
    {
     "data": {
      "text/plain": [
       "28"
      ]
     },
     "execution_count": 28,
     "metadata": {},
     "output_type": "execute_result"
    }
   ],
   "source": [
    "del [[df_p1, df_p2, df_p3, df_p16, df_p17, df_p18]]\n",
    "gc.collect()\n",
    "# df_1 = pd.DataFrame()\n",
    "# df_2 = pd.DataFrame()\n",
    "# df_3 = pd.DataFrame()\n",
    "# df_16 = pd.DataFrame()\n",
    "# df_17 = pd.DataFrame()\n",
    "# df_18 = pd.DataFrame()"
   ]
  },
  {
   "cell_type": "markdown",
   "metadata": {},
   "source": [
    "# 5.- Examine tokens "
   ]
  },
  {
   "cell_type": "markdown",
   "metadata": {},
   "source": [
    "## 5.1.- September 2017"
   ]
  },
  {
   "cell_type": "code",
   "execution_count": 29,
   "metadata": {},
   "outputs": [
    {
     "data": {
      "text/plain": [
       "(27083389, 8)"
      ]
     },
     "execution_count": 29,
     "metadata": {},
     "output_type": "execute_result"
    },
    {
     "data": {
      "text/plain": [
       "(27083389, 8)"
      ]
     },
     "execution_count": 29,
     "metadata": {},
     "output_type": "execute_result"
    }
   ],
   "source": [
    "df_Sep2017.shape"
   ]
  },
  {
   "cell_type": "code",
   "execution_count": 30,
   "metadata": {},
   "outputs": [],
   "source": [
    "df_Sep2017.reset_index(inplace=True)"
   ]
  },
  {
   "cell_type": "code",
   "execution_count": 31,
   "metadata": {},
   "outputs": [],
   "source": [
    "df_Sep2017.drop('index', axis=1, inplace=True)"
   ]
  },
  {
   "cell_type": "code",
   "execution_count": 32,
   "metadata": {},
   "outputs": [],
   "source": [
    "df_Sep2017['transaction_date'] = pd.to_datetime(df_Sep2017['transaction_date'])"
   ]
  },
  {
   "cell_type": "code",
   "execution_count": 33,
   "metadata": {},
   "outputs": [],
   "source": [
    "df_Sep2017.sort_values(by='transaction_date', inplace=True)"
   ]
  },
  {
   "cell_type": "code",
   "execution_count": 34,
   "metadata": {},
   "outputs": [
    {
     "data": {
      "text/html": [
       "<div>\n",
       "<style scoped>\n",
       "    .dataframe tbody tr th:only-of-type {\n",
       "        vertical-align: middle;\n",
       "    }\n",
       "\n",
       "    .dataframe tbody tr th {\n",
       "        vertical-align: top;\n",
       "    }\n",
       "\n",
       "    .dataframe thead th {\n",
       "        text-align: right;\n",
       "    }\n",
       "</style>\n",
       "<table border=\"1\" class=\"dataframe\">\n",
       "  <thead>\n",
       "    <tr style=\"text-align: right;\">\n",
       "      <th></th>\n",
       "      <th>store_number</th>\n",
       "      <th>terminal_number</th>\n",
       "      <th>transaction_date</th>\n",
       "      <th>transaction_time</th>\n",
       "      <th>transaction_amount</th>\n",
       "      <th>card_scheme</th>\n",
       "      <th>pan_token</th>\n",
       "      <th>empty_field</th>\n",
       "    </tr>\n",
       "  </thead>\n",
       "  <tbody>\n",
       "    <tr>\n",
       "      <th>0</th>\n",
       "      <td>262</td>\n",
       "      <td>3</td>\n",
       "      <td>2017-09-01</td>\n",
       "      <td>0</td>\n",
       "      <td>437</td>\n",
       "      <td>S</td>\n",
       "      <td>D08D751E07A1775D5E4923655B97F6270FE414B7B554E9...</td>\n",
       "      <td>NaN</td>\n",
       "    </tr>\n",
       "    <tr>\n",
       "      <th>786462</th>\n",
       "      <td>550</td>\n",
       "      <td>20</td>\n",
       "      <td>2017-09-01</td>\n",
       "      <td>22</td>\n",
       "      <td>1146</td>\n",
       "      <td>S</td>\n",
       "      <td>8EC6A49D074628439EC4E4D9D202F1E87ED9AC96AB536F...</td>\n",
       "      <td>NaN</td>\n",
       "    </tr>\n",
       "    <tr>\n",
       "      <th>786463</th>\n",
       "      <td>550</td>\n",
       "      <td>20</td>\n",
       "      <td>2017-09-01</td>\n",
       "      <td>22</td>\n",
       "      <td>1374</td>\n",
       "      <td>S</td>\n",
       "      <td>4AD0A225D6468A1869F9ACBE29FE7D3923426264346174...</td>\n",
       "      <td>NaN</td>\n",
       "    </tr>\n",
       "    <tr>\n",
       "      <th>786464</th>\n",
       "      <td>550</td>\n",
       "      <td>20</td>\n",
       "      <td>2017-09-01</td>\n",
       "      <td>25</td>\n",
       "      <td>597</td>\n",
       "      <td>S</td>\n",
       "      <td>6F4A782C4DC871C4418F22933DA475B0E5194BA8A19C43...</td>\n",
       "      <td>NaN</td>\n",
       "    </tr>\n",
       "    <tr>\n",
       "      <th>786465</th>\n",
       "      <td>550</td>\n",
       "      <td>20</td>\n",
       "      <td>2017-09-01</td>\n",
       "      <td>26</td>\n",
       "      <td>149</td>\n",
       "      <td>S</td>\n",
       "      <td>B5787424942B8F5B637AD0BC24D5C5771A647BF28BE709...</td>\n",
       "      <td>NaN</td>\n",
       "    </tr>\n",
       "  </tbody>\n",
       "</table>\n",
       "</div>"
      ],
      "text/plain": [
       "        store_number  terminal_number transaction_date  transaction_time  \\\n",
       "0                262                3       2017-09-01                 0   \n",
       "786462           550               20       2017-09-01                22   \n",
       "786463           550               20       2017-09-01                22   \n",
       "786464           550               20       2017-09-01                25   \n",
       "786465           550               20       2017-09-01                26   \n",
       "\n",
       "        transaction_amount card_scheme  \\\n",
       "0                      437           S   \n",
       "786462                1146           S   \n",
       "786463                1374           S   \n",
       "786464                 597           S   \n",
       "786465                 149           S   \n",
       "\n",
       "                                                pan_token  empty_field  \n",
       "0       D08D751E07A1775D5E4923655B97F6270FE414B7B554E9...          NaN  \n",
       "786462  8EC6A49D074628439EC4E4D9D202F1E87ED9AC96AB536F...          NaN  \n",
       "786463  4AD0A225D6468A1869F9ACBE29FE7D3923426264346174...          NaN  \n",
       "786464  6F4A782C4DC871C4418F22933DA475B0E5194BA8A19C43...          NaN  \n",
       "786465  B5787424942B8F5B637AD0BC24D5C5771A647BF28BE709...          NaN  "
      ]
     },
     "execution_count": 34,
     "metadata": {},
     "output_type": "execute_result"
    },
    {
     "data": {
      "text/html": [
       "<div>\n",
       "<style scoped>\n",
       "    .dataframe tbody tr th:only-of-type {\n",
       "        vertical-align: middle;\n",
       "    }\n",
       "\n",
       "    .dataframe tbody tr th {\n",
       "        vertical-align: top;\n",
       "    }\n",
       "\n",
       "    .dataframe thead th {\n",
       "        text-align: right;\n",
       "    }\n",
       "</style>\n",
       "<table border=\"1\" class=\"dataframe\">\n",
       "  <thead>\n",
       "    <tr style=\"text-align: right;\">\n",
       "      <th></th>\n",
       "      <th>store_number</th>\n",
       "      <th>terminal_number</th>\n",
       "      <th>transaction_date</th>\n",
       "      <th>transaction_time</th>\n",
       "      <th>transaction_amount</th>\n",
       "      <th>card_scheme</th>\n",
       "      <th>pan_token</th>\n",
       "      <th>empty_field</th>\n",
       "    </tr>\n",
       "  </thead>\n",
       "  <tbody>\n",
       "    <tr>\n",
       "      <th>0</th>\n",
       "      <td>262</td>\n",
       "      <td>3</td>\n",
       "      <td>2017-09-01</td>\n",
       "      <td>0</td>\n",
       "      <td>437</td>\n",
       "      <td>S</td>\n",
       "      <td>D08D751E07A1775D5E4923655B97F6270FE414B7B554E9...</td>\n",
       "      <td>NaN</td>\n",
       "    </tr>\n",
       "    <tr>\n",
       "      <th>786462</th>\n",
       "      <td>550</td>\n",
       "      <td>20</td>\n",
       "      <td>2017-09-01</td>\n",
       "      <td>22</td>\n",
       "      <td>1146</td>\n",
       "      <td>S</td>\n",
       "      <td>8EC6A49D074628439EC4E4D9D202F1E87ED9AC96AB536F...</td>\n",
       "      <td>NaN</td>\n",
       "    </tr>\n",
       "    <tr>\n",
       "      <th>786463</th>\n",
       "      <td>550</td>\n",
       "      <td>20</td>\n",
       "      <td>2017-09-01</td>\n",
       "      <td>22</td>\n",
       "      <td>1374</td>\n",
       "      <td>S</td>\n",
       "      <td>4AD0A225D6468A1869F9ACBE29FE7D3923426264346174...</td>\n",
       "      <td>NaN</td>\n",
       "    </tr>\n",
       "    <tr>\n",
       "      <th>786464</th>\n",
       "      <td>550</td>\n",
       "      <td>20</td>\n",
       "      <td>2017-09-01</td>\n",
       "      <td>25</td>\n",
       "      <td>597</td>\n",
       "      <td>S</td>\n",
       "      <td>6F4A782C4DC871C4418F22933DA475B0E5194BA8A19C43...</td>\n",
       "      <td>NaN</td>\n",
       "    </tr>\n",
       "    <tr>\n",
       "      <th>786465</th>\n",
       "      <td>550</td>\n",
       "      <td>20</td>\n",
       "      <td>2017-09-01</td>\n",
       "      <td>26</td>\n",
       "      <td>149</td>\n",
       "      <td>S</td>\n",
       "      <td>B5787424942B8F5B637AD0BC24D5C5771A647BF28BE709...</td>\n",
       "      <td>NaN</td>\n",
       "    </tr>\n",
       "  </tbody>\n",
       "</table>\n",
       "</div>"
      ],
      "text/plain": [
       "        store_number  terminal_number transaction_date  transaction_time  \\\n",
       "0                262                3       2017-09-01                 0   \n",
       "786462           550               20       2017-09-01                22   \n",
       "786463           550               20       2017-09-01                22   \n",
       "786464           550               20       2017-09-01                25   \n",
       "786465           550               20       2017-09-01                26   \n",
       "\n",
       "        transaction_amount card_scheme  \\\n",
       "0                      437           S   \n",
       "786462                1146           S   \n",
       "786463                1374           S   \n",
       "786464                 597           S   \n",
       "786465                 149           S   \n",
       "\n",
       "                                                pan_token  empty_field  \n",
       "0       D08D751E07A1775D5E4923655B97F6270FE414B7B554E9...          NaN  \n",
       "786462  8EC6A49D074628439EC4E4D9D202F1E87ED9AC96AB536F...          NaN  \n",
       "786463  4AD0A225D6468A1869F9ACBE29FE7D3923426264346174...          NaN  \n",
       "786464  6F4A782C4DC871C4418F22933DA475B0E5194BA8A19C43...          NaN  \n",
       "786465  B5787424942B8F5B637AD0BC24D5C5771A647BF28BE709...          NaN  "
      ]
     },
     "execution_count": 34,
     "metadata": {},
     "output_type": "execute_result"
    }
   ],
   "source": [
    "df_Sep2017.head()"
   ]
  },
  {
   "cell_type": "code",
   "execution_count": 35,
   "metadata": {},
   "outputs": [
    {
     "data": {
      "text/html": [
       "<div>\n",
       "<style scoped>\n",
       "    .dataframe tbody tr th:only-of-type {\n",
       "        vertical-align: middle;\n",
       "    }\n",
       "\n",
       "    .dataframe tbody tr th {\n",
       "        vertical-align: top;\n",
       "    }\n",
       "\n",
       "    .dataframe thead th {\n",
       "        text-align: right;\n",
       "    }\n",
       "</style>\n",
       "<table border=\"1\" class=\"dataframe\">\n",
       "  <thead>\n",
       "    <tr style=\"text-align: right;\">\n",
       "      <th></th>\n",
       "      <th>store_number</th>\n",
       "      <th>terminal_number</th>\n",
       "      <th>transaction_date</th>\n",
       "      <th>transaction_time</th>\n",
       "      <th>transaction_amount</th>\n",
       "      <th>card_scheme</th>\n",
       "      <th>pan_token</th>\n",
       "      <th>empty_field</th>\n",
       "    </tr>\n",
       "  </thead>\n",
       "  <tbody>\n",
       "    <tr>\n",
       "      <th>26212476</th>\n",
       "      <td>516</td>\n",
       "      <td>23</td>\n",
       "      <td>2017-09-30</td>\n",
       "      <td>2138</td>\n",
       "      <td>1203</td>\n",
       "      <td>S</td>\n",
       "      <td>6A4DE23D48BB4C032673B1BA12B9F4C856DEE1B7A45136...</td>\n",
       "      <td>NaN</td>\n",
       "    </tr>\n",
       "    <tr>\n",
       "      <th>26212475</th>\n",
       "      <td>516</td>\n",
       "      <td>20</td>\n",
       "      <td>2017-09-30</td>\n",
       "      <td>2137</td>\n",
       "      <td>617</td>\n",
       "      <td>S</td>\n",
       "      <td>760A206960D13774E7E9F5F2FEB1B4C88AC73A8EBE05D2...</td>\n",
       "      <td>NaN</td>\n",
       "    </tr>\n",
       "    <tr>\n",
       "      <th>26212474</th>\n",
       "      <td>516</td>\n",
       "      <td>20</td>\n",
       "      <td>2017-09-30</td>\n",
       "      <td>2136</td>\n",
       "      <td>838</td>\n",
       "      <td>S</td>\n",
       "      <td>A12A083B406711F991B14696FD1AD07F6A27A92F32D744...</td>\n",
       "      <td>NaN</td>\n",
       "    </tr>\n",
       "    <tr>\n",
       "      <th>26212481</th>\n",
       "      <td>516</td>\n",
       "      <td>2</td>\n",
       "      <td>2017-09-30</td>\n",
       "      <td>2141</td>\n",
       "      <td>467</td>\n",
       "      <td>S</td>\n",
       "      <td>51F136ADE4A3533973559E8D5F144A254E71C3E6DE95B5...</td>\n",
       "      <td>NaN</td>\n",
       "    </tr>\n",
       "    <tr>\n",
       "      <th>25089372</th>\n",
       "      <td>454</td>\n",
       "      <td>20</td>\n",
       "      <td>2017-09-30</td>\n",
       "      <td>20</td>\n",
       "      <td>1008</td>\n",
       "      <td>S</td>\n",
       "      <td>1A81ABCA28758ADF3B66904E7FBE7E600C0EE0126EC53C...</td>\n",
       "      <td>NaN</td>\n",
       "    </tr>\n",
       "  </tbody>\n",
       "</table>\n",
       "</div>"
      ],
      "text/plain": [
       "          store_number  terminal_number transaction_date  transaction_time  \\\n",
       "26212476           516               23       2017-09-30              2138   \n",
       "26212475           516               20       2017-09-30              2137   \n",
       "26212474           516               20       2017-09-30              2136   \n",
       "26212481           516                2       2017-09-30              2141   \n",
       "25089372           454               20       2017-09-30                20   \n",
       "\n",
       "          transaction_amount card_scheme  \\\n",
       "26212476                1203           S   \n",
       "26212475                 617           S   \n",
       "26212474                 838           S   \n",
       "26212481                 467           S   \n",
       "25089372                1008           S   \n",
       "\n",
       "                                                  pan_token  empty_field  \n",
       "26212476  6A4DE23D48BB4C032673B1BA12B9F4C856DEE1B7A45136...          NaN  \n",
       "26212475  760A206960D13774E7E9F5F2FEB1B4C88AC73A8EBE05D2...          NaN  \n",
       "26212474  A12A083B406711F991B14696FD1AD07F6A27A92F32D744...          NaN  \n",
       "26212481  51F136ADE4A3533973559E8D5F144A254E71C3E6DE95B5...          NaN  \n",
       "25089372  1A81ABCA28758ADF3B66904E7FBE7E600C0EE0126EC53C...          NaN  "
      ]
     },
     "execution_count": 35,
     "metadata": {},
     "output_type": "execute_result"
    },
    {
     "data": {
      "text/html": [
       "<div>\n",
       "<style scoped>\n",
       "    .dataframe tbody tr th:only-of-type {\n",
       "        vertical-align: middle;\n",
       "    }\n",
       "\n",
       "    .dataframe tbody tr th {\n",
       "        vertical-align: top;\n",
       "    }\n",
       "\n",
       "    .dataframe thead th {\n",
       "        text-align: right;\n",
       "    }\n",
       "</style>\n",
       "<table border=\"1\" class=\"dataframe\">\n",
       "  <thead>\n",
       "    <tr style=\"text-align: right;\">\n",
       "      <th></th>\n",
       "      <th>store_number</th>\n",
       "      <th>terminal_number</th>\n",
       "      <th>transaction_date</th>\n",
       "      <th>transaction_time</th>\n",
       "      <th>transaction_amount</th>\n",
       "      <th>card_scheme</th>\n",
       "      <th>pan_token</th>\n",
       "      <th>empty_field</th>\n",
       "    </tr>\n",
       "  </thead>\n",
       "  <tbody>\n",
       "    <tr>\n",
       "      <th>26212476</th>\n",
       "      <td>516</td>\n",
       "      <td>23</td>\n",
       "      <td>2017-09-30</td>\n",
       "      <td>2138</td>\n",
       "      <td>1203</td>\n",
       "      <td>S</td>\n",
       "      <td>6A4DE23D48BB4C032673B1BA12B9F4C856DEE1B7A45136...</td>\n",
       "      <td>NaN</td>\n",
       "    </tr>\n",
       "    <tr>\n",
       "      <th>26212475</th>\n",
       "      <td>516</td>\n",
       "      <td>20</td>\n",
       "      <td>2017-09-30</td>\n",
       "      <td>2137</td>\n",
       "      <td>617</td>\n",
       "      <td>S</td>\n",
       "      <td>760A206960D13774E7E9F5F2FEB1B4C88AC73A8EBE05D2...</td>\n",
       "      <td>NaN</td>\n",
       "    </tr>\n",
       "    <tr>\n",
       "      <th>26212474</th>\n",
       "      <td>516</td>\n",
       "      <td>20</td>\n",
       "      <td>2017-09-30</td>\n",
       "      <td>2136</td>\n",
       "      <td>838</td>\n",
       "      <td>S</td>\n",
       "      <td>A12A083B406711F991B14696FD1AD07F6A27A92F32D744...</td>\n",
       "      <td>NaN</td>\n",
       "    </tr>\n",
       "    <tr>\n",
       "      <th>26212481</th>\n",
       "      <td>516</td>\n",
       "      <td>2</td>\n",
       "      <td>2017-09-30</td>\n",
       "      <td>2141</td>\n",
       "      <td>467</td>\n",
       "      <td>S</td>\n",
       "      <td>51F136ADE4A3533973559E8D5F144A254E71C3E6DE95B5...</td>\n",
       "      <td>NaN</td>\n",
       "    </tr>\n",
       "    <tr>\n",
       "      <th>25089372</th>\n",
       "      <td>454</td>\n",
       "      <td>20</td>\n",
       "      <td>2017-09-30</td>\n",
       "      <td>20</td>\n",
       "      <td>1008</td>\n",
       "      <td>S</td>\n",
       "      <td>1A81ABCA28758ADF3B66904E7FBE7E600C0EE0126EC53C...</td>\n",
       "      <td>NaN</td>\n",
       "    </tr>\n",
       "  </tbody>\n",
       "</table>\n",
       "</div>"
      ],
      "text/plain": [
       "          store_number  terminal_number transaction_date  transaction_time  \\\n",
       "26212476           516               23       2017-09-30              2138   \n",
       "26212475           516               20       2017-09-30              2137   \n",
       "26212474           516               20       2017-09-30              2136   \n",
       "26212481           516                2       2017-09-30              2141   \n",
       "25089372           454               20       2017-09-30                20   \n",
       "\n",
       "          transaction_amount card_scheme  \\\n",
       "26212476                1203           S   \n",
       "26212475                 617           S   \n",
       "26212474                 838           S   \n",
       "26212481                 467           S   \n",
       "25089372                1008           S   \n",
       "\n",
       "                                                  pan_token  empty_field  \n",
       "26212476  6A4DE23D48BB4C032673B1BA12B9F4C856DEE1B7A45136...          NaN  \n",
       "26212475  760A206960D13774E7E9F5F2FEB1B4C88AC73A8EBE05D2...          NaN  \n",
       "26212474  A12A083B406711F991B14696FD1AD07F6A27A92F32D744...          NaN  \n",
       "26212481  51F136ADE4A3533973559E8D5F144A254E71C3E6DE95B5...          NaN  \n",
       "25089372  1A81ABCA28758ADF3B66904E7FBE7E600C0EE0126EC53C...          NaN  "
      ]
     },
     "execution_count": 35,
     "metadata": {},
     "output_type": "execute_result"
    }
   ],
   "source": [
    "df_Sep2017.tail()"
   ]
  },
  {
   "cell_type": "code",
   "execution_count": 36,
   "metadata": {},
   "outputs": [
    {
     "data": {
      "text/plain": [
       "'D08D751E07A1775D5E4923655B97F6270FE414B7B554E9ECE3DDA6D6C66CD07F'"
      ]
     },
     "execution_count": 36,
     "metadata": {},
     "output_type": "execute_result"
    },
    {
     "data": {
      "text/plain": [
       "'D08D751E07A1775D5E4923655B97F6270FE414B7B554E9ECE3DDA6D6C66CD07F'"
      ]
     },
     "execution_count": 36,
     "metadata": {},
     "output_type": "execute_result"
    }
   ],
   "source": [
    "df_Sep2017.iloc[0,6]"
   ]
  },
  {
   "cell_type": "code",
   "execution_count": 37,
   "metadata": {},
   "outputs": [
    {
     "data": {
      "text/plain": [
       "'7CC6FA44B144EF4674141EA9B906AC1AB2676BFB608796BF5362BA234634C967'"
      ]
     },
     "execution_count": 37,
     "metadata": {},
     "output_type": "execute_result"
    },
    {
     "data": {
      "text/plain": [
       "'7CC6FA44B144EF4674141EA9B906AC1AB2676BFB608796BF5362BA234634C967'"
      ]
     },
     "execution_count": 37,
     "metadata": {},
     "output_type": "execute_result"
    }
   ],
   "source": [
    "df_Sep2017.iloc[25089372,6]"
   ]
  },
  {
   "cell_type": "markdown",
   "metadata": {},
   "source": [
    "## 5.2.- February 2018"
   ]
  },
  {
   "cell_type": "code",
   "execution_count": 38,
   "metadata": {},
   "outputs": [
    {
     "data": {
      "text/plain": [
       "(30719007, 8)"
      ]
     },
     "execution_count": 38,
     "metadata": {},
     "output_type": "execute_result"
    },
    {
     "data": {
      "text/plain": [
       "(30719007, 8)"
      ]
     },
     "execution_count": 38,
     "metadata": {},
     "output_type": "execute_result"
    }
   ],
   "source": [
    "df_Feb2018.shape"
   ]
  },
  {
   "cell_type": "code",
   "execution_count": 39,
   "metadata": {},
   "outputs": [],
   "source": [
    "df_Feb2018.reset_index(inplace=True)"
   ]
  },
  {
   "cell_type": "code",
   "execution_count": 40,
   "metadata": {},
   "outputs": [],
   "source": [
    "df_Feb2018.drop('index', axis=1, inplace=True)"
   ]
  },
  {
   "cell_type": "code",
   "execution_count": 41,
   "metadata": {},
   "outputs": [],
   "source": [
    "df_Feb2018['transaction_date'] = pd.to_datetime(df_Feb2018['transaction_date'])"
   ]
  },
  {
   "cell_type": "code",
   "execution_count": 42,
   "metadata": {},
   "outputs": [],
   "source": [
    "df_Feb2018.sort_values(by='transaction_date', inplace=True)"
   ]
  },
  {
   "cell_type": "code",
   "execution_count": 43,
   "metadata": {},
   "outputs": [
    {
     "data": {
      "text/html": [
       "<div>\n",
       "<style scoped>\n",
       "    .dataframe tbody tr th:only-of-type {\n",
       "        vertical-align: middle;\n",
       "    }\n",
       "\n",
       "    .dataframe tbody tr th {\n",
       "        vertical-align: top;\n",
       "    }\n",
       "\n",
       "    .dataframe thead th {\n",
       "        text-align: right;\n",
       "    }\n",
       "</style>\n",
       "<table border=\"1\" class=\"dataframe\">\n",
       "  <thead>\n",
       "    <tr style=\"text-align: right;\">\n",
       "      <th></th>\n",
       "      <th>store_number</th>\n",
       "      <th>terminal_number</th>\n",
       "      <th>transaction_date</th>\n",
       "      <th>transaction_time</th>\n",
       "      <th>transaction_amount</th>\n",
       "      <th>card_scheme</th>\n",
       "      <th>pan_token</th>\n",
       "      <th>empty_field</th>\n",
       "    </tr>\n",
       "  </thead>\n",
       "  <tbody>\n",
       "    <tr>\n",
       "      <th>0</th>\n",
       "      <td>335</td>\n",
       "      <td>21</td>\n",
       "      <td>2018-02-01</td>\n",
       "      <td>1704</td>\n",
       "      <td>548</td>\n",
       "      <td>S</td>\n",
       "      <td>C39C0855893EBF95142FBD62DF5A3111F7BEC647758377...</td>\n",
       "      <td>NaN</td>\n",
       "    </tr>\n",
       "    <tr>\n",
       "      <th>3380201</th>\n",
       "      <td>996</td>\n",
       "      <td>20</td>\n",
       "      <td>2018-02-01</td>\n",
       "      <td>1938</td>\n",
       "      <td>228</td>\n",
       "      <td>S</td>\n",
       "      <td>4658595665007961033</td>\n",
       "      <td>NaN</td>\n",
       "    </tr>\n",
       "    <tr>\n",
       "      <th>3380200</th>\n",
       "      <td>628</td>\n",
       "      <td>24</td>\n",
       "      <td>2018-02-01</td>\n",
       "      <td>1937</td>\n",
       "      <td>668</td>\n",
       "      <td>S</td>\n",
       "      <td>5460161838029131772</td>\n",
       "      <td>NaN</td>\n",
       "    </tr>\n",
       "    <tr>\n",
       "      <th>3380199</th>\n",
       "      <td>480</td>\n",
       "      <td>20</td>\n",
       "      <td>2018-02-01</td>\n",
       "      <td>1937</td>\n",
       "      <td>1090</td>\n",
       "      <td>S</td>\n",
       "      <td>4539795660775487123</td>\n",
       "      <td>NaN</td>\n",
       "    </tr>\n",
       "    <tr>\n",
       "      <th>3380198</th>\n",
       "      <td>1168</td>\n",
       "      <td>20</td>\n",
       "      <td>2018-02-01</td>\n",
       "      <td>1937</td>\n",
       "      <td>489</td>\n",
       "      <td>S</td>\n",
       "      <td>4658599299214145023</td>\n",
       "      <td>NaN</td>\n",
       "    </tr>\n",
       "  </tbody>\n",
       "</table>\n",
       "</div>"
      ],
      "text/plain": [
       "         store_number  terminal_number transaction_date  transaction_time  \\\n",
       "0                 335               21       2018-02-01              1704   \n",
       "3380201           996               20       2018-02-01              1938   \n",
       "3380200           628               24       2018-02-01              1937   \n",
       "3380199           480               20       2018-02-01              1937   \n",
       "3380198          1168               20       2018-02-01              1937   \n",
       "\n",
       "         transaction_amount card_scheme  \\\n",
       "0                       548           S   \n",
       "3380201                 228           S   \n",
       "3380200                 668           S   \n",
       "3380199                1090           S   \n",
       "3380198                 489           S   \n",
       "\n",
       "                                                 pan_token  empty_field  \n",
       "0        C39C0855893EBF95142FBD62DF5A3111F7BEC647758377...          NaN  \n",
       "3380201                                4658595665007961033          NaN  \n",
       "3380200                                5460161838029131772          NaN  \n",
       "3380199                                4539795660775487123          NaN  \n",
       "3380198                                4658599299214145023          NaN  "
      ]
     },
     "execution_count": 43,
     "metadata": {},
     "output_type": "execute_result"
    },
    {
     "data": {
      "text/html": [
       "<div>\n",
       "<style scoped>\n",
       "    .dataframe tbody tr th:only-of-type {\n",
       "        vertical-align: middle;\n",
       "    }\n",
       "\n",
       "    .dataframe tbody tr th {\n",
       "        vertical-align: top;\n",
       "    }\n",
       "\n",
       "    .dataframe thead th {\n",
       "        text-align: right;\n",
       "    }\n",
       "</style>\n",
       "<table border=\"1\" class=\"dataframe\">\n",
       "  <thead>\n",
       "    <tr style=\"text-align: right;\">\n",
       "      <th></th>\n",
       "      <th>store_number</th>\n",
       "      <th>terminal_number</th>\n",
       "      <th>transaction_date</th>\n",
       "      <th>transaction_time</th>\n",
       "      <th>transaction_amount</th>\n",
       "      <th>card_scheme</th>\n",
       "      <th>pan_token</th>\n",
       "      <th>empty_field</th>\n",
       "    </tr>\n",
       "  </thead>\n",
       "  <tbody>\n",
       "    <tr>\n",
       "      <th>0</th>\n",
       "      <td>335</td>\n",
       "      <td>21</td>\n",
       "      <td>2018-02-01</td>\n",
       "      <td>1704</td>\n",
       "      <td>548</td>\n",
       "      <td>S</td>\n",
       "      <td>C39C0855893EBF95142FBD62DF5A3111F7BEC647758377...</td>\n",
       "      <td>NaN</td>\n",
       "    </tr>\n",
       "    <tr>\n",
       "      <th>3380201</th>\n",
       "      <td>996</td>\n",
       "      <td>20</td>\n",
       "      <td>2018-02-01</td>\n",
       "      <td>1938</td>\n",
       "      <td>228</td>\n",
       "      <td>S</td>\n",
       "      <td>4658595665007961033</td>\n",
       "      <td>NaN</td>\n",
       "    </tr>\n",
       "    <tr>\n",
       "      <th>3380200</th>\n",
       "      <td>628</td>\n",
       "      <td>24</td>\n",
       "      <td>2018-02-01</td>\n",
       "      <td>1937</td>\n",
       "      <td>668</td>\n",
       "      <td>S</td>\n",
       "      <td>5460161838029131772</td>\n",
       "      <td>NaN</td>\n",
       "    </tr>\n",
       "    <tr>\n",
       "      <th>3380199</th>\n",
       "      <td>480</td>\n",
       "      <td>20</td>\n",
       "      <td>2018-02-01</td>\n",
       "      <td>1937</td>\n",
       "      <td>1090</td>\n",
       "      <td>S</td>\n",
       "      <td>4539795660775487123</td>\n",
       "      <td>NaN</td>\n",
       "    </tr>\n",
       "    <tr>\n",
       "      <th>3380198</th>\n",
       "      <td>1168</td>\n",
       "      <td>20</td>\n",
       "      <td>2018-02-01</td>\n",
       "      <td>1937</td>\n",
       "      <td>489</td>\n",
       "      <td>S</td>\n",
       "      <td>4658599299214145023</td>\n",
       "      <td>NaN</td>\n",
       "    </tr>\n",
       "  </tbody>\n",
       "</table>\n",
       "</div>"
      ],
      "text/plain": [
       "         store_number  terminal_number transaction_date  transaction_time  \\\n",
       "0                 335               21       2018-02-01              1704   \n",
       "3380201           996               20       2018-02-01              1938   \n",
       "3380200           628               24       2018-02-01              1937   \n",
       "3380199           480               20       2018-02-01              1937   \n",
       "3380198          1168               20       2018-02-01              1937   \n",
       "\n",
       "         transaction_amount card_scheme  \\\n",
       "0                       548           S   \n",
       "3380201                 228           S   \n",
       "3380200                 668           S   \n",
       "3380199                1090           S   \n",
       "3380198                 489           S   \n",
       "\n",
       "                                                 pan_token  empty_field  \n",
       "0        C39C0855893EBF95142FBD62DF5A3111F7BEC647758377...          NaN  \n",
       "3380201                                4658595665007961033          NaN  \n",
       "3380200                                5460161838029131772          NaN  \n",
       "3380199                                4539795660775487123          NaN  \n",
       "3380198                                4658599299214145023          NaN  "
      ]
     },
     "execution_count": 43,
     "metadata": {},
     "output_type": "execute_result"
    }
   ],
   "source": [
    "df_Feb2018.head()"
   ]
  },
  {
   "cell_type": "code",
   "execution_count": 44,
   "metadata": {},
   "outputs": [
    {
     "data": {
      "text/html": [
       "<div>\n",
       "<style scoped>\n",
       "    .dataframe tbody tr th:only-of-type {\n",
       "        vertical-align: middle;\n",
       "    }\n",
       "\n",
       "    .dataframe tbody tr th {\n",
       "        vertical-align: top;\n",
       "    }\n",
       "\n",
       "    .dataframe thead th {\n",
       "        text-align: right;\n",
       "    }\n",
       "</style>\n",
       "<table border=\"1\" class=\"dataframe\">\n",
       "  <thead>\n",
       "    <tr style=\"text-align: right;\">\n",
       "      <th></th>\n",
       "      <th>store_number</th>\n",
       "      <th>terminal_number</th>\n",
       "      <th>transaction_date</th>\n",
       "      <th>transaction_time</th>\n",
       "      <th>transaction_amount</th>\n",
       "      <th>card_scheme</th>\n",
       "      <th>pan_token</th>\n",
       "      <th>empty_field</th>\n",
       "    </tr>\n",
       "  </thead>\n",
       "  <tbody>\n",
       "    <tr>\n",
       "      <th>27622315</th>\n",
       "      <td>242</td>\n",
       "      <td>20</td>\n",
       "      <td>2018-02-28</td>\n",
       "      <td>1729</td>\n",
       "      <td>1145</td>\n",
       "      <td>S</td>\n",
       "      <td>4659354199601960307</td>\n",
       "      <td>NaN</td>\n",
       "    </tr>\n",
       "    <tr>\n",
       "      <th>27622316</th>\n",
       "      <td>744</td>\n",
       "      <td>20</td>\n",
       "      <td>2018-02-28</td>\n",
       "      <td>1729</td>\n",
       "      <td>179</td>\n",
       "      <td>S</td>\n",
       "      <td>4462741171052066667</td>\n",
       "      <td>NaN</td>\n",
       "    </tr>\n",
       "    <tr>\n",
       "      <th>27622317</th>\n",
       "      <td>1446</td>\n",
       "      <td>22</td>\n",
       "      <td>2018-02-28</td>\n",
       "      <td>1729</td>\n",
       "      <td>2181</td>\n",
       "      <td>S</td>\n",
       "      <td>4763678288171332718</td>\n",
       "      <td>NaN</td>\n",
       "    </tr>\n",
       "    <tr>\n",
       "      <th>27622319</th>\n",
       "      <td>1237</td>\n",
       "      <td>20</td>\n",
       "      <td>2018-02-28</td>\n",
       "      <td>1729</td>\n",
       "      <td>1396</td>\n",
       "      <td>S</td>\n",
       "      <td>4023965690400136143</td>\n",
       "      <td>NaN</td>\n",
       "    </tr>\n",
       "    <tr>\n",
       "      <th>27778167</th>\n",
       "      <td>73</td>\n",
       "      <td>22</td>\n",
       "      <td>2018-02-28</td>\n",
       "      <td>1348</td>\n",
       "      <td>628</td>\n",
       "      <td>S</td>\n",
       "      <td>4659441202633452834</td>\n",
       "      <td>NaN</td>\n",
       "    </tr>\n",
       "  </tbody>\n",
       "</table>\n",
       "</div>"
      ],
      "text/plain": [
       "          store_number  terminal_number transaction_date  transaction_time  \\\n",
       "27622315           242               20       2018-02-28              1729   \n",
       "27622316           744               20       2018-02-28              1729   \n",
       "27622317          1446               22       2018-02-28              1729   \n",
       "27622319          1237               20       2018-02-28              1729   \n",
       "27778167            73               22       2018-02-28              1348   \n",
       "\n",
       "          transaction_amount card_scheme            pan_token  empty_field  \n",
       "27622315                1145           S  4659354199601960307          NaN  \n",
       "27622316                 179           S  4462741171052066667          NaN  \n",
       "27622317                2181           S  4763678288171332718          NaN  \n",
       "27622319                1396           S  4023965690400136143          NaN  \n",
       "27778167                 628           S  4659441202633452834          NaN  "
      ]
     },
     "execution_count": 44,
     "metadata": {},
     "output_type": "execute_result"
    },
    {
     "data": {
      "text/html": [
       "<div>\n",
       "<style scoped>\n",
       "    .dataframe tbody tr th:only-of-type {\n",
       "        vertical-align: middle;\n",
       "    }\n",
       "\n",
       "    .dataframe tbody tr th {\n",
       "        vertical-align: top;\n",
       "    }\n",
       "\n",
       "    .dataframe thead th {\n",
       "        text-align: right;\n",
       "    }\n",
       "</style>\n",
       "<table border=\"1\" class=\"dataframe\">\n",
       "  <thead>\n",
       "    <tr style=\"text-align: right;\">\n",
       "      <th></th>\n",
       "      <th>store_number</th>\n",
       "      <th>terminal_number</th>\n",
       "      <th>transaction_date</th>\n",
       "      <th>transaction_time</th>\n",
       "      <th>transaction_amount</th>\n",
       "      <th>card_scheme</th>\n",
       "      <th>pan_token</th>\n",
       "      <th>empty_field</th>\n",
       "    </tr>\n",
       "  </thead>\n",
       "  <tbody>\n",
       "    <tr>\n",
       "      <th>27622315</th>\n",
       "      <td>242</td>\n",
       "      <td>20</td>\n",
       "      <td>2018-02-28</td>\n",
       "      <td>1729</td>\n",
       "      <td>1145</td>\n",
       "      <td>S</td>\n",
       "      <td>4659354199601960307</td>\n",
       "      <td>NaN</td>\n",
       "    </tr>\n",
       "    <tr>\n",
       "      <th>27622316</th>\n",
       "      <td>744</td>\n",
       "      <td>20</td>\n",
       "      <td>2018-02-28</td>\n",
       "      <td>1729</td>\n",
       "      <td>179</td>\n",
       "      <td>S</td>\n",
       "      <td>4462741171052066667</td>\n",
       "      <td>NaN</td>\n",
       "    </tr>\n",
       "    <tr>\n",
       "      <th>27622317</th>\n",
       "      <td>1446</td>\n",
       "      <td>22</td>\n",
       "      <td>2018-02-28</td>\n",
       "      <td>1729</td>\n",
       "      <td>2181</td>\n",
       "      <td>S</td>\n",
       "      <td>4763678288171332718</td>\n",
       "      <td>NaN</td>\n",
       "    </tr>\n",
       "    <tr>\n",
       "      <th>27622319</th>\n",
       "      <td>1237</td>\n",
       "      <td>20</td>\n",
       "      <td>2018-02-28</td>\n",
       "      <td>1729</td>\n",
       "      <td>1396</td>\n",
       "      <td>S</td>\n",
       "      <td>4023965690400136143</td>\n",
       "      <td>NaN</td>\n",
       "    </tr>\n",
       "    <tr>\n",
       "      <th>27778167</th>\n",
       "      <td>73</td>\n",
       "      <td>22</td>\n",
       "      <td>2018-02-28</td>\n",
       "      <td>1348</td>\n",
       "      <td>628</td>\n",
       "      <td>S</td>\n",
       "      <td>4659441202633452834</td>\n",
       "      <td>NaN</td>\n",
       "    </tr>\n",
       "  </tbody>\n",
       "</table>\n",
       "</div>"
      ],
      "text/plain": [
       "          store_number  terminal_number transaction_date  transaction_time  \\\n",
       "27622315           242               20       2018-02-28              1729   \n",
       "27622316           744               20       2018-02-28              1729   \n",
       "27622317          1446               22       2018-02-28              1729   \n",
       "27622319          1237               20       2018-02-28              1729   \n",
       "27778167            73               22       2018-02-28              1348   \n",
       "\n",
       "          transaction_amount card_scheme            pan_token  empty_field  \n",
       "27622315                1145           S  4659354199601960307          NaN  \n",
       "27622316                 179           S  4462741171052066667          NaN  \n",
       "27622317                2181           S  4763678288171332718          NaN  \n",
       "27622319                1396           S  4023965690400136143          NaN  \n",
       "27778167                 628           S  4659441202633452834          NaN  "
      ]
     },
     "execution_count": 44,
     "metadata": {},
     "output_type": "execute_result"
    }
   ],
   "source": [
    "df_Feb2018.tail()"
   ]
  },
  {
   "cell_type": "code",
   "execution_count": 45,
   "metadata": {},
   "outputs": [
    {
     "data": {
      "text/plain": [
       "'C39C0855893EBF95142FBD62DF5A3111F7BEC6477583779BA4FD35BF55498461'"
      ]
     },
     "execution_count": 45,
     "metadata": {},
     "output_type": "execute_result"
    },
    {
     "data": {
      "text/plain": [
       "'C39C0855893EBF95142FBD62DF5A3111F7BEC6477583779BA4FD35BF55498461'"
      ]
     },
     "execution_count": 45,
     "metadata": {},
     "output_type": "execute_result"
    }
   ],
   "source": [
    "df_Feb2018.iloc[0,6]"
   ]
  },
  {
   "cell_type": "code",
   "execution_count": 46,
   "metadata": {},
   "outputs": [
    {
     "data": {
      "text/plain": [
       "'6E225B7F083B153BB37A666F7392C2213B1318236E65F8DDD96D8EA0167C2573'"
      ]
     },
     "execution_count": 46,
     "metadata": {},
     "output_type": "execute_result"
    },
    {
     "data": {
      "text/plain": [
       "'6E225B7F083B153BB37A666F7392C2213B1318236E65F8DDD96D8EA0167C2573'"
      ]
     },
     "execution_count": 46,
     "metadata": {},
     "output_type": "execute_result"
    }
   ],
   "source": [
    "df_Feb2018.iloc[27778167,6]"
   ]
  },
  {
   "cell_type": "markdown",
   "metadata": {},
   "source": [
    "# 6.- Determine split by tokens"
   ]
  },
  {
   "cell_type": "markdown",
   "metadata": {},
   "source": [
    "## 6.1.- September 2017"
   ]
  },
  {
   "cell_type": "code",
   "execution_count": 47,
   "metadata": {},
   "outputs": [],
   "source": [
    "maskT = (df_Sep2017['pan_token'].str.len() == 64)"
   ]
  },
  {
   "cell_type": "code",
   "execution_count": 48,
   "metadata": {},
   "outputs": [],
   "source": [
    "df_Sep2017_T = df_Sep2017.loc[maskT]"
   ]
  },
  {
   "cell_type": "code",
   "execution_count": 49,
   "metadata": {},
   "outputs": [
    {
     "data": {
      "text/plain": [
       "(27048022, 8)"
      ]
     },
     "execution_count": 49,
     "metadata": {},
     "output_type": "execute_result"
    },
    {
     "data": {
      "text/plain": [
       "(27048022, 8)"
      ]
     },
     "execution_count": 49,
     "metadata": {},
     "output_type": "execute_result"
    }
   ],
   "source": [
    "df_Sep2017_T.shape"
   ]
  },
  {
   "cell_type": "code",
   "execution_count": null,
   "metadata": {},
   "outputs": [],
   "source": [
    "maskI = (df_Sep2017['pan_token'].str.len() == 19)"
   ]
  },
  {
   "cell_type": "code",
   "execution_count": null,
   "metadata": {},
   "outputs": [],
   "source": [
    "df_Sep2017_I = df_Sep2017.loc[maskI]"
   ]
  },
  {
   "cell_type": "code",
   "execution_count": null,
   "metadata": {},
   "outputs": [],
   "source": [
    "df_Sep2017_I.shape"
   ]
  },
  {
   "cell_type": "markdown",
   "metadata": {},
   "source": [
    "## 6.2.- February 2018"
   ]
  },
  {
   "cell_type": "code",
   "execution_count": null,
   "metadata": {},
   "outputs": [],
   "source": [
    "maskT = (df_Feb2018['pan_token'].str.len() == 64)"
   ]
  },
  {
   "cell_type": "code",
   "execution_count": null,
   "metadata": {},
   "outputs": [],
   "source": [
    "df_Feb2018_T = df_Sep2018.loc[maskT]"
   ]
  },
  {
   "cell_type": "code",
   "execution_count": null,
   "metadata": {},
   "outputs": [],
   "source": [
    "df_Feb2018_T.shape"
   ]
  },
  {
   "cell_type": "code",
   "execution_count": null,
   "metadata": {},
   "outputs": [],
   "source": [
    "maskI = (df_Feb2018['pan_token'].str.len() == 19)"
   ]
  },
  {
   "cell_type": "code",
   "execution_count": null,
   "metadata": {},
   "outputs": [],
   "source": [
    "df_Feb2018_I = df_Feb2018.loc[maskI]"
   ]
  },
  {
   "cell_type": "code",
   "execution_count": null,
   "metadata": {},
   "outputs": [],
   "source": [
    "df_Feb2018_I.shape"
   ]
  }
 ],
 "metadata": {
  "kernelspec": {
   "display_name": "Python 3",
   "language": "python",
   "name": "python3"
  },
  "language_info": {
   "codemirror_mode": {
    "name": "ipython",
    "version": 3
   },
   "file_extension": ".py",
   "mimetype": "text/x-python",
   "name": "python",
   "nbconvert_exporter": "python",
   "pygments_lexer": "ipython3",
   "version": "3.5.2"
  }
 },
 "nbformat": 4,
 "nbformat_minor": 1
}
