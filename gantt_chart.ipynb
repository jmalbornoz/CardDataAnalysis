{
 "cells": [
  {
   "cell_type": "markdown",
   "metadata": {},
   "source": [
    "# Gant chart\n",
    "## March 2018\n",
    "### Dr Jose M Albornoz\n",
    "\n",
    "Taken from http://www.clowersresearch.com/main/gantt-charts-in-matplotlib/"
   ]
  },
  {
   "cell_type": "markdown",
   "metadata": {},
   "source": [
    "# 1.- Import necessary modules"
   ]
  },
  {
   "cell_type": "code",
   "execution_count": 2,
   "metadata": {},
   "outputs": [],
   "source": [
    "import datetime as dt\n",
    "import matplotlib.pyplot as plt\n",
    "import matplotlib.font_manager as font_manager\n",
    "import matplotlib.dates\n",
    "from matplotlib.dates import MONTHLY, DateFormatter, rrulewrapper, RRuleLocator\n",
    "%matplotlib inline\n",
    " \n",
    "from pylab import *"
   ]
  },
  {
   "cell_type": "code",
   "execution_count": 3,
   "metadata": {},
   "outputs": [],
   "source": [
    "def create_date(month,year):\n",
    "    \"\"\"Creates the date\"\"\"\n",
    " \n",
    "    date = dt.datetime(int(year), int(month), 1)\n",
    "    mdate = matplotlib.dates.date2num(date)\n",
    " \n",
    "    return mdate"
   ]
  },
  {
   "cell_type": "markdown",
   "metadata": {},
   "source": [
    "# 2.- Generate data"
   ]
  },
  {
   "cell_type": "code",
   "execution_count": 4,
   "metadata": {},
   "outputs": [],
   "source": [
    "pos = arange(0.5,5.5,0.5)\n",
    " \n",
    "ylabels = []\n",
    "ylabels.append('Hardware Design & Review')\n",
    "ylabels.append('Hardware Construction')\n",
    "ylabels.append('Integrate and Test Laser Source')\n",
    "ylabels.append('Objective #1')\n",
    "ylabels.append('Objective #2')\n",
    "ylabels.append('Present at ASMS')\n",
    "ylabels.append('Present Data at Gordon Conference')\n",
    "ylabels.append('Manuscripts and Final Report')"
   ]
  },
  {
   "cell_type": "code",
   "execution_count": 5,
   "metadata": {},
   "outputs": [],
   "source": [
    "effort = []\n",
    "effort.append([0.2, 1.0])\n",
    "effort.append([0.2, 1.0])\n",
    "effort.append([0.2, 1.0])\n",
    "effort.append([0.3, 0.75])\n",
    "effort.append([0.25, 0.75])\n",
    "effort.append([0.3, 0.75])\n",
    "effort.append([0.5, 0.5])\n",
    "effort.append([0.7, 0.4])"
   ]
  },
  {
   "cell_type": "code",
   "execution_count": 6,
   "metadata": {},
   "outputs": [],
   "source": [
    "customDates = []\n",
    "customDates.append([create_date(5,2014),create_date(6,2014)])\n",
    "customDates.append([create_date(6,2014),create_date(8,2014),create_date(8,2014)])\n",
    "customDates.append([create_date(7,2014),create_date(9,2014),create_date(9,2014)])\n",
    "customDates.append([create_date(10,2014),create_date(3,2015),create_date(3,2015)])\n",
    "customDates.append([create_date(2,2015),create_date(6,2015),create_date(6,2015)])\n",
    "customDates.append([create_date(5,2015),create_date(6,2015),create_date(6,2015)])\n",
    "customDates.append([create_date(6,2015),create_date(7,2015),create_date(7,2015)])\n",
    "customDates.append([create_date(4,2015),create_date(8,2015),create_date(8,2015)])"
   ]
  },
  {
   "cell_type": "code",
   "execution_count": 8,
   "metadata": {},
   "outputs": [],
   "source": [
    "task_dates = {}\n",
    "for i,task in enumerate(ylabels):\n",
    "    task_dates[task] = customDates[i]"
   ]
  },
  {
   "cell_type": "markdown",
   "metadata": {},
   "source": [
    "# 3.- Plot"
   ]
  },
  {
   "cell_type": "code",
   "execution_count": 11,
   "metadata": {},
   "outputs": [
    {
     "data": {
      "image/png": "[encoded data removed]",
      "text/plain": [
       "<Figure size 1080x576 with 1 Axes>"
      ]
     },
     "metadata": {},
     "output_type": "display_data"
    }
   ],
   "source": [
    "fig = plt.figure(figsize=(15, 8))\n",
    "ax = fig.add_subplot(111)\n",
    "\n",
    "# Plot the data\n",
    " \n",
    "start_date,end_date = task_dates[ylabels[0]]\n",
    "\n",
    "ax.barh(0.5, end_date - start_date, left=start_date, height=0.3, align='center', color='blue', alpha = 0.75)\n",
    "ax.barh(0.45, (end_date - start_date)*effort[0][0], left=start_date, height=0.1, align='center', color='red', alpha = 0.75, label = \"PI Effort\")\n",
    "ax.barh(0.55, (end_date - start_date)*effort[0][1], left=start_date, height=0.1, align='center', color='yellow', alpha = 0.75, label = \"Student Effort\")\n",
    "\n",
    "for i in range(0,len(ylabels)-1):\n",
    "    labels = ['Analysis','Reporting'] if i == 1 else [None,None]\n",
    "    start_date,mid_date,end_date = task_dates[ylabels[i+1]]\n",
    "    piEffort, studentEffort = effort[i+1]\n",
    "    ax.barh((i*0.5)+1.0, mid_date - start_date, left=start_date, height=0.3, align='center', color='blue', alpha = 0.75)\n",
    "    ax.barh((i*0.5)+1.0-0.05, (mid_date - start_date)*piEffort, left=start_date, height=0.1, align='center', color='red', alpha = 0.75)\n",
    "    ax.barh((i*0.5)+1.0+0.05, (mid_date - start_date)*studentEffort, left=start_date, height=0.1, align='center', color='yellow', alpha = 0.75)\n",
    " "
   ]
  },
  {
   "cell_type": "code",
   "execution_count": null,
   "metadata": {},
   "outputs": [],
   "source": []
  }
 ],
 "metadata": {
  "kernelspec": {
   "display_name": "Python 3",
   "language": "python",
   "name": "python3"
  },
  "language_info": {
   "codemirror_mode": {
    "name": "ipython",
    "version": 3
   },
   "file_extension": ".py",
   "mimetype": "text/x-python",
   "name": "python",
   "nbconvert_exporter": "python",
   "pygments_lexer": "ipython3",
   "version": "3.5.2"
  }
 },
 "nbformat": 4,
 "nbformat_minor": 1
}
