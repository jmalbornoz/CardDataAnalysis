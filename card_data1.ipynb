{
 "cells": [
  {
   "cell_type": "markdown",
   "metadata": {},
   "source": [
    "# McDonald's Card Data Analysis - v1\n",
    "## March 2018\n",
    "### Dr Jose M Albornoz"
   ]
  },
  {
   "cell_type": "markdown",
   "metadata": {},
   "source": [
    "# Import necessary modules"
   ]
  },
  {
   "cell_type": "code",
   "execution_count": 1,
   "metadata": {},
   "outputs": [
    {
     "name": "stderr",
     "output_type": "stream",
     "text": [
      "/Users/jmalbornoz/anaconda/lib/python2.7/site-packages/sklearn/cross_validation.py:44: DeprecationWarning: This module was deprecated in version 0.18 in favor of the model_selection module into which all the refactored classes and functions are moved. Also note that the interface of the new CV iterators are different from that of this module. This module will be removed in 0.20.\n",
      "  \"This module will be removed in 0.20.\", DeprecationWarning)\n",
      "/Users/jmalbornoz/anaconda/lib/python2.7/site-packages/sklearn/grid_search.py:43: DeprecationWarning: This module was deprecated in version 0.18 in favor of the model_selection module into which all the refactored classes and functions are moved. This module will be removed in 0.20.\n",
      "  DeprecationWarning)\n",
      "/Users/jmalbornoz/anaconda/lib/python2.7/site-packages/sklearn/learning_curve.py:23: DeprecationWarning: This module was deprecated in version 0.18 in favor of the model_selection module into which all the functions are moved. This module will be removed in 0.20\n",
      "  DeprecationWarning)\n"
     ]
    }
   ],
   "source": [
    "import pandas as pd\n",
    "import matplotlib.pyplot as plt\n",
    "from matplotlib import style\n",
    "style.use('fivethirtyeight')\n",
    "%matplotlib inline\n",
    "\n",
    "import numpy as np\n",
    "\n",
    "\n",
    "RANDOM_STATE = 19"
   ]
  },
  {
   "cell_type": "markdown",
   "metadata": {},
   "source": [
    "# 1 Load data"
   ]
  },
  {
   "cell_type": "code",
   "execution_count": 2,
   "metadata": {},
   "outputs": [],
   "source": [
    "df_p1 = pd.read_csv('McD_Card_Data/CT_201709_p1.csv', sep=';', header=None)"
   ]
  },
  {
   "cell_type": "code",
   "execution_count": 7,
   "metadata": {},
   "outputs": [],
   "source": [
    "df_p2 = pd.read_csv('McD_Card_Data/CT_201709_p2.csv', sep=';', header=None)"
   ]
  },
  {
   "cell_type": "code",
   "execution_count": 8,
   "metadata": {},
   "outputs": [],
   "source": [
    "df_p3 = pd.read_csv('McD_Card_Data/CT_201709_p3.csv', sep=';', header=None)"
   ]
  },
  {
   "cell_type": "code",
   "execution_count": 9,
   "metadata": {},
   "outputs": [
    {
     "data": {
      "text/plain": [
       "(9962423, 8)"
      ]
     },
     "execution_count": 9,
     "metadata": {},
     "output_type": "execute_result"
    }
   ],
   "source": [
    "df_p1.shape"
   ]
  },
  {
   "cell_type": "code",
   "execution_count": 10,
   "metadata": {},
   "outputs": [
    {
     "data": {
      "text/plain": [
       "(6781156, 8)"
      ]
     },
     "execution_count": 10,
     "metadata": {},
     "output_type": "execute_result"
    }
   ],
   "source": [
    "df_p2.shape"
   ]
  },
  {
   "cell_type": "code",
   "execution_count": 11,
   "metadata": {},
   "outputs": [
    {
     "data": {
      "text/plain": [
       "(10339810, 8)"
      ]
     },
     "execution_count": 11,
     "metadata": {},
     "output_type": "execute_result"
    }
   ],
   "source": [
    "df_p3.shape"
   ]
  },
  {
   "cell_type": "markdown",
   "metadata": {},
   "source": [
    "# 2 Concatenate data"
   ]
  },
  {
   "cell_type": "code",
   "execution_count": 16,
   "metadata": {
    "collapsed": true
   },
   "outputs": [],
   "source": [
    "df_list = [df_p1, df_p2, df_p3]"
   ]
  },
  {
   "cell_type": "code",
   "execution_count": 17,
   "metadata": {
    "collapsed": true
   },
   "outputs": [],
   "source": [
    "data = pd.concat(df_list)"
   ]
  },
  {
   "cell_type": "code",
   "execution_count": 18,
   "metadata": {},
   "outputs": [],
   "source": [
    "data.columns = ['store_number', 'terminal_number', 'transaction_date', 'transaction_time', 'transaction_amount', \n",
    "               'card_scheme', 'pan_token', 'token_col']"
   ]
  },
  {
   "cell_type": "code",
   "execution_count": 19,
   "metadata": {},
   "outputs": [
    {
     "data": {
      "text/plain": [
       "(27083389, 8)"
      ]
     },
     "execution_count": 19,
     "metadata": {},
     "output_type": "execute_result"
    }
   ],
   "source": [
    "data.shape"
   ]
  },
  {
   "cell_type": "code",
   "execution_count": 25,
   "metadata": {
    "collapsed": true
   },
   "outputs": [],
   "source": [
    "data.drop('token_col', axis=1, inplace=True)"
   ]
  },
  {
   "cell_type": "code",
   "execution_count": 23,
   "metadata": {},
   "outputs": [],
   "source": [
    "del df_p1"
   ]
  },
  {
   "cell_type": "code",
   "execution_count": 26,
   "metadata": {},
   "outputs": [],
   "source": [
    "del df_p2"
   ]
  },
  {
   "cell_type": "code",
   "execution_count": 27,
   "metadata": {},
   "outputs": [],
   "source": [
    "del df_p3"
   ]
  },
  {
   "cell_type": "code",
   "execution_count": 28,
   "metadata": {},
   "outputs": [
    {
     "data": {
      "text/html": [
       "<div>\n",
       "<table border=\"1\" class=\"dataframe\">\n",
       "  <thead>\n",
       "    <tr style=\"text-align: right;\">\n",
       "      <th></th>\n",
       "      <th>store_number</th>\n",
       "      <th>terminal_number</th>\n",
       "      <th>transaction_date</th>\n",
       "      <th>transaction_time</th>\n",
       "      <th>transaction_amount</th>\n",
       "      <th>card_scheme</th>\n",
       "      <th>pan_token</th>\n",
       "    </tr>\n",
       "  </thead>\n",
       "  <tbody>\n",
       "    <tr>\n",
       "      <th>0</th>\n",
       "      <td>262</td>\n",
       "      <td>3</td>\n",
       "      <td>2017/09/01</td>\n",
       "      <td>0</td>\n",
       "      <td>437</td>\n",
       "      <td>S</td>\n",
       "      <td>D08D751E07A1775D5E4923655B97F6270FE414B7B554E9...</td>\n",
       "    </tr>\n",
       "    <tr>\n",
       "      <th>1</th>\n",
       "      <td>262</td>\n",
       "      <td>24</td>\n",
       "      <td>2017/09/01</td>\n",
       "      <td>2</td>\n",
       "      <td>319</td>\n",
       "      <td>S</td>\n",
       "      <td>D943C4129260645C5C886E66FFE781692638F1D772CBB0...</td>\n",
       "    </tr>\n",
       "    <tr>\n",
       "      <th>2</th>\n",
       "      <td>262</td>\n",
       "      <td>23</td>\n",
       "      <td>2017/09/01</td>\n",
       "      <td>3</td>\n",
       "      <td>396</td>\n",
       "      <td>S</td>\n",
       "      <td>0F07B1D413871FD689B63BAEC6D6857DF2D1B8792389C8...</td>\n",
       "    </tr>\n",
       "    <tr>\n",
       "      <th>3</th>\n",
       "      <td>262</td>\n",
       "      <td>22</td>\n",
       "      <td>2017/09/01</td>\n",
       "      <td>3</td>\n",
       "      <td>579</td>\n",
       "      <td>S</td>\n",
       "      <td>528D75D2EE6F7232976DD5CBE8227EB1DAADB3A14CAAF0...</td>\n",
       "    </tr>\n",
       "    <tr>\n",
       "      <th>4</th>\n",
       "      <td>262</td>\n",
       "      <td>21</td>\n",
       "      <td>2017/09/01</td>\n",
       "      <td>3</td>\n",
       "      <td>99</td>\n",
       "      <td>S</td>\n",
       "      <td>E9216F9D775D8540D08435890ED5DA507122124FD3E0B8...</td>\n",
       "    </tr>\n",
       "  </tbody>\n",
       "</table>\n",
       "</div>"
      ],
      "text/plain": [
       "   store_number  terminal_number transaction_date  transaction_time  \\\n",
       "0           262                3       2017/09/01                 0   \n",
       "1           262               24       2017/09/01                 2   \n",
       "2           262               23       2017/09/01                 3   \n",
       "3           262               22       2017/09/01                 3   \n",
       "4           262               21       2017/09/01                 3   \n",
       "\n",
       "   transaction_amount card_scheme  \\\n",
       "0                 437           S   \n",
       "1                 319           S   \n",
       "2                 396           S   \n",
       "3                 579           S   \n",
       "4                  99           S   \n",
       "\n",
       "                                           pan_token  \n",
       "0  D08D751E07A1775D5E4923655B97F6270FE414B7B554E9...  \n",
       "1  D943C4129260645C5C886E66FFE781692638F1D772CBB0...  \n",
       "2  0F07B1D413871FD689B63BAEC6D6857DF2D1B8792389C8...  \n",
       "3  528D75D2EE6F7232976DD5CBE8227EB1DAADB3A14CAAF0...  \n",
       "4  E9216F9D775D8540D08435890ED5DA507122124FD3E0B8...  "
      ]
     },
     "execution_count": 28,
     "metadata": {},
     "output_type": "execute_result"
    }
   ],
   "source": [
    "data.head()"
   ]
  },
  {
   "cell_type": "code",
   "execution_count": 29,
   "metadata": {},
   "outputs": [
    {
     "data": {
      "text/html": [
       "<div>\n",
       "<table border=\"1\" class=\"dataframe\">\n",
       "  <thead>\n",
       "    <tr style=\"text-align: right;\">\n",
       "      <th></th>\n",
       "      <th>store_number</th>\n",
       "      <th>terminal_number</th>\n",
       "      <th>transaction_date</th>\n",
       "      <th>transaction_time</th>\n",
       "      <th>transaction_amount</th>\n",
       "      <th>card_scheme</th>\n",
       "      <th>pan_token</th>\n",
       "    </tr>\n",
       "  </thead>\n",
       "  <tbody>\n",
       "    <tr>\n",
       "      <th>10339805</th>\n",
       "      <td>626</td>\n",
       "      <td>24</td>\n",
       "      <td>2017/09/27</td>\n",
       "      <td>2314</td>\n",
       "      <td>268</td>\n",
       "      <td>S</td>\n",
       "      <td>4818192528269612160</td>\n",
       "    </tr>\n",
       "    <tr>\n",
       "      <th>10339806</th>\n",
       "      <td>626</td>\n",
       "      <td>20</td>\n",
       "      <td>2017/09/27</td>\n",
       "      <td>2308</td>\n",
       "      <td>238</td>\n",
       "      <td>S</td>\n",
       "      <td>5570983305652013048</td>\n",
       "    </tr>\n",
       "    <tr>\n",
       "      <th>10339807</th>\n",
       "      <td>626</td>\n",
       "      <td>20</td>\n",
       "      <td>2017/09/27</td>\n",
       "      <td>2303</td>\n",
       "      <td>1358</td>\n",
       "      <td>S</td>\n",
       "      <td>4751285135047754650</td>\n",
       "    </tr>\n",
       "    <tr>\n",
       "      <th>10339808</th>\n",
       "      <td>626</td>\n",
       "      <td>20</td>\n",
       "      <td>2017/09/27</td>\n",
       "      <td>2258</td>\n",
       "      <td>637</td>\n",
       "      <td>S</td>\n",
       "      <td>4658589030055420015</td>\n",
       "    </tr>\n",
       "    <tr>\n",
       "      <th>10339809</th>\n",
       "      <td>626</td>\n",
       "      <td>20</td>\n",
       "      <td>2017/09/27</td>\n",
       "      <td>2256</td>\n",
       "      <td>447</td>\n",
       "      <td>S</td>\n",
       "      <td>4821779394724681416</td>\n",
       "    </tr>\n",
       "  </tbody>\n",
       "</table>\n",
       "</div>"
      ],
      "text/plain": [
       "          store_number  terminal_number transaction_date  transaction_time  \\\n",
       "10339805           626               24       2017/09/27              2314   \n",
       "10339806           626               20       2017/09/27              2308   \n",
       "10339807           626               20       2017/09/27              2303   \n",
       "10339808           626               20       2017/09/27              2258   \n",
       "10339809           626               20       2017/09/27              2256   \n",
       "\n",
       "          transaction_amount card_scheme            pan_token  \n",
       "10339805                 268           S  4818192528269612160  \n",
       "10339806                 238           S  5570983305652013048  \n",
       "10339807                1358           S  4751285135047754650  \n",
       "10339808                 637           S  4658589030055420015  \n",
       "10339809                 447           S  4821779394724681416  "
      ]
     },
     "execution_count": 29,
     "metadata": {},
     "output_type": "execute_result"
    }
   ],
   "source": [
    "data.tail()"
   ]
  },
  {
   "cell_type": "markdown",
   "metadata": {},
   "source": [
    "# 3 Preliminary Analysis"
   ]
  },
  {
   "cell_type": "markdown",
   "metadata": {},
   "source": [
    "## 3.1 Number of stores"
   ]
  },
  {
   "cell_type": "code",
   "execution_count": 32,
   "metadata": {},
   "outputs": [
    {
     "data": {
      "text/plain": [
       "1275"
      ]
     },
     "execution_count": 32,
     "metadata": {},
     "output_type": "execute_result"
    }
   ],
   "source": [
    "len(data['store_number'].unique())"
   ]
  },
  {
   "cell_type": "markdown",
   "metadata": {},
   "source": [
    "## 3.2 Number of cards"
   ]
  },
  {
   "cell_type": "code",
   "execution_count": 33,
   "metadata": {},
   "outputs": [
    {
     "data": {
      "text/plain": [
       "13309332"
      ]
     },
     "execution_count": 33,
     "metadata": {},
     "output_type": "execute_result"
    }
   ],
   "source": [
    "len(data['pan_token'].unique())"
   ]
  },
  {
   "cell_type": "markdown",
   "metadata": {},
   "source": [
    "## 3.3 Transaction times histogram"
   ]
  },
  {
   "cell_type": "code",
   "execution_count": 42,
   "metadata": {},
   "outputs": [
    {
     "data": {
      "text/plain": [
       "([<matplotlib.axis.XTick at 0x1252b6990>,\n",
       "  <matplotlib.axis.XTick at 0x122d2f450>,\n",
       "  <matplotlib.axis.XTick at 0x11f847190>,\n",
       "  <matplotlib.axis.XTick at 0x128bcb210>,\n",
       "  <matplotlib.axis.XTick at 0x125b94810>,\n",
       "  <matplotlib.axis.XTick at 0x128b01210>,\n",
       "  <matplotlib.axis.XTick at 0x12e3a6550>,\n",
       "  <matplotlib.axis.XTick at 0x122d08750>,\n",
       "  <matplotlib.axis.XTick at 0x13095b050>,\n",
       "  <matplotlib.axis.XTick at 0x12e3b1410>,\n",
       "  <matplotlib.axis.XTick at 0x121e24ed0>,\n",
       "  <matplotlib.axis.XTick at 0x121e1b8d0>,\n",
       "  <matplotlib.axis.XTick at 0x121e06410>,\n",
       "  <matplotlib.axis.XTick at 0x121cf4f10>,\n",
       "  <matplotlib.axis.XTick at 0x121ce9450>,\n",
       "  <matplotlib.axis.XTick at 0x121cd5d50>,\n",
       "  <matplotlib.axis.XTick at 0x121ccc210>,\n",
       "  <matplotlib.axis.XTick at 0x121cb6b10>,\n",
       "  <matplotlib.axis.XTick at 0x124868210>,\n",
       "  <matplotlib.axis.XTick at 0x121ed1350>,\n",
       "  <matplotlib.axis.XTick at 0x127170bd0>,\n",
       "  <matplotlib.axis.XTick at 0x121cadad0>,\n",
       "  <matplotlib.axis.XTick at 0x121c98e10>],\n",
       " <a list of 23 Text xticklabel objects>)"
      ]
     },
     "execution_count": 42,
     "metadata": {},
     "output_type": "execute_result"
    },
    {
     "data": {
      "image/png": "[encoded data removed]",
      "text/plain": [
       "<matplotlib.figure.Figure at 0x1232095d0>"
      ]
     },
     "metadata": {},
     "output_type": "display_data"
    }
   ],
   "source": [
    "plt.figure(figsize=(10,6), dpi=80)\n",
    "n, bins, patches = plt.hist(data['transaction_time'], 24, facecolor='green', alpha=0.750)\n",
    "plt.xticks(np.arange(2300/100))"
   ]
  },
  {
   "cell_type": "code",
   "execution_count": null,
   "metadata": {
    "collapsed": true
   },
   "outputs": [],
   "source": []
  }
 ],
 "metadata": {
  "kernelspec": {
   "display_name": "Python 3",
   "language": "python",
   "name": "python3"
  },
  "language_info": {
   "codemirror_mode": {
    "name": "ipython",
    "version": 2
   },
   "file_extension": ".py",
   "mimetype": "text/x-python",
   "name": "python",
   "nbconvert_exporter": "python",
   "pygments_lexer": "ipython2",
   "version": "2.7.11"
  }
 },
 "nbformat": 4,
 "nbformat_minor": 1
}
