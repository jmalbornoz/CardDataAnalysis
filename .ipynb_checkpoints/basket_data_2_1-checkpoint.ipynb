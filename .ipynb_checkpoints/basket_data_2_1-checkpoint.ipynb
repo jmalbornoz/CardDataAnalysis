{
 "cells": [
  {
   "cell_type": "markdown",
   "metadata": {},
   "source": [
    "# McDonald's Basket Data Analysis - v2: Toshiba card tokens\n",
    "## April 2018\n",
    "### Dr Jose M Albornoz\n",
    "\n",
    "This notebook performs basket data and card data merge for September 2017, accounting for all 7 stores in the Reading area. Only Toshiba tokens are being considered."
   ]
  },
  {
   "cell_type": "markdown",
   "metadata": {},
   "source": [
    "# 1.- Import necessary modules, define SQLContext"
   ]
  },
  {
   "cell_type": "code",
   "execution_count": 1,
   "metadata": {},
   "outputs": [],
   "source": [
    "# Import required modules\n",
    "from pyspark.context import SparkContext\n",
    "from pyspark.sql.context import SQLContext\n",
    "from pyspark.sql.functions import *\n",
    "from pyspark.sql.functions import col\n",
    "from pyspark.sql.functions import row_number\n",
    "from pyspark.sql.types import *\n",
    "from pyspark.sql.functions import unix_timestamp\n",
    "import math\n",
    "from pyspark.sql.window import *"
   ]
  },
  {
   "cell_type": "code",
   "execution_count": 2,
   "metadata": {},
   "outputs": [],
   "source": [
    "# Define SQLContext\n",
    "sqlContext = SQLContext(sc)"
   ]
  },
  {
   "cell_type": "markdown",
   "metadata": {},
   "source": [
    "# 2.- Generic functions to load data from a text-based file"
   ]
  },
  {
   "cell_type": "code",
   "execution_count": 3,
   "metadata": {},
   "outputs": [],
   "source": [
    "# a function to load a colon-separated value file\n",
    "def load_data_colon(filename, schema, columns = None):\n",
    "    df = sqlContext.read.format('com.databricks.spark.csv').option(\"delimiter\", \";\").options(header='true'). \\\n",
    "    load(filename, schema = schema)\n",
    "    if columns is None:\n",
    "        # If no columns are given, then select all\n",
    "        columns = schema.names\n",
    "    return df.select(columns)"
   ]
  },
  {
   "cell_type": "code",
   "execution_count": 4,
   "metadata": {},
   "outputs": [],
   "source": [
    "# a function to load a pipe-separated value file\n",
    "def load_data_pipe(filename, schema, columns = None):\n",
    "    df = sqlContext.read.format('com.databricks.spark.csv').option(\"delimiter\", \"|\").options(header='false'). \\\n",
    "    load(filename, schema = schema)\n",
    "    if columns is None:\n",
    "        # If no columns are given, then select all\n",
    "        columns = schema.names\n",
    "    return df.select(columns)"
   ]
  },
  {
   "cell_type": "markdown",
   "metadata": {},
   "source": [
    "# 3.- Schema for card data files"
   ]
  },
  {
   "cell_type": "code",
   "execution_count": 5,
   "metadata": {},
   "outputs": [],
   "source": [
    "schema_card = StructType([ \n",
    "    StructField('store_number', IntegerType(), True), \n",
    "    StructField('terminal_number', IntegerType(), True), \n",
    "    StructField('transaction_date', StringType(), True), \n",
    "    StructField('transaction_time', IntegerType(), True), \n",
    "    StructField('transaction_amount', FloatType(), True),\n",
    "    StructField('card_scheme', StringType(), True),\n",
    "    StructField('pan_token', StringType(), True),\n",
    "    StructField('empty_field', IntegerType(), True)    \n",
    "])"
   ]
  },
  {
   "cell_type": "markdown",
   "metadata": {},
   "source": [
    "# 4.- Schema for basket data files"
   ]
  },
  {
   "cell_type": "code",
   "execution_count": 6,
   "metadata": {},
   "outputs": [],
   "source": [
    "schema_basket = StructType([ \n",
    "    StructField('store_number', StringType(), True), \n",
    "    StructField('time_period', StringType(), True), \n",
    "    StructField('time_of_day', StringType(), True), \n",
    "    StructField('business_date', StringType(), True), \n",
    "    StructField('pos_code', StringType(), True),\n",
    "    StructField('c6', StringType(), True),\n",
    "    StructField('total_cost', StringType(), True),\n",
    "    StructField('unit_cost', StringType(), True),\n",
    "    StructField('quantity', StringType(), True), \n",
    "    StructField('food_cost', StringType(), True), \n",
    "    StructField('paper_cost', StringType(), True), \n",
    "    StructField('hour', StringType(), True), \n",
    "    StructField('transaction_time', StringType(), True), \n",
    "    StructField('transaction_date', StringType(), True),\n",
    "    StructField('pos_id', StringType(), True),\n",
    "    StructField('unique_till_code', StringType(), True),\n",
    "    StructField('sale_number', StringType(), True),\n",
    "    StructField('menu_item_id', StringType(), True), \n",
    "    StructField('till_key', StringType(), True), \n",
    "    StructField('channel', StringType(), True), \n",
    "    StructField('c20', StringType(), True), \n",
    "    StructField('sale_or_refund', StringType(), True),\n",
    "    StructField('eatin_eatout', StringType(), True),\n",
    "    StructField('eat_in_eatout_str', StringType(), True),\n",
    "    StructField('payment_type_id', StringType(), True),\n",
    "    StructField('payment_type', StringType(), True) \n",
    "])"
   ]
  },
  {
   "cell_type": "markdown",
   "metadata": {},
   "source": [
    "# 5.- Basket data preprocessing"
   ]
  },
  {
   "cell_type": "markdown",
   "metadata": {},
   "source": [
    "## 5.1.- Load basket data"
   ]
  },
  {
   "cell_type": "code",
   "execution_count": 7,
   "metadata": {},
   "outputs": [],
   "source": [
    "df_basket = load_data_pipe(\"BasketDataReading7Sept_not15/000\", schema_basket)"
   ]
  },
  {
   "cell_type": "code",
   "execution_count": 8,
   "metadata": {},
   "outputs": [],
   "source": [
    "#df_basket.show(10)"
   ]
  },
  {
   "cell_type": "markdown",
   "metadata": {},
   "source": [
    "## 5.2.- Cast basket data columns to the correct types"
   ]
  },
  {
   "cell_type": "code",
   "execution_count": 9,
   "metadata": {},
   "outputs": [],
   "source": [
    "df_basket = df_basket.withColumn(\"store_number\", df_basket[\"store_number\"].cast(IntegerType()))        \n",
    "df_basket = df_basket.withColumn(\"time_period\", df_basket[\"time_period\"].cast(IntegerType()))\n",
    "df_basket = df_basket.withColumn(\"time_of_day\", df_basket[\"time_of_day\"].cast(StringType()))\n",
    "df_basket = df_basket.withColumn(\"business_date\", df_basket[\"business_date\"].cast(DateType()))\n",
    "df_basket = df_basket.withColumn(\"pos_code\", df_basket[\"pos_code\"].cast(IntegerType()))\n",
    "df_basket = df_basket.withColumn(\"c6\", df_basket[\"c6\"].cast(StringType()))\n",
    "df_basket = df_basket.withColumn(\"total_cost\", df_basket[\"total_cost\"].cast(FloatType()))\n",
    "df_basket = df_basket.withColumn(\"unit_cost\", df_basket[\"unit_cost\"].cast(FloatType()))\n",
    "df_basket = df_basket.withColumn(\"quantity\", df_basket[\"quantity\"].cast(IntegerType()))\n",
    "df_basket = df_basket.withColumn(\"food_cost\", df_basket[\"food_cost\"].cast(FloatType()))\n",
    "df_basket = df_basket.withColumn(\"paper_cost\", df_basket[\"paper_cost\"].cast(FloatType()))\n",
    "df_basket = df_basket.withColumn(\"hour\", df_basket[\"hour\"].cast(IntegerType()))\n",
    "df_basket = df_basket.withColumn(\"transaction_time\", df_basket[\"transaction_time\"].cast(StringType()))\n",
    "df_basket = df_basket.withColumn(\"transaction_date\", df_basket[\"transaction_date\"].cast(StringType()))\n",
    "df_basket = df_basket.withColumn(\"pos_id\", df_basket[\"pos_id\"].cast(StringType()))\n",
    "df_basket = df_basket.withColumn(\"unique_till_code\", df_basket[\"unique_till_code\"].cast(IntegerType()))\n",
    "df_basket = df_basket.withColumn(\"sale_number\", df_basket[\"sale_number\"].cast(IntegerType()))\n",
    "df_basket = df_basket.withColumn(\"menu_item_id\", df_basket[\"menu_item_id\"].cast(IntegerType()))\n",
    "df_basket = df_basket.withColumn(\"till_key\", df_basket[\"till_key\"].cast(IntegerType()))\n",
    "df_basket = df_basket.withColumn(\"channel\", df_basket[\"channel\"].cast(StringType()))\n",
    "df_basket = df_basket.withColumn(\"c20\", df_basket[\"c20\"].cast(StringType()))\n",
    "df_basket = df_basket.withColumn(\"sale_or_refund\", df_basket[\"sale_or_refund\"].cast(StringType()))\n",
    "df_basket = df_basket.withColumn(\"eatin_eatout\", df_basket[\"eatin_eatout\"].cast(IntegerType()))\n",
    "df_basket = df_basket.withColumn(\"eat_in_eatout_str\", df_basket[\"eat_in_eatout_str\"].cast(StringType()))\n",
    "df_basket = df_basket.withColumn(\"payment_type_id\", df_basket[\"payment_type_id\"].cast(IntegerType()))\n",
    "df_basket = df_basket.withColumn(\"payment_type\", df_basket[\"payment_type\"].cast(StringType()))"
   ]
  },
  {
   "cell_type": "code",
   "execution_count": 10,
   "metadata": {},
   "outputs": [],
   "source": [
    "all_transactions = df_basket.count()"
   ]
  },
  {
   "cell_type": "code",
   "execution_count": 11,
   "metadata": {},
   "outputs": [
    {
     "data": {
      "text/plain": [
       "1278812"
      ]
     },
     "execution_count": 11,
     "metadata": {},
     "output_type": "execute_result"
    }
   ],
   "source": [
    "all_transactions"
   ]
  },
  {
   "cell_type": "markdown",
   "metadata": {},
   "source": [
    "## 5.3.- Only 'Sales' and not 'Refunds' will be considered"
   ]
  },
  {
   "cell_type": "code",
   "execution_count": 12,
   "metadata": {},
   "outputs": [
    {
     "data": {
      "text/plain": [
       "['Sale']"
      ]
     },
     "execution_count": 12,
     "metadata": {},
     "output_type": "execute_result"
    }
   ],
   "source": [
    "[i.sale_or_refund for i in df_basket.select('sale_or_refund').distinct().collect()]"
   ]
  },
  {
   "cell_type": "code",
   "execution_count": 13,
   "metadata": {},
   "outputs": [],
   "source": [
    "df_basket = df_basket.filter(df_basket['sale_or_refund'] == 'Sale')"
   ]
  },
  {
   "cell_type": "code",
   "execution_count": 14,
   "metadata": {},
   "outputs": [
    {
     "data": {
      "text/plain": [
       "1278812"
      ]
     },
     "execution_count": 14,
     "metadata": {},
     "output_type": "execute_result"
    }
   ],
   "source": [
    "df_basket.count()"
   ]
  },
  {
   "cell_type": "markdown",
   "metadata": {},
   "source": [
    "## 5.4.- Convert transaction date and time into a timestamp, filter so that only data for September is considered"
   ]
  },
  {
   "cell_type": "code",
   "execution_count": 15,
   "metadata": {},
   "outputs": [],
   "source": [
    "col = to_timestamp(df_basket['transaction_time'], 'yyyy-MM-dd HH:mm:ss')"
   ]
  },
  {
   "cell_type": "code",
   "execution_count": 16,
   "metadata": {},
   "outputs": [],
   "source": [
    "df_basket = df_basket.withColumn('timestamp_basket', col)"
   ]
  },
  {
   "cell_type": "code",
   "execution_count": 17,
   "metadata": {},
   "outputs": [],
   "source": [
    "df_basket = df_basket.drop('transaction_date', 'transaction_time', 'hour').orderBy('timestamp_basket')"
   ]
  },
  {
   "cell_type": "code",
   "execution_count": 18,
   "metadata": {},
   "outputs": [],
   "source": [
    "from pyspark.sql.functions import col\n",
    "df_basket = df_basket.filter(col('timestamp_basket') >= '2017-09-01 00:00:00')"
   ]
  },
  {
   "cell_type": "code",
   "execution_count": 19,
   "metadata": {},
   "outputs": [
    {
     "data": {
      "text/plain": [
       "1278605"
      ]
     },
     "execution_count": 19,
     "metadata": {},
     "output_type": "execute_result"
    }
   ],
   "source": [
    "df_basket.count()"
   ]
  },
  {
   "cell_type": "markdown",
   "metadata": {},
   "source": [
    "## 5.5.- Select relevant columns from basket data"
   ]
  },
  {
   "cell_type": "code",
   "execution_count": 20,
   "metadata": {},
   "outputs": [],
   "source": [
    "df_basket_reduced = df_basket.select('store_number', 'timestamp_basket', 'pos_code', 'pos_id', 'sale_number', 'total_cost', \\\n",
    "                                     'unit_cost', 'quantity', 'menu_item_id', 'sale_or_refund', \\\n",
    "                                     'payment_type_id', 'channel')"
   ]
  },
  {
   "cell_type": "code",
   "execution_count": 21,
   "metadata": {},
   "outputs": [
    {
     "name": "stdout",
     "output_type": "stream",
     "text": [
      "+------------+-------------------+--------+-----------------+-----------+----------+---------+--------+------------+--------------+---------------+-------------+\n",
      "|store_number|   timestamp_basket|pos_code|           pos_id|sale_number|total_cost|unit_cost|quantity|menu_item_id|sale_or_refund|payment_type_id|      channel|\n",
      "+------------+-------------------+--------+-----------------+-----------+----------+---------+--------+------------+--------------+---------------+-------------+\n",
      "|         102|2017-09-01 00:00:51|       1|POS0001:216437503|          2|      0.91|     0.91|       1|        4810|          Sale|              2|FRONT COUNTER|\n",
      "|         102|2017-09-01 00:00:51|       1|POS0001:216437503|          1|       0.0|      0.0|       2|        4600|          Sale|              2|FRONT COUNTER|\n",
      "|         102|2017-09-01 00:00:51|       1|POS0001:216437503|          3|       0.0|      0.0|       2|        4650|          Sale|              2|FRONT COUNTER|\n",
      "|         102|2017-09-01 00:00:51|       1|POS0001:216437503|          4|      3.33|     3.33|       1|        1420|          Sale|              2|FRONT COUNTER|\n",
      "|        1339|2017-09-01 00:01:32|      20|POS0019:773084409|          2|      0.74|     0.74|       1|        1000|          Sale|              2|   DRIVE THRU|\n",
      "+------------+-------------------+--------+-----------------+-----------+----------+---------+--------+------------+--------------+---------------+-------------+\n",
      "only showing top 5 rows\n",
      "\n"
     ]
    }
   ],
   "source": [
    "df_basket_reduced.show(5)"
   ]
  },
  {
   "cell_type": "markdown",
   "metadata": {},
   "source": [
    "## 5.7.- Split basket data into 'cash' and 'cashless' transaction, sort by store number, timestamp, till ID and sale number"
   ]
  },
  {
   "cell_type": "code",
   "execution_count": 22,
   "metadata": {},
   "outputs": [],
   "source": [
    "df_basket_cash = df_basket_reduced.filter(df_basket[\"payment_type_id\"] == 1)"
   ]
  },
  {
   "cell_type": "code",
   "execution_count": 23,
   "metadata": {},
   "outputs": [],
   "source": [
    "df_basket_cash = df_basket_cash.orderBy(\"store_number\", \"timestamp_basket\", \"pos_id\", \"sale_number\")"
   ]
  },
  {
   "cell_type": "code",
   "execution_count": 24,
   "metadata": {},
   "outputs": [],
   "source": [
    "df_basket_cash = df_basket_cash.drop('sale_or_refund', 'payment_type_id')"
   ]
  },
  {
   "cell_type": "code",
   "execution_count": 25,
   "metadata": {},
   "outputs": [],
   "source": [
    "df_basket_cashless = df_basket_reduced.filter(df_basket[\"payment_type_id\"] == 2)"
   ]
  },
  {
   "cell_type": "code",
   "execution_count": 26,
   "metadata": {},
   "outputs": [],
   "source": [
    "df_basket_cashless = df_basket_cashless.orderBy(\"store_number\", \"timestamp_basket\", \"pos_id\", \"sale_number\")"
   ]
  },
  {
   "cell_type": "code",
   "execution_count": 27,
   "metadata": {},
   "outputs": [],
   "source": [
    "df_basket_cashless = df_basket_cashless.drop('sale_or_refund', 'payment_type_id')"
   ]
  },
  {
   "cell_type": "code",
   "execution_count": 28,
   "metadata": {},
   "outputs": [
    {
     "name": "stdout",
     "output_type": "stream",
     "text": [
      "+------------+-------------------+--------+-----------------+-----------+----------+---------+--------+------------+-------------+\n",
      "|store_number|   timestamp_basket|pos_code|           pos_id|sale_number|total_cost|unit_cost|quantity|menu_item_id|      channel|\n",
      "+------------+-------------------+--------+-----------------+-----------+----------+---------+--------+------------+-------------+\n",
      "|         102|2017-09-01 00:03:25|       1|POS0001:216437505|          1|      0.83|     0.83|       1|        1010|FRONT COUNTER|\n",
      "|         102|2017-09-01 00:03:25|       1|POS0001:216437505|          2|      0.83|     0.83|       1|        3405|FRONT COUNTER|\n",
      "|         102|2017-09-01 00:04:18|       1|POS0001:216437506|          1|      1.16|     1.16|       1|        4216|FRONT COUNTER|\n",
      "|         102|2017-09-01 00:04:56|       1|POS0001:216437507|          1|      3.43|     3.43|       1|        7233|FRONT COUNTER|\n",
      "|         102|2017-09-01 00:04:56|       1|POS0001:216437507|          2|      2.74|     2.74|       1|        1427|FRONT COUNTER|\n",
      "|         102|2017-09-01 00:04:56|       1|POS0001:216437507|          3|       0.0|      0.0|       1|        4833|FRONT COUNTER|\n",
      "|         102|2017-09-01 00:04:56|       1|POS0001:216437507|          4|      0.83|     0.83|       1|        4100|FRONT COUNTER|\n",
      "|         102|2017-09-01 00:04:56|       1|POS0001:216437507|          5|       0.0|      0.0|       1|        4635|FRONT COUNTER|\n",
      "|         102|2017-09-01 00:04:56|       1|POS0001:216437507|          6|      0.82|     0.82|       1|        3425|FRONT COUNTER|\n",
      "|         102|2017-09-01 00:05:25|       1|POS0001:216437508|          1|      1.66|     0.83|       2|        4589|FRONT COUNTER|\n",
      "|         102|2017-09-01 00:05:37|       1|POS0001:216437509|          1|      0.83|     0.83|       1|        1010|FRONT COUNTER|\n",
      "|         102|2017-09-01 00:05:37|       1|POS0001:216437509|          2|      1.24|     1.24|       1|        1146|FRONT COUNTER|\n",
      "|         102|2017-09-01 00:06:09|       1|POS0001:216437510|          1|      0.83|     0.83|       1|        4407|FRONT COUNTER|\n",
      "|         102|2017-09-01 00:10:55|       2|POS0002:563010759|          2|      -0.5|     -0.5|       1|        1100|FRONT COUNTER|\n",
      "|         102|2017-09-01 00:10:55|       2|POS0002:563010759|          3|      0.82|     0.82|       1|        3425|FRONT COUNTER|\n",
      "|         102|2017-09-01 00:10:55|       2|POS0002:563010759|          4|      2.93|     2.93|       1|        6000|FRONT COUNTER|\n",
      "|         102|2017-09-01 00:10:55|       2|POS0002:563010759|          5|       0.0|      0.0|       1|        4833|FRONT COUNTER|\n",
      "|         102|2017-09-01 00:11:39|       1|POS0001:216437515|          1|      3.02|     3.02|       1|        6160|FRONT COUNTER|\n",
      "|         102|2017-09-01 00:11:39|       1|POS0001:216437515|          2|       0.0|      0.0|       1|        4834|FRONT COUNTER|\n",
      "|         102|2017-09-01 00:11:39|       1|POS0001:216437515|          3|      1.06|     1.06|       1|        3030|FRONT COUNTER|\n",
      "+------------+-------------------+--------+-----------------+-----------+----------+---------+--------+------------+-------------+\n",
      "only showing top 20 rows\n",
      "\n"
     ]
    }
   ],
   "source": [
    "df_basket_cash.show(20)"
   ]
  },
  {
   "cell_type": "code",
   "execution_count": 29,
   "metadata": {},
   "outputs": [
    {
     "name": "stdout",
     "output_type": "stream",
     "text": [
      "+------------+-------------------+--------+-----------------+-----------+----------+---------+--------+------------+-------------+\n",
      "|store_number|   timestamp_basket|pos_code|           pos_id|sale_number|total_cost|unit_cost|quantity|menu_item_id|      channel|\n",
      "+------------+-------------------+--------+-----------------+-----------+----------+---------+--------+------------+-------------+\n",
      "|         102|2017-09-01 00:00:51|       1|POS0001:216437503|          1|       0.0|      0.0|       2|        4600|FRONT COUNTER|\n",
      "|         102|2017-09-01 00:00:51|       1|POS0001:216437503|          2|      0.91|     0.91|       1|        4810|FRONT COUNTER|\n",
      "|         102|2017-09-01 00:00:51|       1|POS0001:216437503|          3|       0.0|      0.0|       2|        4650|FRONT COUNTER|\n",
      "|         102|2017-09-01 00:00:51|       1|POS0001:216437503|          4|      3.33|     3.33|       1|        1420|FRONT COUNTER|\n",
      "|         102|2017-09-01 00:01:40|       1|POS0001:216437504|          1|      -0.8|     -0.8|       1|        1265|FRONT COUNTER|\n",
      "|         102|2017-09-01 00:01:40|       1|POS0001:216437504|          2|      4.43|     4.43|       1|        7225|FRONT COUNTER|\n",
      "|         102|2017-09-01 00:01:40|       1|POS0001:216437504|          3|       0.0|      0.0|       1|        4911|FRONT COUNTER|\n",
      "|         102|2017-09-01 00:01:40|       1|POS0001:216437504|          4|      0.82|     0.82|       1|        3275|FRONT COUNTER|\n",
      "|         102|2017-09-01 00:01:40|       1|POS0001:216437504|          5|      1.24|     1.24|       1|        1146|FRONT COUNTER|\n",
      "|         102|2017-09-01 00:01:40|       1|POS0001:216437504|          6|       0.0|      0.0|       1|        7888|FRONT COUNTER|\n",
      "|         102|2017-09-01 00:01:40|       1|POS0001:216437504|          7|       0.0|      0.0|       1|        7971|FRONT COUNTER|\n",
      "|         102|2017-09-01 00:07:28|       1|POS0001:216437511|          1|      1.24|     1.24|       1|        1146|FRONT COUNTER|\n",
      "|         102|2017-09-01 00:07:28|       1|POS0001:216437511|          2|      1.24|     1.24|       1|        1094|FRONT COUNTER|\n",
      "|         102|2017-09-01 00:08:34|       1|POS0001:216437512|          1|      1.16|     1.16|       1|        3265|FRONT COUNTER|\n",
      "|         102|2017-09-01 00:08:34|       1|POS0001:216437512|          2|      1.16|     1.16|       1|        4820|FRONT COUNTER|\n",
      "|         102|2017-09-01 00:08:34|       1|POS0001:216437512|          3|      1.24|     1.24|       1|        1146|FRONT COUNTER|\n",
      "|         102|2017-09-01 00:10:50|       1|POS0001:216437513|          1|      1.16|     1.16|       1|        3010|FRONT COUNTER|\n",
      "|         102|2017-09-01 00:10:50|       1|POS0001:216437513|          2|       0.0|      0.0|       1|        4651|FRONT COUNTER|\n",
      "|         102|2017-09-01 00:10:50|       1|POS0001:216437513|          3|      1.16|     1.16|       1|        4820|FRONT COUNTER|\n",
      "|         102|2017-09-01 00:10:50|       1|POS0001:216437513|          4|      1.24|     1.24|       1|        1146|FRONT COUNTER|\n",
      "+------------+-------------------+--------+-----------------+-----------+----------+---------+--------+------------+-------------+\n",
      "only showing top 20 rows\n",
      "\n"
     ]
    }
   ],
   "source": [
    "df_basket_cashless.show(20)"
   ]
  },
  {
   "cell_type": "code",
   "execution_count": 30,
   "metadata": {},
   "outputs": [],
   "source": [
    "cash_transactions = df_basket_cash.count()"
   ]
  },
  {
   "cell_type": "code",
   "execution_count": 31,
   "metadata": {},
   "outputs": [],
   "source": [
    "cashless_transactions = df_basket_cashless.count()"
   ]
  },
  {
   "cell_type": "code",
   "execution_count": 32,
   "metadata": {},
   "outputs": [
    {
     "data": {
      "text/plain": [
       "439217"
      ]
     },
     "execution_count": 32,
     "metadata": {},
     "output_type": "execute_result"
    }
   ],
   "source": [
    "cash_transactions"
   ]
  },
  {
   "cell_type": "code",
   "execution_count": 33,
   "metadata": {},
   "outputs": [
    {
     "data": {
      "text/plain": [
       "835069"
      ]
     },
     "execution_count": 33,
     "metadata": {},
     "output_type": "execute_result"
    }
   ],
   "source": [
    "cashless_transactions"
   ]
  },
  {
   "cell_type": "markdown",
   "metadata": {},
   "source": [
    "## 5.8.- Compute percentage of 'cash' and 'cashless' transaction"
   ]
  },
  {
   "cell_type": "code",
   "execution_count": 34,
   "metadata": {},
   "outputs": [
    {
     "data": {
      "text/plain": [
       "34.34570523266907"
      ]
     },
     "execution_count": 34,
     "metadata": {},
     "output_type": "execute_result"
    }
   ],
   "source": [
    "cash_transactions*100/all_transactions"
   ]
  },
  {
   "cell_type": "code",
   "execution_count": 35,
   "metadata": {},
   "outputs": [
    {
     "data": {
      "text/plain": [
       "65.30037253325743"
      ]
     },
     "execution_count": 35,
     "metadata": {},
     "output_type": "execute_result"
    }
   ],
   "source": [
    "cashless_transactions*100/all_transactions"
   ]
  },
  {
   "cell_type": "markdown",
   "metadata": {},
   "source": [
    "## 5.9.- Get Reading store numbers"
   ]
  },
  {
   "cell_type": "code",
   "execution_count": 36,
   "metadata": {},
   "outputs": [],
   "source": [
    "stores_list = [i.store_number for i in df_basket.select('store_number').distinct().collect()]"
   ]
  },
  {
   "cell_type": "code",
   "execution_count": 37,
   "metadata": {},
   "outputs": [
    {
     "data": {
      "text/plain": [
       "[1339, 787, 980, 960, 1036, 102, 1262]"
      ]
     },
     "execution_count": 37,
     "metadata": {},
     "output_type": "execute_result"
    }
   ],
   "source": [
    "stores_list"
   ]
  },
  {
   "cell_type": "markdown",
   "metadata": {},
   "source": [
    "# 6.- Card data preprocessing"
   ]
  },
  {
   "cell_type": "markdown",
   "metadata": {},
   "source": [
    "## 6.1.- Load and filter card data by store number, drop irrelevant fields"
   ]
  },
  {
   "cell_type": "code",
   "execution_count": 38,
   "metadata": {},
   "outputs": [],
   "source": [
    "df_Sep2017T = sqlContext.read.csv(\"McD_Card_Data/Sep2017_T.csv\", header=True, mode=\"DROPMALFORMED\", schema=schema_card)"
   ]
  },
  {
   "cell_type": "code",
   "execution_count": 39,
   "metadata": {},
   "outputs": [],
   "source": [
    "df_cards = df_Sep2017T.filter(df_Sep2017T['store_number'].isin(stores_list))"
   ]
  },
  {
   "cell_type": "code",
   "execution_count": 40,
   "metadata": {},
   "outputs": [],
   "source": [
    "df_cards = df_cards.orderBy(\"store_number\", \"transaction_date\", \"transaction_time\")"
   ]
  },
  {
   "cell_type": "code",
   "execution_count": 41,
   "metadata": {},
   "outputs": [],
   "source": [
    "df_cards = df_cards.drop('card_scheme', 'empty_field')"
   ]
  },
  {
   "cell_type": "code",
   "execution_count": 42,
   "metadata": {},
   "outputs": [
    {
     "name": "stdout",
     "output_type": "stream",
     "text": [
      "+------------+---------------+----------------+----------------+------------------+--------------------+\n",
      "|store_number|terminal_number|transaction_date|transaction_time|transaction_amount|           pan_token|\n",
      "+------------+---------------+----------------+----------------+------------------+--------------------+\n",
      "|         102|              1|      2017/09/01|               1|             508.0|CC2919271D518CE2B...|\n",
      "|         102|              1|      2017/09/01|               2|             778.0|9DCFC4FE00D7565E7...|\n",
      "|         102|              1|      2017/09/01|               8|             298.0|F8FD3E6E72ECDF9D6...|\n",
      "|         102|              1|      2017/09/01|               8|             427.0|CA03E173868FFB0F5...|\n",
      "|         102|              1|      2017/09/01|              11|             448.0|820B52BFA23284825...|\n",
      "+------------+---------------+----------------+----------------+------------------+--------------------+\n",
      "only showing top 5 rows\n",
      "\n"
     ]
    }
   ],
   "source": [
    "df_cards.show(5)"
   ]
  },
  {
   "cell_type": "code",
   "execution_count": 43,
   "metadata": {},
   "outputs": [
    {
     "data": {
      "text/plain": [
       "181844"
      ]
     },
     "execution_count": 43,
     "metadata": {},
     "output_type": "execute_result"
    }
   ],
   "source": [
    "df_cards.count()"
   ]
  },
  {
   "cell_type": "markdown",
   "metadata": {},
   "source": [
    "## 6.2.- Convert transaction amount to pounds"
   ]
  },
  {
   "cell_type": "code",
   "execution_count": 44,
   "metadata": {},
   "outputs": [],
   "source": [
    "def get_amount_pounds(amount_pence):\n",
    "    amount_pounds = amount_pence/100.0\n",
    "    return amount_pounds\n",
    "\n",
    "get_amount_pounds_udf = udf(get_amount_pounds, FloatType())"
   ]
  },
  {
   "cell_type": "code",
   "execution_count": 45,
   "metadata": {},
   "outputs": [],
   "source": [
    "df_cards = df_cards.withColumn(\"transaction_amount\", get_amount_pounds_udf(df_cards['transaction_amount']))"
   ]
  },
  {
   "cell_type": "code",
   "execution_count": 46,
   "metadata": {},
   "outputs": [
    {
     "name": "stdout",
     "output_type": "stream",
     "text": [
      "+------------+---------------+----------------+----------------+------------------+--------------------+\n",
      "|store_number|terminal_number|transaction_date|transaction_time|transaction_amount|           pan_token|\n",
      "+------------+---------------+----------------+----------------+------------------+--------------------+\n",
      "|         102|              1|      2017/09/01|               1|              5.08|CC2919271D518CE2B...|\n",
      "|         102|              1|      2017/09/01|               2|              7.78|9DCFC4FE00D7565E7...|\n",
      "|         102|              1|      2017/09/01|               8|              2.98|F8FD3E6E72ECDF9D6...|\n",
      "|         102|              1|      2017/09/01|               8|              4.27|CA03E173868FFB0F5...|\n",
      "|         102|              1|      2017/09/01|              11|              4.48|820B52BFA23284825...|\n",
      "+------------+---------------+----------------+----------------+------------------+--------------------+\n",
      "only showing top 5 rows\n",
      "\n"
     ]
    }
   ],
   "source": [
    "df_cards.show(5)"
   ]
  },
  {
   "cell_type": "markdown",
   "metadata": {},
   "source": [
    "## 6.3.- Convert transaction time to hour and minutes"
   ]
  },
  {
   "cell_type": "code",
   "execution_count": 47,
   "metadata": {},
   "outputs": [],
   "source": [
    "def convert_time(time_int):\n",
    "    time_flt = time_int/99.9999999\n",
    "    time = math.modf(time_flt)\n",
    "    hour = str(int(time[1]))\n",
    "    minutes = str(int(time[0]*100))\n",
    "    \n",
    "    if len(hour) == 1:\n",
    "        hour = hour.zfill(2)\n",
    "    if len(minutes) == 1:\n",
    "        minutes = minutes.zfill(2)\n",
    "    \n",
    "    time_str = hour + ':' + minutes + ':' + '00'\n",
    "    return time_str\n",
    "\n",
    "convert_time_udf = udf(convert_time, StringType())"
   ]
  },
  {
   "cell_type": "code",
   "execution_count": 48,
   "metadata": {},
   "outputs": [],
   "source": [
    "df_cards = df_cards.withColumn(\"transaction_time\", convert_time_udf(df_cards['transaction_time']))"
   ]
  },
  {
   "cell_type": "code",
   "execution_count": 49,
   "metadata": {},
   "outputs": [
    {
     "name": "stdout",
     "output_type": "stream",
     "text": [
      "+------------+---------------+----------------+----------------+------------------+--------------------+\n",
      "|store_number|terminal_number|transaction_date|transaction_time|transaction_amount|           pan_token|\n",
      "+------------+---------------+----------------+----------------+------------------+--------------------+\n",
      "|         102|              1|      2017/09/01|        00:01:00|              5.08|CC2919271D518CE2B...|\n",
      "|         102|              1|      2017/09/01|        00:02:00|              7.78|9DCFC4FE00D7565E7...|\n",
      "|         102|              1|      2017/09/01|        00:08:00|              2.98|F8FD3E6E72ECDF9D6...|\n",
      "|         102|              1|      2017/09/01|        00:08:00|              4.27|CA03E173868FFB0F5...|\n",
      "|         102|              1|      2017/09/01|        00:11:00|              4.48|820B52BFA23284825...|\n",
      "+------------+---------------+----------------+----------------+------------------+--------------------+\n",
      "only showing top 5 rows\n",
      "\n"
     ]
    }
   ],
   "source": [
    "df_cards.show(5)"
   ]
  },
  {
   "cell_type": "markdown",
   "metadata": {},
   "source": [
    "## 6.4.- Combine transaction date and time into a single timestamp, drop transaction_date and transaction_time"
   ]
  },
  {
   "cell_type": "code",
   "execution_count": 50,
   "metadata": {},
   "outputs": [],
   "source": [
    "df_cards = df_cards.withColumn('timestamp_tmp', concat(df_cards[\"transaction_date\"], lit(\" \"), \\\n",
    "                                                       df_cards[\"transaction_time\"]))"
   ]
  },
  {
   "cell_type": "code",
   "execution_count": 51,
   "metadata": {},
   "outputs": [],
   "source": [
    "col = to_timestamp(df_cards['timestamp_tmp'], 'yyyy/MM/dd HH:mm:ss')"
   ]
  },
  {
   "cell_type": "code",
   "execution_count": 52,
   "metadata": {},
   "outputs": [],
   "source": [
    "df_cards = df_cards.withColumn('timestamp_cards', col)"
   ]
  },
  {
   "cell_type": "code",
   "execution_count": 53,
   "metadata": {},
   "outputs": [],
   "source": [
    "df_cards = df_cards.drop('transaction_date', 'transaction_time', 'timestamp_tmp')"
   ]
  },
  {
   "cell_type": "code",
   "execution_count": 54,
   "metadata": {},
   "outputs": [],
   "source": [
    "df_cards = df_cards.orderBy('store_number', 'terminal_number', 'timestamp_cards')"
   ]
  },
  {
   "cell_type": "code",
   "execution_count": 55,
   "metadata": {},
   "outputs": [
    {
     "name": "stdout",
     "output_type": "stream",
     "text": [
      "+------------+---------------+------------------+--------------------+-------------------+\n",
      "|store_number|terminal_number|transaction_amount|           pan_token|    timestamp_cards|\n",
      "+------------+---------------+------------------+--------------------+-------------------+\n",
      "|         102|              1|              5.08|CC2919271D518CE2B...|2017-09-01 00:01:00|\n",
      "|         102|              1|              7.78|9DCFC4FE00D7565E7...|2017-09-01 00:02:00|\n",
      "|         102|              1|              4.27|CA03E173868FFB0F5...|2017-09-01 00:08:00|\n",
      "|         102|              1|              2.98|F8FD3E6E72ECDF9D6...|2017-09-01 00:08:00|\n",
      "|         102|              1|              5.86|D34051D8DACF1DFB6...|2017-09-01 00:11:00|\n",
      "|         102|              1|              4.48|820B52BFA23284825...|2017-09-01 00:11:00|\n",
      "|         102|              1|              3.97|1F3A3D6A9B05A6DCD...|2017-09-01 00:12:00|\n",
      "|         102|              1|              2.98|2742D137D0DDA803F...|2017-09-01 00:16:00|\n",
      "|         102|              1|              3.47|B1E84F9E076CD4A57...|2017-09-01 00:16:00|\n",
      "|         102|              1|              7.48|B988574403B5ED640...|2017-09-01 00:29:00|\n",
      "|         102|              1|              3.99|78008944A1901BE0C...|2017-09-01 00:34:00|\n",
      "|         102|              1|              4.47|B5A15BC05FA5D736D...|2017-09-01 00:36:00|\n",
      "|         102|              1|              5.16|887CAF0FE07EE937D...|2017-09-01 00:45:00|\n",
      "|         102|              1|              5.69|6AE5D2C64F9558DC8...|2017-09-01 00:52:00|\n",
      "|         102|              1|             11.85|4F1B4EC90FAD9AD1B...|2017-09-01 00:59:00|\n",
      "|         102|              1|              3.99|85ADD1A67D2629751...|2017-09-01 01:01:00|\n",
      "|         102|              1|              4.88|DBFFCF186DDF8E8E8...|2017-09-01 01:02:00|\n",
      "|         102|              1|             16.04|480EC4A4B4EE56F82...|2017-09-01 01:04:00|\n",
      "|         102|              1|              4.37|0215BE605618FB588...|2017-09-01 01:06:00|\n",
      "|         102|              1|              3.48|48205A37CD0AF501F...|2017-09-01 01:10:00|\n",
      "+------------+---------------+------------------+--------------------+-------------------+\n",
      "only showing top 20 rows\n",
      "\n"
     ]
    }
   ],
   "source": [
    "df_cards.show(20)"
   ]
  },
  {
   "cell_type": "markdown",
   "metadata": {},
   "source": [
    "# 7.- Remove unnecessary data from memory"
   ]
  },
  {
   "cell_type": "code",
   "execution_count": 56,
   "metadata": {},
   "outputs": [
    {
     "data": {
      "text/plain": [
       "DataFrame[store_number: int, terminal_number: int, transaction_date: string, transaction_time: int, transaction_amount: float, card_scheme: string, pan_token: string, empty_field: int]"
      ]
     },
     "execution_count": 56,
     "metadata": {},
     "output_type": "execute_result"
    }
   ],
   "source": [
    "df_Sep2017T.unpersist()"
   ]
  },
  {
   "cell_type": "markdown",
   "metadata": {},
   "source": [
    "# 8.- Linkage"
   ]
  },
  {
   "cell_type": "markdown",
   "metadata": {},
   "source": [
    "## 8.1.- Compute aggregated basket with sale total plus VAT"
   ]
  },
  {
   "cell_type": "code",
   "execution_count": 57,
   "metadata": {},
   "outputs": [],
   "source": [
    "df_basket_cashless_aggregated = df_basket_cashless.groupBy(\"store_number\", \"timestamp_basket\", \"pos_code\", \\\n",
    "                                                           \"pos_id\", \"channel\").agg(sum(\"total_cost\").\\\n",
    "                                                            alias(\"total_cost\")). \\\n",
    "                                                            orderBy(\"store_number\", \"pos_code\", \"pos_id\", \\\n",
    "                                                                                 \"timestamp_basket\")"
   ]
  },
  {
   "cell_type": "code",
   "execution_count": 58,
   "metadata": {},
   "outputs": [
    {
     "name": "stdout",
     "output_type": "stream",
     "text": [
      "+------------+-------------------+--------+-----------------+-------------+------------------+\n",
      "|store_number|   timestamp_basket|pos_code|           pos_id|      channel|        total_cost|\n",
      "+------------+-------------------+--------+-----------------+-------------+------------------+\n",
      "|         102|2017-09-01 00:00:51|       1|POS0001:216437503|FRONT COUNTER| 4.239999949932098|\n",
      "|         102|2017-09-01 00:01:40|       1|POS0001:216437504|FRONT COUNTER|  5.68999981880188|\n",
      "|         102|2017-09-01 00:07:28|       1|POS0001:216437511|FRONT COUNTER|2.4800000190734863|\n",
      "|         102|2017-09-01 00:08:34|       1|POS0001:216437512|FRONT COUNTER| 3.559999942779541|\n",
      "|         102|2017-09-01 00:10:50|       1|POS0001:216437513|FRONT COUNTER| 4.889999985694885|\n",
      "|         102|2017-09-01 00:11:14|       1|POS0001:216437514|FRONT COUNTER|3.7399999499320984|\n",
      "|         102|2017-09-01 00:12:16|       1|POS0001:216437516|FRONT COUNTER|3.3199999928474426|\n",
      "|         102|2017-09-01 00:14:50|       1|POS0001:216437517|FRONT COUNTER| 2.899999976158142|\n",
      "|         102|2017-09-01 00:16:23|       1|POS0001:216437518|FRONT COUNTER|2.4800000190734863|\n",
      "|         102|2017-09-01 00:29:23|       1|POS0001:216437526|FRONT COUNTER| 6.240000069141388|\n",
      "|         102|2017-09-01 00:34:19|       1|POS0001:216437527|FRONT COUNTER|3.3299999237060547|\n",
      "|         102|2017-09-01 00:36:16|       1|POS0001:216437530|FRONT COUNTER|3.7200000286102295|\n",
      "|         102|2017-09-01 00:44:44|       1|POS0001:216437534|FRONT COUNTER| 4.300000071525574|\n",
      "|         102|2017-09-01 00:52:39|       1|POS0001:216437538|FRONT COUNTER| 4.750000059604645|\n",
      "|         102|2017-09-01 00:58:46|       1|POS0001:216437541|FRONT COUNTER| 9.189999878406525|\n",
      "|         102|2017-09-01 01:01:27|       1|POS0001:216437544|FRONT COUNTER|3.3299999237060547|\n",
      "|         102|2017-09-01 01:02:22|       1|POS0001:216437545|FRONT COUNTER| 4.070000112056732|\n",
      "|         102|2017-09-01 01:03:44|       1|POS0001:216437547|FRONT COUNTER|13.380000174045563|\n",
      "|         102|2017-09-01 01:05:56|       1|POS0001:216437550|FRONT COUNTER|3.6399999856948853|\n",
      "|         102|2017-09-01 01:09:48|       1|POS0001:216437555|FRONT COUNTER| 2.899999976158142|\n",
      "+------------+-------------------+--------+-----------------+-------------+------------------+\n",
      "only showing top 20 rows\n",
      "\n"
     ]
    }
   ],
   "source": [
    "df_basket_cashless_aggregated.show(20)"
   ]
  },
  {
   "cell_type": "code",
   "execution_count": 59,
   "metadata": {},
   "outputs": [],
   "source": [
    "from pyspark.sql.functions import col\n",
    "df_basket_cashless_aggregated = df_basket_cashless_aggregated.withColumn('sale_total', col('total_cost')*1.2)"
   ]
  },
  {
   "cell_type": "code",
   "execution_count": 60,
   "metadata": {},
   "outputs": [],
   "source": [
    "df_basket_cashless_aggregated = df_basket_cashless_aggregated.\\\n",
    "                                withColumn(\"total_cost\", round(df_basket_cashless_aggregated[\"total_cost\"], 2))"
   ]
  },
  {
   "cell_type": "code",
   "execution_count": 61,
   "metadata": {},
   "outputs": [],
   "source": [
    "df_basket_cashless_aggregated = df_basket_cashless_aggregated.\\\n",
    "                                withColumn(\"sale_total\", round(df_basket_cashless_aggregated['sale_total'], 2))"
   ]
  },
  {
   "cell_type": "code",
   "execution_count": 62,
   "metadata": {},
   "outputs": [
    {
     "name": "stdout",
     "output_type": "stream",
     "text": [
      "+------------+-------------------+--------+-----------------+-------------+----------+----------+\n",
      "|store_number|   timestamp_basket|pos_code|           pos_id|      channel|total_cost|sale_total|\n",
      "+------------+-------------------+--------+-----------------+-------------+----------+----------+\n",
      "|         102|2017-09-01 00:00:51|       1|POS0001:216437503|FRONT COUNTER|      4.24|      5.09|\n",
      "|         102|2017-09-01 00:01:40|       1|POS0001:216437504|FRONT COUNTER|      5.69|      6.83|\n",
      "|         102|2017-09-01 00:07:28|       1|POS0001:216437511|FRONT COUNTER|      2.48|      2.98|\n",
      "|         102|2017-09-01 00:08:34|       1|POS0001:216437512|FRONT COUNTER|      3.56|      4.27|\n",
      "|         102|2017-09-01 00:10:50|       1|POS0001:216437513|FRONT COUNTER|      4.89|      5.87|\n",
      "|         102|2017-09-01 00:11:14|       1|POS0001:216437514|FRONT COUNTER|      3.74|      4.49|\n",
      "|         102|2017-09-01 00:12:16|       1|POS0001:216437516|FRONT COUNTER|      3.32|      3.98|\n",
      "|         102|2017-09-01 00:14:50|       1|POS0001:216437517|FRONT COUNTER|       2.9|      3.48|\n",
      "|         102|2017-09-01 00:16:23|       1|POS0001:216437518|FRONT COUNTER|      2.48|      2.98|\n",
      "|         102|2017-09-01 00:29:23|       1|POS0001:216437526|FRONT COUNTER|      6.24|      7.49|\n",
      "|         102|2017-09-01 00:34:19|       1|POS0001:216437527|FRONT COUNTER|      3.33|       4.0|\n",
      "|         102|2017-09-01 00:36:16|       1|POS0001:216437530|FRONT COUNTER|      3.72|      4.46|\n",
      "|         102|2017-09-01 00:44:44|       1|POS0001:216437534|FRONT COUNTER|       4.3|      5.16|\n",
      "|         102|2017-09-01 00:52:39|       1|POS0001:216437538|FRONT COUNTER|      4.75|       5.7|\n",
      "|         102|2017-09-01 00:58:46|       1|POS0001:216437541|FRONT COUNTER|      9.19|     11.03|\n",
      "|         102|2017-09-01 01:01:27|       1|POS0001:216437544|FRONT COUNTER|      3.33|       4.0|\n",
      "|         102|2017-09-01 01:02:22|       1|POS0001:216437545|FRONT COUNTER|      4.07|      4.88|\n",
      "|         102|2017-09-01 01:03:44|       1|POS0001:216437547|FRONT COUNTER|     13.38|     16.06|\n",
      "|         102|2017-09-01 01:05:56|       1|POS0001:216437550|FRONT COUNTER|      3.64|      4.37|\n",
      "|         102|2017-09-01 01:09:48|       1|POS0001:216437555|FRONT COUNTER|       2.9|      3.48|\n",
      "+------------+-------------------+--------+-----------------+-------------+----------+----------+\n",
      "only showing top 20 rows\n",
      "\n"
     ]
    }
   ],
   "source": [
    "df_basket_cashless_aggregated.show(20)"
   ]
  },
  {
   "cell_type": "code",
   "execution_count": 63,
   "metadata": {},
   "outputs": [],
   "source": [
    "df_basket_cashless_aggregated = df_basket_cashless_aggregated.select(\"store_number\", \"timestamp_basket\", \\\n",
    "                                                           \"pos_code\", \"pos_id\", \"channel\", \"sale_total\")"
   ]
  },
  {
   "cell_type": "code",
   "execution_count": 64,
   "metadata": {},
   "outputs": [
    {
     "name": "stdout",
     "output_type": "stream",
     "text": [
      "+------------+-------------------+--------+-----------------+-------------+----------+\n",
      "|store_number|   timestamp_basket|pos_code|           pos_id|      channel|sale_total|\n",
      "+------------+-------------------+--------+-----------------+-------------+----------+\n",
      "|         102|2017-09-01 00:00:51|       1|POS0001:216437503|FRONT COUNTER|      5.09|\n",
      "|         102|2017-09-01 00:01:40|       1|POS0001:216437504|FRONT COUNTER|      6.83|\n",
      "|         102|2017-09-01 00:07:28|       1|POS0001:216437511|FRONT COUNTER|      2.98|\n",
      "|         102|2017-09-01 00:08:34|       1|POS0001:216437512|FRONT COUNTER|      4.27|\n",
      "|         102|2017-09-01 00:10:50|       1|POS0001:216437513|FRONT COUNTER|      5.87|\n",
      "|         102|2017-09-01 00:11:14|       1|POS0001:216437514|FRONT COUNTER|      4.49|\n",
      "|         102|2017-09-01 00:12:16|       1|POS0001:216437516|FRONT COUNTER|      3.98|\n",
      "|         102|2017-09-01 00:14:50|       1|POS0001:216437517|FRONT COUNTER|      3.48|\n",
      "|         102|2017-09-01 00:16:23|       1|POS0001:216437518|FRONT COUNTER|      2.98|\n",
      "|         102|2017-09-01 00:29:23|       1|POS0001:216437526|FRONT COUNTER|      7.49|\n",
      "|         102|2017-09-01 00:34:19|       1|POS0001:216437527|FRONT COUNTER|       4.0|\n",
      "|         102|2017-09-01 00:36:16|       1|POS0001:216437530|FRONT COUNTER|      4.46|\n",
      "|         102|2017-09-01 00:44:44|       1|POS0001:216437534|FRONT COUNTER|      5.16|\n",
      "|         102|2017-09-01 00:52:39|       1|POS0001:216437538|FRONT COUNTER|       5.7|\n",
      "|         102|2017-09-01 00:58:46|       1|POS0001:216437541|FRONT COUNTER|     11.03|\n",
      "|         102|2017-09-01 01:01:27|       1|POS0001:216437544|FRONT COUNTER|       4.0|\n",
      "|         102|2017-09-01 01:02:22|       1|POS0001:216437545|FRONT COUNTER|      4.88|\n",
      "|         102|2017-09-01 01:03:44|       1|POS0001:216437547|FRONT COUNTER|     16.06|\n",
      "|         102|2017-09-01 01:05:56|       1|POS0001:216437550|FRONT COUNTER|      4.37|\n",
      "|         102|2017-09-01 01:09:48|       1|POS0001:216437555|FRONT COUNTER|      3.48|\n",
      "+------------+-------------------+--------+-----------------+-------------+----------+\n",
      "only showing top 20 rows\n",
      "\n"
     ]
    }
   ],
   "source": [
    "df_basket_cashless_aggregated.show(20)"
   ]
  },
  {
   "cell_type": "code",
   "execution_count": 65,
   "metadata": {},
   "outputs": [
    {
     "data": {
      "text/plain": [
       "178274"
      ]
     },
     "execution_count": 65,
     "metadata": {},
     "output_type": "execute_result"
    }
   ],
   "source": [
    "df_basket_cashless_aggregated.count()"
   ]
  },
  {
   "cell_type": "markdown",
   "metadata": {},
   "source": [
    "## 8.2.- Adds a column with row number to aggregated basket data"
   ]
  },
  {
   "cell_type": "code",
   "execution_count": 66,
   "metadata": {},
   "outputs": [],
   "source": [
    "df_basket_cashless_aggregated = df_basket_cashless_aggregated.withColumn(\"row_num\", row_number().\\\n",
    "                                                                         over(Window.orderBy(\"store_number\", \\\n",
    "                                                                                 \"pos_code\", \"pos_id\", \\\n",
    "                                                                                 \"timestamp_basket\")))"
   ]
  },
  {
   "cell_type": "code",
   "execution_count": 67,
   "metadata": {},
   "outputs": [
    {
     "name": "stdout",
     "output_type": "stream",
     "text": [
      "+------------+-------------------+--------+-----------------+-------------+----------+-------+\n",
      "|store_number|   timestamp_basket|pos_code|           pos_id|      channel|sale_total|row_num|\n",
      "+------------+-------------------+--------+-----------------+-------------+----------+-------+\n",
      "|         102|2017-09-01 00:00:51|       1|POS0001:216437503|FRONT COUNTER|      5.09|      1|\n",
      "|         102|2017-09-01 00:01:40|       1|POS0001:216437504|FRONT COUNTER|      6.83|      2|\n",
      "|         102|2017-09-01 00:07:28|       1|POS0001:216437511|FRONT COUNTER|      2.98|      3|\n",
      "|         102|2017-09-01 00:08:34|       1|POS0001:216437512|FRONT COUNTER|      4.27|      4|\n",
      "|         102|2017-09-01 00:10:50|       1|POS0001:216437513|FRONT COUNTER|      5.87|      5|\n",
      "|         102|2017-09-01 00:11:14|       1|POS0001:216437514|FRONT COUNTER|      4.49|      6|\n",
      "|         102|2017-09-01 00:12:16|       1|POS0001:216437516|FRONT COUNTER|      3.98|      7|\n",
      "|         102|2017-09-01 00:14:50|       1|POS0001:216437517|FRONT COUNTER|      3.48|      8|\n",
      "|         102|2017-09-01 00:16:23|       1|POS0001:216437518|FRONT COUNTER|      2.98|      9|\n",
      "|         102|2017-09-01 00:29:23|       1|POS0001:216437526|FRONT COUNTER|      7.49|     10|\n",
      "|         102|2017-09-01 00:34:19|       1|POS0001:216437527|FRONT COUNTER|       4.0|     11|\n",
      "|         102|2017-09-01 00:36:16|       1|POS0001:216437530|FRONT COUNTER|      4.46|     12|\n",
      "|         102|2017-09-01 00:44:44|       1|POS0001:216437534|FRONT COUNTER|      5.16|     13|\n",
      "|         102|2017-09-01 00:52:39|       1|POS0001:216437538|FRONT COUNTER|       5.7|     14|\n",
      "|         102|2017-09-01 00:58:46|       1|POS0001:216437541|FRONT COUNTER|     11.03|     15|\n",
      "|         102|2017-09-01 01:01:27|       1|POS0001:216437544|FRONT COUNTER|       4.0|     16|\n",
      "|         102|2017-09-01 01:02:22|       1|POS0001:216437545|FRONT COUNTER|      4.88|     17|\n",
      "|         102|2017-09-01 01:03:44|       1|POS0001:216437547|FRONT COUNTER|     16.06|     18|\n",
      "|         102|2017-09-01 01:05:56|       1|POS0001:216437550|FRONT COUNTER|      4.37|     19|\n",
      "|         102|2017-09-01 01:09:48|       1|POS0001:216437555|FRONT COUNTER|      3.48|     20|\n",
      "+------------+-------------------+--------+-----------------+-------------+----------+-------+\n",
      "only showing top 20 rows\n",
      "\n"
     ]
    }
   ],
   "source": [
    "df_basket_cashless_aggregated.show(20)"
   ]
  },
  {
   "cell_type": "markdown",
   "metadata": {},
   "source": [
    "## 8.3.- Adds a column with next basket timestamp to aggregated basket data"
   ]
  },
  {
   "cell_type": "code",
   "execution_count": 68,
   "metadata": {},
   "outputs": [],
   "source": [
    "w = Window().partitionBy().orderBy(col(\"row_num\"))\n",
    "df_basket_cashless_aggregated = df_basket_cashless_aggregated.select(\"*\", lead(\"timestamp_basket\"). \\\n",
    "                                                                     over(w).alias(\"next_timestamp\")). \\\n",
    "                                                                     orderBy(\"store_number\", \\\n",
    "                                                                             \"pos_code\", \"pos_id\", \\\n",
    "                                                                             \"timestamp_basket\")"
   ]
  },
  {
   "cell_type": "code",
   "execution_count": 69,
   "metadata": {},
   "outputs": [
    {
     "name": "stdout",
     "output_type": "stream",
     "text": [
      "+------------+-------------------+--------+-----------------+-------------+----------+-------+-------------------+\n",
      "|store_number|   timestamp_basket|pos_code|           pos_id|      channel|sale_total|row_num|     next_timestamp|\n",
      "+------------+-------------------+--------+-----------------+-------------+----------+-------+-------------------+\n",
      "|         102|2017-09-01 00:00:51|       1|POS0001:216437503|FRONT COUNTER|      5.09|      1|2017-09-01 00:01:40|\n",
      "|         102|2017-09-01 00:01:40|       1|POS0001:216437504|FRONT COUNTER|      6.83|      2|2017-09-01 00:07:28|\n",
      "|         102|2017-09-01 00:07:28|       1|POS0001:216437511|FRONT COUNTER|      2.98|      3|2017-09-01 00:08:34|\n",
      "|         102|2017-09-01 00:08:34|       1|POS0001:216437512|FRONT COUNTER|      4.27|      4|2017-09-01 00:10:50|\n",
      "|         102|2017-09-01 00:10:50|       1|POS0001:216437513|FRONT COUNTER|      5.87|      5|2017-09-01 00:11:14|\n",
      "|         102|2017-09-01 00:11:14|       1|POS0001:216437514|FRONT COUNTER|      4.49|      6|2017-09-01 00:12:16|\n",
      "|         102|2017-09-01 00:12:16|       1|POS0001:216437516|FRONT COUNTER|      3.98|      7|2017-09-01 00:14:50|\n",
      "|         102|2017-09-01 00:14:50|       1|POS0001:216437517|FRONT COUNTER|      3.48|      8|2017-09-01 00:16:23|\n",
      "|         102|2017-09-01 00:16:23|       1|POS0001:216437518|FRONT COUNTER|      2.98|      9|2017-09-01 00:29:23|\n",
      "|         102|2017-09-01 00:29:23|       1|POS0001:216437526|FRONT COUNTER|      7.49|     10|2017-09-01 00:34:19|\n",
      "|         102|2017-09-01 00:34:19|       1|POS0001:216437527|FRONT COUNTER|       4.0|     11|2017-09-01 00:36:16|\n",
      "|         102|2017-09-01 00:36:16|       1|POS0001:216437530|FRONT COUNTER|      4.46|     12|2017-09-01 00:44:44|\n",
      "|         102|2017-09-01 00:44:44|       1|POS0001:216437534|FRONT COUNTER|      5.16|     13|2017-09-01 00:52:39|\n",
      "|         102|2017-09-01 00:52:39|       1|POS0001:216437538|FRONT COUNTER|       5.7|     14|2017-09-01 00:58:46|\n",
      "|         102|2017-09-01 00:58:46|       1|POS0001:216437541|FRONT COUNTER|     11.03|     15|2017-09-01 01:01:27|\n",
      "|         102|2017-09-01 01:01:27|       1|POS0001:216437544|FRONT COUNTER|       4.0|     16|2017-09-01 01:02:22|\n",
      "|         102|2017-09-01 01:02:22|       1|POS0001:216437545|FRONT COUNTER|      4.88|     17|2017-09-01 01:03:44|\n",
      "|         102|2017-09-01 01:03:44|       1|POS0001:216437547|FRONT COUNTER|     16.06|     18|2017-09-01 01:05:56|\n",
      "|         102|2017-09-01 01:05:56|       1|POS0001:216437550|FRONT COUNTER|      4.37|     19|2017-09-01 01:09:48|\n",
      "|         102|2017-09-01 01:09:48|       1|POS0001:216437555|FRONT COUNTER|      3.48|     20|2017-09-01 01:14:34|\n",
      "+------------+-------------------+--------+-----------------+-------------+----------+-------+-------------------+\n",
      "only showing top 20 rows\n",
      "\n"
     ]
    }
   ],
   "source": [
    "df_basket_cashless_aggregated.show()"
   ]
  },
  {
   "cell_type": "markdown",
   "metadata": {},
   "source": [
    "### 8.3.1- Filter out last row of aggregated basket dataframe"
   ]
  },
  {
   "cell_type": "code",
   "execution_count": 70,
   "metadata": {},
   "outputs": [
    {
     "data": {
      "text/plain": [
       "178274"
      ]
     },
     "execution_count": 70,
     "metadata": {},
     "output_type": "execute_result"
    }
   ],
   "source": [
    "df_basket_cashless_aggregated.count()"
   ]
  },
  {
   "cell_type": "code",
   "execution_count": 71,
   "metadata": {},
   "outputs": [],
   "source": [
    "df_basket_cashless_aggregated = df_basket_cashless_aggregated.filter(col('row_num') != 178274) "
   ]
  },
  {
   "cell_type": "code",
   "execution_count": 72,
   "metadata": {},
   "outputs": [
    {
     "data": {
      "text/plain": [
       "178273"
      ]
     },
     "execution_count": 72,
     "metadata": {},
     "output_type": "execute_result"
    }
   ],
   "source": [
    "df_basket_cashless_aggregated.count()"
   ]
  },
  {
   "cell_type": "markdown",
   "metadata": {},
   "source": [
    "## 8.3.- Join aggregated basket with card data "
   ]
  },
  {
   "cell_type": "code",
   "execution_count": 73,
   "metadata": {},
   "outputs": [],
   "source": [
    "df_basket_cashless_aggregated.registerTempTable('basket_aggregated')\n",
    "df_cards.registerTempTable('cards')"
   ]
  },
  {
   "cell_type": "code",
   "execution_count": 77,
   "metadata": {},
   "outputs": [],
   "source": [
    "df_joined_basket0 = sqlContext.sql(\"SELECT basket_aggregated.store_number, basket_aggregated.pos_code, \\\n",
    "                             basket_aggregated.pos_id, basket_aggregated.channel, basket_aggregated.sale_total, \\\n",
    "                             cards.transaction_amount, cards.pan_token, basket_aggregated.timestamp_basket, \\\n",
    "                             cards.timestamp_cards, basket_aggregated.next_timestamp \\\n",
    "                             FROM basket_aggregated \\\n",
    "                             JOIN cards ON \\\n",
    "                             (basket_aggregated.store_number = cards.store_number AND \\\n",
    "                             basket_aggregated.pos_code = cards.terminal_number) AND \\\n",
    "                             ((basket_aggregated.timestamp_basket < cards.timestamp_cards AND \\\n",
    "                             basket_aggregated.next_timestamp > cards.timestamp_cards) AND \\\n",
    "                             (basket_aggregated.sale_total < 1.3*cards.transaction_amount OR \\\n",
    "                             basket_aggregated.sale_total > 0.7*cards.transaction_amount)) \\\n",
    "                             ORDER BY basket_aggregated.store_number,  basket_aggregated.pos_code, \\\n",
    "                             basket_aggregated.pos_id, basket_aggregated.timestamp_basket\")"
   ]
  },
  {
   "cell_type": "code",
   "execution_count": 78,
   "metadata": {},
   "outputs": [
    {
     "ename": "KeyboardInterrupt",
     "evalue": "",
     "output_type": "error",
     "traceback": [
      "\u001b[0;31m---------------------------------------------------------------------------\u001b[0m",
      "\u001b[0;31mKeyboardInterrupt\u001b[0m                         Traceback (most recent call last)",
      "\u001b[0;32m<ipython-input-78-f2ad89b439ea>\u001b[0m in \u001b[0;36m<module>\u001b[0;34m()\u001b[0m\n\u001b[0;32m----> 1\u001b[0;31m \u001b[0mdf_joined_basket0\u001b[0m\u001b[0;34m.\u001b[0m\u001b[0mshow\u001b[0m\u001b[0;34m(\u001b[0m\u001b[0;36m100\u001b[0m\u001b[0;34m)\u001b[0m\u001b[0;34m\u001b[0m\u001b[0m\n\u001b[0m",
      "\u001b[0;32m/spark/python/pyspark/sql/dataframe.py\u001b[0m in \u001b[0;36mshow\u001b[0;34m(self, n, truncate, vertical)\u001b[0m\n\u001b[1;32m    348\u001b[0m         \"\"\"\n\u001b[1;32m    349\u001b[0m         \u001b[0;32mif\u001b[0m \u001b[0misinstance\u001b[0m\u001b[0;34m(\u001b[0m\u001b[0mtruncate\u001b[0m\u001b[0;34m,\u001b[0m \u001b[0mbool\u001b[0m\u001b[0;34m)\u001b[0m \u001b[0;32mand\u001b[0m \u001b[0mtruncate\u001b[0m\u001b[0;34m:\u001b[0m\u001b[0;34m\u001b[0m\u001b[0m\n\u001b[0;32m--> 350\u001b[0;31m             \u001b[0mprint\u001b[0m\u001b[0;34m(\u001b[0m\u001b[0mself\u001b[0m\u001b[0;34m.\u001b[0m\u001b[0m_jdf\u001b[0m\u001b[0;34m.\u001b[0m\u001b[0mshowString\u001b[0m\u001b[0;34m(\u001b[0m\u001b[0mn\u001b[0m\u001b[0;34m,\u001b[0m \u001b[0;36m20\u001b[0m\u001b[0;34m,\u001b[0m \u001b[0mvertical\u001b[0m\u001b[0;34m)\u001b[0m\u001b[0;34m)\u001b[0m\u001b[0;34m\u001b[0m\u001b[0m\n\u001b[0m\u001b[1;32m    351\u001b[0m         \u001b[0;32melse\u001b[0m\u001b[0;34m:\u001b[0m\u001b[0;34m\u001b[0m\u001b[0m\n\u001b[1;32m    352\u001b[0m             \u001b[0mprint\u001b[0m\u001b[0;34m(\u001b[0m\u001b[0mself\u001b[0m\u001b[0;34m.\u001b[0m\u001b[0m_jdf\u001b[0m\u001b[0;34m.\u001b[0m\u001b[0mshowString\u001b[0m\u001b[0;34m(\u001b[0m\u001b[0mn\u001b[0m\u001b[0;34m,\u001b[0m \u001b[0mint\u001b[0m\u001b[0;34m(\u001b[0m\u001b[0mtruncate\u001b[0m\u001b[0;34m)\u001b[0m\u001b[0;34m,\u001b[0m \u001b[0mvertical\u001b[0m\u001b[0;34m)\u001b[0m\u001b[0;34m)\u001b[0m\u001b[0;34m\u001b[0m\u001b[0m\n",
      "\u001b[0;32m/spark/python/lib/py4j-0.10.6-src.zip/py4j/java_gateway.py\u001b[0m in \u001b[0;36m__call__\u001b[0;34m(self, *args)\u001b[0m\n\u001b[1;32m   1156\u001b[0m             \u001b[0mproto\u001b[0m\u001b[0;34m.\u001b[0m\u001b[0mEND_COMMAND_PART\u001b[0m\u001b[0;34m\u001b[0m\u001b[0m\n\u001b[1;32m   1157\u001b[0m \u001b[0;34m\u001b[0m\u001b[0m\n\u001b[0;32m-> 1158\u001b[0;31m         \u001b[0manswer\u001b[0m \u001b[0;34m=\u001b[0m \u001b[0mself\u001b[0m\u001b[0;34m.\u001b[0m\u001b[0mgateway_client\u001b[0m\u001b[0;34m.\u001b[0m\u001b[0msend_command\u001b[0m\u001b[0;34m(\u001b[0m\u001b[0mcommand\u001b[0m\u001b[0;34m)\u001b[0m\u001b[0;34m\u001b[0m\u001b[0m\n\u001b[0m\u001b[1;32m   1159\u001b[0m         return_value = get_return_value(\n\u001b[1;32m   1160\u001b[0m             answer, self.gateway_client, self.target_id, self.name)\n",
      "\u001b[0;32m/spark/python/lib/py4j-0.10.6-src.zip/py4j/java_gateway.py\u001b[0m in \u001b[0;36msend_command\u001b[0;34m(self, command, retry, binary)\u001b[0m\n\u001b[1;32m    906\u001b[0m         \u001b[0mconnection\u001b[0m \u001b[0;34m=\u001b[0m \u001b[0mself\u001b[0m\u001b[0;34m.\u001b[0m\u001b[0m_get_connection\u001b[0m\u001b[0;34m(\u001b[0m\u001b[0;34m)\u001b[0m\u001b[0;34m\u001b[0m\u001b[0m\n\u001b[1;32m    907\u001b[0m         \u001b[0;32mtry\u001b[0m\u001b[0;34m:\u001b[0m\u001b[0;34m\u001b[0m\u001b[0m\n\u001b[0;32m--> 908\u001b[0;31m             \u001b[0mresponse\u001b[0m \u001b[0;34m=\u001b[0m \u001b[0mconnection\u001b[0m\u001b[0;34m.\u001b[0m\u001b[0msend_command\u001b[0m\u001b[0;34m(\u001b[0m\u001b[0mcommand\u001b[0m\u001b[0;34m)\u001b[0m\u001b[0;34m\u001b[0m\u001b[0m\n\u001b[0m\u001b[1;32m    909\u001b[0m             \u001b[0;32mif\u001b[0m \u001b[0mbinary\u001b[0m\u001b[0;34m:\u001b[0m\u001b[0;34m\u001b[0m\u001b[0m\n\u001b[1;32m    910\u001b[0m                 \u001b[0;32mreturn\u001b[0m \u001b[0mresponse\u001b[0m\u001b[0;34m,\u001b[0m \u001b[0mself\u001b[0m\u001b[0;34m.\u001b[0m\u001b[0m_create_connection_guard\u001b[0m\u001b[0;34m(\u001b[0m\u001b[0mconnection\u001b[0m\u001b[0;34m)\u001b[0m\u001b[0;34m\u001b[0m\u001b[0m\n",
      "\u001b[0;32m/spark/python/lib/py4j-0.10.6-src.zip/py4j/java_gateway.py\u001b[0m in \u001b[0;36msend_command\u001b[0;34m(self, command)\u001b[0m\n\u001b[1;32m   1053\u001b[0m \u001b[0;34m\u001b[0m\u001b[0m\n\u001b[1;32m   1054\u001b[0m         \u001b[0;32mtry\u001b[0m\u001b[0;34m:\u001b[0m\u001b[0;34m\u001b[0m\u001b[0m\n\u001b[0;32m-> 1055\u001b[0;31m             \u001b[0manswer\u001b[0m \u001b[0;34m=\u001b[0m \u001b[0msmart_decode\u001b[0m\u001b[0;34m(\u001b[0m\u001b[0mself\u001b[0m\u001b[0;34m.\u001b[0m\u001b[0mstream\u001b[0m\u001b[0;34m.\u001b[0m\u001b[0mreadline\u001b[0m\u001b[0;34m(\u001b[0m\u001b[0;34m)\u001b[0m\u001b[0;34m[\u001b[0m\u001b[0;34m:\u001b[0m\u001b[0;34m-\u001b[0m\u001b[0;36m1\u001b[0m\u001b[0;34m]\u001b[0m\u001b[0;34m)\u001b[0m\u001b[0;34m\u001b[0m\u001b[0m\n\u001b[0m\u001b[1;32m   1056\u001b[0m             \u001b[0mlogger\u001b[0m\u001b[0;34m.\u001b[0m\u001b[0mdebug\u001b[0m\u001b[0;34m(\u001b[0m\u001b[0;34m\"Answer received: {0}\"\u001b[0m\u001b[0;34m.\u001b[0m\u001b[0mformat\u001b[0m\u001b[0;34m(\u001b[0m\u001b[0manswer\u001b[0m\u001b[0;34m)\u001b[0m\u001b[0;34m)\u001b[0m\u001b[0;34m\u001b[0m\u001b[0m\n\u001b[1;32m   1057\u001b[0m             \u001b[0;32mif\u001b[0m \u001b[0manswer\u001b[0m\u001b[0;34m.\u001b[0m\u001b[0mstartswith\u001b[0m\u001b[0;34m(\u001b[0m\u001b[0mproto\u001b[0m\u001b[0;34m.\u001b[0m\u001b[0mRETURN_MESSAGE\u001b[0m\u001b[0;34m)\u001b[0m\u001b[0;34m:\u001b[0m\u001b[0;34m\u001b[0m\u001b[0m\n",
      "\u001b[0;32m/usr/lib/python3.5/socket.py\u001b[0m in \u001b[0;36mreadinto\u001b[0;34m(self, b)\u001b[0m\n\u001b[1;32m    573\u001b[0m         \u001b[0;32mwhile\u001b[0m \u001b[0;32mTrue\u001b[0m\u001b[0;34m:\u001b[0m\u001b[0;34m\u001b[0m\u001b[0m\n\u001b[1;32m    574\u001b[0m             \u001b[0;32mtry\u001b[0m\u001b[0;34m:\u001b[0m\u001b[0;34m\u001b[0m\u001b[0m\n\u001b[0;32m--> 575\u001b[0;31m                 \u001b[0;32mreturn\u001b[0m \u001b[0mself\u001b[0m\u001b[0;34m.\u001b[0m\u001b[0m_sock\u001b[0m\u001b[0;34m.\u001b[0m\u001b[0mrecv_into\u001b[0m\u001b[0;34m(\u001b[0m\u001b[0mb\u001b[0m\u001b[0;34m)\u001b[0m\u001b[0;34m\u001b[0m\u001b[0m\n\u001b[0m\u001b[1;32m    576\u001b[0m             \u001b[0;32mexcept\u001b[0m \u001b[0mtimeout\u001b[0m\u001b[0;34m:\u001b[0m\u001b[0;34m\u001b[0m\u001b[0m\n\u001b[1;32m    577\u001b[0m                 \u001b[0mself\u001b[0m\u001b[0;34m.\u001b[0m\u001b[0m_timeout_occurred\u001b[0m \u001b[0;34m=\u001b[0m \u001b[0;32mTrue\u001b[0m\u001b[0;34m\u001b[0m\u001b[0m\n",
      "\u001b[0;31mKeyboardInterrupt\u001b[0m: "
     ]
    }
   ],
   "source": [
    "df_joined_basket0.show(100)"
   ]
  },
  {
   "cell_type": "code",
   "execution_count": null,
   "metadata": {},
   "outputs": [],
   "source": [
    "df_joined_basket0.count()"
   ]
  },
  {
   "cell_type": "code",
   "execution_count": null,
   "metadata": {},
   "outputs": [],
   "source": [
    "df = df_joined_basket0.select('store_number', 'pos_id', 'timestamp_basket', 'timestamp_cards', 'next_timestamp', \\\n",
    "                             'sale_total', 'transaction_amount')"
   ]
  },
  {
   "cell_type": "code",
   "execution_count": null,
   "metadata": {},
   "outputs": [],
   "source": [
    "df.show()"
   ]
  },
  {
   "cell_type": "code",
   "execution_count": null,
   "metadata": {},
   "outputs": [],
   "source": [
    "df_joined_basket0.registerTempTable('joined_basket0')"
   ]
  },
  {
   "cell_type": "markdown",
   "metadata": {},
   "source": [
    "## 8.4.- Join total sale - basket data with card data "
   ]
  },
  {
   "cell_type": "code",
   "execution_count": null,
   "metadata": {},
   "outputs": [],
   "source": [
    "df_basket_cashless.registerTempTable('basket')"
   ]
  },
  {
   "cell_type": "code",
   "execution_count": null,
   "metadata": {},
   "outputs": [],
   "source": [
    "df_joined_basket1 = sqlContext.sql(\"SELECT basket.*, joined_basket0.transaction_amount, joined_basket0.pan_token, \\\n",
    "                             joined_basket0.timestamp_cards \\\n",
    "                             FROM basket \\\n",
    "                             LEFT JOIN joined_basket0 ON \\\n",
    "                             basket.store_number = joined_basket0.store_number AND \\\n",
    "                             basket.pos_id = joined_basket0.pos_id \\\n",
    "                             ORDER BY basket.store_number, basket.pos_code, basket.pos_id, \\\n",
    "                             basket.sale_number, basket.timestamp_basket\")"
   ]
  },
  {
   "cell_type": "code",
   "execution_count": null,
   "metadata": {},
   "outputs": [],
   "source": [
    "df_joined_basket1.show(100)"
   ]
  },
  {
   "cell_type": "code",
   "execution_count": null,
   "metadata": {},
   "outputs": [],
   "source": [
    "df_joined_basket1.count()"
   ]
  },
  {
   "cell_type": "markdown",
   "metadata": {},
   "source": [
    "## 9.4.- Save joined basket data to disk "
   ]
  },
  {
   "cell_type": "code",
   "execution_count": null,
   "metadata": {},
   "outputs": [],
   "source": [
    "df_joined_basket1.repartition(1).write.format('com.databricks.spark.csv').save('joined_basket_reading_v2.csv', header = 'true')"
   ]
  }
 ],
 "metadata": {
  "kernelspec": {
   "display_name": "Python 3",
   "language": "python",
   "name": "python3"
  },
  "language_info": {
   "codemirror_mode": {
    "name": "ipython",
    "version": 3
   },
   "file_extension": ".py",
   "mimetype": "text/x-python",
   "name": "python",
   "nbconvert_exporter": "python",
   "pygments_lexer": "ipython3",
   "version": "3.5.2"
  }
 },
 "nbformat": 4,
 "nbformat_minor": 1
}
