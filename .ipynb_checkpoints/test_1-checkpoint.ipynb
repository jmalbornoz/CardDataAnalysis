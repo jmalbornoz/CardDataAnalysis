{
 "cells": [
  {
   "cell_type": "markdown",
   "metadata": {},
   "source": [
    "# Filtering PySpark dataframes\n",
    "## March 2018\n",
    "### Dr Jose M Albornoz"
   ]
  },
  {
   "cell_type": "markdown",
   "metadata": {},
   "source": [
    "# 1.- Import necessary modules, define SQLContext"
   ]
  },
  {
   "cell_type": "code",
   "execution_count": 1,
   "metadata": {},
   "outputs": [],
   "source": [
    "# Import required modules\n",
    "from pyspark.context import SparkContext\n",
    "from pyspark.sql.context import SQLContext\n",
    "from pyspark.sql.functions import *\n",
    "from pyspark.sql.types import *\n",
    "from pyspark.sql.functions import unix_timestamp"
   ]
  },
  {
   "cell_type": "code",
   "execution_count": 2,
   "metadata": {},
   "outputs": [],
   "source": [
    "# Define SQLContext\n",
    "sqlContext = SQLContext(sc)"
   ]
  },
  {
   "cell_type": "markdown",
   "metadata": {},
   "source": [
    "# 2.- Generic function to load data from a csv file"
   ]
  },
  {
   "cell_type": "code",
   "execution_count": 3,
   "metadata": {},
   "outputs": [],
   "source": [
    "def load_data(filename, schema, columns = None):\n",
    "    df = sqlContext.read.format('com.databricks.spark.csv').option(\"delimiter\", \";\").options(header='false'). \\\n",
    "    load(filename, schema = schema)\n",
    "    if columns is None:\n",
    "        # If no columns are given, then select all\n",
    "        columns = schema.names\n",
    "    return df.select(columns)"
   ]
  },
  {
   "cell_type": "markdown",
   "metadata": {},
   "source": [
    "# 3.- Data schema"
   ]
  },
  {
   "cell_type": "code",
   "execution_count": 4,
   "metadata": {},
   "outputs": [],
   "source": [
    "schema = StructType([ \n",
    "    StructField('store_number', IntegerType(), True), \n",
    "    StructField('terminal_number', IntegerType(), True), \n",
    "    StructField('transaction_date', StringType(), True), \n",
    "    StructField('transaction_time', IntegerType(), True), \n",
    "    StructField('transaction_amount', IntegerType(), True),\n",
    "    StructField('card_scheme', StringType(), True),\n",
    "    StructField('pan_token', StringType(), True),\n",
    "    StructField('empty_field', IntegerType(), True)    \n",
    "])"
   ]
  },
  {
   "cell_type": "markdown",
   "metadata": {},
   "source": [
    "# 4.- Load data"
   ]
  },
  {
   "cell_type": "code",
   "execution_count": 5,
   "metadata": {},
   "outputs": [],
   "source": [
    "filename = 'McD_Card_Data/CT_201709_p1.csv'\n",
    "df_p1 = load_data(filename, schema)"
   ]
  },
  {
   "cell_type": "code",
   "execution_count": 6,
   "metadata": {},
   "outputs": [
    {
     "name": "stdout",
     "output_type": "stream",
     "text": [
      "+------------+---------------+----------------+----------------+------------------+-----------+--------------------+-----------+\n",
      "|store_number|terminal_number|transaction_date|transaction_time|transaction_amount|card_scheme|           pan_token|empty_field|\n",
      "+------------+---------------+----------------+----------------+------------------+-----------+--------------------+-----------+\n",
      "|         262|              3|      2017/09/01|               0|               437|          S|D08D751E07A1775D5...|       null|\n",
      "|         262|             24|      2017/09/01|               2|               319|          S|D943C4129260645C5...|       null|\n",
      "|         262|             23|      2017/09/01|               3|               396|          S|0F07B1D413871FD68...|       null|\n",
      "|         262|             22|      2017/09/01|               3|               579|          S|528D75D2EE6F72329...|       null|\n",
      "|         262|             21|      2017/09/01|               3|                99|          S|E9216F9D775D8540D...|       null|\n",
      "|         262|             25|      2017/09/01|               3|               357|          S|92A2AF4E5541C757F...|       null|\n",
      "|         262|             25|      2017/09/01|               5|               679|          S|11DC766877DB20AC5...|       null|\n",
      "|         262|             24|      2017/09/01|               6|               778|          S|C7B7AE3538B031AAD...|       null|\n",
      "|         262|             23|      2017/09/01|               7|               198|          S|05DDEFDB396BF4805...|       null|\n",
      "|         262|             22|      2017/09/01|               8|               556|          S|8C35891C0FC6AB7FD...|       null|\n",
      "|         262|              3|      2017/09/01|              11|               298|          S|1BFEE76CF0BAE27CF...|       null|\n",
      "|         262|             24|      2017/09/01|              11|               946|          S|BE40B607BF14BBA26...|       null|\n",
      "|         262|             22|      2017/09/01|              12|               499|          S|63EF90B1F3EBFCBD2...|       null|\n",
      "|         262|             24|      2017/09/01|              12|               499|          S|6E566528C04214BFC...|       null|\n",
      "|         262|              3|      2017/09/01|              13|               298|          S|1BFEE76CF0BAE27CF...|       null|\n",
      "|         262|             24|      2017/09/01|              15|               617|          S|AACDA452BB1D9D4FE...|       null|\n",
      "|         262|              3|      2017/09/01|              17|               337|          S|0DD179EC71F16103B...|       null|\n",
      "|         262|              3|      2017/09/01|              18|               347|          S|9B842FCB1C477C0A3...|       null|\n",
      "|         262|             25|      2017/09/01|              19|               307|          S|1DC5AA6DBB91FF89C...|       null|\n",
      "|         262|             24|      2017/09/01|              19|               109|          S|5EC2BF0357953757B...|       null|\n",
      "+------------+---------------+----------------+----------------+------------------+-----------+--------------------+-----------+\n",
      "only showing top 20 rows\n",
      "\n"
     ]
    }
   ],
   "source": [
    "df_p1.show()"
   ]
  },
  {
   "cell_type": "code",
   "execution_count": 7,
   "metadata": {},
   "outputs": [
    {
     "data": {
      "text/plain": [
       "9962423"
      ]
     },
     "execution_count": 7,
     "metadata": {},
     "output_type": "execute_result"
    }
   ],
   "source": [
    "df_p1.count()"
   ]
  },
  {
   "cell_type": "code",
   "execution_count": 8,
   "metadata": {},
   "outputs": [],
   "source": [
    "df_p1.registerTempTable('data1')"
   ]
  },
  {
   "cell_type": "markdown",
   "metadata": {},
   "source": [
    "## 4.1.- Unique stores"
   ]
  },
  {
   "cell_type": "code",
   "execution_count": 9,
   "metadata": {},
   "outputs": [],
   "source": [
    "df_stores = sqlContext.sql(\"SELECT DISTINCT store_number FROM data1\")"
   ]
  },
  {
   "cell_type": "code",
   "execution_count": 10,
   "metadata": {},
   "outputs": [
    {
     "name": "stdout",
     "output_type": "stream",
     "text": [
      "+------------+\n",
      "|store_number|\n",
      "+------------+\n",
      "|         833|\n",
      "|         496|\n",
      "|         463|\n",
      "|         148|\n",
      "|        1238|\n",
      "|         471|\n",
      "|        1342|\n",
      "|         737|\n",
      "|         540|\n",
      "|        1507|\n",
      "|        1483|\n",
      "|        1395|\n",
      "|        1460|\n",
      "|        1127|\n",
      "|         623|\n",
      "|        1084|\n",
      "|        1025|\n",
      "|         858|\n",
      "|         897|\n",
      "|          31|\n",
      "+------------+\n",
      "only showing top 20 rows\n",
      "\n"
     ]
    }
   ],
   "source": [
    "df_stores.show()"
   ]
  },
  {
   "cell_type": "code",
   "execution_count": 11,
   "metadata": {},
   "outputs": [
    {
     "data": {
      "text/plain": [
       "1256"
      ]
     },
     "execution_count": 11,
     "metadata": {},
     "output_type": "execute_result"
    }
   ],
   "source": [
    "df_stores.count()"
   ]
  },
  {
   "cell_type": "code",
   "execution_count": 12,
   "metadata": {},
   "outputs": [],
   "source": [
    "df_stores.registerTempTable('stores')"
   ]
  },
  {
   "cell_type": "markdown",
   "metadata": {},
   "source": [
    "# 5.- Filter data to generate smaller dataset"
   ]
  },
  {
   "cell_type": "code",
   "execution_count": 13,
   "metadata": {},
   "outputs": [],
   "source": [
    "from datetime import datetime\n",
    "dt_parse = udf(lambda x: datetime.strptime(x,\"%Y/%m/%d\"), DateType())\n",
    "df_p2 = df_p1.withColumn('datetime', dt_parse(df_p1.transaction_date))"
   ]
  },
  {
   "cell_type": "code",
   "execution_count": 14,
   "metadata": {},
   "outputs": [
    {
     "name": "stdout",
     "output_type": "stream",
     "text": [
      "+------------+---------------+----------------+----------------+------------------+-----------+--------------------+-----------+----------+\n",
      "|store_number|terminal_number|transaction_date|transaction_time|transaction_amount|card_scheme|           pan_token|empty_field|  datetime|\n",
      "+------------+---------------+----------------+----------------+------------------+-----------+--------------------+-----------+----------+\n",
      "|         262|              3|      2017/09/01|               0|               437|          S|D08D751E07A1775D5...|       null|2017-09-01|\n",
      "|         262|             24|      2017/09/01|               2|               319|          S|D943C4129260645C5...|       null|2017-09-01|\n",
      "|         262|             23|      2017/09/01|               3|               396|          S|0F07B1D413871FD68...|       null|2017-09-01|\n",
      "|         262|             22|      2017/09/01|               3|               579|          S|528D75D2EE6F72329...|       null|2017-09-01|\n",
      "|         262|             21|      2017/09/01|               3|                99|          S|E9216F9D775D8540D...|       null|2017-09-01|\n",
      "|         262|             25|      2017/09/01|               3|               357|          S|92A2AF4E5541C757F...|       null|2017-09-01|\n",
      "|         262|             25|      2017/09/01|               5|               679|          S|11DC766877DB20AC5...|       null|2017-09-01|\n",
      "|         262|             24|      2017/09/01|               6|               778|          S|C7B7AE3538B031AAD...|       null|2017-09-01|\n",
      "|         262|             23|      2017/09/01|               7|               198|          S|05DDEFDB396BF4805...|       null|2017-09-01|\n",
      "|         262|             22|      2017/09/01|               8|               556|          S|8C35891C0FC6AB7FD...|       null|2017-09-01|\n",
      "|         262|              3|      2017/09/01|              11|               298|          S|1BFEE76CF0BAE27CF...|       null|2017-09-01|\n",
      "|         262|             24|      2017/09/01|              11|               946|          S|BE40B607BF14BBA26...|       null|2017-09-01|\n",
      "|         262|             22|      2017/09/01|              12|               499|          S|63EF90B1F3EBFCBD2...|       null|2017-09-01|\n",
      "|         262|             24|      2017/09/01|              12|               499|          S|6E566528C04214BFC...|       null|2017-09-01|\n",
      "|         262|              3|      2017/09/01|              13|               298|          S|1BFEE76CF0BAE27CF...|       null|2017-09-01|\n",
      "|         262|             24|      2017/09/01|              15|               617|          S|AACDA452BB1D9D4FE...|       null|2017-09-01|\n",
      "|         262|              3|      2017/09/01|              17|               337|          S|0DD179EC71F16103B...|       null|2017-09-01|\n",
      "|         262|              3|      2017/09/01|              18|               347|          S|9B842FCB1C477C0A3...|       null|2017-09-01|\n",
      "|         262|             25|      2017/09/01|              19|               307|          S|1DC5AA6DBB91FF89C...|       null|2017-09-01|\n",
      "|         262|             24|      2017/09/01|              19|               109|          S|5EC2BF0357953757B...|       null|2017-09-01|\n",
      "+------------+---------------+----------------+----------------+------------------+-----------+--------------------+-----------+----------+\n",
      "only showing top 20 rows\n",
      "\n"
     ]
    }
   ],
   "source": [
    "df_p2.show()"
   ]
  },
  {
   "cell_type": "code",
   "execution_count": 15,
   "metadata": {},
   "outputs": [],
   "source": [
    "df_p2.registerTempTable('data2')"
   ]
  },
  {
   "cell_type": "code",
   "execution_count": 17,
   "metadata": {},
   "outputs": [],
   "source": [
    "df_p3 = sqlContext.sql(\"SELECT * FROM data2 WHERE DAY(datetime) < 4\")"
   ]
  },
  {
   "cell_type": "code",
   "execution_count": 18,
   "metadata": {},
   "outputs": [
    {
     "data": {
      "text/plain": [
       "3264391"
      ]
     },
     "execution_count": 18,
     "metadata": {},
     "output_type": "execute_result"
    }
   ],
   "source": [
    "df_p3.count()"
   ]
  },
  {
   "cell_type": "code",
   "execution_count": 19,
   "metadata": {},
   "outputs": [],
   "source": [
    "df_p3.registerTempTable('data3')"
   ]
  },
  {
   "cell_type": "code",
   "execution_count": 20,
   "metadata": {},
   "outputs": [],
   "source": [
    "df_stores_reduced = sqlContext.sql(\"SELECT DISTINCT store_number FROM data3\")"
   ]
  },
  {
   "cell_type": "code",
   "execution_count": 21,
   "metadata": {},
   "outputs": [
    {
     "data": {
      "text/plain": [
       "1250"
      ]
     },
     "execution_count": 21,
     "metadata": {},
     "output_type": "execute_result"
    }
   ],
   "source": [
    "df_stores_reduced.count()"
   ]
  },
  {
   "cell_type": "code",
   "execution_count": 22,
   "metadata": {},
   "outputs": [],
   "source": [
    "df_stores_reduced.registerTempTable('stores_reduced')"
   ]
  },
  {
   "cell_type": "markdown",
   "metadata": {},
   "source": [
    "# 6.- Nested SQL queries to filter data"
   ]
  },
  {
   "cell_type": "code",
   "execution_count": 26,
   "metadata": {},
   "outputs": [],
   "source": [
    "df_filtered = sqlContext.sql(\"SELECT DISTINCT store_number FROM data1 WHERE store_number NOT IN (SELECT * FROM stores_reduced)\")"
   ]
  },
  {
   "cell_type": "code",
   "execution_count": 27,
   "metadata": {},
   "outputs": [
    {
     "data": {
      "text/plain": [
       "6"
      ]
     },
     "execution_count": 27,
     "metadata": {},
     "output_type": "execute_result"
    }
   ],
   "source": [
    "df_filtered.count()"
   ]
  },
  {
   "cell_type": "code",
   "execution_count": null,
   "metadata": {},
   "outputs": [],
   "source": []
  }
 ],
 "metadata": {
  "kernelspec": {
   "display_name": "Python 3",
   "language": "python",
   "name": "python3"
  },
  "language_info": {
   "codemirror_mode": {
    "name": "ipython",
    "version": 3
   },
   "file_extension": ".py",
   "mimetype": "text/x-python",
   "name": "python",
   "nbconvert_exporter": "python",
   "pygments_lexer": "ipython3",
   "version": "3.5.2"
  }
 },
 "nbformat": 4,
 "nbformat_minor": 1
}
