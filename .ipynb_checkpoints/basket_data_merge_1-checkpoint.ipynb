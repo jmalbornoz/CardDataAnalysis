{
 "cells": [
  {
   "cell_type": "markdown",
   "metadata": {},
   "source": [
    "# McDonald's Basket Data Analysis - v1: Toshiba card tokens\n",
    "## April 2018\n",
    "### Dr Jose M Albornoz\n",
    "\n",
    "This notebook explores basket data corresponding to September, October and November 2017 for stores in Exeter, matching it with card data for the same period and the same store. We examine only Toshiba card tokens in this notebook. The basket data timestamps are grouped into 15-minutes periods, unlike the card data timestamps."
   ]
  },
  {
   "cell_type": "markdown",
   "metadata": {},
   "source": [
    "# 1.- Import necessary modules, define SQLContext"
   ]
  },
  {
   "cell_type": "code",
   "execution_count": 76,
   "metadata": {},
   "outputs": [],
   "source": [
    "# Import required modules\n",
    "from pyspark.context import SparkContext\n",
    "from pyspark.sql.context import SQLContext\n",
    "from pyspark.sql.functions import *\n",
    "from pyspark.sql.functions import col\n",
    "from pyspark.sql.types import *\n",
    "from pyspark.sql.functions import unix_timestamp\n",
    "import math"
   ]
  },
  {
   "cell_type": "code",
   "execution_count": 2,
   "metadata": {},
   "outputs": [],
   "source": [
    "# Define SQLContext\n",
    "sqlContext = SQLContext(sc)"
   ]
  },
  {
   "cell_type": "markdown",
   "metadata": {},
   "source": [
    "# 2.- Generic functions to load data from a text-based file"
   ]
  },
  {
   "cell_type": "code",
   "execution_count": 3,
   "metadata": {},
   "outputs": [],
   "source": [
    "# a function to load a colon-separated value file\n",
    "def load_data_colon(filename, schema, columns = None):\n",
    "    df = sqlContext.read.format('com.databricks.spark.csv').option(\"delimiter\", \";\").options(header='true'). \\\n",
    "    load(filename, schema = schema)\n",
    "    if columns is None:\n",
    "        # If no columns are given, then select all\n",
    "        columns = schema.names\n",
    "    return df.select(columns)"
   ]
  },
  {
   "cell_type": "code",
   "execution_count": 4,
   "metadata": {},
   "outputs": [],
   "source": [
    "# a function to load a pipe-separated value file\n",
    "def load_data_pipe(filename, schema, columns = None):\n",
    "    df = sqlContext.read.format('com.databricks.spark.csv').option(\"delimiter\", \"|\").options(header='false'). \\\n",
    "    load(filename, schema = schema)\n",
    "    if columns is None:\n",
    "        # If no columns are given, then select all\n",
    "        columns = schema.names\n",
    "    return df.select(columns)"
   ]
  },
  {
   "cell_type": "markdown",
   "metadata": {},
   "source": [
    "# 3.- Schema for card data files"
   ]
  },
  {
   "cell_type": "code",
   "execution_count": 5,
   "metadata": {},
   "outputs": [],
   "source": [
    "schema_card = StructType([ \n",
    "    StructField('store_number', IntegerType(), True), \n",
    "    StructField('terminal_number', IntegerType(), True), \n",
    "    StructField('transaction_date', StringType(), True), \n",
    "    StructField('transaction_time', IntegerType(), True), \n",
    "    StructField('transaction_amount', FloatType(), True),\n",
    "    StructField('card_scheme', StringType(), True),\n",
    "    StructField('pan_token', StringType(), True),\n",
    "    StructField('empty_field', IntegerType(), True)    \n",
    "])"
   ]
  },
  {
   "cell_type": "markdown",
   "metadata": {},
   "source": [
    "# 4.- Schema for basket data files"
   ]
  },
  {
   "cell_type": "code",
   "execution_count": 6,
   "metadata": {},
   "outputs": [],
   "source": [
    "schema_basket = StructType([ \n",
    "    StructField('store_number', StringType(), True), \n",
    "    StructField('time_period', StringType(), True), \n",
    "    StructField('time_of_day', StringType(), True), \n",
    "    StructField('business_date', StringType(), True), \n",
    "    StructField('pos_code', StringType(), True),\n",
    "    StructField('c6', StringType(), True),\n",
    "    StructField('total_cost', StringType(), True),\n",
    "    StructField('unit_cost', StringType(), True),\n",
    "    StructField('quantity', StringType(), True), \n",
    "    StructField('food_cost', StringType(), True), \n",
    "    StructField('paper_cost', StringType(), True), \n",
    "    StructField('hour', StringType(), True), \n",
    "    StructField('transaction_time', StringType(), True), \n",
    "    StructField('transaction_date', StringType(), True),\n",
    "    StructField('pos_id', StringType(), True),\n",
    "    StructField('unique_till_code', StringType(), True),\n",
    "    StructField('sale_number', StringType(), True),\n",
    "    StructField('menu_item_id', StringType(), True), \n",
    "    StructField('till_key', StringType(), True), \n",
    "    StructField('till_location', StringType(), True), \n",
    "    StructField('c20', StringType(), True), \n",
    "    StructField('sale_or_refund', StringType(), True),\n",
    "    StructField('eatin_eatout', StringType(), True),\n",
    "    StructField('eat_in_eatout_str', StringType(), True),\n",
    "    StructField('payment_type_id', StringType(), True),\n",
    "    StructField('payment_type', StringType(), True) \n",
    "])"
   ]
  },
  {
   "cell_type": "markdown",
   "metadata": {},
   "source": [
    "# 5.- Basket data preprocessing"
   ]
  },
  {
   "cell_type": "markdown",
   "metadata": {},
   "source": [
    "## 5.1.- Load basket data"
   ]
  },
  {
   "cell_type": "code",
   "execution_count": 7,
   "metadata": {},
   "outputs": [],
   "source": [
    "df_basket = load_data_pipe(\"BasketDataExeter2SeptOctNov/000\", schema_basket)"
   ]
  },
  {
   "cell_type": "code",
   "execution_count": 8,
   "metadata": {},
   "outputs": [
    {
     "name": "stdout",
     "output_type": "stream",
     "text": [
      "+------------+-----------+-----------+-------------+--------+----+----------+---------+--------+---------+----------+----+-------------------+----------------+-----------------+----------------+-----------+------------+--------+-------------+---+--------------+------------+-----------------+---------------+------------+\n",
      "|store_number|time_period|time_of_day|business_date|pos_code|  c6|total_cost|unit_cost|quantity|food_cost|paper_cost|hour|   transaction_time|transaction_date|           pos_id|unique_till_code|sale_number|menu_item_id|till_key|till_location|c20|sale_or_refund|eatin_eatout|eat_in_eatout_str|payment_type_id|payment_type|\n",
      "+------------+-----------+-----------+-------------+--------+----+----------+---------+--------+---------+----------+----+-------------------+----------------+-----------------+----------------+-----------+------------+--------+-------------+---+--------------+------------+-----------------+---------------+------------+\n",
      "|         295|          3|  Afternoon|   2017-10-14|       2|null|    0.0000|   0.0000|       1|   0.0000|    0.0000|  16|1900-01-01 16:45:00|      2017-10-14|POS0002:595657242|       595657242|         10|        4650|       1|FRONT COUNTER|  1|          Sale|           1|           Eat In|              1|        Cash|\n",
      "|         295|          3|  Afternoon|   2017-10-14|       2|null|    3.1000|   3.1000|       1|   0.7784|    0.0385|  16|1900-01-01 16:45:00|      2017-10-14|POS0002:595657242|       595657242|         12|        6120|       1|FRONT COUNTER|  1|          Sale|           1|           Eat In|              1|        Cash|\n",
      "|         295|          3|  Afternoon|   2017-10-14|       2|null|    0.0000|   0.0000|       1|   0.0000|    0.0000|  16|1900-01-01 16:45:00|      2017-10-14|POS0002:595657242|       595657242|          8|        2619|       1|FRONT COUNTER|  1|          Sale|           1|           Eat In|              1|        Cash|\n",
      "|         295|          3|  Afternoon|   2017-10-14|       2|null|    0.6800|   0.6800|       1|   0.0000|    0.0000|  16|1900-01-01 16:45:00|      2017-10-14|POS0002:595657242|       595657242|          9|        2828|       1|FRONT COUNTER|  1|          Sale|           1|           Eat In|              1|        Cash|\n",
      "|         295|          3|  Afternoon|   2017-10-14|       2|null|    0.0000|   0.0000|       1|   0.0000|    0.0000|  16|1900-01-01 16:45:00|      2017-10-14|POS0002:595657242|       595657242|          7|        4834|       1|FRONT COUNTER|  1|          Sale|           1|           Eat In|              1|        Cash|\n",
      "|         295|          3|  Afternoon|   2017-10-14|       2|null|    1.3900|   1.3900|       1|   0.2682|    0.0378|  16|1900-01-01 16:45:00|      2017-10-14|POS0002:595657242|       595657242|          5|        4381|       1|FRONT COUNTER|  1|          Sale|           1|           Eat In|              1|        Cash|\n",
      "|         295|          3|  Afternoon|   2017-10-14|       2|null|    0.0000|   0.0000|       1|   0.0000|    0.0000|  16|1900-01-01 16:45:00|      2017-10-14|POS0002:595657242|       595657242|          3|        4912|       1|FRONT COUNTER|  1|          Sale|           1|           Eat In|              1|        Cash|\n",
      "|         295|          3|  Afternoon|   2017-10-14|       2|null|    0.7400|   0.7400|       1|   0.2333|    0.0063|  16|1900-01-01 16:45:00|      2017-10-14|POS0002:595657242|       595657242|          4|        1000|       1|FRONT COUNTER|  1|          Sale|           1|           Eat In|              1|        Cash|\n",
      "|         295|          3|  Afternoon|   2017-10-14|       2|null|    1.0800|   1.0800|       1|   0.3141|    0.0221|  16|1900-01-01 16:45:00|      2017-10-14|POS0002:595657242|       595657242|          1|        2823|       1|FRONT COUNTER|  1|          Sale|           1|           Eat In|              1|        Cash|\n",
      "|         295|          3|  Afternoon|   2017-10-14|       2|null|   -0.8000|  -0.8000|       1|   0.0000|    0.0000|  16|1900-01-01 16:45:00|      2017-10-14|POS0002:595657242|       595657242|          6|        1265|       1|FRONT COUNTER|  1|          Sale|           1|           Eat In|              1|        Cash|\n",
      "+------------+-----------+-----------+-------------+--------+----+----------+---------+--------+---------+----------+----+-------------------+----------------+-----------------+----------------+-----------+------------+--------+-------------+---+--------------+------------+-----------------+---------------+------------+\n",
      "only showing top 10 rows\n",
      "\n"
     ]
    }
   ],
   "source": [
    "df_basket.show(10)"
   ]
  },
  {
   "cell_type": "code",
   "execution_count": 9,
   "metadata": {},
   "outputs": [
    {
     "data": {
      "text/plain": [
       "1546161"
      ]
     },
     "execution_count": 9,
     "metadata": {},
     "output_type": "execute_result"
    }
   ],
   "source": [
    "df_basket.count()"
   ]
  },
  {
   "cell_type": "markdown",
   "metadata": {},
   "source": [
    "## 5.2.- Cast basket data columns to the correct types"
   ]
  },
  {
   "cell_type": "code",
   "execution_count": 10,
   "metadata": {},
   "outputs": [],
   "source": [
    "df_basket = df_basket.withColumn(\"store_number\", df_basket[\"store_number\"].cast(IntegerType()))        \n",
    "df_basket = df_basket.withColumn(\"time_period\", df_basket[\"time_period\"].cast(IntegerType()))\n",
    "df_basket = df_basket.withColumn(\"time_of_day\", df_basket[\"time_of_day\"].cast(StringType()))\n",
    "df_basket = df_basket.withColumn(\"business_date\", df_basket[\"business_date\"].cast(DateType()))\n",
    "df_basket = df_basket.withColumn(\"pos_code\", df_basket[\"pos_code\"].cast(IntegerType()))\n",
    "df_basket = df_basket.withColumn(\"c6\", df_basket[\"c6\"].cast(StringType()))\n",
    "df_basket = df_basket.withColumn(\"total_cost\", df_basket[\"total_cost\"].cast(FloatType()))\n",
    "df_basket = df_basket.withColumn(\"unit_cost\", df_basket[\"unit_cost\"].cast(FloatType()))\n",
    "df_basket = df_basket.withColumn(\"quantity\", df_basket[\"quantity\"].cast(IntegerType()))\n",
    "df_basket = df_basket.withColumn(\"food_cost\", df_basket[\"food_cost\"].cast(FloatType()))\n",
    "df_basket = df_basket.withColumn(\"paper_cost\", df_basket[\"paper_cost\"].cast(FloatType()))\n",
    "df_basket = df_basket.withColumn(\"hour\", df_basket[\"hour\"].cast(IntegerType()))\n",
    "df_basket = df_basket.withColumn(\"transaction_time\", df_basket[\"transaction_time\"].cast(StringType()))\n",
    "df_basket = df_basket.withColumn(\"transaction_date\", df_basket[\"transaction_date\"].cast(StringType()))\n",
    "df_basket = df_basket.withColumn(\"pos_id\", df_basket[\"pos_id\"].cast(StringType()))\n",
    "df_basket = df_basket.withColumn(\"unique_till_code\", df_basket[\"unique_till_code\"].cast(IntegerType()))\n",
    "df_basket = df_basket.withColumn(\"sale_number\", df_basket[\"sale_number\"].cast(IntegerType()))\n",
    "df_basket = df_basket.withColumn(\"menu_item_id\", df_basket[\"menu_item_id\"].cast(IntegerType()))\n",
    "df_basket = df_basket.withColumn(\"till_key\", df_basket[\"till_key\"].cast(IntegerType()))\n",
    "df_basket = df_basket.withColumn(\"till_location\", df_basket[\"till_location\"].cast(StringType()))\n",
    "df_basket = df_basket.withColumn(\"c20\", df_basket[\"c20\"].cast(StringType()))\n",
    "df_basket = df_basket.withColumn(\"sale_or_refund\", df_basket[\"sale_or_refund\"].cast(StringType()))\n",
    "df_basket = df_basket.withColumn(\"eatin_eatout\", df_basket[\"eatin_eatout\"].cast(IntegerType()))\n",
    "df_basket = df_basket.withColumn(\"eat_in_eatout_str\", df_basket[\"eat_in_eatout_str\"].cast(StringType()))\n",
    "df_basket = df_basket.withColumn(\"payment_type_id\", df_basket[\"payment_type_id\"].cast(IntegerType()))\n",
    "df_basket = df_basket.withColumn(\"payment_type\", df_basket[\"payment_type\"].cast(StringType()))"
   ]
  },
  {
   "cell_type": "code",
   "execution_count": 11,
   "metadata": {},
   "outputs": [],
   "source": [
    "all_transactions = df_basket.count()"
   ]
  },
  {
   "cell_type": "code",
   "execution_count": 12,
   "metadata": {},
   "outputs": [
    {
     "data": {
      "text/plain": [
       "1546161"
      ]
     },
     "execution_count": 12,
     "metadata": {},
     "output_type": "execute_result"
    }
   ],
   "source": [
    "all_transactions"
   ]
  },
  {
   "cell_type": "markdown",
   "metadata": {},
   "source": [
    "## 5.3.- Only 'Sales' and not 'Refunds' will be considered"
   ]
  },
  {
   "cell_type": "code",
   "execution_count": 13,
   "metadata": {},
   "outputs": [],
   "source": [
    "df_basket = df_basket.filter((df_basket['sale_or_refund'] != 'REFUND') | (df_basket['sale_or_refund'] != 'Refund'))"
   ]
  },
  {
   "cell_type": "code",
   "execution_count": 14,
   "metadata": {},
   "outputs": [
    {
     "data": {
      "text/plain": [
       "1546161"
      ]
     },
     "execution_count": 14,
     "metadata": {},
     "output_type": "execute_result"
    }
   ],
   "source": [
    "df_basket.count()"
   ]
  },
  {
   "cell_type": "markdown",
   "metadata": {},
   "source": [
    "## 5.4.- Extract transaction time from column 'transaction_time'"
   ]
  },
  {
   "cell_type": "code",
   "execution_count": 15,
   "metadata": {},
   "outputs": [],
   "source": [
    "def get_time(data_str):\n",
    "    time_str = data_str.split(' ')[1]\n",
    "    return time_str\n",
    "\n",
    "get_time_udf = udf(get_time, StringType())"
   ]
  },
  {
   "cell_type": "code",
   "execution_count": 16,
   "metadata": {},
   "outputs": [],
   "source": [
    "df_basket = df_basket.withColumn(\"transaction_time\", get_time_udf(df_basket['transaction_time']))"
   ]
  },
  {
   "cell_type": "code",
   "execution_count": 17,
   "metadata": {},
   "outputs": [
    {
     "name": "stdout",
     "output_type": "stream",
     "text": [
      "+------------+-----------+-----------+-------------+--------+----+----------+---------+--------+---------+----------+----+----------------+----------------+-----------------+----------------+-----------+------------+--------+-------------+---+--------------+------------+-----------------+---------------+------------+\n",
      "|store_number|time_period|time_of_day|business_date|pos_code|  c6|total_cost|unit_cost|quantity|food_cost|paper_cost|hour|transaction_time|transaction_date|           pos_id|unique_till_code|sale_number|menu_item_id|till_key|till_location|c20|sale_or_refund|eatin_eatout|eat_in_eatout_str|payment_type_id|payment_type|\n",
      "+------------+-----------+-----------+-------------+--------+----+----------+---------+--------+---------+----------+----+----------------+----------------+-----------------+----------------+-----------+------------+--------+-------------+---+--------------+------------+-----------------+---------------+------------+\n",
      "|         295|          3|  Afternoon|   2017-10-14|       2|null|       0.0|      0.0|       1|      0.0|       0.0|  16|        16:45:00|      2017-10-14|POS0002:595657242|       595657242|         10|        4650|       1|FRONT COUNTER|  1|          Sale|           1|           Eat In|              1|        Cash|\n",
      "|         295|          3|  Afternoon|   2017-10-14|       2|null|       3.1|      3.1|       1|   0.7784|    0.0385|  16|        16:45:00|      2017-10-14|POS0002:595657242|       595657242|         12|        6120|       1|FRONT COUNTER|  1|          Sale|           1|           Eat In|              1|        Cash|\n",
      "|         295|          3|  Afternoon|   2017-10-14|       2|null|       0.0|      0.0|       1|      0.0|       0.0|  16|        16:45:00|      2017-10-14|POS0002:595657242|       595657242|          8|        2619|       1|FRONT COUNTER|  1|          Sale|           1|           Eat In|              1|        Cash|\n",
      "|         295|          3|  Afternoon|   2017-10-14|       2|null|      0.68|     0.68|       1|      0.0|       0.0|  16|        16:45:00|      2017-10-14|POS0002:595657242|       595657242|          9|        2828|       1|FRONT COUNTER|  1|          Sale|           1|           Eat In|              1|        Cash|\n",
      "|         295|          3|  Afternoon|   2017-10-14|       2|null|       0.0|      0.0|       1|      0.0|       0.0|  16|        16:45:00|      2017-10-14|POS0002:595657242|       595657242|          7|        4834|       1|FRONT COUNTER|  1|          Sale|           1|           Eat In|              1|        Cash|\n",
      "+------------+-----------+-----------+-------------+--------+----+----------+---------+--------+---------+----------+----+----------------+----------------+-----------------+----------------+-----------+------------+--------+-------------+---+--------------+------------+-----------------+---------------+------------+\n",
      "only showing top 5 rows\n",
      "\n"
     ]
    }
   ],
   "source": [
    "df_basket.show(5)"
   ]
  },
  {
   "cell_type": "markdown",
   "metadata": {},
   "source": [
    "## 5.5.- Combine transaction date and time into a single timestamp, drop transaction_date and transaction_time"
   ]
  },
  {
   "cell_type": "code",
   "execution_count": 18,
   "metadata": {},
   "outputs": [],
   "source": [
    "df_basket = df_basket.withColumn('timestamp_tmp', concat(col(\"transaction_date\"), lit(\" \"), col(\"transaction_time\")))"
   ]
  },
  {
   "cell_type": "code",
   "execution_count": 19,
   "metadata": {},
   "outputs": [],
   "source": [
    "col = to_timestamp(df_basket['timestamp_tmp'], 'yyyy-MM-dd HH:mm:ss')"
   ]
  },
  {
   "cell_type": "code",
   "execution_count": 20,
   "metadata": {},
   "outputs": [],
   "source": [
    "df_basket = df_basket.withColumn('timestamp_basket', col)"
   ]
  },
  {
   "cell_type": "code",
   "execution_count": 21,
   "metadata": {},
   "outputs": [],
   "source": [
    "df_basket = df_basket.drop('transaction_date', 'transaction_time', 'timestamp_tmp')"
   ]
  },
  {
   "cell_type": "code",
   "execution_count": 22,
   "metadata": {},
   "outputs": [
    {
     "name": "stdout",
     "output_type": "stream",
     "text": [
      "+------------+-----------+-----------+-------------+--------+----+----------+---------+--------+---------+----------+----+-----------------+----------------+-----------+------------+--------+-------------+---+--------------+------------+-----------------+---------------+------------+-------------------+\n",
      "|store_number|time_period|time_of_day|business_date|pos_code|  c6|total_cost|unit_cost|quantity|food_cost|paper_cost|hour|           pos_id|unique_till_code|sale_number|menu_item_id|till_key|till_location|c20|sale_or_refund|eatin_eatout|eat_in_eatout_str|payment_type_id|payment_type|   timestamp_basket|\n",
      "+------------+-----------+-----------+-------------+--------+----+----------+---------+--------+---------+----------+----+-----------------+----------------+-----------+------------+--------+-------------+---+--------------+------------+-----------------+---------------+------------+-------------------+\n",
      "|         295|          3|  Afternoon|   2017-10-14|       2|null|       0.0|      0.0|       1|      0.0|       0.0|  16|POS0002:595657242|       595657242|         10|        4650|       1|FRONT COUNTER|  1|          Sale|           1|           Eat In|              1|        Cash|2017-10-14 16:45:00|\n",
      "|         295|          3|  Afternoon|   2017-10-14|       2|null|       3.1|      3.1|       1|   0.7784|    0.0385|  16|POS0002:595657242|       595657242|         12|        6120|       1|FRONT COUNTER|  1|          Sale|           1|           Eat In|              1|        Cash|2017-10-14 16:45:00|\n",
      "|         295|          3|  Afternoon|   2017-10-14|       2|null|       0.0|      0.0|       1|      0.0|       0.0|  16|POS0002:595657242|       595657242|          8|        2619|       1|FRONT COUNTER|  1|          Sale|           1|           Eat In|              1|        Cash|2017-10-14 16:45:00|\n",
      "|         295|          3|  Afternoon|   2017-10-14|       2|null|      0.68|     0.68|       1|      0.0|       0.0|  16|POS0002:595657242|       595657242|          9|        2828|       1|FRONT COUNTER|  1|          Sale|           1|           Eat In|              1|        Cash|2017-10-14 16:45:00|\n",
      "|         295|          3|  Afternoon|   2017-10-14|       2|null|       0.0|      0.0|       1|      0.0|       0.0|  16|POS0002:595657242|       595657242|          7|        4834|       1|FRONT COUNTER|  1|          Sale|           1|           Eat In|              1|        Cash|2017-10-14 16:45:00|\n",
      "+------------+-----------+-----------+-------------+--------+----+----------+---------+--------+---------+----------+----+-----------------+----------------+-----------+------------+--------+-------------+---+--------------+------------+-----------------+---------------+------------+-------------------+\n",
      "only showing top 5 rows\n",
      "\n"
     ]
    }
   ],
   "source": [
    "df_basket.show(5)"
   ]
  },
  {
   "cell_type": "markdown",
   "metadata": {},
   "source": [
    "## 5.6.- Select relevant columns from basket data"
   ]
  },
  {
   "cell_type": "code",
   "execution_count": 24,
   "metadata": {},
   "outputs": [],
   "source": [
    "df_basket_reduced = df_basket.select('store_number', 'timestamp_basket', 'pos_code', 'pos_id', 'sale_number', 'total_cost', \\\n",
    "                                     'unit_cost', 'quantity', 'menu_item_id', 'sale_or_refund', \\\n",
    "                                     'payment_type_id')"
   ]
  },
  {
   "cell_type": "code",
   "execution_count": 25,
   "metadata": {},
   "outputs": [
    {
     "name": "stdout",
     "output_type": "stream",
     "text": [
      "+------------+-------------------+--------+-----------------+-----------+----------+---------+--------+------------+--------------+---------------+\n",
      "|store_number|   timestamp_basket|pos_code|           pos_id|sale_number|total_cost|unit_cost|quantity|menu_item_id|sale_or_refund|payment_type_id|\n",
      "+------------+-------------------+--------+-----------------+-----------+----------+---------+--------+------------+--------------+---------------+\n",
      "|         295|2017-10-14 16:45:00|       2|POS0002:595657242|         10|       0.0|      0.0|       1|        4650|          Sale|              1|\n",
      "|         295|2017-10-14 16:45:00|       2|POS0002:595657242|         12|       3.1|      3.1|       1|        6120|          Sale|              1|\n",
      "|         295|2017-10-14 16:45:00|       2|POS0002:595657242|          8|       0.0|      0.0|       1|        2619|          Sale|              1|\n",
      "|         295|2017-10-14 16:45:00|       2|POS0002:595657242|          9|      0.68|     0.68|       1|        2828|          Sale|              1|\n",
      "|         295|2017-10-14 16:45:00|       2|POS0002:595657242|          7|       0.0|      0.0|       1|        4834|          Sale|              1|\n",
      "+------------+-------------------+--------+-----------------+-----------+----------+---------+--------+------------+--------------+---------------+\n",
      "only showing top 5 rows\n",
      "\n"
     ]
    }
   ],
   "source": [
    "df_basket_reduced.show(5)"
   ]
  },
  {
   "cell_type": "markdown",
   "metadata": {},
   "source": [
    "## 5.7.- Split basket data into 'cash' and 'cashless' transaction, sort by store number, timestamp, till ID and sale number"
   ]
  },
  {
   "cell_type": "code",
   "execution_count": 26,
   "metadata": {},
   "outputs": [],
   "source": [
    "df_basket_cash = df_basket_reduced.filter(df_basket[\"payment_type_id\"] == 1)"
   ]
  },
  {
   "cell_type": "code",
   "execution_count": 27,
   "metadata": {},
   "outputs": [],
   "source": [
    "df_basket_cash = df_basket_cash.orderBy(\"store_number\", \"timestamp_basket\", \"pos_id\", \"sale_number\")"
   ]
  },
  {
   "cell_type": "code",
   "execution_count": 28,
   "metadata": {},
   "outputs": [],
   "source": [
    "df_basket_cash = df_basket_cash.drop('sale_or_refund', 'payment_type_id')"
   ]
  },
  {
   "cell_type": "code",
   "execution_count": 29,
   "metadata": {},
   "outputs": [],
   "source": [
    "df_basket_cashless = df_basket_reduced.filter(df_basket[\"payment_type_id\"] == 2)"
   ]
  },
  {
   "cell_type": "code",
   "execution_count": 30,
   "metadata": {},
   "outputs": [],
   "source": [
    "df_basket_cashless = df_basket_cashless.orderBy(\"store_number\", \"timestamp_basket\", \"pos_id\", \"sale_number\")"
   ]
  },
  {
   "cell_type": "code",
   "execution_count": 31,
   "metadata": {},
   "outputs": [],
   "source": [
    "df_basket_cashless = df_basket_cashless.drop('sale_or_refund', 'payment_type_id')"
   ]
  },
  {
   "cell_type": "code",
   "execution_count": 32,
   "metadata": {},
   "outputs": [
    {
     "name": "stdout",
     "output_type": "stream",
     "text": [
      "+------------+-------------------+--------+-----------------+-----------+----------+---------+--------+------------+\n",
      "|store_number|   timestamp_basket|pos_code|           pos_id|sale_number|total_cost|unit_cost|quantity|menu_item_id|\n",
      "+------------+-------------------+--------+-----------------+-----------+----------+---------+--------+------------+\n",
      "|         295|2017-09-01 05:45:00|       2|POS0002:595643113|          1|      0.66|     0.66|       1|        3750|\n",
      "|         295|2017-09-01 05:45:00|       2|POS0002:595643113|          2|       0.0|      0.0|       1|        3483|\n",
      "|         295|2017-09-01 05:45:00|       2|POS0002:595643113|          3|      0.83|     0.83|       1|        5410|\n",
      "|         295|2017-09-01 06:00:00|       2|POS0002:595643115|          1|       0.0|      0.0|       1|        5501|\n",
      "|         295|2017-09-01 06:00:00|       2|POS0002:595643115|          2|      1.41|     1.41|       1|        5095|\n",
      "|         295|2017-09-01 06:00:00|       2|POS0002:595643115|          3|      0.83|     0.83|       1|        7039|\n",
      "|         295|2017-09-01 06:00:00|       2|POS0002:595643115|          4|       0.0|      0.0|       1|        3549|\n",
      "|         295|2017-09-01 06:00:00|       2|POS0002:595643115|          5|      2.57|     2.57|       1|        5127|\n",
      "|         295|2017-09-01 06:00:00|       2|POS0002:595643116|          1|      1.91|     1.91|       1|        2656|\n",
      "|         295|2017-09-01 06:15:00|       2|POS0002:595643118|          1|      1.24|     1.24|       1|        3536|\n",
      "|         295|2017-09-01 06:15:00|       2|POS0002:595643119|          1|      0.91|     0.91|       1|        3500|\n",
      "|         295|2017-09-01 06:30:00|       2|POS0002:595643122|          1|      1.74|     1.74|       1|        3508|\n",
      "|         295|2017-09-01 06:30:00|       2|POS0002:595643123|          1|      2.98|     1.49|       2|        3526|\n",
      "|         295|2017-09-01 06:30:00|       2|POS0002:595643124|          1|      1.49|     1.49|       1|        3521|\n",
      "|         295|2017-09-01 06:30:00|       2|POS0002:595643125|          1|      1.07|     1.07|       1|        3010|\n",
      "|         295|2017-09-01 06:30:00|       2|POS0002:595643126|          1|      1.49|     1.49|       1|        3526|\n",
      "|         295|2017-09-01 06:45:00|       2|POS0002:595643127|          1|      2.48|     1.24|       2|        3531|\n",
      "|         295|2017-09-01 06:45:00|       2|POS0002:595643128|          1|      2.29|     2.29|       1|        2551|\n",
      "|         295|2017-09-01 06:45:00|       2|POS0002:595643129|          1|      1.74|     1.74|       1|        3508|\n",
      "|         295|2017-09-01 06:45:00|       2|POS0002:595643130|          1|      1.83|     1.83|       1|        5096|\n",
      "+------------+-------------------+--------+-----------------+-----------+----------+---------+--------+------------+\n",
      "only showing top 20 rows\n",
      "\n"
     ]
    }
   ],
   "source": [
    "df_basket_cash.show(20)"
   ]
  },
  {
   "cell_type": "code",
   "execution_count": 71,
   "metadata": {},
   "outputs": [
    {
     "name": "stdout",
     "output_type": "stream",
     "text": [
      "+------------+-------------------+--------+-----------------+-----------+----------+---------+--------+------------+\n",
      "|store_number|   timestamp_basket|pos_code|           pos_id|sale_number|total_cost|unit_cost|quantity|menu_item_id|\n",
      "+------------+-------------------+--------+-----------------+-----------+----------+---------+--------+------------+\n",
      "|         295|2017-09-01 06:00:00|       2|POS0002:595643114|          1|      0.25|     0.25|       1|        3939|\n",
      "|         295|2017-09-01 06:00:00|       2|POS0002:595643114|          2|       0.0|      0.0|       1|        5501|\n",
      "|         295|2017-09-01 06:00:00|       2|POS0002:595643114|          3|      2.57|     2.57|       1|        5127|\n",
      "|         295|2017-09-01 06:00:00|      24|POS0024:977032388|          1|      2.82|     1.41|       2|        5095|\n",
      "|         295|2017-09-01 06:15:00|       2|POS0002:595643120|          1|       0.0|      0.0|       1|        3718|\n",
      "|         295|2017-09-01 06:15:00|       2|POS0002:595643120|          2|      2.99|     2.99|       1|        5320|\n",
      "|         295|2017-09-01 06:15:00|       2|POS0002:595643120|          3|       0.0|      0.0|       1|        5501|\n",
      "|         295|2017-09-01 06:15:00|       2|POS0002:595643121|          1|      1.49|     1.49|       1|        3521|\n",
      "|         295|2017-09-01 06:15:00|       2|POS0002:595643121|          2|      1.24|     1.24|       1|        3536|\n",
      "|         295|2017-09-01 06:30:00|      22|POS0022:802104822|          1|      2.99|     2.99|       1|        5320|\n",
      "|         295|2017-09-01 06:30:00|      22|POS0022:802104822|          2|      0.99|     0.99|       1|        3485|\n",
      "|         295|2017-09-01 06:30:00|      22|POS0022:802104822|          3|      1.16|     1.16|       1|        5157|\n",
      "|         295|2017-09-01 06:30:00|      22|POS0022:802104822|          4|      3.16|     3.16|       1|        5441|\n",
      "|         295|2017-09-01 06:30:00|      22|POS0022:802104822|          5|       0.0|      0.0|       1|        5501|\n",
      "|         295|2017-09-01 06:30:00|      22|POS0022:802104822|          6|       0.0|      0.0|       1|        5501|\n",
      "|         295|2017-09-01 06:30:00|      22|POS0022:802104822|          7|       0.0|      0.0|       1|        2896|\n",
      "|         295|2017-09-01 06:30:00|      22|POS0022:802104822|          8|       0.5|      0.5|       1|        2662|\n",
      "|         295|2017-09-01 06:30:00|      22|POS0022:802104822|          9|      2.57|     2.57|       1|        5127|\n",
      "|         295|2017-09-01 06:30:00|      22|POS0022:802104822|         10|      0.25|     0.25|       1|        3586|\n",
      "|         295|2017-09-01 06:30:00|      22|POS0022:802104822|         11|       0.5|      0.5|       1|        3940|\n",
      "+------------+-------------------+--------+-----------------+-----------+----------+---------+--------+------------+\n",
      "only showing top 20 rows\n",
      "\n"
     ]
    }
   ],
   "source": [
    "df_basket_cashless.show(20)"
   ]
  },
  {
   "cell_type": "code",
   "execution_count": 34,
   "metadata": {},
   "outputs": [],
   "source": [
    "cash_transactions = df_basket_cash.count()"
   ]
  },
  {
   "cell_type": "code",
   "execution_count": 35,
   "metadata": {},
   "outputs": [],
   "source": [
    "cashless_transactions = df_basket_cashless.count()"
   ]
  },
  {
   "cell_type": "code",
   "execution_count": 36,
   "metadata": {},
   "outputs": [
    {
     "data": {
      "text/plain": [
       "496907"
      ]
     },
     "execution_count": 36,
     "metadata": {},
     "output_type": "execute_result"
    }
   ],
   "source": [
    "cash_transactions"
   ]
  },
  {
   "cell_type": "code",
   "execution_count": 37,
   "metadata": {},
   "outputs": [
    {
     "data": {
      "text/plain": [
       "1043511"
      ]
     },
     "execution_count": 37,
     "metadata": {},
     "output_type": "execute_result"
    }
   ],
   "source": [
    "cashless_transactions"
   ]
  },
  {
   "cell_type": "markdown",
   "metadata": {},
   "source": [
    "## 5.8.- Compute percentage of 'cash' and 'cashless' transaction"
   ]
  },
  {
   "cell_type": "code",
   "execution_count": 38,
   "metadata": {},
   "outputs": [
    {
     "data": {
      "text/plain": [
       "32.13811498285107"
      ]
     },
     "execution_count": 38,
     "metadata": {},
     "output_type": "execute_result"
    }
   ],
   "source": [
    "cash_transactions*100/all_transactions"
   ]
  },
  {
   "cell_type": "code",
   "execution_count": 39,
   "metadata": {},
   "outputs": [
    {
     "data": {
      "text/plain": [
       "67.49044892478855"
      ]
     },
     "execution_count": 39,
     "metadata": {},
     "output_type": "execute_result"
    }
   ],
   "source": [
    "cashless_transactions*100/all_transactions"
   ]
  },
  {
   "cell_type": "markdown",
   "metadata": {},
   "source": [
    "## 5.9.- Get Exeter store numbers"
   ]
  },
  {
   "cell_type": "code",
   "execution_count": 40,
   "metadata": {},
   "outputs": [],
   "source": [
    "stores_list = [i.store_number for i in df_basket.select('store_number').distinct().collect()]"
   ]
  },
  {
   "cell_type": "code",
   "execution_count": 41,
   "metadata": {},
   "outputs": [
    {
     "data": {
      "text/plain": [
       "[972, 295]"
      ]
     },
     "execution_count": 41,
     "metadata": {},
     "output_type": "execute_result"
    }
   ],
   "source": [
    "stores_list"
   ]
  },
  {
   "cell_type": "markdown",
   "metadata": {},
   "source": [
    "# 6.- Card data preprocessing"
   ]
  },
  {
   "cell_type": "markdown",
   "metadata": {},
   "source": [
    "## 6.1.- Load and filter card data by store number"
   ]
  },
  {
   "cell_type": "code",
   "execution_count": 42,
   "metadata": {},
   "outputs": [],
   "source": [
    "df_Sep2017T = sqlContext.read.csv(\"McD_Card_Data/Sep2017_T.csv\", header=True, mode=\"DROPMALFORMED\", schema=schema_card)"
   ]
  },
  {
   "cell_type": "code",
   "execution_count": 43,
   "metadata": {},
   "outputs": [],
   "source": [
    "df_Sep2017T = df_Sep2017T.filter(df_Sep2017T['store_number'].isin(stores_list))"
   ]
  },
  {
   "cell_type": "code",
   "execution_count": 44,
   "metadata": {},
   "outputs": [],
   "source": [
    "df_Oct2017T = sqlContext.read.csv(\"McD_Card_Data/Oct2017_T.csv\", header=True, mode=\"DROPMALFORMED\", schema=schema_card)"
   ]
  },
  {
   "cell_type": "code",
   "execution_count": 45,
   "metadata": {},
   "outputs": [],
   "source": [
    "df_Oct2017T = df_Oct2017T.filter(df_Oct2017T['store_number'].isin(stores_list))"
   ]
  },
  {
   "cell_type": "code",
   "execution_count": 46,
   "metadata": {},
   "outputs": [],
   "source": [
    "df_Nov2017T = sqlContext.read.csv(\"McD_Card_Data/Nov2017_T.csv\", header=True, mode=\"DROPMALFORMED\", schema=schema_card)"
   ]
  },
  {
   "cell_type": "code",
   "execution_count": 47,
   "metadata": {},
   "outputs": [],
   "source": [
    "df_Nov2017T = df_Nov2017T.filter(df_Nov2017T['store_number'].isin(stores_list))"
   ]
  },
  {
   "cell_type": "markdown",
   "metadata": {},
   "source": [
    "## 6.2.- Concatenate and sort card data, drop irrelevant fields"
   ]
  },
  {
   "cell_type": "code",
   "execution_count": 48,
   "metadata": {},
   "outputs": [],
   "source": [
    "df_cards = df_Sep2017T.unionAll(df_Oct2017T)"
   ]
  },
  {
   "cell_type": "code",
   "execution_count": 49,
   "metadata": {},
   "outputs": [],
   "source": [
    "df_cards = df_cards.unionAll(df_Nov2017T)"
   ]
  },
  {
   "cell_type": "code",
   "execution_count": 50,
   "metadata": {},
   "outputs": [],
   "source": [
    "df_cards = df_cards.orderBy(\"store_number\", \"transaction_date\", \"transaction_time\")"
   ]
  },
  {
   "cell_type": "code",
   "execution_count": 51,
   "metadata": {},
   "outputs": [],
   "source": [
    "df_cards = df_cards.drop('card_scheme', 'empty_field')"
   ]
  },
  {
   "cell_type": "code",
   "execution_count": 52,
   "metadata": {},
   "outputs": [
    {
     "data": {
      "text/plain": [
       "202023"
      ]
     },
     "execution_count": 52,
     "metadata": {},
     "output_type": "execute_result"
    }
   ],
   "source": [
    "df_cards.count()"
   ]
  },
  {
   "cell_type": "markdown",
   "metadata": {},
   "source": [
    "## 6.3.- Convert transaction amount to pounds"
   ]
  },
  {
   "cell_type": "code",
   "execution_count": 53,
   "metadata": {},
   "outputs": [],
   "source": [
    "def get_amount_pounds(amount_pence):\n",
    "    amount_pounds = amount_pence/100.0\n",
    "    return amount_pounds\n",
    "\n",
    "get_amount_pounds_udf = udf(get_amount_pounds, FloatType())"
   ]
  },
  {
   "cell_type": "code",
   "execution_count": 54,
   "metadata": {},
   "outputs": [],
   "source": [
    "df_cards = df_cards.withColumn(\"transaction_amount\", get_amount_pounds_udf(df_cards['transaction_amount']))"
   ]
  },
  {
   "cell_type": "code",
   "execution_count": 55,
   "metadata": {},
   "outputs": [
    {
     "name": "stdout",
     "output_type": "stream",
     "text": [
      "+------------+---------------+----------------+----------------+------------------+--------------------+\n",
      "|store_number|terminal_number|transaction_date|transaction_time|transaction_amount|           pan_token|\n",
      "+------------+---------------+----------------+----------------+------------------+--------------------+\n",
      "|         295|              2|      2017/09/01|             604|              3.39|5C538EB879B4645AF...|\n",
      "|         295|             24|      2017/09/01|             606|              3.38|ECDFB189903D31473...|\n",
      "|         295|              2|      2017/09/01|             626|              3.59|B73494120D3F178C3...|\n",
      "|         295|              2|      2017/09/01|             629|              3.28|96C37352E2BE6EEA2...|\n",
      "|         295|             26|      2017/09/01|             637|              1.78|7115627C2EE250A21...|\n",
      "+------------+---------------+----------------+----------------+------------------+--------------------+\n",
      "only showing top 5 rows\n",
      "\n"
     ]
    }
   ],
   "source": [
    "df_cards.show(5)"
   ]
  },
  {
   "cell_type": "markdown",
   "metadata": {},
   "source": [
    "## 6.4.- Convert transaction time to hour and minutes"
   ]
  },
  {
   "cell_type": "code",
   "execution_count": 56,
   "metadata": {},
   "outputs": [],
   "source": [
    "def convert_time(time_int):\n",
    "    time_flt = time_int/99.9999999\n",
    "    time = math.modf(time_flt)\n",
    "    hour = str(int(time[1]))\n",
    "    minutes = str(int(time[0]*100))\n",
    "    \n",
    "    if len(hour) == 1:\n",
    "        hour = hour.zfill(2)\n",
    "    if len(minutes) == 1:\n",
    "        minutes = minutes.zfill(2)\n",
    "    \n",
    "    time_str = hour + ':' + minutes + ':' + '00'\n",
    "    return time_str\n",
    "\n",
    "convert_time_udf = udf(convert_time, StringType())"
   ]
  },
  {
   "cell_type": "code",
   "execution_count": 57,
   "metadata": {},
   "outputs": [],
   "source": [
    "df_cards = df_cards.withColumn(\"transaction_time\", convert_time_udf(df_cards['transaction_time']))"
   ]
  },
  {
   "cell_type": "code",
   "execution_count": 58,
   "metadata": {},
   "outputs": [
    {
     "name": "stdout",
     "output_type": "stream",
     "text": [
      "+------------+---------------+----------------+----------------+------------------+--------------------+\n",
      "|store_number|terminal_number|transaction_date|transaction_time|transaction_amount|           pan_token|\n",
      "+------------+---------------+----------------+----------------+------------------+--------------------+\n",
      "|         295|              2|      2017/09/01|        06:04:00|              3.39|5C538EB879B4645AF...|\n",
      "|         295|             24|      2017/09/01|        06:06:00|              3.38|ECDFB189903D31473...|\n",
      "|         295|              2|      2017/09/01|        06:26:00|              3.59|B73494120D3F178C3...|\n",
      "|         295|              2|      2017/09/01|        06:29:00|              3.28|96C37352E2BE6EEA2...|\n",
      "|         295|             26|      2017/09/01|        06:37:00|              1.78|7115627C2EE250A21...|\n",
      "+------------+---------------+----------------+----------------+------------------+--------------------+\n",
      "only showing top 5 rows\n",
      "\n"
     ]
    }
   ],
   "source": [
    "df_cards.show(5)"
   ]
  },
  {
   "cell_type": "markdown",
   "metadata": {},
   "source": [
    "## 6.5.- Combine transaction date and time into a single timestamp, drop transaction_date and transaction_time"
   ]
  },
  {
   "cell_type": "code",
   "execution_count": 59,
   "metadata": {},
   "outputs": [],
   "source": [
    "df_cards = df_cards.withColumn('timestamp_tmp', concat(df_cards[\"transaction_date\"], lit(\" \"), \\\n",
    "                                                       df_cards[\"transaction_time\"]))"
   ]
  },
  {
   "cell_type": "code",
   "execution_count": 60,
   "metadata": {},
   "outputs": [],
   "source": [
    "col = to_timestamp(df_cards['timestamp_tmp'], 'yyyy/MM/dd HH:mm:ss')"
   ]
  },
  {
   "cell_type": "code",
   "execution_count": 61,
   "metadata": {},
   "outputs": [],
   "source": [
    "df_cards = df_cards.withColumn('timestamp_cards', col)"
   ]
  },
  {
   "cell_type": "code",
   "execution_count": 62,
   "metadata": {},
   "outputs": [],
   "source": [
    "df_cards = df_cards.drop('transaction_date', 'transaction_time', 'timestamp_tmp')"
   ]
  },
  {
   "cell_type": "code",
   "execution_count": 63,
   "metadata": {},
   "outputs": [
    {
     "name": "stdout",
     "output_type": "stream",
     "text": [
      "+------------+---------------+------------------+--------------------+-------------------+\n",
      "|store_number|terminal_number|transaction_amount|           pan_token|    timestamp_cards|\n",
      "+------------+---------------+------------------+--------------------+-------------------+\n",
      "|         295|              2|              3.39|5C538EB879B4645AF...|2017-09-01 06:04:00|\n",
      "|         295|             24|              3.38|ECDFB189903D31473...|2017-09-01 06:06:00|\n",
      "|         295|              2|              3.59|B73494120D3F178C3...|2017-09-01 06:26:00|\n",
      "|         295|              2|              3.28|96C37352E2BE6EEA2...|2017-09-01 06:29:00|\n",
      "|         295|             26|              1.78|7115627C2EE250A21...|2017-09-01 06:37:00|\n",
      "|         295|             24|              3.99|9A0B40CD994F4C878...|2017-09-01 06:38:00|\n",
      "|         295|             26|              6.18|DA5AC4203EB66A5D4...|2017-09-01 06:39:00|\n",
      "|         295|             22|             14.55|B4C3C406966A533ED...|2017-09-01 06:43:00|\n",
      "|         295|             26|              3.98|35A7DA3574AF36E8C...|2017-09-01 06:47:00|\n",
      "|         295|             24|              4.19|0DDAAD81F19ACCD4A...|2017-09-01 06:49:00|\n",
      "|         295|             23|              5.08|030176CFAAC1D0B37...|2017-09-01 06:49:00|\n",
      "|         295|             26|              7.48|62BC1FAE5B5B82AC6...|2017-09-01 06:57:00|\n",
      "|         295|             24|              3.59|2E932BA7AB9B5BC60...|2017-09-01 07:06:00|\n",
      "|         295|             26|              3.99|05BAE9C58C7BC1E3C...|2017-09-01 07:09:00|\n",
      "|         295|             22|              3.78|62242CF540B12DA88...|2017-09-01 07:09:00|\n",
      "|         295|              2|              2.19|14576C7A457B21DDF...|2017-09-01 07:23:00|\n",
      "|         295|              2|              3.79|8E2DDAE2BE00200D9...|2017-09-01 07:27:00|\n",
      "|         295|              2|              3.79|432B9A6FA1ACD3842...|2017-09-01 07:29:00|\n",
      "|         295|              2|              5.18|D18031A3A3FD7B192...|2017-09-01 07:30:00|\n",
      "|         295|              2|              2.59|24451DCA0811EAD2C...|2017-09-01 07:39:00|\n",
      "+------------+---------------+------------------+--------------------+-------------------+\n",
      "only showing top 20 rows\n",
      "\n"
     ]
    }
   ],
   "source": [
    "df_cards.show(20)"
   ]
  },
  {
   "cell_type": "markdown",
   "metadata": {},
   "source": [
    "# 7.- Remove unnecessary data from memory"
   ]
  },
  {
   "cell_type": "code",
   "execution_count": 64,
   "metadata": {},
   "outputs": [
    {
     "data": {
      "text/plain": [
       "DataFrame[store_number: int, terminal_number: int, transaction_date: string, transaction_time: int, transaction_amount: float, card_scheme: string, pan_token: string, empty_field: int]"
      ]
     },
     "execution_count": 64,
     "metadata": {},
     "output_type": "execute_result"
    }
   ],
   "source": [
    "df_Sep2017T.unpersist()\n",
    "df_Oct2017T.unpersist()\n",
    "df_Nov2017T.unpersist()"
   ]
  },
  {
   "cell_type": "markdown",
   "metadata": {},
   "source": [
    "# 8.- Save preprocessed data to disk"
   ]
  },
  {
   "cell_type": "code",
   "execution_count": null,
   "metadata": {},
   "outputs": [],
   "source": [
    "df_basket_cash.repartition(1).write.format('com.databricks.spark.csv').save('exeter_basket_cash.csv', header = 'true')"
   ]
  },
  {
   "cell_type": "code",
   "execution_count": null,
   "metadata": {},
   "outputs": [],
   "source": [
    "df_basket_cashless.repartition(1).write.format('com.databricks.spark.csv').save('exeter_basket_cashless.csv', header = 'true')"
   ]
  },
  {
   "cell_type": "code",
   "execution_count": null,
   "metadata": {},
   "outputs": [],
   "source": [
    "df_cards.repartition(1).write.format('com.databricks.spark.csv').save('exeter_cards.csv', header = 'true')"
   ]
  },
  {
   "cell_type": "markdown",
   "metadata": {},
   "source": [
    "# 9.- Linkage"
   ]
  },
  {
   "cell_type": "markdown",
   "metadata": {},
   "source": [
    "## 9.1.- Compute basket total plus VAT"
   ]
  },
  {
   "cell_type": "code",
   "execution_count": 96,
   "metadata": {},
   "outputs": [],
   "source": [
    "df_basket_cashless_aggregated = df_basket_cashless.groupBy(\"store_number\", \"timestamp_basket\", \"pos_code\", \\\n",
    "                                                           \"pos_id\").agg(sum(\"total_cost\").alias(\"total_cost\")). \\\n",
    "                                                                         orderBy(\"store_number\", \\\n",
    "                                                                                 \"timestamp_basket\", \n",
    "                                                                                 \"pos_code\", \\\n",
    "                                                                                 \"pos_id\")"
   ]
  },
  {
   "cell_type": "code",
   "execution_count": 97,
   "metadata": {},
   "outputs": [
    {
     "name": "stdout",
     "output_type": "stream",
     "text": [
      "+------------+-------------------+--------+-----------------+------------------+\n",
      "|store_number|   timestamp_basket|pos_code|           pos_id|        total_cost|\n",
      "+------------+-------------------+--------+-----------------+------------------+\n",
      "|         295|2017-09-01 06:00:00|       2|POS0002:595643114| 2.819999933242798|\n",
      "|         295|2017-09-01 06:00:00|      24|POS0024:977032388| 2.819999933242798|\n",
      "|         295|2017-09-01 06:15:00|       2|POS0002:595643120| 2.990000009536743|\n",
      "|         295|2017-09-01 06:15:00|       2|POS0002:595643121|2.7300000190734863|\n",
      "|         295|2017-09-01 06:30:00|      22|POS0022:802104822|12.120000004768372|\n",
      "+------------+-------------------+--------+-----------------+------------------+\n",
      "only showing top 5 rows\n",
      "\n"
     ]
    }
   ],
   "source": [
    "df_basket_cashless_aggregated.show(5)"
   ]
  },
  {
   "cell_type": "code",
   "execution_count": 98,
   "metadata": {},
   "outputs": [],
   "source": [
    "df_basket_cashless_aggregated = df_basket_cashless_aggregated.withColumn('sale_total', col('total_cost')*1.2)"
   ]
  },
  {
   "cell_type": "code",
   "execution_count": 99,
   "metadata": {},
   "outputs": [
    {
     "name": "stdout",
     "output_type": "stream",
     "text": [
      "+------------+-------------------+--------+-----------------+------------------+------------------+\n",
      "|store_number|   timestamp_basket|pos_code|           pos_id|        total_cost|        sale_total|\n",
      "+------------+-------------------+--------+-----------------+------------------+------------------+\n",
      "|         295|2017-09-01 06:00:00|       2|POS0002:595643114| 2.819999933242798|3.3839999198913575|\n",
      "|         295|2017-09-01 06:00:00|      24|POS0024:977032388| 2.819999933242798|3.3839999198913575|\n",
      "|         295|2017-09-01 06:15:00|       2|POS0002:595643120| 2.990000009536743|3.5880000114440915|\n",
      "|         295|2017-09-01 06:15:00|       2|POS0002:595643121|2.7300000190734863|3.2760000228881836|\n",
      "|         295|2017-09-01 06:30:00|      22|POS0022:802104822|12.120000004768372|14.544000005722046|\n",
      "+------------+-------------------+--------+-----------------+------------------+------------------+\n",
      "only showing top 5 rows\n",
      "\n"
     ]
    }
   ],
   "source": [
    "df_basket_cashless_aggregated.show(5)"
   ]
  },
  {
   "cell_type": "code",
   "execution_count": 100,
   "metadata": {},
   "outputs": [],
   "source": [
    "df_basket_cashless_aggregated = df_basket_cashless_aggregated.\\\n",
    "                                withColumn(\"sale_total\", round(df_basket_cashless_aggregated[\"sale_total\"], 2))"
   ]
  },
  {
   "cell_type": "code",
   "execution_count": 102,
   "metadata": {},
   "outputs": [
    {
     "name": "stdout",
     "output_type": "stream",
     "text": [
      "+------------+-------------------+--------+-----------------+------------------+----------+\n",
      "|store_number|   timestamp_basket|pos_code|           pos_id|        total_cost|sale_total|\n",
      "+------------+-------------------+--------+-----------------+------------------+----------+\n",
      "|         295|2017-09-01 06:00:00|       2|POS0002:595643114| 2.819999933242798|      3.38|\n",
      "|         295|2017-09-01 06:00:00|      24|POS0024:977032388| 2.819999933242798|      3.38|\n",
      "|         295|2017-09-01 06:15:00|       2|POS0002:595643120| 2.990000009536743|      3.59|\n",
      "|         295|2017-09-01 06:15:00|       2|POS0002:595643121|2.7300000190734863|      3.28|\n",
      "|         295|2017-09-01 06:30:00|      22|POS0022:802104822|12.120000004768372|     14.54|\n",
      "+------------+-------------------+--------+-----------------+------------------+----------+\n",
      "only showing top 5 rows\n",
      "\n"
     ]
    }
   ],
   "source": [
    "df_basket_cashless_aggregated.show(5)"
   ]
  },
  {
   "cell_type": "markdown",
   "metadata": {},
   "source": [
    "## 9.2.- Join aggregated basket with card data using sale total"
   ]
  },
  {
   "cell_type": "code",
   "execution_count": 103,
   "metadata": {},
   "outputs": [],
   "source": [
    "df_basket_cashless.registerTempTable('basket')\n",
    "df_basket_cashless_aggregated.registerTempTable('basket_aggregated')\n",
    "df_cards.registerTempTable('cards')"
   ]
  },
  {
   "cell_type": "code",
   "execution_count": 108,
   "metadata": {},
   "outputs": [],
   "source": [
    "# we consider transaction amounts that are 5% above and below computed sale totals\n",
    "df_joined_basket0 = sqlContext.sql(\"SELECT basket_aggregated.*, cards.transaction_amount, cards.pan_token, \\\n",
    "                             cards.timestamp_cards \\\n",
    "                             FROM basket_aggregated \\\n",
    "                             JOIN cards ON \\\n",
    "                             basket_aggregated.store_number = cards.store_number AND \\\n",
    "                             basket_aggregated.pos_code = cards.terminal_number AND \\\n",
    "                             cards.timestamp_cards >= basket_aggregated.timestamp_basket AND \\\n",
    "                             cards.timestamp_cards < basket_aggregated.timestamp_basket + INTERVAL 15 MINUTES AND \\\n",
    "                             cards.transaction_amount < basket_aggregated.sale_total*1.05 AND \\\n",
    "                             cards.transaction_amount > basket_aggregated.sale_total*0.95 \\\n",
    "                             ORDER BY basket_aggregated.store_number, basket_aggregated.timestamp_basket, \\\n",
    "                             basket_aggregated.pos_code, basket_aggregated.pos_id\")"
   ]
  },
  {
   "cell_type": "code",
   "execution_count": 109,
   "metadata": {},
   "outputs": [
    {
     "name": "stdout",
     "output_type": "stream",
     "text": [
      "+------------+-------------------+--------+------------------+------------------+----------+------------------+--------------------+-------------------+\n",
      "|store_number|   timestamp_basket|pos_code|            pos_id|        total_cost|sale_total|transaction_amount|           pan_token|    timestamp_cards|\n",
      "+------------+-------------------+--------+------------------+------------------+----------+------------------+--------------------+-------------------+\n",
      "|         295|2017-09-01 06:00:00|       2| POS0002:595643114| 2.819999933242798|      3.38|              3.39|5C538EB879B4645AF...|2017-09-01 06:04:00|\n",
      "|         295|2017-09-01 06:00:00|      24| POS0024:977032388| 2.819999933242798|      3.38|              3.38|ECDFB189903D31473...|2017-09-01 06:06:00|\n",
      "|         295|2017-09-01 06:15:00|       2| POS0002:595643120| 2.990000009536743|      3.59|              3.59|B73494120D3F178C3...|2017-09-01 06:26:00|\n",
      "|         295|2017-09-01 06:15:00|       2| POS0002:595643121|2.7300000190734863|      3.28|              3.28|96C37352E2BE6EEA2...|2017-09-01 06:29:00|\n",
      "|         295|2017-09-01 06:30:00|      22| POS0022:802104822|12.120000004768372|     14.54|             14.55|B4C3C406966A533ED...|2017-09-01 06:43:00|\n",
      "|         295|2017-09-01 06:30:00|      24| POS0024:977032389|3.3299999237060547|       4.0|              3.99|9A0B40CD994F4C878...|2017-09-01 06:38:00|\n",
      "|         295|2017-09-01 06:30:00|      26| POS0026:514614045|1.4800000190734863|      1.78|              1.78|7115627C2EE250A21...|2017-09-01 06:37:00|\n",
      "|         295|2017-09-01 06:30:00|      26| POS0026:514614046| 5.159999966621399|      6.19|              6.18|DA5AC4203EB66A5D4...|2017-09-01 06:39:00|\n",
      "|         295|2017-09-01 06:45:00|      23| POS0023:711444560| 4.230000019073486|      5.08|              5.08|030176CFAAC1D0B37...|2017-09-01 06:49:00|\n",
      "|         295|2017-09-01 06:45:00|      24| POS0024:977032390| 3.490000009536743|      4.19|              4.19|0DDAAD81F19ACCD4A...|2017-09-01 06:49:00|\n",
      "|         295|2017-09-01 06:45:00|      26| POS0026:514614047| 3.319999933242798|      3.98|              3.98|35A7DA3574AF36E8C...|2017-09-01 06:47:00|\n",
      "|         295|2017-09-01 06:45:00|      26| POS0026:514614048| 6.230000019073486|      7.48|              7.48|62BC1FAE5B5B82AC6...|2017-09-01 06:57:00|\n",
      "|         295|2017-09-01 07:00:00|      22| POS0022:802104823|3.1500000953674316|      3.78|              3.78|62242CF540B12DA88...|2017-09-01 07:09:00|\n",
      "|         295|2017-09-01 07:00:00|      24| POS0024:977032391| 2.990000009536743|      3.59|              3.59|2E932BA7AB9B5BC60...|2017-09-01 07:06:00|\n",
      "|         295|2017-09-01 07:00:00|      26| POS0026:514614049|3.3299999237060547|       4.0|              3.99|05BAE9C58C7BC1E3C...|2017-09-01 07:09:00|\n",
      "|         295|2017-09-01 07:15:00|       2| POS0002:595643137|1.8300000429153442|       2.2|              2.19|14576C7A457B21DDF...|2017-09-01 07:23:00|\n",
      "|         295|2017-09-01 07:15:00|       2| POS0002:595643139|3.1600000858306885|      3.79|              3.79|432B9A6FA1ACD3842...|2017-09-01 07:29:00|\n",
      "|         295|2017-09-01 07:15:00|       2| POS0002:595643139|3.1600000858306885|      3.79|              3.79|8E2DDAE2BE00200D9...|2017-09-01 07:27:00|\n",
      "|         295|2017-09-01 07:30:00|       2| POS0002:595643142|2.1600000858306885|      2.59|              2.59|24451DCA0811EAD2C...|2017-09-01 07:39:00|\n",
      "|         295|2017-09-01 07:45:00|      26| POS0026:514614051|1.4900000095367432|      1.79|              1.79|4F8E38FEC1A6E1ED4...|2017-09-01 07:59:00|\n",
      "|         295|2017-09-01 08:00:00|       2| POS0002:595643147|3.3299999237060547|       4.0|              3.99|EFC0079047DE9FACE...|2017-09-01 08:04:00|\n",
      "|         295|2017-09-01 08:00:00|      25| POS0025:558486044| 4.069999933242798|      4.88|              4.88|A0F5192C2D5C0A24C...|2017-09-01 08:10:00|\n",
      "|         295|2017-09-01 08:00:00|      28|POS0028:1064794145| 2.899999976158142|      3.48|              3.47|F6BD052E8E795E386...|2017-09-01 08:14:00|\n",
      "|         295|2017-09-01 08:15:00|       2| POS0002:595643154|3.3299999237060547|       4.0|              3.99|A17785CC114ADAD22...|2017-09-01 08:16:00|\n",
      "|         295|2017-09-01 08:15:00|       2| POS0002:595643155| 2.990000009536743|      3.59|              3.59|D9C87BE03FBF61447...|2017-09-01 08:17:00|\n",
      "|         295|2017-09-01 08:15:00|       2| POS0002:595643157| 4.069999933242798|      4.88|              4.88|F7D855F72C6338BDF...|2017-09-01 08:18:00|\n",
      "|         295|2017-09-01 08:15:00|       2| POS0002:595643160| 1.909999966621399|      2.29|              2.29|9E01276A353DCA0C6...|2017-09-01 08:21:00|\n",
      "|         295|2017-09-01 08:15:00|      21| POS0021:902170811| 2.990000009536743|      3.59|              3.59|B3761B096363EF172...|2017-09-01 08:24:00|\n",
      "|         295|2017-09-01 08:15:00|      21| POS0021:902170812|0.9100000262260437|      1.09|              1.09|BA8798758019E0722...|2017-09-01 08:28:00|\n",
      "|         295|2017-09-01 08:15:00|      22| POS0022:802104824| 2.990000009536743|      3.59|              3.59|39E7EE356337F3C46...|2017-09-01 08:22:00|\n",
      "|         295|2017-09-01 08:15:00|      26| POS0026:514614052| 4.069999933242798|      4.88|              4.88|1151611163708DD7B...|2017-09-01 08:17:00|\n",
      "|         295|2017-09-01 08:15:00|      26| POS0026:514614053|2.4100000858306885|      2.89|              2.89|F548254D6F7DA7BD5...|2017-09-01 08:20:00|\n",
      "|         295|2017-09-01 08:15:00|      26| POS0026:514614054|2.9800000190734863|      3.58|              3.58|445AC3C1D778A648D...|2017-09-01 08:21:00|\n",
      "|         295|2017-09-01 08:15:00|      26| POS0026:514614054|2.9800000190734863|      3.58|              3.59|02A86A4391CE22059...|2017-09-01 08:29:00|\n",
      "|         295|2017-09-01 08:15:00|      26| POS0026:514614055|1.2400000095367432|      1.49|              1.49|35F7257CF8AE6F3A3...|2017-09-01 08:23:00|\n",
      "|         295|2017-09-01 08:15:00|      26| POS0026:514614056|2.1600000858306885|      2.59|              2.59|D15CE6CEE53FA9BB0...|2017-09-01 08:25:00|\n",
      "|         295|2017-09-01 08:15:00|      26| POS0026:514614057| 2.990000009536743|      3.59|              3.58|445AC3C1D778A648D...|2017-09-01 08:21:00|\n",
      "|         295|2017-09-01 08:15:00|      26| POS0026:514614057| 2.990000009536743|      3.59|              3.59|02A86A4391CE22059...|2017-09-01 08:29:00|\n",
      "|         295|2017-09-01 08:15:00|      27| POS0027:418107633|2.1600000858306885|      2.59|              2.59|3C202B9F80A9E9E8F...|2017-09-01 08:27:00|\n",
      "|         295|2017-09-01 08:30:00|       2| POS0002:595643167|3.3299999237060547|       4.0|              3.99|0A838C015BCF11E69...|2017-09-01 08:32:00|\n",
      "|         295|2017-09-01 08:30:00|       2| POS0002:595643176| 1.909999966621399|      2.29|              2.29|BEFA4FF193E78CAA9...|2017-09-01 08:44:00|\n",
      "|         295|2017-09-01 08:30:00|      21| POS0021:902170813|1.9800000190734863|      2.38|              2.38|FA755EC4093137FD7...|2017-09-01 08:34:00|\n",
      "|         295|2017-09-01 08:30:00|      22| POS0022:802104825| 2.990000009536743|      3.59|              3.59|8FBCF128019EBA20F...|2017-09-01 08:38:00|\n",
      "|         295|2017-09-01 08:30:00|      23| POS0023:711444561|10.289999902248383|     12.35|             12.34|8EDD4C6BABF05E639...|2017-09-01 08:42:00|\n",
      "|         295|2017-09-01 08:30:00|      24| POS0024:977032393| 6.230000138282776|      7.48|              7.47|186C62AA79D209087...|2017-09-01 08:38:00|\n",
      "|         295|2017-09-01 08:30:00|      24| POS0024:977032394| 2.990000009536743|      3.59|              3.59|ABD8E2A21A3B03D3D...|2017-09-01 08:43:00|\n",
      "|         295|2017-09-01 08:30:00|      26| POS0026:514614058| 4.980000019073486|      5.98|              5.98|FD8F56B5EB582B851...|2017-09-01 08:31:00|\n",
      "|         295|2017-09-01 08:30:00|      26| POS0026:514614059|2.6600000262260437|      3.19|              3.18|2EF58AFD90EE36778...|2017-09-01 08:33:00|\n",
      "|         295|2017-09-01 08:45:00|       2| POS0002:595643183|3.3299999237060547|       4.0|              3.99|B3291A6ED449FFC2D...|2017-09-01 08:52:00|\n",
      "|         295|2017-09-01 08:45:00|      21| POS0021:902170814|3.3100000619888306|      3.97|              3.97|CBC336B7368EC6039...|2017-09-01 08:50:00|\n",
      "|         295|2017-09-01 08:45:00|      22| POS0022:802104826| 7.230000078678131|      8.68|              8.66|3A97D23E1822EB7CE...|2017-09-01 08:51:00|\n",
      "|         295|2017-09-01 08:45:00|      22| POS0022:802104827|2.1600000858306885|      2.59|              2.59|6D3DB617C3575214A...|2017-09-01 08:56:00|\n",
      "|         295|2017-09-01 08:45:00|      22| POS0022:802104828| 3.240000009536743|      3.89|              3.89|4F9B7ADD2FC21DDC1...|2017-09-01 08:57:00|\n",
      "|         295|2017-09-01 08:45:00|      24| POS0024:977032396| 8.430000185966492|     10.12|              9.87|9EAD1845397BCE6C5...|2017-09-01 08:59:00|\n",
      "|         295|2017-09-01 08:45:00|      28|POS0028:1064794146| 6.319999933242798|      7.58|              7.58|054F825158F4C51B1...|2017-09-01 08:48:00|\n",
      "|         295|2017-09-01 09:00:00|       2| POS0002:595643186| 3.240000009536743|      3.89|              3.89|0BF98825374B86E09...|2017-09-01 09:01:00|\n",
      "|         295|2017-09-01 09:00:00|       2| POS0002:595643187| 5.980000019073486|      7.18|              7.18|BF282F9F5BFE9BCD3...|2017-09-01 09:02:00|\n",
      "|         295|2017-09-01 09:00:00|       2| POS0002:595643194| 4.320000171661377|      5.18|              5.18|ED4BF4B9E94DA103D...|2017-09-01 09:14:00|\n",
      "|         295|2017-09-01 09:00:00|      22| POS0022:802104829|3.6600000858306885|      4.39|              4.29|9BBA140DACB760E11...|2017-09-01 09:11:00|\n",
      "|         295|2017-09-01 09:00:00|      22| POS0022:802104829|3.6600000858306885|      4.39|              4.38|B7FB37F97F054DD71...|2017-09-01 09:09:00|\n",
      "|         295|2017-09-01 09:00:00|      22| POS0022:802104830|3.5799999237060547|       4.3|              4.29|9BBA140DACB760E11...|2017-09-01 09:11:00|\n",
      "|         295|2017-09-01 09:00:00|      22| POS0022:802104830|3.5799999237060547|       4.3|              4.38|B7FB37F97F054DD71...|2017-09-01 09:09:00|\n",
      "|         295|2017-09-01 09:00:00|      24| POS0024:977032397| 6.150000095367432|      7.38|              7.38|3A8BB875B52819E7C...|2017-09-01 09:03:00|\n",
      "|         295|2017-09-01 09:00:00|      24| POS0024:977032398| 1.409999966621399|      1.69|              1.69|1A36EEB0290A96846...|2017-09-01 09:06:00|\n",
      "|         295|2017-09-01 09:00:00|      24| POS0024:977032399|3.7300000190734863|      4.48|              4.48|7C4CFA5F9B21C7F22...|2017-09-01 09:08:00|\n",
      "|         295|2017-09-01 09:00:00|      24| POS0024:977032400| 7.900000035762787|      9.48|              9.47|B8ABA007C7B9DDD85...|2017-09-01 09:14:00|\n",
      "|         295|2017-09-01 09:00:00|      26| POS0026:514614060| 2.990000009536743|      3.59|              3.59|CAB5367703EE43870...|2017-09-01 09:01:00|\n",
      "|         295|2017-09-01 09:00:00|      26| POS0026:514614061| 4.069999992847443|      4.88|              4.88|958DE964CF6117AC4...|2017-09-01 09:09:00|\n",
      "|         295|2017-09-01 09:00:00|      26| POS0026:514614062| 8.220000147819519|      9.86|              9.86|E28B4A8CDFFE671C5...|2017-09-01 09:12:00|\n",
      "|         295|2017-09-01 09:00:00|      27| POS0027:418107635|3.9000000953674316|      4.68|              4.68|4CA3D1C233423508A...|2017-09-01 09:07:00|\n",
      "|         295|2017-09-01 09:15:00|       2| POS0002:595643198|3.3299999237060547|       4.0|              3.99|C73CD927FAE049549...|2017-09-01 09:22:00|\n",
      "|         295|2017-09-01 09:15:00|      22| POS0022:802104831| 1.159999966621399|      1.39|              1.39|EB3152C714F8D0B41...|2017-09-01 09:26:00|\n",
      "|         295|2017-09-01 09:15:00|      24| POS0024:977032401| 8.139999866485596|      9.77|              9.76|FF22B3E89C6CF4D4B...|2017-09-01 09:26:00|\n",
      "|         295|2017-09-01 09:15:00|      25| POS0025:558486047| 3.490000009536743|      4.19|              4.18|F6008CDD746BC5DED...|2017-09-01 09:29:00|\n",
      "|         295|2017-09-01 09:15:00|      26| POS0026:514614064| 2.990000009536743|      3.59|              3.59|FF118779E74A896E6...|2017-09-01 09:29:00|\n",
      "|         295|2017-09-01 09:30:00|       2| POS0002:595643210| 5.319999933242798|      6.38|              6.38|9461E1C5A4AC83597...|2017-09-01 09:39:00|\n",
      "|         295|2017-09-01 09:30:00|       2| POS0002:595643211| 5.809999942779541|      6.97|              6.98|E20C9C107DB4B98D6...|2017-09-01 09:40:00|\n",
      "|         295|2017-09-01 09:30:00|       2| POS0002:595643212| 8.809999942779541|     10.57|             10.55|49490EE2CA24BBE70...|2017-09-01 09:30:00|\n",
      "|         295|2017-09-01 09:30:00|       2| POS0002:595643212| 8.809999942779541|     10.57|             10.57|4BA4EE3F7F9BB31BA...|2017-09-01 09:41:00|\n",
      "|         295|2017-09-01 09:30:00|      21| POS0021:902170816| 6.659999847412109|      7.99|              7.98|0A01A5965C06B02E1...|2017-09-01 09:36:00|\n",
      "|         295|2017-09-01 09:30:00|      21| POS0021:902170817| 2.990000009536743|      3.59|              3.59|0B7AAFE482999E93B...|2017-09-01 09:44:00|\n",
      "|         295|2017-09-01 09:30:00|      22| POS0022:802104832| 7.149999916553497|      8.58|              8.57|9220A13883025E1E0...|2017-09-01 09:32:00|\n",
      "|         295|2017-09-01 09:30:00|      23| POS0023:711444562|3.3299999237060547|       4.0|              3.99|EBF81B558158DE876...|2017-09-01 09:43:00|\n",
      "|         295|2017-09-01 09:30:00|      24| POS0024:977032402| 3.559999942779541|      4.27|              4.28|775681D5DAB7148F0...|2017-09-01 09:30:00|\n",
      "|         295|2017-09-01 09:30:00|      26| POS0026:514614065|  9.56000018119812|     11.47|             11.46|5F6A5F3A1013217DE...|2017-09-01 09:37:00|\n",
      "|         295|2017-09-01 09:30:00|      28|POS0028:1064794147|3.9799998998641968|      4.78|              4.78|7E52C765139AC563A...|2017-09-01 09:37:00|\n",
      "|         295|2017-09-01 09:45:00|       2| POS0002:595643218| 6.650000095367432|      7.98|              7.97|01A5D10E6EB582A38...|2017-09-01 09:55:00|\n",
      "|         295|2017-09-01 09:45:00|      21| POS0021:902170818| 4.320000171661377|      5.18|              5.18|A37AE7DC59EF2FA5B...|2017-09-01 09:49:00|\n",
      "|         295|2017-09-01 09:45:00|      24| POS0024:977032404|2.1600000858306885|      2.59|              2.59|79245FBD97B5BD993...|2017-09-01 09:52:00|\n",
      "|         295|2017-09-01 09:45:00|      24| POS0024:977032405| 2.990000009536743|      3.59|              3.59|A7379AB0939FC951C...|2017-09-01 09:58:00|\n",
      "|         295|2017-09-01 09:45:00|      26| POS0026:514614067| 3.810000002384186|      4.57|              4.67|FF94F535F11821D64...|2017-09-01 09:54:00|\n",
      "|         295|2017-09-01 09:45:00|      26| POS0026:514614067| 3.810000002384186|      4.57|              4.57|1C0C84FA8D90FD9A6...|2017-09-01 09:49:00|\n",
      "|         295|2017-09-01 09:45:00|      26| POS0026:514614068| 5.980000019073486|      7.18|              7.18|3125933EBC3EFD847...|2017-09-01 09:51:00|\n",
      "|         295|2017-09-01 09:45:00|      26| POS0026:514614069| 3.890000104904175|      4.67|              4.67|FF94F535F11821D64...|2017-09-01 09:54:00|\n",
      "|         295|2017-09-01 09:45:00|      26| POS0026:514614069| 3.890000104904175|      4.67|              4.57|1C0C84FA8D90FD9A6...|2017-09-01 09:49:00|\n",
      "|         295|2017-09-01 09:45:00|      27| POS0027:418107636|2.5700000524520874|      3.08|              3.08|514B7C43B16EDBE0C...|2017-09-01 09:46:00|\n",
      "|         295|2017-09-01 10:00:00|       2| POS0002:595643220| 2.990000009536743|      3.59|              3.59|DF48BD7E9EDDE3917...|2017-09-01 10:00:00|\n",
      "|         295|2017-09-01 10:00:00|       2| POS0002:595643226| 4.320000171661377|      5.18|              5.18|D78E5BD0BB84B1C84...|2017-09-01 10:05:00|\n",
      "|         295|2017-09-01 10:00:00|       2| POS0002:595643237| 7.300000071525574|      8.76|              8.76|E9F8BF54CED5B3101...|2017-09-01 10:12:00|\n",
      "|         295|2017-09-01 10:00:00|       2| POS0002:595643240| 2.569999933242798|      3.08|              3.09|2AEA994947F564240...|2017-09-01 10:14:00|\n",
      "+------------+-------------------+--------+------------------+------------------+----------+------------------+--------------------+-------------------+\n",
      "only showing top 100 rows\n",
      "\n"
     ]
    }
   ],
   "source": [
    "df_joined_basket0.show(100)"
   ]
  },
  {
   "cell_type": "code",
   "execution_count": 110,
   "metadata": {},
   "outputs": [],
   "source": [
    "df_joined_basket0.registerTempTable('joined_basket0')"
   ]
  },
  {
   "cell_type": "markdown",
   "metadata": {},
   "source": [
    "## 9.3.- Join total sale - basket data with card data "
   ]
  },
  {
   "cell_type": "code",
   "execution_count": 112,
   "metadata": {},
   "outputs": [],
   "source": [
    "df_joined_basket1 = sqlContext.sql(\"SELECT basket.*, joined_basket0.transaction_amount, joined_basket0.pan_token, \\\n",
    "                             joined_basket0.timestamp_cards \\\n",
    "                             FROM basket \\\n",
    "                             JOIN joined_basket0 ON \\\n",
    "                             basket.store_number = joined_basket0.store_number AND \\\n",
    "                             basket.pos_code = joined_basket0.pos_code AND \\\n",
    "                             joined_basket0.timestamp_cards >= basket.timestamp_basket AND \\\n",
    "                             joined_basket0.timestamp_cards < basket.timestamp_basket + INTERVAL 15 MINUTES \\\n",
    "                             ORDER BY basket.store_number, basket.timestamp_basket, basket.pos_code, basket.sale_number\")"
   ]
  },
  {
   "cell_type": "code",
   "execution_count": 113,
   "metadata": {},
   "outputs": [
    {
     "name": "stdout",
     "output_type": "stream",
     "text": [
      "+------------+-------------------+--------+-----------------+-----------+----------+---------+--------+------------+------------------+--------------------+-------------------+\n",
      "|store_number|   timestamp_basket|pos_code|           pos_id|sale_number|total_cost|unit_cost|quantity|menu_item_id|transaction_amount|           pan_token|    timestamp_cards|\n",
      "+------------+-------------------+--------+-----------------+-----------+----------+---------+--------+------------+------------------+--------------------+-------------------+\n",
      "|         295|2017-09-01 06:00:00|       2|POS0002:595643114|          1|      0.25|     0.25|       1|        3939|              3.39|5C538EB879B4645AF...|2017-09-01 06:04:00|\n",
      "|         295|2017-09-01 06:00:00|       2|POS0002:595643114|          2|       0.0|      0.0|       1|        5501|              3.39|5C538EB879B4645AF...|2017-09-01 06:04:00|\n",
      "|         295|2017-09-01 06:00:00|       2|POS0002:595643114|          3|      2.57|     2.57|       1|        5127|              3.39|5C538EB879B4645AF...|2017-09-01 06:04:00|\n",
      "|         295|2017-09-01 06:00:00|      24|POS0024:977032388|          1|      2.82|     1.41|       2|        5095|              3.38|ECDFB189903D31473...|2017-09-01 06:06:00|\n",
      "|         295|2017-09-01 06:15:00|       2|POS0002:595643120|          1|       0.0|      0.0|       1|        3718|              3.59|B73494120D3F178C3...|2017-09-01 06:26:00|\n",
      "|         295|2017-09-01 06:15:00|       2|POS0002:595643121|          1|      1.49|     1.49|       1|        3521|              3.59|B73494120D3F178C3...|2017-09-01 06:26:00|\n",
      "|         295|2017-09-01 06:15:00|       2|POS0002:595643120|          1|       0.0|      0.0|       1|        3718|              3.28|96C37352E2BE6EEA2...|2017-09-01 06:29:00|\n",
      "|         295|2017-09-01 06:15:00|       2|POS0002:595643121|          1|      1.49|     1.49|       1|        3521|              3.28|96C37352E2BE6EEA2...|2017-09-01 06:29:00|\n",
      "|         295|2017-09-01 06:15:00|       2|POS0002:595643120|          2|      2.99|     2.99|       1|        5320|              3.28|96C37352E2BE6EEA2...|2017-09-01 06:29:00|\n",
      "|         295|2017-09-01 06:15:00|       2|POS0002:595643121|          2|      1.24|     1.24|       1|        3536|              3.59|B73494120D3F178C3...|2017-09-01 06:26:00|\n",
      "|         295|2017-09-01 06:15:00|       2|POS0002:595643121|          2|      1.24|     1.24|       1|        3536|              3.28|96C37352E2BE6EEA2...|2017-09-01 06:29:00|\n",
      "|         295|2017-09-01 06:15:00|       2|POS0002:595643120|          2|      2.99|     2.99|       1|        5320|              3.59|B73494120D3F178C3...|2017-09-01 06:26:00|\n",
      "|         295|2017-09-01 06:15:00|       2|POS0002:595643120|          3|       0.0|      0.0|       1|        5501|              3.28|96C37352E2BE6EEA2...|2017-09-01 06:29:00|\n",
      "|         295|2017-09-01 06:15:00|       2|POS0002:595643120|          3|       0.0|      0.0|       1|        5501|              3.59|B73494120D3F178C3...|2017-09-01 06:26:00|\n",
      "|         295|2017-09-01 06:30:00|      22|POS0022:802104822|          1|      2.99|     2.99|       1|        5320|             14.55|B4C3C406966A533ED...|2017-09-01 06:43:00|\n",
      "|         295|2017-09-01 06:30:00|      22|POS0022:802104822|          2|      0.99|     0.99|       1|        3485|             14.55|B4C3C406966A533ED...|2017-09-01 06:43:00|\n",
      "|         295|2017-09-01 06:30:00|      22|POS0022:802104822|          3|      1.16|     1.16|       1|        5157|             14.55|B4C3C406966A533ED...|2017-09-01 06:43:00|\n",
      "|         295|2017-09-01 06:30:00|      22|POS0022:802104822|          4|      3.16|     3.16|       1|        5441|             14.55|B4C3C406966A533ED...|2017-09-01 06:43:00|\n",
      "|         295|2017-09-01 06:30:00|      22|POS0022:802104822|          5|       0.0|      0.0|       1|        5501|             14.55|B4C3C406966A533ED...|2017-09-01 06:43:00|\n",
      "|         295|2017-09-01 06:30:00|      22|POS0022:802104822|          6|       0.0|      0.0|       1|        5501|             14.55|B4C3C406966A533ED...|2017-09-01 06:43:00|\n",
      "|         295|2017-09-01 06:30:00|      22|POS0022:802104822|          7|       0.0|      0.0|       1|        2896|             14.55|B4C3C406966A533ED...|2017-09-01 06:43:00|\n",
      "|         295|2017-09-01 06:30:00|      22|POS0022:802104822|          8|       0.5|      0.5|       1|        2662|             14.55|B4C3C406966A533ED...|2017-09-01 06:43:00|\n",
      "|         295|2017-09-01 06:30:00|      22|POS0022:802104822|          9|      2.57|     2.57|       1|        5127|             14.55|B4C3C406966A533ED...|2017-09-01 06:43:00|\n",
      "|         295|2017-09-01 06:30:00|      22|POS0022:802104822|         10|      0.25|     0.25|       1|        3586|             14.55|B4C3C406966A533ED...|2017-09-01 06:43:00|\n",
      "|         295|2017-09-01 06:30:00|      22|POS0022:802104822|         11|       0.5|      0.5|       1|        3940|             14.55|B4C3C406966A533ED...|2017-09-01 06:43:00|\n",
      "|         295|2017-09-01 06:30:00|      24|POS0024:977032389|          1|       0.0|      0.0|       1|        5501|              3.99|9A0B40CD994F4C878...|2017-09-01 06:38:00|\n",
      "|         295|2017-09-01 06:30:00|      24|POS0024:977032389|          2|      3.33|     3.33|       1|        5125|              3.99|9A0B40CD994F4C878...|2017-09-01 06:38:00|\n",
      "|         295|2017-09-01 06:30:00|      24|POS0024:977032389|          3|       0.0|      0.0|       1|        3787|              3.99|9A0B40CD994F4C878...|2017-09-01 06:38:00|\n",
      "|         295|2017-09-01 06:30:00|      26|POS0026:514614045|          1|      1.48|     0.74|       2|        5500|              1.78|7115627C2EE250A21...|2017-09-01 06:37:00|\n",
      "|         295|2017-09-01 06:30:00|      26|POS0026:514614045|          1|      1.48|     0.74|       2|        5500|              6.18|DA5AC4203EB66A5D4...|2017-09-01 06:39:00|\n",
      "|         295|2017-09-01 06:30:00|      26|POS0026:514614046|          1|       0.0|      0.0|       1|        3718|              6.18|DA5AC4203EB66A5D4...|2017-09-01 06:39:00|\n",
      "|         295|2017-09-01 06:30:00|      26|POS0026:514614046|          1|       0.0|      0.0|       1|        3718|              1.78|7115627C2EE250A21...|2017-09-01 06:37:00|\n",
      "|         295|2017-09-01 06:30:00|      26|POS0026:514614046|          2|      3.33|     3.33|       1|        5125|              1.78|7115627C2EE250A21...|2017-09-01 06:37:00|\n",
      "|         295|2017-09-01 06:30:00|      26|POS0026:514614046|          2|      3.33|     3.33|       1|        5125|              6.18|DA5AC4203EB66A5D4...|2017-09-01 06:39:00|\n",
      "|         295|2017-09-01 06:30:00|      26|POS0026:514614046|          3|       0.0|      0.0|       1|        5501|              1.78|7115627C2EE250A21...|2017-09-01 06:37:00|\n",
      "|         295|2017-09-01 06:30:00|      26|POS0026:514614046|          3|       0.0|      0.0|       1|        5501|              6.18|DA5AC4203EB66A5D4...|2017-09-01 06:39:00|\n",
      "|         295|2017-09-01 06:30:00|      26|POS0026:514614046|          4|      1.83|     1.83|       1|        5096|              1.78|7115627C2EE250A21...|2017-09-01 06:37:00|\n",
      "|         295|2017-09-01 06:30:00|      26|POS0026:514614046|          4|      1.83|     1.83|       1|        5096|              6.18|DA5AC4203EB66A5D4...|2017-09-01 06:39:00|\n",
      "|         295|2017-09-01 06:45:00|      23|POS0023:711444560|          1|      3.24|     3.24|       1|        5439|              5.08|030176CFAAC1D0B37...|2017-09-01 06:49:00|\n",
      "|         295|2017-09-01 06:45:00|      23|POS0023:711444560|          2|      0.25|     0.25|       1|        3587|              5.08|030176CFAAC1D0B37...|2017-09-01 06:49:00|\n",
      "|         295|2017-09-01 06:45:00|      23|POS0023:711444560|          3|      0.74|     0.74|       1|        5500|              5.08|030176CFAAC1D0B37...|2017-09-01 06:49:00|\n",
      "|         295|2017-09-01 06:45:00|      24|POS0024:977032390|          1|       0.5|      0.5|       1|        3940|              4.19|0DDAAD81F19ACCD4A...|2017-09-01 06:49:00|\n",
      "|         295|2017-09-01 06:45:00|      24|POS0024:977032390|          2|       0.0|      0.0|       1|        5501|              4.19|0DDAAD81F19ACCD4A...|2017-09-01 06:49:00|\n",
      "|         295|2017-09-01 06:45:00|      24|POS0024:977032390|          3|      2.99|     2.99|       1|        5098|              4.19|0DDAAD81F19ACCD4A...|2017-09-01 06:49:00|\n",
      "|         295|2017-09-01 06:45:00|      26|POS0026:514614048|          1|       0.0|      0.0|       1|        5501|              7.48|62BC1FAE5B5B82AC6...|2017-09-01 06:57:00|\n",
      "|         295|2017-09-01 06:45:00|      26|POS0026:514614048|          1|       0.0|      0.0|       1|        5501|              3.98|35A7DA3574AF36E8C...|2017-09-01 06:47:00|\n",
      "|         295|2017-09-01 06:45:00|      26|POS0026:514614047|          1|      3.32|     1.66|       2|        3935|              7.48|62BC1FAE5B5B82AC6...|2017-09-01 06:57:00|\n",
      "|         295|2017-09-01 06:45:00|      26|POS0026:514614047|          1|      3.32|     1.66|       2|        3935|              3.98|35A7DA3574AF36E8C...|2017-09-01 06:47:00|\n",
      "|         295|2017-09-01 06:45:00|      26|POS0026:514614048|          2|       0.0|      0.0|       1|        5501|              7.48|62BC1FAE5B5B82AC6...|2017-09-01 06:57:00|\n",
      "|         295|2017-09-01 06:45:00|      26|POS0026:514614048|          2|       0.0|      0.0|       1|        5501|              3.98|35A7DA3574AF36E8C...|2017-09-01 06:47:00|\n",
      "|         295|2017-09-01 06:45:00|      26|POS0026:514614048|          3|      2.99|     2.99|       1|        5320|              3.98|35A7DA3574AF36E8C...|2017-09-01 06:47:00|\n",
      "|         295|2017-09-01 06:45:00|      26|POS0026:514614048|          3|      2.99|     2.99|       1|        5320|              7.48|62BC1FAE5B5B82AC6...|2017-09-01 06:57:00|\n",
      "|         295|2017-09-01 06:45:00|      26|POS0026:514614048|          4|      2.99|     2.99|       1|        5320|              7.48|62BC1FAE5B5B82AC6...|2017-09-01 06:57:00|\n",
      "|         295|2017-09-01 06:45:00|      26|POS0026:514614048|          4|      2.99|     2.99|       1|        5320|              3.98|35A7DA3574AF36E8C...|2017-09-01 06:47:00|\n",
      "|         295|2017-09-01 06:45:00|      26|POS0026:514614048|          5|      0.25|     0.25|       1|        3586|              3.98|35A7DA3574AF36E8C...|2017-09-01 06:47:00|\n",
      "|         295|2017-09-01 06:45:00|      26|POS0026:514614048|          5|      0.25|     0.25|       1|        3586|              7.48|62BC1FAE5B5B82AC6...|2017-09-01 06:57:00|\n",
      "|         295|2017-09-01 06:45:00|      26|POS0026:514614048|          6|       0.0|      0.0|       1|        3477|              7.48|62BC1FAE5B5B82AC6...|2017-09-01 06:57:00|\n",
      "|         295|2017-09-01 06:45:00|      26|POS0026:514614048|          6|       0.0|      0.0|       1|        3477|              3.98|35A7DA3574AF36E8C...|2017-09-01 06:47:00|\n",
      "|         295|2017-09-01 07:00:00|      22|POS0022:802104823|          1|      2.41|     2.41|       1|        5437|              3.78|62242CF540B12DA88...|2017-09-01 07:09:00|\n",
      "|         295|2017-09-01 07:00:00|      22|POS0022:802104823|          2|      0.74|     0.74|       1|        5500|              3.78|62242CF540B12DA88...|2017-09-01 07:09:00|\n",
      "|         295|2017-09-01 07:00:00|      24|POS0024:977032391|          1|       0.0|      0.0|       1|        5501|              3.59|2E932BA7AB9B5BC60...|2017-09-01 07:06:00|\n",
      "|         295|2017-09-01 07:00:00|      24|POS0024:977032391|          2|      2.99|     2.99|       1|        5098|              3.59|2E932BA7AB9B5BC60...|2017-09-01 07:06:00|\n",
      "|         295|2017-09-01 07:00:00|      24|POS0024:977032391|          3|       0.0|      0.0|       1|        3787|              3.59|2E932BA7AB9B5BC60...|2017-09-01 07:06:00|\n",
      "|         295|2017-09-01 07:00:00|      26|POS0026:514614049|          1|      3.33|     3.33|       1|        5125|              3.99|05BAE9C58C7BC1E3C...|2017-09-01 07:09:00|\n",
      "|         295|2017-09-01 07:00:00|      26|POS0026:514614049|          2|       0.0|      0.0|       1|        5501|              3.99|05BAE9C58C7BC1E3C...|2017-09-01 07:09:00|\n",
      "|         295|2017-09-01 07:00:00|      26|POS0026:514614049|          3|       0.0|      0.0|       1|        3545|              3.99|05BAE9C58C7BC1E3C...|2017-09-01 07:09:00|\n",
      "|         295|2017-09-01 07:15:00|       2|POS0002:595643140|          1|       0.0|      0.0|       1|        5501|              3.79|432B9A6FA1ACD3842...|2017-09-01 07:29:00|\n",
      "|         295|2017-09-01 07:15:00|       2|POS0002:595643140|          1|       0.0|      0.0|       1|        5501|              2.19|14576C7A457B21DDF...|2017-09-01 07:23:00|\n",
      "|         295|2017-09-01 07:15:00|       2|POS0002:595643139|          1|       0.0|      0.0|       1|        3718|              3.79|8E2DDAE2BE00200D9...|2017-09-01 07:27:00|\n",
      "|         295|2017-09-01 07:15:00|       2|POS0002:595643138|          1|      -0.4|     -0.4|       1|        5430|              2.19|14576C7A457B21DDF...|2017-09-01 07:23:00|\n",
      "|         295|2017-09-01 07:15:00|       2|POS0002:595643139|          1|       0.0|      0.0|       1|        3718|              2.19|14576C7A457B21DDF...|2017-09-01 07:23:00|\n",
      "|         295|2017-09-01 07:15:00|       2|POS0002:595643138|          1|      -0.4|     -0.4|       1|        5430|              3.79|432B9A6FA1ACD3842...|2017-09-01 07:29:00|\n",
      "|         295|2017-09-01 07:15:00|       2|POS0002:595643137|          1|       0.0|      0.0|       1|        3495|              3.79|432B9A6FA1ACD3842...|2017-09-01 07:29:00|\n",
      "|         295|2017-09-01 07:15:00|       2|POS0002:595643140|          1|       0.0|      0.0|       1|        5501|              3.79|8E2DDAE2BE00200D9...|2017-09-01 07:27:00|\n",
      "|         295|2017-09-01 07:15:00|       2|POS0002:595643139|          1|       0.0|      0.0|       1|        3718|              3.79|432B9A6FA1ACD3842...|2017-09-01 07:29:00|\n",
      "|         295|2017-09-01 07:15:00|       2|POS0002:595643138|          1|      -0.4|     -0.4|       1|        5430|              3.79|8E2DDAE2BE00200D9...|2017-09-01 07:27:00|\n",
      "|         295|2017-09-01 07:15:00|       2|POS0002:595643137|          1|       0.0|      0.0|       1|        3495|              2.19|14576C7A457B21DDF...|2017-09-01 07:23:00|\n",
      "|         295|2017-09-01 07:15:00|       2|POS0002:595643137|          1|       0.0|      0.0|       1|        3495|              3.79|8E2DDAE2BE00200D9...|2017-09-01 07:27:00|\n",
      "|         295|2017-09-01 07:15:00|       2|POS0002:595643137|          2|      1.83|     1.83|       1|        5090|              3.79|432B9A6FA1ACD3842...|2017-09-01 07:29:00|\n",
      "|         295|2017-09-01 07:15:00|       2|POS0002:595643140|          2|      0.25|     0.25|       1|        2661|              3.79|8E2DDAE2BE00200D9...|2017-09-01 07:27:00|\n",
      "|         295|2017-09-01 07:15:00|       2|POS0002:595643140|          2|      0.25|     0.25|       1|        2661|              3.79|432B9A6FA1ACD3842...|2017-09-01 07:29:00|\n",
      "|         295|2017-09-01 07:15:00|       2|POS0002:595643140|          2|      0.25|     0.25|       1|        2661|              2.19|14576C7A457B21DDF...|2017-09-01 07:23:00|\n",
      "|         295|2017-09-01 07:15:00|       2|POS0002:595643139|          2|       0.0|      0.0|       1|        5501|              3.79|8E2DDAE2BE00200D9...|2017-09-01 07:27:00|\n",
      "|         295|2017-09-01 07:15:00|       2|POS0002:595643138|          2|       0.0|      0.0|       1|        3477|              2.19|14576C7A457B21DDF...|2017-09-01 07:23:00|\n",
      "|         295|2017-09-01 07:15:00|       2|POS0002:595643138|          2|       0.0|      0.0|       1|        3477|              3.79|432B9A6FA1ACD3842...|2017-09-01 07:29:00|\n",
      "|         295|2017-09-01 07:15:00|       2|POS0002:595643138|          2|       0.0|      0.0|       1|        3477|              3.79|8E2DDAE2BE00200D9...|2017-09-01 07:27:00|\n",
      "|         295|2017-09-01 07:15:00|       2|POS0002:595643137|          2|      1.83|     1.83|       1|        5090|              2.19|14576C7A457B21DDF...|2017-09-01 07:23:00|\n",
      "|         295|2017-09-01 07:15:00|       2|POS0002:595643139|          2|       0.0|      0.0|       1|        5501|              2.19|14576C7A457B21DDF...|2017-09-01 07:23:00|\n",
      "|         295|2017-09-01 07:15:00|       2|POS0002:595643137|          2|      1.83|     1.83|       1|        5090|              3.79|8E2DDAE2BE00200D9...|2017-09-01 07:27:00|\n",
      "|         295|2017-09-01 07:15:00|       2|POS0002:595643139|          2|       0.0|      0.0|       1|        5501|              3.79|432B9A6FA1ACD3842...|2017-09-01 07:29:00|\n",
      "|         295|2017-09-01 07:15:00|       2|POS0002:595643140|          3|      0.74|     0.74|       1|        5500|              3.79|432B9A6FA1ACD3842...|2017-09-01 07:29:00|\n",
      "|         295|2017-09-01 07:15:00|       2|POS0002:595643139|          3|      3.16|     3.16|       1|        5441|              3.79|432B9A6FA1ACD3842...|2017-09-01 07:29:00|\n",
      "|         295|2017-09-01 07:15:00|       2|POS0002:595643139|          3|      3.16|     3.16|       1|        5441|              2.19|14576C7A457B21DDF...|2017-09-01 07:23:00|\n",
      "|         295|2017-09-01 07:15:00|       2|POS0002:595643138|          3|       0.0|      0.0|       1|        5501|              3.79|8E2DDAE2BE00200D9...|2017-09-01 07:27:00|\n",
      "|         295|2017-09-01 07:15:00|       2|POS0002:595643140|          3|      0.74|     0.74|       1|        5500|              3.79|8E2DDAE2BE00200D9...|2017-09-01 07:27:00|\n",
      "|         295|2017-09-01 07:15:00|       2|POS0002:595643138|          3|       0.0|      0.0|       1|        5501|              2.19|14576C7A457B21DDF...|2017-09-01 07:23:00|\n",
      "|         295|2017-09-01 07:15:00|       2|POS0002:595643139|          3|      3.16|     3.16|       1|        5441|              3.79|8E2DDAE2BE00200D9...|2017-09-01 07:27:00|\n",
      "|         295|2017-09-01 07:15:00|       2|POS0002:595643138|          3|       0.0|      0.0|       1|        5501|              3.79|432B9A6FA1ACD3842...|2017-09-01 07:29:00|\n",
      "|         295|2017-09-01 07:15:00|       2|POS0002:595643140|          3|      0.74|     0.74|       1|        5500|              2.19|14576C7A457B21DDF...|2017-09-01 07:23:00|\n",
      "|         295|2017-09-01 07:15:00|       2|POS0002:595643138|          4|      3.16|     3.16|       1|        5441|              3.79|8E2DDAE2BE00200D9...|2017-09-01 07:27:00|\n",
      "+------------+-------------------+--------+-----------------+-----------+----------+---------+--------+------------+------------------+--------------------+-------------------+\n",
      "only showing top 100 rows\n",
      "\n"
     ]
    }
   ],
   "source": [
    "df_joined_basket1.show(100)"
   ]
  },
  {
   "cell_type": "markdown",
   "metadata": {},
   "source": [
    "## 9.4.- Save joined basket data to disk "
   ]
  },
  {
   "cell_type": "code",
   "execution_count": 114,
   "metadata": {},
   "outputs": [],
   "source": [
    "df_joined_basket1.repartition(1).write.format('com.databricks.spark.csv').save('joined_basket1.csv', header = 'true')"
   ]
  },
  {
   "cell_type": "code",
   "execution_count": 115,
   "metadata": {},
   "outputs": [
    {
     "data": {
      "text/plain": [
       "5837615"
      ]
     },
     "execution_count": 115,
     "metadata": {},
     "output_type": "execute_result"
    }
   ],
   "source": [
    "df_joined_basket1.count()"
   ]
  },
  {
   "cell_type": "code",
   "execution_count": null,
   "metadata": {},
   "outputs": [],
   "source": []
  }
 ],
 "metadata": {
  "kernelspec": {
   "display_name": "Python 3",
   "language": "python",
   "name": "python3"
  },
  "language_info": {
   "codemirror_mode": {
    "name": "ipython",
    "version": 3
   },
   "file_extension": ".py",
   "mimetype": "text/x-python",
   "name": "python",
   "nbconvert_exporter": "python",
   "pygments_lexer": "ipython3",
   "version": "3.5.2"
  }
 },
 "nbformat": 4,
 "nbformat_minor": 1
}
