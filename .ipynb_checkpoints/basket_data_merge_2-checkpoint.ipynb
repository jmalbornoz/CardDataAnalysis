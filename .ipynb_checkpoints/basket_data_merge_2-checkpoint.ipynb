{
 "cells": [
  {
   "cell_type": "markdown",
   "metadata": {},
   "source": [
    "# McDonald's Basket Data Analysis - v2: Toshiba card tokens\n",
    "## April 2018\n",
    "### Dr Jose M Albornoz\n",
    "\n",
    "This notebook performs basket data and card data merge for September 2017, accounting for all 7 stores in the Reading area. Only Toshiba tokens are being considered."
   ]
  },
  {
   "cell_type": "markdown",
   "metadata": {},
   "source": [
    "# 1.- Import necessary modules, define SQLContext"
   ]
  },
  {
   "cell_type": "code",
   "execution_count": 1,
   "metadata": {},
   "outputs": [],
   "source": [
    "# Import required modules\n",
    "from pyspark.context import SparkContext\n",
    "from pyspark.sql.context import SQLContext\n",
    "from pyspark.sql.functions import *\n",
    "from pyspark.sql.functions import col\n",
    "from pyspark.sql.functions import row_number\n",
    "from pyspark.sql.types import *\n",
    "from pyspark.sql.functions import unix_timestamp\n",
    "import math\n",
    "from pyspark.sql.window import *"
   ]
  },
  {
   "cell_type": "code",
   "execution_count": 2,
   "metadata": {},
   "outputs": [],
   "source": [
    "# Define SQLContext\n",
    "sqlContext = SQLContext(sc)"
   ]
  },
  {
   "cell_type": "markdown",
   "metadata": {},
   "source": [
    "# 2.- Generic functions to load data from a text-based file"
   ]
  },
  {
   "cell_type": "code",
   "execution_count": 3,
   "metadata": {},
   "outputs": [],
   "source": [
    "# a function to load a colon-separated value file\n",
    "def load_data_colon(filename, schema, columns = None):\n",
    "    df = sqlContext.read.format('com.databricks.spark.csv').option(\"delimiter\", \";\").options(header='true'). \\\n",
    "    load(filename, schema = schema)\n",
    "    if columns is None:\n",
    "        # If no columns are given, then select all\n",
    "        columns = schema.names\n",
    "    return df.select(columns)"
   ]
  },
  {
   "cell_type": "code",
   "execution_count": 4,
   "metadata": {},
   "outputs": [],
   "source": [
    "# a function to load a pipe-separated value file\n",
    "def load_data_pipe(filename, schema, columns = None):\n",
    "    df = sqlContext.read.format('com.databricks.spark.csv').option(\"delimiter\", \"|\").options(header='false'). \\\n",
    "    load(filename, schema = schema)\n",
    "    if columns is None:\n",
    "        # If no columns are given, then select all\n",
    "        columns = schema.names\n",
    "    return df.select(columns)"
   ]
  },
  {
   "cell_type": "markdown",
   "metadata": {},
   "source": [
    "# 3.- Schema for card data files"
   ]
  },
  {
   "cell_type": "code",
   "execution_count": 5,
   "metadata": {},
   "outputs": [],
   "source": [
    "schema_card = StructType([ \n",
    "    StructField('store_number', IntegerType(), True), \n",
    "    StructField('terminal_number', IntegerType(), True), \n",
    "    StructField('transaction_date', StringType(), True), \n",
    "    StructField('transaction_time', IntegerType(), True), \n",
    "    StructField('transaction_amount', FloatType(), True),\n",
    "    StructField('card_scheme', StringType(), True),\n",
    "    StructField('pan_token', StringType(), True),\n",
    "    StructField('empty_field', IntegerType(), True)    \n",
    "])"
   ]
  },
  {
   "cell_type": "markdown",
   "metadata": {},
   "source": [
    "# 4.- Schema for basket data files"
   ]
  },
  {
   "cell_type": "code",
   "execution_count": 6,
   "metadata": {},
   "outputs": [],
   "source": [
    "schema_basket = StructType([ \n",
    "    StructField('store_number', StringType(), True), \n",
    "    StructField('time_period', StringType(), True), \n",
    "    StructField('time_of_day', StringType(), True), \n",
    "    StructField('business_date', StringType(), True), \n",
    "    StructField('pos_code', StringType(), True),\n",
    "    StructField('c6', StringType(), True),\n",
    "    StructField('total_cost', StringType(), True),\n",
    "    StructField('unit_cost', StringType(), True),\n",
    "    StructField('quantity', StringType(), True), \n",
    "    StructField('food_cost', StringType(), True), \n",
    "    StructField('paper_cost', StringType(), True), \n",
    "    StructField('hour', StringType(), True), \n",
    "    StructField('transaction_time', StringType(), True), \n",
    "    StructField('transaction_date', StringType(), True),\n",
    "    StructField('pos_id', StringType(), True),\n",
    "    StructField('unique_till_code', StringType(), True),\n",
    "    StructField('sale_number', StringType(), True),\n",
    "    StructField('menu_item_id', StringType(), True), \n",
    "    StructField('till_key', StringType(), True), \n",
    "    StructField('till_location', StringType(), True), \n",
    "    StructField('c20', StringType(), True), \n",
    "    StructField('sale_or_refund', StringType(), True),\n",
    "    StructField('eatin_eatout', StringType(), True),\n",
    "    StructField('eat_in_eatout_str', StringType(), True),\n",
    "    StructField('payment_type_id', StringType(), True),\n",
    "    StructField('payment_type', StringType(), True) \n",
    "])"
   ]
  },
  {
   "cell_type": "markdown",
   "metadata": {},
   "source": [
    "# 5.- Basket data preprocessing"
   ]
  },
  {
   "cell_type": "markdown",
   "metadata": {},
   "source": [
    "## 5.1.- Load basket data"
   ]
  },
  {
   "cell_type": "code",
   "execution_count": 7,
   "metadata": {},
   "outputs": [],
   "source": [
    "df_basket = load_data_pipe(\"BasketDataReading7Sept_not15/000\", schema_basket)"
   ]
  },
  {
   "cell_type": "code",
   "execution_count": 8,
   "metadata": {},
   "outputs": [
    {
     "name": "stdout",
     "output_type": "stream",
     "text": [
      "+------------+-----------+-----------+-------------+--------+----+----------+---------+--------+---------+----------+----+-------------------+----------------+------------------+----------------+-----------+------------+--------+-------------+---+--------------+------------+-----------------+---------------+------------+\n",
      "|store_number|time_period|time_of_day|business_date|pos_code|  c6|total_cost|unit_cost|quantity|food_cost|paper_cost|hour|   transaction_time|transaction_date|            pos_id|unique_till_code|sale_number|menu_item_id|till_key|till_location|c20|sale_or_refund|eatin_eatout|eat_in_eatout_str|payment_type_id|payment_type|\n",
      "+------------+-----------+-----------+-------------+--------+----+----------+---------+--------+---------+----------+----+-------------------+----------------+------------------+----------------+-----------+------------+--------+-------------+---+--------------+------------+-----------------+---------------+------------+\n",
      "|         787|          5|    Evening|   2017-09-17|       2|null|    0.7400|   0.7400|       1|   0.0955|    0.0033|  21|2017-09-17 21:05:33|      2017-09-17| POS0002:947136517|       947136517|          1|        4800|       1|FRONT COUNTER|  1|          Sale|           0|         Take Out|              1|        Cash|\n",
      "|         787|          4|     Dinner|   2017-09-17|       2|null|    0.2000|   0.2000|       1|   0.1554|    0.0000|  19|2017-09-17 19:34:03|      2017-09-17| POS0002:947136508|       947136508|          1|        4630|       1|FRONT COUNTER|  1|          Sale|           0|         Take Out|              1|        Cash|\n",
      "|         787|          2|      Lunch|   2017-09-17|      20|null|    0.7700|   0.7700|       1|   0.0612|    0.0325|  13|2017-09-17 13:24:39|      2017-09-17|POS0019:1051702100|      1051702100|          6|        3025|       2|   DRIVE THRU|  1|          Sale|           0|         Take Out|              1|        Cash|\n",
      "|         787|          2|      Lunch|   2017-09-17|      20|null|    0.0000|   0.0000|       1|   0.0000|    0.0000|  13|2017-09-17 13:24:39|      2017-09-17|POS0019:1051702100|      1051702100|          5|        4833|       2|   DRIVE THRU|  1|          Sale|           0|         Take Out|              1|        Cash|\n",
      "|         787|          2|      Lunch|   2017-09-17|      20|null|    2.9700|   2.9700|       1|   0.4751|    0.0348|  13|2017-09-17 13:24:39|      2017-09-17|POS0019:1051702100|      1051702100|          1|        6150|       2|   DRIVE THRU|  1|          Sale|           0|         Take Out|              1|        Cash|\n",
      "|         787|          2|      Lunch|   2017-09-17|      20|null|    0.9100|   0.9100|       1|   0.1356|    0.0129|  13|2017-09-17 13:24:39|      2017-09-17|POS0019:1051702100|      1051702100|          4|        4810|       2|   DRIVE THRU|  1|          Sale|           0|         Take Out|              1|        Cash|\n",
      "|         787|          2|      Lunch|   2017-09-17|      20|null|    0.8300|   0.8300|       1|   0.0612|    0.0325|  13|2017-09-17 13:24:39|      2017-09-17|POS0019:1051702100|      1051702100|          3|        3005|       2|   DRIVE THRU|  1|          Sale|           0|         Take Out|              1|        Cash|\n",
      "|         787|          2|      Lunch|   2017-09-17|      20|null|    1.2400|   1.2400|       1|   0.4818|    0.0090|  13|2017-09-17 13:24:39|      2017-09-17|POS0019:1051702100|      1051702100|          2|        1146|       2|   DRIVE THRU|  1|          Sale|           0|         Take Out|              1|        Cash|\n",
      "|         787|          3|  Afternoon|   2017-09-17|      20|null|   -0.4800|  -0.4800|       1|   0.5421|    0.0241|  16|2017-09-17 16:29:01|      2017-09-17|POS0019:1051702224|      1051702224|         15|        1100|       2|   DRIVE THRU|  1|          Sale|           0|         Take Out|              1|        Cash|\n",
      "|         787|          3|  Afternoon|   2017-09-17|      20|null|    0.0000|   0.0000|       1|   0.0000|    0.0000|  16|2017-09-17 16:29:01|      2017-09-17|POS0019:1051702224|      1051702224|          3|        4833|       2|   DRIVE THRU|  1|          Sale|           0|         Take Out|              1|        Cash|\n",
      "+------------+-----------+-----------+-------------+--------+----+----------+---------+--------+---------+----------+----+-------------------+----------------+------------------+----------------+-----------+------------+--------+-------------+---+--------------+------------+-----------------+---------------+------------+\n",
      "only showing top 10 rows\n",
      "\n"
     ]
    }
   ],
   "source": [
    "df_basket.show(10)"
   ]
  },
  {
   "cell_type": "markdown",
   "metadata": {},
   "source": [
    "## 5.2.- Cast basket data columns to the correct types"
   ]
  },
  {
   "cell_type": "code",
   "execution_count": 9,
   "metadata": {},
   "outputs": [],
   "source": [
    "df_basket = df_basket.withColumn(\"store_number\", df_basket[\"store_number\"].cast(IntegerType()))        \n",
    "df_basket = df_basket.withColumn(\"time_period\", df_basket[\"time_period\"].cast(IntegerType()))\n",
    "df_basket = df_basket.withColumn(\"time_of_day\", df_basket[\"time_of_day\"].cast(StringType()))\n",
    "df_basket = df_basket.withColumn(\"business_date\", df_basket[\"business_date\"].cast(DateType()))\n",
    "df_basket = df_basket.withColumn(\"pos_code\", df_basket[\"pos_code\"].cast(IntegerType()))\n",
    "df_basket = df_basket.withColumn(\"c6\", df_basket[\"c6\"].cast(StringType()))\n",
    "df_basket = df_basket.withColumn(\"total_cost\", df_basket[\"total_cost\"].cast(FloatType()))\n",
    "df_basket = df_basket.withColumn(\"unit_cost\", df_basket[\"unit_cost\"].cast(FloatType()))\n",
    "df_basket = df_basket.withColumn(\"quantity\", df_basket[\"quantity\"].cast(IntegerType()))\n",
    "df_basket = df_basket.withColumn(\"food_cost\", df_basket[\"food_cost\"].cast(FloatType()))\n",
    "df_basket = df_basket.withColumn(\"paper_cost\", df_basket[\"paper_cost\"].cast(FloatType()))\n",
    "df_basket = df_basket.withColumn(\"hour\", df_basket[\"hour\"].cast(IntegerType()))\n",
    "df_basket = df_basket.withColumn(\"transaction_time\", df_basket[\"transaction_time\"].cast(StringType()))\n",
    "df_basket = df_basket.withColumn(\"transaction_date\", df_basket[\"transaction_date\"].cast(StringType()))\n",
    "df_basket = df_basket.withColumn(\"pos_id\", df_basket[\"pos_id\"].cast(StringType()))\n",
    "df_basket = df_basket.withColumn(\"unique_till_code\", df_basket[\"unique_till_code\"].cast(IntegerType()))\n",
    "df_basket = df_basket.withColumn(\"sale_number\", df_basket[\"sale_number\"].cast(IntegerType()))\n",
    "df_basket = df_basket.withColumn(\"menu_item_id\", df_basket[\"menu_item_id\"].cast(IntegerType()))\n",
    "df_basket = df_basket.withColumn(\"till_key\", df_basket[\"till_key\"].cast(IntegerType()))\n",
    "df_basket = df_basket.withColumn(\"till_location\", df_basket[\"till_location\"].cast(StringType()))\n",
    "df_basket = df_basket.withColumn(\"c20\", df_basket[\"c20\"].cast(StringType()))\n",
    "df_basket = df_basket.withColumn(\"sale_or_refund\", df_basket[\"sale_or_refund\"].cast(StringType()))\n",
    "df_basket = df_basket.withColumn(\"eatin_eatout\", df_basket[\"eatin_eatout\"].cast(IntegerType()))\n",
    "df_basket = df_basket.withColumn(\"eat_in_eatout_str\", df_basket[\"eat_in_eatout_str\"].cast(StringType()))\n",
    "df_basket = df_basket.withColumn(\"payment_type_id\", df_basket[\"payment_type_id\"].cast(IntegerType()))\n",
    "df_basket = df_basket.withColumn(\"payment_type\", df_basket[\"payment_type\"].cast(StringType()))"
   ]
  },
  {
   "cell_type": "code",
   "execution_count": 10,
   "metadata": {},
   "outputs": [],
   "source": [
    "all_transactions = df_basket.count()"
   ]
  },
  {
   "cell_type": "code",
   "execution_count": 11,
   "metadata": {},
   "outputs": [
    {
     "data": {
      "text/plain": [
       "1278812"
      ]
     },
     "execution_count": 11,
     "metadata": {},
     "output_type": "execute_result"
    }
   ],
   "source": [
    "all_transactions"
   ]
  },
  {
   "cell_type": "markdown",
   "metadata": {},
   "source": [
    "## 5.3.- Only 'Sales' and not 'Refunds' will be considered"
   ]
  },
  {
   "cell_type": "code",
   "execution_count": 12,
   "metadata": {},
   "outputs": [
    {
     "data": {
      "text/plain": [
       "['Sale']"
      ]
     },
     "execution_count": 12,
     "metadata": {},
     "output_type": "execute_result"
    }
   ],
   "source": [
    "[i.sale_or_refund for i in df_basket.select('sale_or_refund').distinct().collect()]"
   ]
  },
  {
   "cell_type": "code",
   "execution_count": 13,
   "metadata": {},
   "outputs": [],
   "source": [
    "df_basket = df_basket.filter(df_basket['sale_or_refund'] == 'Sale')"
   ]
  },
  {
   "cell_type": "code",
   "execution_count": 14,
   "metadata": {},
   "outputs": [
    {
     "data": {
      "text/plain": [
       "1278812"
      ]
     },
     "execution_count": 14,
     "metadata": {},
     "output_type": "execute_result"
    }
   ],
   "source": [
    "df_basket.count()"
   ]
  },
  {
   "cell_type": "markdown",
   "metadata": {},
   "source": [
    "## 5.4.- Convert transaction date and time into a timestamp, filter so that only data for September is considered"
   ]
  },
  {
   "cell_type": "code",
   "execution_count": 15,
   "metadata": {},
   "outputs": [],
   "source": [
    "col = to_timestamp(df_basket['transaction_time'], 'yyyy-MM-dd HH:mm:ss')"
   ]
  },
  {
   "cell_type": "code",
   "execution_count": 16,
   "metadata": {},
   "outputs": [],
   "source": [
    "df_basket = df_basket.withColumn('timestamp_basket', col)"
   ]
  },
  {
   "cell_type": "code",
   "execution_count": 17,
   "metadata": {},
   "outputs": [],
   "source": [
    "df_basket = df_basket.drop('transaction_date', 'transaction_time', 'hour').orderBy('timestamp_basket')"
   ]
  },
  {
   "cell_type": "code",
   "execution_count": 18,
   "metadata": {},
   "outputs": [],
   "source": [
    "from pyspark.sql.functions import col\n",
    "df_basket = df_basket.filter(col('timestamp_basket') >= '2017-09-01 00:00:00')"
   ]
  },
  {
   "cell_type": "code",
   "execution_count": 19,
   "metadata": {},
   "outputs": [
    {
     "data": {
      "text/plain": [
       "1278605"
      ]
     },
     "execution_count": 19,
     "metadata": {},
     "output_type": "execute_result"
    }
   ],
   "source": [
    "df_basket.count()"
   ]
  },
  {
   "cell_type": "markdown",
   "metadata": {},
   "source": [
    "## 5.5.- Select relevant columns from basket data"
   ]
  },
  {
   "cell_type": "code",
   "execution_count": 20,
   "metadata": {},
   "outputs": [],
   "source": [
    "df_basket_reduced = df_basket.select('store_number', 'timestamp_basket', 'pos_code', 'pos_id', 'sale_number', 'total_cost', \\\n",
    "                                     'unit_cost', 'quantity', 'menu_item_id', 'sale_or_refund', \\\n",
    "                                     'payment_type_id')"
   ]
  },
  {
   "cell_type": "code",
   "execution_count": 21,
   "metadata": {},
   "outputs": [
    {
     "name": "stdout",
     "output_type": "stream",
     "text": [
      "+------------+-------------------+--------+-----------------+-----------+----------+---------+--------+------------+--------------+---------------+\n",
      "|store_number|   timestamp_basket|pos_code|           pos_id|sale_number|total_cost|unit_cost|quantity|menu_item_id|sale_or_refund|payment_type_id|\n",
      "+------------+-------------------+--------+-----------------+-----------+----------+---------+--------+------------+--------------+---------------+\n",
      "|         102|2017-09-01 00:00:51|       1|POS0001:216437503|          2|      0.91|     0.91|       1|        4810|          Sale|              2|\n",
      "|         102|2017-09-01 00:00:51|       1|POS0001:216437503|          1|       0.0|      0.0|       2|        4600|          Sale|              2|\n",
      "|         102|2017-09-01 00:00:51|       1|POS0001:216437503|          3|       0.0|      0.0|       2|        4650|          Sale|              2|\n",
      "|         102|2017-09-01 00:00:51|       1|POS0001:216437503|          4|      3.33|     3.33|       1|        1420|          Sale|              2|\n",
      "|        1339|2017-09-01 00:01:32|      20|POS0019:773084409|          2|      0.74|     0.74|       1|        1000|          Sale|              2|\n",
      "+------------+-------------------+--------+-----------------+-----------+----------+---------+--------+------------+--------------+---------------+\n",
      "only showing top 5 rows\n",
      "\n"
     ]
    }
   ],
   "source": [
    "df_basket_reduced.show(5)"
   ]
  },
  {
   "cell_type": "markdown",
   "metadata": {},
   "source": [
    "## 5.7.- Split basket data into 'cash' and 'cashless' transaction, sort by store number, timestamp, till ID and sale number"
   ]
  },
  {
   "cell_type": "code",
   "execution_count": 22,
   "metadata": {},
   "outputs": [],
   "source": [
    "df_basket_cash = df_basket_reduced.filter(df_basket[\"payment_type_id\"] == 1)"
   ]
  },
  {
   "cell_type": "code",
   "execution_count": 23,
   "metadata": {},
   "outputs": [],
   "source": [
    "df_basket_cash = df_basket_cash.orderBy(\"store_number\", \"timestamp_basket\", \"pos_id\", \"sale_number\")"
   ]
  },
  {
   "cell_type": "code",
   "execution_count": 24,
   "metadata": {},
   "outputs": [],
   "source": [
    "df_basket_cash = df_basket_cash.drop('sale_or_refund', 'payment_type_id')"
   ]
  },
  {
   "cell_type": "code",
   "execution_count": 25,
   "metadata": {},
   "outputs": [],
   "source": [
    "df_basket_cashless = df_basket_reduced.filter(df_basket[\"payment_type_id\"] == 2)"
   ]
  },
  {
   "cell_type": "code",
   "execution_count": 26,
   "metadata": {},
   "outputs": [],
   "source": [
    "df_basket_cashless = df_basket_cashless.orderBy(\"store_number\", \"timestamp_basket\", \"pos_id\", \"sale_number\")"
   ]
  },
  {
   "cell_type": "code",
   "execution_count": 27,
   "metadata": {},
   "outputs": [],
   "source": [
    "df_basket_cashless = df_basket_cashless.drop('sale_or_refund', 'payment_type_id')"
   ]
  },
  {
   "cell_type": "code",
   "execution_count": 28,
   "metadata": {},
   "outputs": [
    {
     "name": "stdout",
     "output_type": "stream",
     "text": [
      "+------------+-------------------+--------+-----------------+-----------+----------+---------+--------+------------+\n",
      "|store_number|   timestamp_basket|pos_code|           pos_id|sale_number|total_cost|unit_cost|quantity|menu_item_id|\n",
      "+------------+-------------------+--------+-----------------+-----------+----------+---------+--------+------------+\n",
      "|         102|2017-09-01 00:03:25|       1|POS0001:216437505|          1|      0.83|     0.83|       1|        1010|\n",
      "|         102|2017-09-01 00:03:25|       1|POS0001:216437505|          2|      0.83|     0.83|       1|        3405|\n",
      "|         102|2017-09-01 00:04:18|       1|POS0001:216437506|          1|      1.16|     1.16|       1|        4216|\n",
      "|         102|2017-09-01 00:04:56|       1|POS0001:216437507|          1|      3.43|     3.43|       1|        7233|\n",
      "|         102|2017-09-01 00:04:56|       1|POS0001:216437507|          2|      2.74|     2.74|       1|        1427|\n",
      "|         102|2017-09-01 00:04:56|       1|POS0001:216437507|          3|       0.0|      0.0|       1|        4833|\n",
      "|         102|2017-09-01 00:04:56|       1|POS0001:216437507|          4|      0.83|     0.83|       1|        4100|\n",
      "|         102|2017-09-01 00:04:56|       1|POS0001:216437507|          5|       0.0|      0.0|       1|        4635|\n",
      "|         102|2017-09-01 00:04:56|       1|POS0001:216437507|          6|      0.82|     0.82|       1|        3425|\n",
      "|         102|2017-09-01 00:05:25|       1|POS0001:216437508|          1|      1.66|     0.83|       2|        4589|\n",
      "|         102|2017-09-01 00:05:37|       1|POS0001:216437509|          1|      0.83|     0.83|       1|        1010|\n",
      "|         102|2017-09-01 00:05:37|       1|POS0001:216437509|          2|      1.24|     1.24|       1|        1146|\n",
      "|         102|2017-09-01 00:06:09|       1|POS0001:216437510|          1|      0.83|     0.83|       1|        4407|\n",
      "|         102|2017-09-01 00:10:55|       2|POS0002:563010759|          2|      -0.5|     -0.5|       1|        1100|\n",
      "|         102|2017-09-01 00:10:55|       2|POS0002:563010759|          3|      0.82|     0.82|       1|        3425|\n",
      "|         102|2017-09-01 00:10:55|       2|POS0002:563010759|          4|      2.93|     2.93|       1|        6000|\n",
      "|         102|2017-09-01 00:10:55|       2|POS0002:563010759|          5|       0.0|      0.0|       1|        4833|\n",
      "|         102|2017-09-01 00:11:39|       1|POS0001:216437515|          1|      3.02|     3.02|       1|        6160|\n",
      "|         102|2017-09-01 00:11:39|       1|POS0001:216437515|          2|       0.0|      0.0|       1|        4834|\n",
      "|         102|2017-09-01 00:11:39|       1|POS0001:216437515|          3|      1.06|     1.06|       1|        3030|\n",
      "+------------+-------------------+--------+-----------------+-----------+----------+---------+--------+------------+\n",
      "only showing top 20 rows\n",
      "\n"
     ]
    }
   ],
   "source": [
    "df_basket_cash.show(20)"
   ]
  },
  {
   "cell_type": "code",
   "execution_count": 29,
   "metadata": {},
   "outputs": [
    {
     "name": "stdout",
     "output_type": "stream",
     "text": [
      "+------------+-------------------+--------+-----------------+-----------+----------+---------+--------+------------+\n",
      "|store_number|   timestamp_basket|pos_code|           pos_id|sale_number|total_cost|unit_cost|quantity|menu_item_id|\n",
      "+------------+-------------------+--------+-----------------+-----------+----------+---------+--------+------------+\n",
      "|         102|2017-09-01 00:00:51|       1|POS0001:216437503|          1|       0.0|      0.0|       2|        4600|\n",
      "|         102|2017-09-01 00:00:51|       1|POS0001:216437503|          2|      0.91|     0.91|       1|        4810|\n",
      "|         102|2017-09-01 00:00:51|       1|POS0001:216437503|          3|       0.0|      0.0|       2|        4650|\n",
      "|         102|2017-09-01 00:00:51|       1|POS0001:216437503|          4|      3.33|     3.33|       1|        1420|\n",
      "|         102|2017-09-01 00:01:40|       1|POS0001:216437504|          1|      -0.8|     -0.8|       1|        1265|\n",
      "|         102|2017-09-01 00:01:40|       1|POS0001:216437504|          2|      4.43|     4.43|       1|        7225|\n",
      "|         102|2017-09-01 00:01:40|       1|POS0001:216437504|          3|       0.0|      0.0|       1|        4911|\n",
      "|         102|2017-09-01 00:01:40|       1|POS0001:216437504|          4|      0.82|     0.82|       1|        3275|\n",
      "|         102|2017-09-01 00:01:40|       1|POS0001:216437504|          5|      1.24|     1.24|       1|        1146|\n",
      "|         102|2017-09-01 00:01:40|       1|POS0001:216437504|          6|       0.0|      0.0|       1|        7888|\n",
      "|         102|2017-09-01 00:01:40|       1|POS0001:216437504|          7|       0.0|      0.0|       1|        7971|\n",
      "|         102|2017-09-01 00:07:28|       1|POS0001:216437511|          1|      1.24|     1.24|       1|        1146|\n",
      "|         102|2017-09-01 00:07:28|       1|POS0001:216437511|          2|      1.24|     1.24|       1|        1094|\n",
      "|         102|2017-09-01 00:08:34|       1|POS0001:216437512|          1|      1.16|     1.16|       1|        3265|\n",
      "|         102|2017-09-01 00:08:34|       1|POS0001:216437512|          2|      1.16|     1.16|       1|        4820|\n",
      "|         102|2017-09-01 00:08:34|       1|POS0001:216437512|          3|      1.24|     1.24|       1|        1146|\n",
      "|         102|2017-09-01 00:10:50|       1|POS0001:216437513|          1|      1.16|     1.16|       1|        3010|\n",
      "|         102|2017-09-01 00:10:50|       1|POS0001:216437513|          2|       0.0|      0.0|       1|        4651|\n",
      "|         102|2017-09-01 00:10:50|       1|POS0001:216437513|          3|      1.16|     1.16|       1|        4820|\n",
      "|         102|2017-09-01 00:10:50|       1|POS0001:216437513|          4|      1.24|     1.24|       1|        1146|\n",
      "+------------+-------------------+--------+-----------------+-----------+----------+---------+--------+------------+\n",
      "only showing top 20 rows\n",
      "\n"
     ]
    }
   ],
   "source": [
    "df_basket_cashless.show(20)"
   ]
  },
  {
   "cell_type": "code",
   "execution_count": 30,
   "metadata": {},
   "outputs": [],
   "source": [
    "cash_transactions = df_basket_cash.count()"
   ]
  },
  {
   "cell_type": "code",
   "execution_count": 31,
   "metadata": {},
   "outputs": [],
   "source": [
    "cashless_transactions = df_basket_cashless.count()"
   ]
  },
  {
   "cell_type": "code",
   "execution_count": 32,
   "metadata": {},
   "outputs": [
    {
     "data": {
      "text/plain": [
       "439217"
      ]
     },
     "execution_count": 32,
     "metadata": {},
     "output_type": "execute_result"
    }
   ],
   "source": [
    "cash_transactions"
   ]
  },
  {
   "cell_type": "code",
   "execution_count": 33,
   "metadata": {},
   "outputs": [
    {
     "data": {
      "text/plain": [
       "835069"
      ]
     },
     "execution_count": 33,
     "metadata": {},
     "output_type": "execute_result"
    }
   ],
   "source": [
    "cashless_transactions"
   ]
  },
  {
   "cell_type": "markdown",
   "metadata": {},
   "source": [
    "## 5.8.- Compute percentage of 'cash' and 'cashless' transaction"
   ]
  },
  {
   "cell_type": "code",
   "execution_count": 34,
   "metadata": {},
   "outputs": [
    {
     "data": {
      "text/plain": [
       "34.34570523266907"
      ]
     },
     "execution_count": 34,
     "metadata": {},
     "output_type": "execute_result"
    }
   ],
   "source": [
    "cash_transactions*100/all_transactions"
   ]
  },
  {
   "cell_type": "code",
   "execution_count": 35,
   "metadata": {},
   "outputs": [
    {
     "data": {
      "text/plain": [
       "65.30037253325743"
      ]
     },
     "execution_count": 35,
     "metadata": {},
     "output_type": "execute_result"
    }
   ],
   "source": [
    "cashless_transactions*100/all_transactions"
   ]
  },
  {
   "cell_type": "markdown",
   "metadata": {},
   "source": [
    "## 5.9.- Get Reading store numbers"
   ]
  },
  {
   "cell_type": "code",
   "execution_count": 36,
   "metadata": {},
   "outputs": [],
   "source": [
    "stores_list = [i.store_number for i in df_basket.select('store_number').distinct().collect()]"
   ]
  },
  {
   "cell_type": "code",
   "execution_count": 37,
   "metadata": {},
   "outputs": [
    {
     "data": {
      "text/plain": [
       "[1339, 787, 980, 960, 1036, 102, 1262]"
      ]
     },
     "execution_count": 37,
     "metadata": {},
     "output_type": "execute_result"
    }
   ],
   "source": [
    "stores_list"
   ]
  },
  {
   "cell_type": "markdown",
   "metadata": {},
   "source": [
    "# 6.- Card data preprocessing"
   ]
  },
  {
   "cell_type": "markdown",
   "metadata": {},
   "source": [
    "## 6.1.- Load and filter card data by store number, drop irrelevant fields"
   ]
  },
  {
   "cell_type": "code",
   "execution_count": 38,
   "metadata": {},
   "outputs": [],
   "source": [
    "df_Sep2017T = sqlContext.read.csv(\"McD_Card_Data/Sep2017_T.csv\", header=True, mode=\"DROPMALFORMED\", schema=schema_card)"
   ]
  },
  {
   "cell_type": "code",
   "execution_count": 39,
   "metadata": {},
   "outputs": [],
   "source": [
    "df_cards = df_Sep2017T.filter(df_Sep2017T['store_number'].isin(stores_list))"
   ]
  },
  {
   "cell_type": "code",
   "execution_count": 40,
   "metadata": {},
   "outputs": [],
   "source": [
    "df_cards = df_cards.orderBy(\"store_number\", \"transaction_date\", \"transaction_time\")"
   ]
  },
  {
   "cell_type": "code",
   "execution_count": 41,
   "metadata": {},
   "outputs": [],
   "source": [
    "df_cards = df_cards.drop('card_scheme', 'empty_field')"
   ]
  },
  {
   "cell_type": "code",
   "execution_count": 42,
   "metadata": {},
   "outputs": [
    {
     "name": "stdout",
     "output_type": "stream",
     "text": [
      "+------------+---------------+----------------+----------------+------------------+--------------------+\n",
      "|store_number|terminal_number|transaction_date|transaction_time|transaction_amount|           pan_token|\n",
      "+------------+---------------+----------------+----------------+------------------+--------------------+\n",
      "|         102|              1|      2017/09/01|               1|             508.0|CC2919271D518CE2B...|\n",
      "|         102|              1|      2017/09/01|               2|             778.0|9DCFC4FE00D7565E7...|\n",
      "|         102|              1|      2017/09/01|               8|             298.0|F8FD3E6E72ECDF9D6...|\n",
      "|         102|              1|      2017/09/01|               8|             427.0|CA03E173868FFB0F5...|\n",
      "|         102|              1|      2017/09/01|              11|             448.0|820B52BFA23284825...|\n",
      "+------------+---------------+----------------+----------------+------------------+--------------------+\n",
      "only showing top 5 rows\n",
      "\n"
     ]
    }
   ],
   "source": [
    "df_cards.show(5)"
   ]
  },
  {
   "cell_type": "code",
   "execution_count": 43,
   "metadata": {},
   "outputs": [
    {
     "data": {
      "text/plain": [
       "181844"
      ]
     },
     "execution_count": 43,
     "metadata": {},
     "output_type": "execute_result"
    }
   ],
   "source": [
    "df_cards.count()"
   ]
  },
  {
   "cell_type": "markdown",
   "metadata": {},
   "source": [
    "## 6.2.- Convert transaction amount to pounds"
   ]
  },
  {
   "cell_type": "code",
   "execution_count": 44,
   "metadata": {},
   "outputs": [],
   "source": [
    "def get_amount_pounds(amount_pence):\n",
    "    amount_pounds = amount_pence/100.0\n",
    "    return amount_pounds\n",
    "\n",
    "get_amount_pounds_udf = udf(get_amount_pounds, FloatType())"
   ]
  },
  {
   "cell_type": "code",
   "execution_count": 45,
   "metadata": {},
   "outputs": [],
   "source": [
    "df_cards = df_cards.withColumn(\"transaction_amount\", get_amount_pounds_udf(df_cards['transaction_amount']))"
   ]
  },
  {
   "cell_type": "code",
   "execution_count": 46,
   "metadata": {},
   "outputs": [
    {
     "name": "stdout",
     "output_type": "stream",
     "text": [
      "+------------+---------------+----------------+----------------+------------------+--------------------+\n",
      "|store_number|terminal_number|transaction_date|transaction_time|transaction_amount|           pan_token|\n",
      "+------------+---------------+----------------+----------------+------------------+--------------------+\n",
      "|         102|              1|      2017/09/01|               1|              5.08|CC2919271D518CE2B...|\n",
      "|         102|              1|      2017/09/01|               2|              7.78|9DCFC4FE00D7565E7...|\n",
      "|         102|              1|      2017/09/01|               8|              2.98|F8FD3E6E72ECDF9D6...|\n",
      "|         102|              1|      2017/09/01|               8|              4.27|CA03E173868FFB0F5...|\n",
      "|         102|              1|      2017/09/01|              11|              4.48|820B52BFA23284825...|\n",
      "+------------+---------------+----------------+----------------+------------------+--------------------+\n",
      "only showing top 5 rows\n",
      "\n"
     ]
    }
   ],
   "source": [
    "df_cards.show(5)"
   ]
  },
  {
   "cell_type": "markdown",
   "metadata": {},
   "source": [
    "## 6.3.- Convert transaction time to hour and minutes"
   ]
  },
  {
   "cell_type": "code",
   "execution_count": 47,
   "metadata": {},
   "outputs": [],
   "source": [
    "def convert_time(time_int):\n",
    "    time_flt = time_int/99.9999999\n",
    "    time = math.modf(time_flt)\n",
    "    hour = str(int(time[1]))\n",
    "    minutes = str(int(time[0]*100))\n",
    "    \n",
    "    if len(hour) == 1:\n",
    "        hour = hour.zfill(2)\n",
    "    if len(minutes) == 1:\n",
    "        minutes = minutes.zfill(2)\n",
    "    \n",
    "    time_str = hour + ':' + minutes + ':' + '00'\n",
    "    return time_str\n",
    "\n",
    "convert_time_udf = udf(convert_time, StringType())"
   ]
  },
  {
   "cell_type": "code",
   "execution_count": 48,
   "metadata": {},
   "outputs": [],
   "source": [
    "df_cards = df_cards.withColumn(\"transaction_time\", convert_time_udf(df_cards['transaction_time']))"
   ]
  },
  {
   "cell_type": "code",
   "execution_count": 49,
   "metadata": {},
   "outputs": [
    {
     "name": "stdout",
     "output_type": "stream",
     "text": [
      "+------------+---------------+----------------+----------------+------------------+--------------------+\n",
      "|store_number|terminal_number|transaction_date|transaction_time|transaction_amount|           pan_token|\n",
      "+------------+---------------+----------------+----------------+------------------+--------------------+\n",
      "|         102|              1|      2017/09/01|        00:01:00|              5.08|CC2919271D518CE2B...|\n",
      "|         102|              1|      2017/09/01|        00:02:00|              7.78|9DCFC4FE00D7565E7...|\n",
      "|         102|              1|      2017/09/01|        00:08:00|              2.98|F8FD3E6E72ECDF9D6...|\n",
      "|         102|              1|      2017/09/01|        00:08:00|              4.27|CA03E173868FFB0F5...|\n",
      "|         102|              1|      2017/09/01|        00:11:00|              4.48|820B52BFA23284825...|\n",
      "+------------+---------------+----------------+----------------+------------------+--------------------+\n",
      "only showing top 5 rows\n",
      "\n"
     ]
    }
   ],
   "source": [
    "df_cards.show(5)"
   ]
  },
  {
   "cell_type": "markdown",
   "metadata": {},
   "source": [
    "## 6.4.- Combine transaction date and time into a single timestamp, drop transaction_date and transaction_time"
   ]
  },
  {
   "cell_type": "code",
   "execution_count": 50,
   "metadata": {},
   "outputs": [],
   "source": [
    "df_cards = df_cards.withColumn('timestamp_tmp', concat(df_cards[\"transaction_date\"], lit(\" \"), \\\n",
    "                                                       df_cards[\"transaction_time\"]))"
   ]
  },
  {
   "cell_type": "code",
   "execution_count": 51,
   "metadata": {},
   "outputs": [],
   "source": [
    "col = to_timestamp(df_cards['timestamp_tmp'], 'yyyy/MM/dd HH:mm:ss')"
   ]
  },
  {
   "cell_type": "code",
   "execution_count": 52,
   "metadata": {},
   "outputs": [],
   "source": [
    "df_cards = df_cards.withColumn('timestamp_cards', col)"
   ]
  },
  {
   "cell_type": "code",
   "execution_count": 53,
   "metadata": {},
   "outputs": [],
   "source": [
    "df_cards = df_cards.drop('transaction_date', 'transaction_time', 'timestamp_tmp')"
   ]
  },
  {
   "cell_type": "code",
   "execution_count": 54,
   "metadata": {},
   "outputs": [],
   "source": [
    "df_cards = df_cards.orderBy('store_number', 'terminal_number', 'timestamp_cards')"
   ]
  },
  {
   "cell_type": "code",
   "execution_count": 55,
   "metadata": {},
   "outputs": [
    {
     "name": "stdout",
     "output_type": "stream",
     "text": [
      "+------------+---------------+------------------+--------------------+-------------------+\n",
      "|store_number|terminal_number|transaction_amount|           pan_token|    timestamp_cards|\n",
      "+------------+---------------+------------------+--------------------+-------------------+\n",
      "|         102|              1|              5.08|CC2919271D518CE2B...|2017-09-01 00:01:00|\n",
      "|         102|              1|              7.78|9DCFC4FE00D7565E7...|2017-09-01 00:02:00|\n",
      "|         102|              1|              2.98|F8FD3E6E72ECDF9D6...|2017-09-01 00:08:00|\n",
      "|         102|              1|              4.27|CA03E173868FFB0F5...|2017-09-01 00:08:00|\n",
      "|         102|              1|              4.48|820B52BFA23284825...|2017-09-01 00:11:00|\n",
      "|         102|              1|              5.86|D34051D8DACF1DFB6...|2017-09-01 00:11:00|\n",
      "|         102|              1|              3.97|1F3A3D6A9B05A6DCD...|2017-09-01 00:12:00|\n",
      "|         102|              1|              2.98|2742D137D0DDA803F...|2017-09-01 00:16:00|\n",
      "|         102|              1|              3.47|B1E84F9E076CD4A57...|2017-09-01 00:16:00|\n",
      "|         102|              1|              7.48|B988574403B5ED640...|2017-09-01 00:29:00|\n",
      "|         102|              1|              3.99|78008944A1901BE0C...|2017-09-01 00:34:00|\n",
      "|         102|              1|              4.47|B5A15BC05FA5D736D...|2017-09-01 00:36:00|\n",
      "|         102|              1|              5.16|887CAF0FE07EE937D...|2017-09-01 00:45:00|\n",
      "|         102|              1|              5.69|6AE5D2C64F9558DC8...|2017-09-01 00:52:00|\n",
      "|         102|              1|             11.85|4F1B4EC90FAD9AD1B...|2017-09-01 00:59:00|\n",
      "|         102|              1|              3.99|85ADD1A67D2629751...|2017-09-01 01:01:00|\n",
      "|         102|              1|              4.88|DBFFCF186DDF8E8E8...|2017-09-01 01:02:00|\n",
      "|         102|              1|             16.04|480EC4A4B4EE56F82...|2017-09-01 01:04:00|\n",
      "|         102|              1|              4.37|0215BE605618FB588...|2017-09-01 01:06:00|\n",
      "|         102|              1|              3.48|48205A37CD0AF501F...|2017-09-01 01:10:00|\n",
      "+------------+---------------+------------------+--------------------+-------------------+\n",
      "only showing top 20 rows\n",
      "\n"
     ]
    }
   ],
   "source": [
    "df_cards.show(20)"
   ]
  },
  {
   "cell_type": "markdown",
   "metadata": {},
   "source": [
    "# 7.- Remove unnecessary data from memory"
   ]
  },
  {
   "cell_type": "code",
   "execution_count": 56,
   "metadata": {},
   "outputs": [
    {
     "data": {
      "text/plain": [
       "DataFrame[store_number: int, terminal_number: int, transaction_date: string, transaction_time: int, transaction_amount: float, card_scheme: string, pan_token: string, empty_field: int]"
      ]
     },
     "execution_count": 56,
     "metadata": {},
     "output_type": "execute_result"
    }
   ],
   "source": [
    "df_Sep2017T.unpersist()"
   ]
  },
  {
   "cell_type": "markdown",
   "metadata": {},
   "source": [
    "# 8.- Linkage"
   ]
  },
  {
   "cell_type": "markdown",
   "metadata": {},
   "source": [
    "## 8.1.- Compute aggregated basket with sale total plus VAT"
   ]
  },
  {
   "cell_type": "code",
   "execution_count": 57,
   "metadata": {},
   "outputs": [],
   "source": [
    "df_basket_cashless_aggregated = df_basket_cashless.groupBy(\"store_number\", \"timestamp_basket\", \"pos_code\", \\\n",
    "                                                           \"pos_id\").agg(sum(\"total_cost\").alias(\"total_cost\")). \\\n",
    "                                                                         orderBy(\"store_number\", \\\n",
    "                                                                                 \"pos_code\", \"pos_id\", \\\n",
    "                                                                                 \"timestamp_basket\")"
   ]
  },
  {
   "cell_type": "code",
   "execution_count": 58,
   "metadata": {},
   "outputs": [
    {
     "name": "stdout",
     "output_type": "stream",
     "text": [
      "+------------+-------------------+--------+-----------------+------------------+\n",
      "|store_number|   timestamp_basket|pos_code|           pos_id|        total_cost|\n",
      "+------------+-------------------+--------+-----------------+------------------+\n",
      "|         102|2017-09-01 00:00:51|       1|POS0001:216437503| 4.239999949932098|\n",
      "|         102|2017-09-01 00:01:40|       1|POS0001:216437504|  5.68999981880188|\n",
      "|         102|2017-09-01 00:07:28|       1|POS0001:216437511|2.4800000190734863|\n",
      "|         102|2017-09-01 00:08:34|       1|POS0001:216437512| 3.559999942779541|\n",
      "|         102|2017-09-01 00:10:50|       1|POS0001:216437513| 4.889999985694885|\n",
      "|         102|2017-09-01 00:11:14|       1|POS0001:216437514|3.7399999499320984|\n",
      "|         102|2017-09-01 00:12:16|       1|POS0001:216437516|3.3199999928474426|\n",
      "|         102|2017-09-01 00:14:50|       1|POS0001:216437517| 2.899999976158142|\n",
      "|         102|2017-09-01 00:16:23|       1|POS0001:216437518|2.4800000190734863|\n",
      "|         102|2017-09-01 00:29:23|       1|POS0001:216437526| 6.240000069141388|\n",
      "|         102|2017-09-01 00:34:19|       1|POS0001:216437527|3.3299999237060547|\n",
      "|         102|2017-09-01 00:36:16|       1|POS0001:216437530|3.7200000286102295|\n",
      "|         102|2017-09-01 00:44:44|       1|POS0001:216437534| 4.300000071525574|\n",
      "|         102|2017-09-01 00:52:39|       1|POS0001:216437538| 4.750000059604645|\n",
      "|         102|2017-09-01 00:58:46|       1|POS0001:216437541| 9.189999878406525|\n",
      "|         102|2017-09-01 01:01:27|       1|POS0001:216437544|3.3299999237060547|\n",
      "|         102|2017-09-01 01:02:22|       1|POS0001:216437545| 4.070000112056732|\n",
      "|         102|2017-09-01 01:03:44|       1|POS0001:216437547|13.380000174045563|\n",
      "|         102|2017-09-01 01:05:56|       1|POS0001:216437550|3.6399999856948853|\n",
      "|         102|2017-09-01 01:09:48|       1|POS0001:216437555| 2.899999976158142|\n",
      "+------------+-------------------+--------+-----------------+------------------+\n",
      "only showing top 20 rows\n",
      "\n"
     ]
    }
   ],
   "source": [
    "df_basket_cashless_aggregated.show(20)"
   ]
  },
  {
   "cell_type": "code",
   "execution_count": 59,
   "metadata": {},
   "outputs": [],
   "source": [
    "from pyspark.sql.functions import col\n",
    "df_basket_cashless_aggregated = df_basket_cashless_aggregated.withColumn('sale_total', col('total_cost')*1.2)"
   ]
  },
  {
   "cell_type": "code",
   "execution_count": 60,
   "metadata": {},
   "outputs": [],
   "source": [
    "df_basket_cashless_aggregated = df_basket_cashless_aggregated.\\\n",
    "                                withColumn(\"total_cost\", round(df_basket_cashless_aggregated[\"total_cost\"], 2))"
   ]
  },
  {
   "cell_type": "code",
   "execution_count": 61,
   "metadata": {},
   "outputs": [],
   "source": [
    "df_basket_cashless_aggregated = df_basket_cashless_aggregated.\\\n",
    "                                withColumn(\"sale_total\", round(df_basket_cashless_aggregated['sale_total'], 2))"
   ]
  },
  {
   "cell_type": "code",
   "execution_count": 62,
   "metadata": {},
   "outputs": [
    {
     "name": "stdout",
     "output_type": "stream",
     "text": [
      "+------------+-------------------+--------+-----------------+----------+----------+\n",
      "|store_number|   timestamp_basket|pos_code|           pos_id|total_cost|sale_total|\n",
      "+------------+-------------------+--------+-----------------+----------+----------+\n",
      "|         102|2017-09-01 00:00:51|       1|POS0001:216437503|      4.24|      5.09|\n",
      "|         102|2017-09-01 00:01:40|       1|POS0001:216437504|      5.69|      6.83|\n",
      "|         102|2017-09-01 00:07:28|       1|POS0001:216437511|      2.48|      2.98|\n",
      "|         102|2017-09-01 00:08:34|       1|POS0001:216437512|      3.56|      4.27|\n",
      "|         102|2017-09-01 00:10:50|       1|POS0001:216437513|      4.89|      5.87|\n",
      "|         102|2017-09-01 00:11:14|       1|POS0001:216437514|      3.74|      4.49|\n",
      "|         102|2017-09-01 00:12:16|       1|POS0001:216437516|      3.32|      3.98|\n",
      "|         102|2017-09-01 00:14:50|       1|POS0001:216437517|       2.9|      3.48|\n",
      "|         102|2017-09-01 00:16:23|       1|POS0001:216437518|      2.48|      2.98|\n",
      "|         102|2017-09-01 00:29:23|       1|POS0001:216437526|      6.24|      7.49|\n",
      "|         102|2017-09-01 00:34:19|       1|POS0001:216437527|      3.33|       4.0|\n",
      "|         102|2017-09-01 00:36:16|       1|POS0001:216437530|      3.72|      4.46|\n",
      "|         102|2017-09-01 00:44:44|       1|POS0001:216437534|       4.3|      5.16|\n",
      "|         102|2017-09-01 00:52:39|       1|POS0001:216437538|      4.75|       5.7|\n",
      "|         102|2017-09-01 00:58:46|       1|POS0001:216437541|      9.19|     11.03|\n",
      "|         102|2017-09-01 01:01:27|       1|POS0001:216437544|      3.33|       4.0|\n",
      "|         102|2017-09-01 01:02:22|       1|POS0001:216437545|      4.07|      4.88|\n",
      "|         102|2017-09-01 01:03:44|       1|POS0001:216437547|     13.38|     16.06|\n",
      "|         102|2017-09-01 01:05:56|       1|POS0001:216437550|      3.64|      4.37|\n",
      "|         102|2017-09-01 01:09:48|       1|POS0001:216437555|       2.9|      3.48|\n",
      "+------------+-------------------+--------+-----------------+----------+----------+\n",
      "only showing top 20 rows\n",
      "\n"
     ]
    }
   ],
   "source": [
    "df_basket_cashless_aggregated.show(20)"
   ]
  },
  {
   "cell_type": "code",
   "execution_count": 63,
   "metadata": {},
   "outputs": [
    {
     "data": {
      "text/plain": [
       "178274"
      ]
     },
     "execution_count": 63,
     "metadata": {},
     "output_type": "execute_result"
    }
   ],
   "source": [
    "df_basket_cashless_aggregated.count()"
   ]
  },
  {
   "cell_type": "markdown",
   "metadata": {},
   "source": [
    "## 8.2.- Adds a column with row number to aggregated basket data"
   ]
  },
  {
   "cell_type": "code",
   "execution_count": 64,
   "metadata": {},
   "outputs": [],
   "source": [
    "df_basket_cashless_aggregated = df_basket_cashless_aggregated.withColumn(\"row_num\", row_number().\\\n",
    "                                                                         over(Window.orderBy(\"store_number\", \\\n",
    "                                                                                 \"pos_code\", \"pos_id\", \\\n",
    "                                                                                 \"timestamp_basket\")))"
   ]
  },
  {
   "cell_type": "code",
   "execution_count": 66,
   "metadata": {},
   "outputs": [
    {
     "name": "stdout",
     "output_type": "stream",
     "text": [
      "+------------+-------------------+--------+-----------------+----------+----------+-------+\n",
      "|store_number|   timestamp_basket|pos_code|           pos_id|total_cost|sale_total|row_num|\n",
      "+------------+-------------------+--------+-----------------+----------+----------+-------+\n",
      "|         102|2017-09-01 00:00:51|       1|POS0001:216437503|      4.24|      5.09|      1|\n",
      "|         102|2017-09-01 00:01:40|       1|POS0001:216437504|      5.69|      6.83|      2|\n",
      "|         102|2017-09-01 00:07:28|       1|POS0001:216437511|      2.48|      2.98|      3|\n",
      "|         102|2017-09-01 00:08:34|       1|POS0001:216437512|      3.56|      4.27|      4|\n",
      "|         102|2017-09-01 00:10:50|       1|POS0001:216437513|      4.89|      5.87|      5|\n",
      "|         102|2017-09-01 00:11:14|       1|POS0001:216437514|      3.74|      4.49|      6|\n",
      "|         102|2017-09-01 00:12:16|       1|POS0001:216437516|      3.32|      3.98|      7|\n",
      "|         102|2017-09-01 00:14:50|       1|POS0001:216437517|       2.9|      3.48|      8|\n",
      "|         102|2017-09-01 00:16:23|       1|POS0001:216437518|      2.48|      2.98|      9|\n",
      "|         102|2017-09-01 00:29:23|       1|POS0001:216437526|      6.24|      7.49|     10|\n",
      "|         102|2017-09-01 00:34:19|       1|POS0001:216437527|      3.33|       4.0|     11|\n",
      "|         102|2017-09-01 00:36:16|       1|POS0001:216437530|      3.72|      4.46|     12|\n",
      "|         102|2017-09-01 00:44:44|       1|POS0001:216437534|       4.3|      5.16|     13|\n",
      "|         102|2017-09-01 00:52:39|       1|POS0001:216437538|      4.75|       5.7|     14|\n",
      "|         102|2017-09-01 00:58:46|       1|POS0001:216437541|      9.19|     11.03|     15|\n",
      "|         102|2017-09-01 01:01:27|       1|POS0001:216437544|      3.33|       4.0|     16|\n",
      "|         102|2017-09-01 01:02:22|       1|POS0001:216437545|      4.07|      4.88|     17|\n",
      "|         102|2017-09-01 01:03:44|       1|POS0001:216437547|     13.38|     16.06|     18|\n",
      "|         102|2017-09-01 01:05:56|       1|POS0001:216437550|      3.64|      4.37|     19|\n",
      "|         102|2017-09-01 01:09:48|       1|POS0001:216437555|       2.9|      3.48|     20|\n",
      "+------------+-------------------+--------+-----------------+----------+----------+-------+\n",
      "only showing top 20 rows\n",
      "\n"
     ]
    }
   ],
   "source": [
    "df_basket_cashless_aggregated.show(20)"
   ]
  },
  {
   "cell_type": "markdown",
   "metadata": {},
   "source": [
    "## 8.3.- Adds a column with next basket timestamp to aggregated basket data"
   ]
  },
  {
   "cell_type": "code",
   "execution_count": 67,
   "metadata": {},
   "outputs": [],
   "source": [
    "w = Window().partitionBy().orderBy(col(\"row_num\"))\n",
    "df_basket_cashless_aggregated = df_basket_cashless_aggregated.select(\"*\", lead(\"timestamp_basket\"). \\\n",
    "                                                                     over(w).alias(\"next_timestamp\")). \\\n",
    "                                                                     orderBy(\"store_number\", \\\n",
    "                                                                             \"pos_code\", \"pos_id\", \\\n",
    "                                                                             \"timestamp_basket\")"
   ]
  },
  {
   "cell_type": "code",
   "execution_count": 68,
   "metadata": {},
   "outputs": [
    {
     "name": "stdout",
     "output_type": "stream",
     "text": [
      "+------------+-------------------+--------+-----------------+----------+----------+-------+-------------------+\n",
      "|store_number|   timestamp_basket|pos_code|           pos_id|total_cost|sale_total|row_num|     next_timestamp|\n",
      "+------------+-------------------+--------+-----------------+----------+----------+-------+-------------------+\n",
      "|         102|2017-09-01 00:00:51|       1|POS0001:216437503|      4.24|      5.09|      1|2017-09-01 00:01:40|\n",
      "|         102|2017-09-01 00:01:40|       1|POS0001:216437504|      5.69|      6.83|      2|2017-09-01 00:07:28|\n",
      "|         102|2017-09-01 00:07:28|       1|POS0001:216437511|      2.48|      2.98|      3|2017-09-01 00:08:34|\n",
      "|         102|2017-09-01 00:08:34|       1|POS0001:216437512|      3.56|      4.27|      4|2017-09-01 00:10:50|\n",
      "|         102|2017-09-01 00:10:50|       1|POS0001:216437513|      4.89|      5.87|      5|2017-09-01 00:11:14|\n",
      "|         102|2017-09-01 00:11:14|       1|POS0001:216437514|      3.74|      4.49|      6|2017-09-01 00:12:16|\n",
      "|         102|2017-09-01 00:12:16|       1|POS0001:216437516|      3.32|      3.98|      7|2017-09-01 00:14:50|\n",
      "|         102|2017-09-01 00:14:50|       1|POS0001:216437517|       2.9|      3.48|      8|2017-09-01 00:16:23|\n",
      "|         102|2017-09-01 00:16:23|       1|POS0001:216437518|      2.48|      2.98|      9|2017-09-01 00:29:23|\n",
      "|         102|2017-09-01 00:29:23|       1|POS0001:216437526|      6.24|      7.49|     10|2017-09-01 00:34:19|\n",
      "|         102|2017-09-01 00:34:19|       1|POS0001:216437527|      3.33|       4.0|     11|2017-09-01 00:36:16|\n",
      "|         102|2017-09-01 00:36:16|       1|POS0001:216437530|      3.72|      4.46|     12|2017-09-01 00:44:44|\n",
      "|         102|2017-09-01 00:44:44|       1|POS0001:216437534|       4.3|      5.16|     13|2017-09-01 00:52:39|\n",
      "|         102|2017-09-01 00:52:39|       1|POS0001:216437538|      4.75|       5.7|     14|2017-09-01 00:58:46|\n",
      "|         102|2017-09-01 00:58:46|       1|POS0001:216437541|      9.19|     11.03|     15|2017-09-01 01:01:27|\n",
      "|         102|2017-09-01 01:01:27|       1|POS0001:216437544|      3.33|       4.0|     16|2017-09-01 01:02:22|\n",
      "|         102|2017-09-01 01:02:22|       1|POS0001:216437545|      4.07|      4.88|     17|2017-09-01 01:03:44|\n",
      "|         102|2017-09-01 01:03:44|       1|POS0001:216437547|     13.38|     16.06|     18|2017-09-01 01:05:56|\n",
      "|         102|2017-09-01 01:05:56|       1|POS0001:216437550|      3.64|      4.37|     19|2017-09-01 01:09:48|\n",
      "|         102|2017-09-01 01:09:48|       1|POS0001:216437555|       2.9|      3.48|     20|2017-09-01 01:14:34|\n",
      "+------------+-------------------+--------+-----------------+----------+----------+-------+-------------------+\n",
      "only showing top 20 rows\n",
      "\n"
     ]
    }
   ],
   "source": [
    "df_basket_cashless_aggregated.show()"
   ]
  },
  {
   "cell_type": "markdown",
   "metadata": {},
   "source": [
    "### 8.3.1- Filter out last row of aggregated basket dataframe"
   ]
  },
  {
   "cell_type": "code",
   "execution_count": 69,
   "metadata": {},
   "outputs": [
    {
     "data": {
      "text/plain": [
       "178274"
      ]
     },
     "execution_count": 69,
     "metadata": {},
     "output_type": "execute_result"
    }
   ],
   "source": [
    "df_basket_cashless_aggregated.count()"
   ]
  },
  {
   "cell_type": "code",
   "execution_count": 71,
   "metadata": {},
   "outputs": [],
   "source": [
    "df_basket_cashless_aggregated = df_basket_cashless_aggregated.filter(col('row_num') != 178274) "
   ]
  },
  {
   "cell_type": "code",
   "execution_count": 72,
   "metadata": {},
   "outputs": [
    {
     "data": {
      "text/plain": [
       "178273"
      ]
     },
     "execution_count": 72,
     "metadata": {},
     "output_type": "execute_result"
    }
   ],
   "source": [
    "df_basket_cashless_aggregated.count()"
   ]
  },
  {
   "cell_type": "markdown",
   "metadata": {},
   "source": [
    "## 8.3.- Join aggregated basket with card data "
   ]
  },
  {
   "cell_type": "code",
   "execution_count": 73,
   "metadata": {},
   "outputs": [],
   "source": [
    "df_basket_cashless_aggregated.registerTempTable('basket_aggregated')\n",
    "df_cards.registerTempTable('cards')"
   ]
  },
  {
   "cell_type": "code",
   "execution_count": 77,
   "metadata": {},
   "outputs": [],
   "source": [
    "df_joined_basket0 = sqlContext.sql(\"SELECT basket_aggregated.*, cards.transaction_amount, cards.pan_token, \\\n",
    "                             cards.timestamp_cards \\\n",
    "                             FROM basket_aggregated \\\n",
    "                             JOIN cards ON \\\n",
    "                             basket_aggregated.store_number = cards.store_number AND \\\n",
    "                             basket_aggregated.pos_code = cards.terminal_number AND \\\n",
    "                             basket_aggregated.timestamp_basket < cards.timestamp_cards AND \\\n",
    "                             basket_aggregated.next_timestamp > cards.timestamp_cards \\\n",
    "                             ORDER BY basket_aggregated.store_number,  basket_aggregated.pos_code, \\\n",
    "                             basket_aggregated.pos_id, basket_aggregated.timestamp_basket\")"
   ]
  },
  {
   "cell_type": "code",
   "execution_count": 78,
   "metadata": {},
   "outputs": [
    {
     "name": "stdout",
     "output_type": "stream",
     "text": [
      "+------------+-------------------+--------+-----------------+----------+----------+-------+-------------------+------------------+--------------------+-------------------+\n",
      "|store_number|   timestamp_basket|pos_code|           pos_id|total_cost|sale_total|row_num|     next_timestamp|transaction_amount|           pan_token|    timestamp_cards|\n",
      "+------------+-------------------+--------+-----------------+----------+----------+-------+-------------------+------------------+--------------------+-------------------+\n",
      "|         102|2017-09-01 00:00:51|       1|POS0001:216437503|      4.24|      5.09|      1|2017-09-01 00:01:40|              5.08|CC2919271D518CE2B...|2017-09-01 00:01:00|\n",
      "|         102|2017-09-01 00:01:40|       1|POS0001:216437504|      5.69|      6.83|      2|2017-09-01 00:07:28|              7.78|9DCFC4FE00D7565E7...|2017-09-01 00:02:00|\n",
      "|         102|2017-09-01 00:07:28|       1|POS0001:216437511|      2.48|      2.98|      3|2017-09-01 00:08:34|              4.27|CA03E173868FFB0F5...|2017-09-01 00:08:00|\n",
      "|         102|2017-09-01 00:07:28|       1|POS0001:216437511|      2.48|      2.98|      3|2017-09-01 00:08:34|              2.98|F8FD3E6E72ECDF9D6...|2017-09-01 00:08:00|\n",
      "|         102|2017-09-01 00:10:50|       1|POS0001:216437513|      4.89|      5.87|      5|2017-09-01 00:11:14|              5.86|D34051D8DACF1DFB6...|2017-09-01 00:11:00|\n",
      "|         102|2017-09-01 00:10:50|       1|POS0001:216437513|      4.89|      5.87|      5|2017-09-01 00:11:14|              4.48|820B52BFA23284825...|2017-09-01 00:11:00|\n",
      "|         102|2017-09-01 00:11:14|       1|POS0001:216437514|      3.74|      4.49|      6|2017-09-01 00:12:16|              3.97|1F3A3D6A9B05A6DCD...|2017-09-01 00:12:00|\n",
      "|         102|2017-09-01 00:14:50|       1|POS0001:216437517|       2.9|      3.48|      8|2017-09-01 00:16:23|              3.47|B1E84F9E076CD4A57...|2017-09-01 00:16:00|\n",
      "|         102|2017-09-01 00:14:50|       1|POS0001:216437517|       2.9|      3.48|      8|2017-09-01 00:16:23|              2.98|2742D137D0DDA803F...|2017-09-01 00:16:00|\n",
      "|         102|2017-09-01 00:16:23|       1|POS0001:216437518|      2.48|      2.98|      9|2017-09-01 00:29:23|              7.48|B988574403B5ED640...|2017-09-01 00:29:00|\n",
      "|         102|2017-09-01 00:29:23|       1|POS0001:216437526|      6.24|      7.49|     10|2017-09-01 00:34:19|              3.99|78008944A1901BE0C...|2017-09-01 00:34:00|\n",
      "|         102|2017-09-01 00:34:19|       1|POS0001:216437527|      3.33|       4.0|     11|2017-09-01 00:36:16|              4.47|B5A15BC05FA5D736D...|2017-09-01 00:36:00|\n",
      "|         102|2017-09-01 00:44:44|       1|POS0001:216437534|       4.3|      5.16|     13|2017-09-01 00:52:39|              5.69|6AE5D2C64F9558DC8...|2017-09-01 00:52:00|\n",
      "|         102|2017-09-01 00:44:44|       1|POS0001:216437534|       4.3|      5.16|     13|2017-09-01 00:52:39|              5.16|887CAF0FE07EE937D...|2017-09-01 00:45:00|\n",
      "|         102|2017-09-01 00:58:46|       1|POS0001:216437541|      9.19|     11.03|     15|2017-09-01 01:01:27|             11.85|4F1B4EC90FAD9AD1B...|2017-09-01 00:59:00|\n",
      "|         102|2017-09-01 00:58:46|       1|POS0001:216437541|      9.19|     11.03|     15|2017-09-01 01:01:27|              3.99|85ADD1A67D2629751...|2017-09-01 01:01:00|\n",
      "|         102|2017-09-01 01:01:27|       1|POS0001:216437544|      3.33|       4.0|     16|2017-09-01 01:02:22|              4.88|DBFFCF186DDF8E8E8...|2017-09-01 01:02:00|\n",
      "|         102|2017-09-01 01:03:44|       1|POS0001:216437547|     13.38|     16.06|     18|2017-09-01 01:05:56|             16.04|480EC4A4B4EE56F82...|2017-09-01 01:04:00|\n",
      "|         102|2017-09-01 01:05:56|       1|POS0001:216437550|      3.64|      4.37|     19|2017-09-01 01:09:48|              4.37|0215BE605618FB588...|2017-09-01 01:06:00|\n",
      "|         102|2017-09-01 01:09:48|       1|POS0001:216437555|       2.9|      3.48|     20|2017-09-01 01:14:34|              3.48|48205A37CD0AF501F...|2017-09-01 01:10:00|\n",
      "|         102|2017-09-01 01:14:34|       1|POS0001:216437561|      4.08|       4.9|     21|2017-09-01 01:16:02|              4.89|9D91170740A27B412...|2017-09-01 01:15:00|\n",
      "|         102|2017-09-01 01:14:34|       1|POS0001:216437561|      4.08|       4.9|     21|2017-09-01 01:16:02|              5.69|42D76B692CC356B59...|2017-09-01 01:16:00|\n",
      "|         102|2017-09-01 01:16:02|       1|POS0001:216437562|      4.05|      4.86|     22|2017-09-01 01:32:43|              1.98|0AFDA8B33379FD5B1...|2017-09-01 01:32:00|\n",
      "|         102|2017-09-01 01:32:43|       1|POS0001:216437570|      1.66|      1.99|     23|2017-09-01 01:47:04|              3.59|7DEF43A8468774469...|2017-09-01 01:47:00|\n",
      "|         102|2017-09-01 01:49:42|       1|POS0001:216437578|      5.65|      6.78|     25|2017-09-01 02:00:51|              6.78|5F450172385A2C810...|2017-09-01 01:50:00|\n",
      "|         102|2017-09-01 02:00:51|       1|POS0001:216437580|      3.25|       3.9|     26|2017-09-01 02:03:28|              2.99|66B7F97A615A11492...|2017-09-01 02:03:00|\n",
      "|         102|2017-09-01 02:00:51|       1|POS0001:216437580|      3.25|       3.9|     26|2017-09-01 02:03:28|              4.49|D2CEF037A0835EF7C...|2017-09-01 02:01:00|\n",
      "|         102|2017-09-01 02:04:47|       1|POS0001:216437584|      3.88|      4.66|     28|2017-09-01 02:07:58|              5.49|F4FD46CA4F9127DCA...|2017-09-01 02:05:00|\n",
      "|         102|2017-09-01 02:07:58|       1|POS0001:216437585|      1.66|      1.99|     29|2017-09-01 02:12:35|              1.59|D41B1A3CE8D1D0F8F...|2017-09-01 02:12:00|\n",
      "|         102|2017-09-01 02:07:58|       1|POS0001:216437585|      1.66|      1.99|     29|2017-09-01 02:12:35|              1.98|7DEF43A8468774469...|2017-09-01 02:08:00|\n",
      "|         102|2017-09-01 02:12:35|       1|POS0001:216437587|      1.33|       1.6|     30|2017-09-13 00:08:25|              1.29|EB2361B3829340CE7...|2017-09-13 00:08:00|\n",
      "|         102|2017-09-13 00:08:25|       1|POS0001:216437595|      1.07|      1.28|     31|2017-09-13 00:09:42|              3.98|BBC0E0690BC3FD1A9...|2017-09-13 00:09:00|\n",
      "|         102|2017-09-13 00:10:25|       1|POS0001:216437600|      4.08|       4.9|     33|2017-09-13 00:12:35|              1.98|7FA4B16CC8A3FFFF1...|2017-09-13 00:12:00|\n",
      "|         102|2017-09-13 00:10:25|       1|POS0001:216437600|      4.08|       4.9|     33|2017-09-13 00:12:35|              4.89|CE3E5E3FD8C1C2E95...|2017-09-13 00:11:00|\n",
      "|         102|2017-09-13 00:12:35|       1|POS0001:216437603|      1.66|      1.99|     34|2017-09-13 00:14:03|              4.49|8E73AAD5885BCAE66...|2017-09-13 00:14:00|\n",
      "|         102|2017-09-13 00:16:57|       1|POS0001:216437609|      4.49|      5.39|     36|2017-09-13 00:20:42|              5.38|2DBF3940D3BBE0B6C...|2017-09-13 00:17:00|\n",
      "|         102|2017-09-13 00:16:57|       1|POS0001:216437609|      4.49|      5.39|     36|2017-09-13 00:20:42|              5.77|904B4D764CCFECCE8...|2017-09-13 00:20:00|\n",
      "|         102|2017-09-13 00:20:42|       1|POS0001:216437613|      4.81|      5.77|     37|2017-09-13 00:21:06|              3.07|088EA0E7E3D6AC11F...|2017-09-13 00:21:00|\n",
      "|         102|2017-09-13 00:21:06|       1|POS0001:216437614|      2.57|      3.08|     38|2017-09-13 00:22:10|              3.48|B88A5B34968E69AF1...|2017-09-13 00:22:00|\n",
      "|         102|2017-09-13 00:22:10|       1|POS0001:216437615|      3.23|      3.88|     39|2017-09-13 00:28:13|              3.97|0089D483654E4AA74...|2017-09-13 00:28:00|\n",
      "|         102|2017-09-13 00:28:13|       1|POS0001:216437619|      3.32|      3.98|     40|2017-09-13 00:30:15|              5.98|3ED76F727B0604F74...|2017-09-13 00:30:00|\n",
      "|         102|2017-09-13 00:31:16|       1|POS0001:216437622|      2.48|      2.98|     42|2017-09-13 00:53:13|              7.17|7658E8BA904906693...|2017-09-13 00:53:00|\n",
      "|         102|2017-09-13 00:31:16|       1|POS0001:216437622|      2.48|      2.98|     42|2017-09-13 00:53:13|              2.98|EDA49BFE2D8FF8864...|2017-09-13 00:32:00|\n",
      "|         102|2017-09-13 00:53:13|       1|POS0001:216437623|      5.98|      7.18|     43|2017-09-13 00:55:12|              4.46|D600B927B6F6C60AF...|2017-09-13 00:55:00|\n",
      "|         102|2017-09-13 01:02:48|       1|POS0001:216437629|      3.31|      3.97|     45|2017-09-13 01:05:16|              3.97|019E8ED0ABB61C7A8...|2017-09-13 01:03:00|\n",
      "|         102|2017-09-13 01:02:48|       1|POS0001:216437629|      3.31|      3.97|     45|2017-09-13 01:05:16|              8.27|C3DAF8DBAFF2427C2...|2017-09-13 01:05:00|\n",
      "|         102|2017-09-13 01:06:49|       1|POS0001:216437632|      4.99|      5.99|     47|2017-09-13 01:07:43|              5.98|D4815E7AEFA37CD76...|2017-09-13 01:07:00|\n",
      "|         102|2017-09-13 01:06:49|       1|POS0001:216437632|      4.99|      5.99|     47|2017-09-13 01:07:43|              6.69|710A53933158C5558...|2017-09-13 01:07:00|\n",
      "|         102|2017-09-13 01:09:30|       1|POS0001:216437636|      9.26|     11.11|     49|2017-09-13 01:37:38|             11.11|12B35BCE5EFF223DA...|2017-09-13 01:10:00|\n",
      "|         102|2017-09-13 01:37:38|       1|POS0001:216437641|      3.33|       4.0|     50|2017-09-13 01:59:36|              3.18|DBA7B509AA8DCD80B...|2017-09-13 01:59:00|\n",
      "|         102|2017-09-13 01:37:38|       1|POS0001:216437641|      3.33|       4.0|     50|2017-09-13 01:59:36|              3.99|6B8C6E4E5C9F747BD...|2017-09-13 01:38:00|\n",
      "|         102|2017-09-13 02:22:57|       1|POS0001:216437660|      3.44|      4.13|     52|2017-09-13 02:27:59|              4.79|AF4886709686BBAB6...|2017-09-13 02:23:00|\n",
      "|         102|2017-09-13 02:27:59|       1|POS0001:216437663|      1.16|      1.39|     53|2017-09-13 02:28:38|              1.99|541BD43DEB4C36F22...|2017-09-13 02:28:00|\n",
      "|         102|2017-09-13 02:28:38|       1|POS0001:216437664|      3.32|      3.98|     54|2017-09-13 02:32:08|              3.98|3E5039B371CAA8537...|2017-09-13 02:29:00|\n",
      "|         102|2017-09-13 02:32:08|       1|POS0001:216437665|     14.97|     17.96|     55|2017-09-13 02:34:35|             17.93|2544B1912721F25FF...|2017-09-13 02:34:00|\n",
      "|         102|2017-09-13 02:34:35|       1|POS0001:216437666|      1.16|      1.39|     56|2017-09-13 02:41:14|              1.39|155F0F1FAF0428A6B...|2017-09-13 02:35:00|\n",
      "|         102|2017-09-13 02:41:14|       1|POS0001:216437671|      9.16|     10.99|     57|2017-09-15 12:10:38|             10.98|F4C8C7ACA46531335...|2017-09-13 02:42:00|\n",
      "|         102|2017-09-16 02:22:10|       1|POS0001:216438201|      3.75|       4.5|    244|2017-09-16 23:37:18|              4.68|FC0B38EDFAB4B17D5...|2017-09-16 23:37:00|\n",
      "|         102|2017-09-16 23:37:18|       1|POS0001:216438204|       3.9|      4.68|    245|2017-09-16 23:38:06|              6.69|E410C2D365DE825E8...|2017-09-16 23:38:00|\n",
      "|         102|2017-09-16 23:38:41|       1|POS0001:216438206|      4.23|      5.08|    247|2017-09-16 23:42:04|              2.28|D2877D9A94151AF92...|2017-09-16 23:42:00|\n",
      "|         102|2017-09-16 23:38:41|       1|POS0001:216438206|      4.23|      5.08|    247|2017-09-16 23:42:04|              4.96|FB6D22808174A11B9...|2017-09-16 23:39:00|\n",
      "|         102|2017-09-16 23:42:04|       1|POS0001:216438207|       1.9|      2.28|    248|2017-09-16 23:43:14|              8.41|56EAD44248165BCA6...|2017-09-16 23:43:00|\n",
      "|         102|2017-09-16 23:43:14|       1|POS0001:216438208|       7.0|       8.4|    249|2017-09-16 23:44:15|              8.08|80423729BB5695641...|2017-09-16 23:44:00|\n",
      "|         102|2017-09-16 23:46:49|       1|POS0001:216438210|      5.57|      6.68|    251|2017-09-16 23:47:24|              6.67|5C2AFDB2112401F13...|2017-09-16 23:47:00|\n",
      "|         102|2017-09-16 23:47:24|       1|POS0001:216438211|      3.57|      4.28|    252|2017-09-16 23:52:31|              4.28|AEABEABD67D0670E2...|2017-09-16 23:49:00|\n",
      "|         102|2017-09-16 23:47:24|       1|POS0001:216438211|      3.57|      4.28|    252|2017-09-16 23:52:31|              2.88|FD0F18290FDF48B17...|2017-09-16 23:52:00|\n",
      "|         102|2017-09-16 23:53:00|       1|POS0001:216438216|      2.07|      2.48|    254|2017-09-16 23:55:30|              3.57|64E6AEA3B9C420F46...|2017-09-16 23:55:00|\n",
      "|         102|2017-09-16 23:55:30|       1|POS0001:216438219|      2.99|      3.59|    255|2017-09-16 23:56:10|              7.88|B4B1B957BD867D126...|2017-09-16 23:56:00|\n",
      "|         102|2017-09-16 23:56:53|       1|POS0001:216438221|      1.16|      1.39|    257|2017-09-16 23:59:36|              1.39|3656DAA2C1EEFCC05...|2017-09-16 23:57:00|\n",
      "|         102|2017-09-16 23:59:36|       1|POS0001:216438224|      3.25|       3.9|    258|2017-09-17 00:02:13|              0.99|36CA7713BDC9DC0F5...|2017-09-17 00:02:00|\n",
      "|         102|2017-09-16 23:59:36|       1|POS0001:216438224|      3.25|       3.9|    258|2017-09-17 00:02:13|              1.99|DAFD9C0FB1760CA42...|2017-09-17 00:02:00|\n",
      "|         102|2017-09-16 23:59:36|       1|POS0001:216438224|      3.25|       3.9|    258|2017-09-17 00:02:13|              4.49|4119FB685A42BA1C9...|2017-09-17 00:00:00|\n",
      "|         102|2017-09-17 00:02:46|       1|POS0001:216438226|      0.83|       1.0|    260|2017-09-17 00:15:43|              3.27|3F8286D37E41DB0DF...|2017-09-17 00:15:00|\n",
      "|         102|2017-09-17 00:15:43|       1|POS0001:216438229|      2.73|      3.28|    261|2017-09-17 00:18:12|              0.99|BB00135110A99AACD...|2017-09-17 00:18:00|\n",
      "|         102|2017-09-17 00:18:12|       1|POS0001:216438230|      0.83|       1.0|    262|2017-09-17 00:23:19|              5.49|7953D0B6D6EB8E93C...|2017-09-17 00:23:00|\n",
      "|         102|2017-09-17 00:23:19|       1|POS0001:216438232|      3.88|      4.66|    263|2017-09-17 00:24:01|              6.18|9D62D6DF36D17AC0F...|2017-09-17 00:24:00|\n",
      "|         102|2017-09-17 00:24:01|       1|POS0001:216438233|      4.61|      5.53|    264|2017-09-17 00:50:39|              3.29|920073461911943B0...|2017-09-17 00:50:00|\n",
      "|         102|2017-09-17 01:08:55|       1|POS0001:216438252|      1.99|      2.39|    267|2017-09-17 01:10:08|              6.97|889DA0534BA415480...|2017-09-17 01:10:00|\n",
      "|         102|2017-09-17 01:08:55|       1|POS0001:216438252|      1.99|      2.39|    267|2017-09-17 01:10:08|              1.99|A326439CCA3DB5EB7...|2017-09-17 01:09:00|\n",
      "|         102|2017-09-17 01:10:08|       1|POS0001:216438253|      5.81|      6.97|    268|2017-09-17 01:11:45|              3.99|27FE63328FAE45BBA...|2017-09-17 01:11:00|\n",
      "|         102|2017-09-17 01:11:45|       1|POS0001:216438255|      3.33|       4.0|    269|2017-09-17 01:13:03|              4.89|F3582886FF400826B...|2017-09-17 01:13:00|\n",
      "|         102|2017-09-17 01:13:03|       1|POS0001:216438257|      4.08|       4.9|    270|2017-09-17 01:20:51|              4.49|86198487F0F8A6464...|2017-09-17 01:15:00|\n",
      "|         102|2017-09-17 01:20:51|       1|POS0001:216438259|      4.81|      5.77|    271|2017-09-17 01:22:59|              5.77|D13A762644D58001E...|2017-09-17 01:21:00|\n",
      "|         102|2017-09-17 01:22:59|       1|POS0001:216438262|      2.07|      2.48|    272|2017-09-17 01:23:31|              1.59|94A8471B7B8474289...|2017-09-17 01:23:00|\n",
      "|         102|2017-09-17 01:22:59|       1|POS0001:216438262|      2.07|      2.48|    272|2017-09-17 01:23:31|              2.48|295A5673E6FDE8069...|2017-09-17 01:23:00|\n",
      "|         102|2017-09-17 01:24:09|       1|POS0001:216438264|      8.33|      10.0|    274|2017-09-17 01:31:57|             10.25|C3316F899EF0BC86D...|2017-09-17 01:25:00|\n",
      "|         102|2017-09-17 01:31:57|       1|POS0001:216438267|      0.83|       1.0|    275|2017-09-17 01:32:26|              0.99|86198487F0F8A6464...|2017-09-17 01:32:00|\n",
      "|         102|2017-09-17 01:32:26|       1|POS0001:216438268|      2.99|      3.59|    276|2017-09-17 01:33:59|              3.59|B21F48CAD914AC4E8...|2017-09-17 01:33:00|\n",
      "|         102|2017-09-17 01:33:59|       1|POS0001:216438270|      5.73|      6.88|    277|2017-09-17 01:38:40|              7.46|5DB1F31A02CD39CD3...|2017-09-17 01:34:00|\n",
      "|         102|2017-09-17 01:38:40|       1|POS0001:216438271|     12.78|     15.34|    278|2017-09-17 01:41:09|              15.3|BE236E016B1404696...|2017-09-17 01:40:00|\n",
      "|         102|2017-09-17 01:38:40|       1|POS0001:216438271|     12.78|     15.34|    278|2017-09-17 01:41:09|             13.46|25496209038760DDA...|2017-09-17 01:41:00|\n",
      "|         102|2017-09-17 01:41:09|       1|POS0001:216438273|     11.23|     13.48|    279|2017-09-17 01:42:15|              8.18|4E17C2C6B0DF4B71D...|2017-09-17 01:42:00|\n",
      "|         102|2017-09-17 01:42:15|       1|POS0001:216438274|      6.27|      7.52|    280|2017-09-17 01:50:24|              4.19|AC623A10D1DF28B42...|2017-09-17 01:50:00|\n",
      "|         102|2017-09-17 01:52:17|       1|POS0001:216438280|      2.49|      2.99|    282|2017-09-17 01:57:51|              2.98|AA12EF866AADA743E...|2017-09-17 01:53:00|\n",
      "|         102|2017-09-17 01:57:51|       1|POS0001:216438284|      5.56|      6.67|    283|2017-09-17 01:59:26|              6.67|BA9A0E265E3D737B8...|2017-09-17 01:58:00|\n",
      "|         102|2017-09-17 01:57:51|       1|POS0001:216438284|      5.56|      6.67|    283|2017-09-17 01:59:26|              4.89|8495A15E7ADFB3976...|2017-09-17 01:59:00|\n",
      "|         102|2017-09-17 02:04:48|       1|POS0001:216438293|      9.95|     11.94|    285|2017-09-17 02:06:21|             11.95|902A6FEF2CE3C9B4F...|2017-09-17 02:05:00|\n",
      "|         102|2017-09-17 02:04:48|       1|POS0001:216438293|      9.95|     11.94|    285|2017-09-17 02:06:21|              5.98|7CD4A6098172A061F...|2017-09-17 02:06:00|\n",
      "|         102|2017-09-17 02:06:21|       1|POS0001:216438295|      5.32|      6.38|    286|2017-09-17 02:09:40|              6.47|FE4A7361D3D9078E4...|2017-09-17 02:08:00|\n",
      "|         102|2017-09-17 02:09:40|       1|POS0001:216438296|      5.19|      6.23|    287|2017-09-17 02:10:56|              5.89|960D15DDF0727AD60...|2017-09-17 02:10:00|\n",
      "+------------+-------------------+--------+-----------------+----------+----------+-------+-------------------+------------------+--------------------+-------------------+\n",
      "only showing top 100 rows\n",
      "\n"
     ]
    }
   ],
   "source": [
    "df_joined_basket0.show(100)"
   ]
  },
  {
   "cell_type": "code",
   "execution_count": 79,
   "metadata": {},
   "outputs": [
    {
     "data": {
      "text/plain": [
       "321078"
      ]
     },
     "execution_count": 79,
     "metadata": {},
     "output_type": "execute_result"
    }
   ],
   "source": [
    "df_joined_basket0.count()"
   ]
  },
  {
   "cell_type": "code",
   "execution_count": 81,
   "metadata": {},
   "outputs": [],
   "source": [
    "df = df_joined_basket0.select('store_number', 'pos_id', 'timestamp_basket', 'timestamp_cards', 'next_timestamp', \\\n",
    "                             'sale_total', 'transaction_amount')"
   ]
  },
  {
   "cell_type": "code",
   "execution_count": 82,
   "metadata": {},
   "outputs": [
    {
     "name": "stdout",
     "output_type": "stream",
     "text": [
      "+------------+-----------------+-------------------+-------------------+-------------------+----------+------------------+\n",
      "|store_number|           pos_id|   timestamp_basket|    timestamp_cards|     next_timestamp|sale_total|transaction_amount|\n",
      "+------------+-----------------+-------------------+-------------------+-------------------+----------+------------------+\n",
      "|         102|POS0001:216437503|2017-09-01 00:00:51|2017-09-01 00:01:00|2017-09-01 00:01:40|      5.09|              5.08|\n",
      "|         102|POS0001:216437504|2017-09-01 00:01:40|2017-09-01 00:02:00|2017-09-01 00:07:28|      6.83|              7.78|\n",
      "|         102|POS0001:216437511|2017-09-01 00:07:28|2017-09-01 00:08:00|2017-09-01 00:08:34|      2.98|              4.27|\n",
      "|         102|POS0001:216437511|2017-09-01 00:07:28|2017-09-01 00:08:00|2017-09-01 00:08:34|      2.98|              2.98|\n",
      "|         102|POS0001:216437513|2017-09-01 00:10:50|2017-09-01 00:11:00|2017-09-01 00:11:14|      5.87|              5.86|\n",
      "|         102|POS0001:216437513|2017-09-01 00:10:50|2017-09-01 00:11:00|2017-09-01 00:11:14|      5.87|              4.48|\n",
      "|         102|POS0001:216437514|2017-09-01 00:11:14|2017-09-01 00:12:00|2017-09-01 00:12:16|      4.49|              3.97|\n",
      "|         102|POS0001:216437517|2017-09-01 00:14:50|2017-09-01 00:16:00|2017-09-01 00:16:23|      3.48|              2.98|\n",
      "|         102|POS0001:216437517|2017-09-01 00:14:50|2017-09-01 00:16:00|2017-09-01 00:16:23|      3.48|              3.47|\n",
      "|         102|POS0001:216437518|2017-09-01 00:16:23|2017-09-01 00:29:00|2017-09-01 00:29:23|      2.98|              7.48|\n",
      "|         102|POS0001:216437526|2017-09-01 00:29:23|2017-09-01 00:34:00|2017-09-01 00:34:19|      7.49|              3.99|\n",
      "|         102|POS0001:216437527|2017-09-01 00:34:19|2017-09-01 00:36:00|2017-09-01 00:36:16|       4.0|              4.47|\n",
      "|         102|POS0001:216437534|2017-09-01 00:44:44|2017-09-01 00:45:00|2017-09-01 00:52:39|      5.16|              5.16|\n",
      "|         102|POS0001:216437534|2017-09-01 00:44:44|2017-09-01 00:52:00|2017-09-01 00:52:39|      5.16|              5.69|\n",
      "|         102|POS0001:216437541|2017-09-01 00:58:46|2017-09-01 00:59:00|2017-09-01 01:01:27|     11.03|             11.85|\n",
      "|         102|POS0001:216437541|2017-09-01 00:58:46|2017-09-01 01:01:00|2017-09-01 01:01:27|     11.03|              3.99|\n",
      "|         102|POS0001:216437544|2017-09-01 01:01:27|2017-09-01 01:02:00|2017-09-01 01:02:22|       4.0|              4.88|\n",
      "|         102|POS0001:216437547|2017-09-01 01:03:44|2017-09-01 01:04:00|2017-09-01 01:05:56|     16.06|             16.04|\n",
      "|         102|POS0001:216437550|2017-09-01 01:05:56|2017-09-01 01:06:00|2017-09-01 01:09:48|      4.37|              4.37|\n",
      "|         102|POS0001:216437555|2017-09-01 01:09:48|2017-09-01 01:10:00|2017-09-01 01:14:34|      3.48|              3.48|\n",
      "+------------+-----------------+-------------------+-------------------+-------------------+----------+------------------+\n",
      "only showing top 20 rows\n",
      "\n"
     ]
    }
   ],
   "source": [
    "df.show()"
   ]
  },
  {
   "cell_type": "code",
   "execution_count": 83,
   "metadata": {},
   "outputs": [],
   "source": [
    "df_joined_basket0.registerTempTable('joined_basket0')"
   ]
  },
  {
   "cell_type": "markdown",
   "metadata": {},
   "source": [
    "## 8.4.- Join total sale - basket data with card data "
   ]
  },
  {
   "cell_type": "code",
   "execution_count": 84,
   "metadata": {},
   "outputs": [],
   "source": [
    "df_basket_cashless.registerTempTable('basket')"
   ]
  },
  {
   "cell_type": "code",
   "execution_count": 85,
   "metadata": {},
   "outputs": [],
   "source": [
    "df_joined_basket1 = sqlContext.sql(\"SELECT basket.*, joined_basket0.transaction_amount, joined_basket0.pan_token, \\\n",
    "                             joined_basket0.timestamp_cards \\\n",
    "                             FROM basket \\\n",
    "                             LEFT JOIN joined_basket0 ON \\\n",
    "                             basket.store_number = joined_basket0.store_number AND \\\n",
    "                             basket.pos_id = joined_basket0.pos_id \\\n",
    "                             ORDER BY basket.store_number, basket.pos_code, basket.pos_id, \\\n",
    "                             basket.sale_number, basket.timestamp_basket\")"
   ]
  },
  {
   "cell_type": "code",
   "execution_count": 86,
   "metadata": {},
   "outputs": [
    {
     "name": "stdout",
     "output_type": "stream",
     "text": [
      "+------------+-------------------+--------+-----------------+-----------+----------+---------+--------+------------+------------------+--------------------+-------------------+\n",
      "|store_number|   timestamp_basket|pos_code|           pos_id|sale_number|total_cost|unit_cost|quantity|menu_item_id|transaction_amount|           pan_token|    timestamp_cards|\n",
      "+------------+-------------------+--------+-----------------+-----------+----------+---------+--------+------------+------------------+--------------------+-------------------+\n",
      "|         102|2017-09-01 00:00:51|       1|POS0001:216437503|          1|       0.0|      0.0|       2|        4600|              5.08|CC2919271D518CE2B...|2017-09-01 00:01:00|\n",
      "|         102|2017-09-01 00:00:51|       1|POS0001:216437503|          2|      0.91|     0.91|       1|        4810|              5.08|CC2919271D518CE2B...|2017-09-01 00:01:00|\n",
      "|         102|2017-09-01 00:00:51|       1|POS0001:216437503|          3|       0.0|      0.0|       2|        4650|              5.08|CC2919271D518CE2B...|2017-09-01 00:01:00|\n",
      "|         102|2017-09-01 00:00:51|       1|POS0001:216437503|          4|      3.33|     3.33|       1|        1420|              5.08|CC2919271D518CE2B...|2017-09-01 00:01:00|\n",
      "|         102|2017-09-01 00:01:40|       1|POS0001:216437504|          1|      -0.8|     -0.8|       1|        1265|              7.78|9DCFC4FE00D7565E7...|2017-09-01 00:02:00|\n",
      "|         102|2017-09-01 00:01:40|       1|POS0001:216437504|          2|      4.43|     4.43|       1|        7225|              7.78|9DCFC4FE00D7565E7...|2017-09-01 00:02:00|\n",
      "|         102|2017-09-01 00:01:40|       1|POS0001:216437504|          3|       0.0|      0.0|       1|        4911|              7.78|9DCFC4FE00D7565E7...|2017-09-01 00:02:00|\n",
      "|         102|2017-09-01 00:01:40|       1|POS0001:216437504|          4|      0.82|     0.82|       1|        3275|              7.78|9DCFC4FE00D7565E7...|2017-09-01 00:02:00|\n",
      "|         102|2017-09-01 00:01:40|       1|POS0001:216437504|          5|      1.24|     1.24|       1|        1146|              7.78|9DCFC4FE00D7565E7...|2017-09-01 00:02:00|\n",
      "|         102|2017-09-01 00:01:40|       1|POS0001:216437504|          6|       0.0|      0.0|       1|        7888|              7.78|9DCFC4FE00D7565E7...|2017-09-01 00:02:00|\n",
      "|         102|2017-09-01 00:01:40|       1|POS0001:216437504|          7|       0.0|      0.0|       1|        7971|              7.78|9DCFC4FE00D7565E7...|2017-09-01 00:02:00|\n",
      "|         102|2017-09-01 00:07:28|       1|POS0001:216437511|          1|      1.24|     1.24|       1|        1146|              2.98|F8FD3E6E72ECDF9D6...|2017-09-01 00:08:00|\n",
      "|         102|2017-09-01 00:07:28|       1|POS0001:216437511|          1|      1.24|     1.24|       1|        1146|              4.27|CA03E173868FFB0F5...|2017-09-01 00:08:00|\n",
      "|         102|2017-09-01 00:07:28|       1|POS0001:216437511|          2|      1.24|     1.24|       1|        1094|              2.98|F8FD3E6E72ECDF9D6...|2017-09-01 00:08:00|\n",
      "|         102|2017-09-01 00:07:28|       1|POS0001:216437511|          2|      1.24|     1.24|       1|        1094|              4.27|CA03E173868FFB0F5...|2017-09-01 00:08:00|\n",
      "|         102|2017-09-01 00:08:34|       1|POS0001:216437512|          1|      1.16|     1.16|       1|        3265|              null|                null|               null|\n",
      "|         102|2017-09-01 00:08:34|       1|POS0001:216437512|          2|      1.16|     1.16|       1|        4820|              null|                null|               null|\n",
      "|         102|2017-09-01 00:08:34|       1|POS0001:216437512|          3|      1.24|     1.24|       1|        1146|              null|                null|               null|\n",
      "|         102|2017-09-01 00:10:50|       1|POS0001:216437513|          1|      1.16|     1.16|       1|        3010|              4.48|820B52BFA23284825...|2017-09-01 00:11:00|\n",
      "|         102|2017-09-01 00:10:50|       1|POS0001:216437513|          1|      1.16|     1.16|       1|        3010|              5.86|D34051D8DACF1DFB6...|2017-09-01 00:11:00|\n",
      "|         102|2017-09-01 00:10:50|       1|POS0001:216437513|          2|       0.0|      0.0|       1|        4651|              5.86|D34051D8DACF1DFB6...|2017-09-01 00:11:00|\n",
      "|         102|2017-09-01 00:10:50|       1|POS0001:216437513|          2|       0.0|      0.0|       1|        4651|              4.48|820B52BFA23284825...|2017-09-01 00:11:00|\n",
      "|         102|2017-09-01 00:10:50|       1|POS0001:216437513|          3|      1.16|     1.16|       1|        4820|              4.48|820B52BFA23284825...|2017-09-01 00:11:00|\n",
      "|         102|2017-09-01 00:10:50|       1|POS0001:216437513|          3|      1.16|     1.16|       1|        4820|              5.86|D34051D8DACF1DFB6...|2017-09-01 00:11:00|\n",
      "|         102|2017-09-01 00:10:50|       1|POS0001:216437513|          4|      1.24|     1.24|       1|        1146|              5.86|D34051D8DACF1DFB6...|2017-09-01 00:11:00|\n",
      "|         102|2017-09-01 00:10:50|       1|POS0001:216437513|          4|      1.24|     1.24|       1|        1146|              4.48|820B52BFA23284825...|2017-09-01 00:11:00|\n",
      "|         102|2017-09-01 00:10:50|       1|POS0001:216437513|          5|      1.33|     1.33|       1|        4903|              4.48|820B52BFA23284825...|2017-09-01 00:11:00|\n",
      "|         102|2017-09-01 00:10:50|       1|POS0001:216437513|          5|      1.33|     1.33|       1|        4903|              5.86|D34051D8DACF1DFB6...|2017-09-01 00:11:00|\n",
      "|         102|2017-09-01 00:11:14|       1|POS0001:216437514|          1|      2.83|     2.83|       1|        1410|              3.97|1F3A3D6A9B05A6DCD...|2017-09-01 00:12:00|\n",
      "|         102|2017-09-01 00:11:14|       1|POS0001:216437514|          2|       0.0|      0.0|       1|        4600|              3.97|1F3A3D6A9B05A6DCD...|2017-09-01 00:12:00|\n",
      "|         102|2017-09-01 00:11:14|       1|POS0001:216437514|          3|       0.0|      0.0|       1|        4650|              3.97|1F3A3D6A9B05A6DCD...|2017-09-01 00:12:00|\n",
      "|         102|2017-09-01 00:11:14|       1|POS0001:216437514|          4|       0.0|      0.0|       1|        4650|              3.97|1F3A3D6A9B05A6DCD...|2017-09-01 00:12:00|\n",
      "|         102|2017-09-01 00:11:14|       1|POS0001:216437514|          5|      0.91|     0.91|       1|        4810|              3.97|1F3A3D6A9B05A6DCD...|2017-09-01 00:12:00|\n",
      "|         102|2017-09-01 00:12:16|       1|POS0001:216437516|          1|       0.0|      0.0|       1|        4651|              null|                null|               null|\n",
      "|         102|2017-09-01 00:12:16|       1|POS0001:216437516|          2|      1.16|     1.16|       1|        4820|              null|                null|               null|\n",
      "|         102|2017-09-01 00:12:16|       1|POS0001:216437516|          3|      0.83|     0.83|       1|        3055|              null|                null|               null|\n",
      "|         102|2017-09-01 00:12:16|       1|POS0001:216437516|          4|      1.33|     1.33|       1|        4903|              null|                null|               null|\n",
      "|         102|2017-09-01 00:14:50|       1|POS0001:216437517|          1|      1.24|     1.24|       1|        1388|              2.98|2742D137D0DDA803F...|2017-09-01 00:16:00|\n",
      "|         102|2017-09-01 00:14:50|       1|POS0001:216437517|          1|      1.24|     1.24|       1|        1388|              3.47|B1E84F9E076CD4A57...|2017-09-01 00:16:00|\n",
      "|         102|2017-09-01 00:14:50|       1|POS0001:216437517|          2|      1.66|     0.83|       2|        1010|              2.98|2742D137D0DDA803F...|2017-09-01 00:16:00|\n",
      "|         102|2017-09-01 00:14:50|       1|POS0001:216437517|          2|      1.66|     0.83|       2|        1010|              3.47|B1E84F9E076CD4A57...|2017-09-01 00:16:00|\n",
      "|         102|2017-09-01 00:16:23|       1|POS0001:216437518|          1|      2.48|     1.24|       2|        1146|              7.48|B988574403B5ED640...|2017-09-01 00:29:00|\n",
      "|         102|2017-09-01 00:29:23|       1|POS0001:216437526|          1|       0.0|      0.0|       1|        4833|              3.99|78008944A1901BE0C...|2017-09-01 00:34:00|\n",
      "|         102|2017-09-01 00:29:23|       1|POS0001:216437526|          2|      2.49|     2.49|       1|        1400|              3.99|78008944A1901BE0C...|2017-09-01 00:34:00|\n",
      "|         102|2017-09-01 00:29:23|       1|POS0001:216437526|          3|       0.0|      0.0|       1|        4650|              3.99|78008944A1901BE0C...|2017-09-01 00:34:00|\n",
      "|         102|2017-09-01 00:29:23|       1|POS0001:216437526|          4|      0.82|     0.82|       1|        3780|              3.99|78008944A1901BE0C...|2017-09-01 00:34:00|\n",
      "|         102|2017-09-01 00:29:23|       1|POS0001:216437526|          5|      2.93|     2.93|       1|        6000|              3.99|78008944A1901BE0C...|2017-09-01 00:34:00|\n",
      "|         102|2017-09-01 00:34:19|       1|POS0001:216437527|          1|       0.0|      0.0|       2|        4650|              4.47|B5A15BC05FA5D736D...|2017-09-01 00:36:00|\n",
      "|         102|2017-09-01 00:34:19|       1|POS0001:216437527|          2|       0.0|      0.0|       2|        4600|              4.47|B5A15BC05FA5D736D...|2017-09-01 00:36:00|\n",
      "|         102|2017-09-01 00:34:19|       1|POS0001:216437527|          3|      3.33|     3.33|       1|        1420|              4.47|B5A15BC05FA5D736D...|2017-09-01 00:36:00|\n",
      "|         102|2017-09-01 00:36:16|       1|POS0001:216437530|          1|      3.72|     1.24|       3|        1146|              null|                null|               null|\n",
      "|         102|2017-09-01 00:44:44|       1|POS0001:216437534|          1|      1.16|     1.16|       1|        4820|              5.69|6AE5D2C64F9558DC8...|2017-09-01 00:52:00|\n",
      "|         102|2017-09-01 00:44:44|       1|POS0001:216437534|          1|      1.16|     1.16|       1|        4820|              5.16|887CAF0FE07EE937D...|2017-09-01 00:45:00|\n",
      "|         102|2017-09-01 00:44:44|       1|POS0001:216437534|          2|       0.0|      0.0|       1|        4651|              5.16|887CAF0FE07EE937D...|2017-09-01 00:45:00|\n",
      "|         102|2017-09-01 00:44:44|       1|POS0001:216437534|          2|       0.0|      0.0|       1|        4651|              5.69|6AE5D2C64F9558DC8...|2017-09-01 00:52:00|\n",
      "|         102|2017-09-01 00:44:44|       1|POS0001:216437534|          3|      1.07|     1.07|       1|        3810|              5.16|887CAF0FE07EE937D...|2017-09-01 00:45:00|\n",
      "|         102|2017-09-01 00:44:44|       1|POS0001:216437534|          3|      1.07|     1.07|       1|        3810|              5.69|6AE5D2C64F9558DC8...|2017-09-01 00:52:00|\n",
      "|         102|2017-09-01 00:44:44|       1|POS0001:216437534|          4|      1.33|     1.33|       1|        4903|              5.69|6AE5D2C64F9558DC8...|2017-09-01 00:52:00|\n",
      "|         102|2017-09-01 00:44:44|       1|POS0001:216437534|          4|      1.33|     1.33|       1|        4903|              5.16|887CAF0FE07EE937D...|2017-09-01 00:45:00|\n",
      "|         102|2017-09-01 00:44:44|       1|POS0001:216437534|          5|      0.74|     0.74|       1|        1000|              5.69|6AE5D2C64F9558DC8...|2017-09-01 00:52:00|\n",
      "|         102|2017-09-01 00:44:44|       1|POS0001:216437534|          5|      0.74|     0.74|       1|        1000|              5.16|887CAF0FE07EE937D...|2017-09-01 00:45:00|\n",
      "|         102|2017-09-01 00:52:39|       1|POS0001:216437538|          1|       0.0|      0.0|       1|        4833|              null|                null|               null|\n",
      "|         102|2017-09-01 00:52:39|       1|POS0001:216437538|          2|      0.82|     0.82|       1|        3025|              null|                null|               null|\n",
      "|         102|2017-09-01 00:52:39|       1|POS0001:216437538|          3|      3.93|     3.93|       1|        6016|              null|                null|               null|\n",
      "|         102|2017-09-01 00:52:39|       1|POS0001:216437538|          4|       0.0|      0.0|       1|        6652|              null|                null|               null|\n",
      "|         102|2017-09-01 00:58:46|       1|POS0001:216437541|          1|      1.16|     1.16|       1|        3060|              3.99|85ADD1A67D2629751...|2017-09-01 01:01:00|\n",
      "|         102|2017-09-01 00:58:46|       1|POS0001:216437541|          1|      1.16|     1.16|       1|        3060|             11.85|4F1B4EC90FAD9AD1B...|2017-09-01 00:59:00|\n",
      "|         102|2017-09-01 00:58:46|       1|POS0001:216437541|          2|      1.06|     1.06|       1|        3080|              3.99|85ADD1A67D2629751...|2017-09-01 01:01:00|\n",
      "|         102|2017-09-01 00:58:46|       1|POS0001:216437541|          2|      1.06|     1.06|       1|        3080|             11.85|4F1B4EC90FAD9AD1B...|2017-09-01 00:59:00|\n",
      "|         102|2017-09-01 00:58:46|       1|POS0001:216437541|          3|       0.0|      0.0|       1|        4615|             11.85|4F1B4EC90FAD9AD1B...|2017-09-01 00:59:00|\n",
      "|         102|2017-09-01 00:58:46|       1|POS0001:216437541|          3|       0.0|      0.0|       1|        4615|              3.99|85ADD1A67D2629751...|2017-09-01 01:01:00|\n",
      "|         102|2017-09-01 00:58:46|       1|POS0001:216437541|          4|       0.0|      0.0|       1|        4600|              3.99|85ADD1A67D2629751...|2017-09-01 01:01:00|\n",
      "|         102|2017-09-01 00:58:46|       1|POS0001:216437541|          4|       0.0|      0.0|       1|        4600|             11.85|4F1B4EC90FAD9AD1B...|2017-09-01 00:59:00|\n",
      "|         102|2017-09-01 00:58:46|       1|POS0001:216437541|          5|      -0.7|     -0.7|       1|        1424|              3.99|85ADD1A67D2629751...|2017-09-01 01:01:00|\n",
      "|         102|2017-09-01 00:58:46|       1|POS0001:216437541|          5|      -0.7|     -0.7|       1|        1424|             11.85|4F1B4EC90FAD9AD1B...|2017-09-01 00:59:00|\n",
      "|         102|2017-09-01 00:58:46|       1|POS0001:216437541|          6|      2.66|     1.33|       2|        4903|             11.85|4F1B4EC90FAD9AD1B...|2017-09-01 00:59:00|\n",
      "|         102|2017-09-01 00:58:46|       1|POS0001:216437541|          6|      2.66|     1.33|       2|        4903|              3.99|85ADD1A67D2629751...|2017-09-01 01:01:00|\n",
      "|         102|2017-09-01 00:58:46|       1|POS0001:216437541|          7|      3.85|     3.85|       1|        6213|              3.99|85ADD1A67D2629751...|2017-09-01 01:01:00|\n",
      "|         102|2017-09-01 00:58:46|       1|POS0001:216437541|          7|      3.85|     3.85|       1|        6213|             11.85|4F1B4EC90FAD9AD1B...|2017-09-01 00:59:00|\n",
      "|         102|2017-09-01 00:58:46|       1|POS0001:216437541|          8|       0.0|      0.0|       1|        4834|              3.99|85ADD1A67D2629751...|2017-09-01 01:01:00|\n",
      "|         102|2017-09-01 00:58:46|       1|POS0001:216437541|          8|       0.0|      0.0|       1|        4834|             11.85|4F1B4EC90FAD9AD1B...|2017-09-01 00:59:00|\n",
      "|         102|2017-09-01 00:58:46|       1|POS0001:216437541|          9|      1.16|     1.16|       1|        4820|             11.85|4F1B4EC90FAD9AD1B...|2017-09-01 00:59:00|\n",
      "|         102|2017-09-01 00:58:46|       1|POS0001:216437541|          9|      1.16|     1.16|       1|        4820|              3.99|85ADD1A67D2629751...|2017-09-01 01:01:00|\n",
      "|         102|2017-09-01 00:58:46|       1|POS0001:216437541|         10|       0.0|      0.0|       2|        4651|             11.85|4F1B4EC90FAD9AD1B...|2017-09-01 00:59:00|\n",
      "|         102|2017-09-01 00:58:46|       1|POS0001:216437541|         10|       0.0|      0.0|       2|        4651|              3.99|85ADD1A67D2629751...|2017-09-01 01:01:00|\n",
      "|         102|2017-09-01 01:01:27|       1|POS0001:216437544|          1|      3.33|     3.33|       1|        1420|              4.88|DBFFCF186DDF8E8E8...|2017-09-01 01:02:00|\n",
      "|         102|2017-09-01 01:01:27|       1|POS0001:216437544|          2|       0.0|      0.0|       2|        4615|              4.88|DBFFCF186DDF8E8E8...|2017-09-01 01:02:00|\n",
      "|         102|2017-09-01 01:01:27|       1|POS0001:216437544|          3|       0.0|      0.0|       2|        4600|              4.88|DBFFCF186DDF8E8E8...|2017-09-01 01:02:00|\n",
      "|         102|2017-09-01 01:02:22|       1|POS0001:216437545|          1|      3.16|     3.16|       1|        1372|              null|                null|               null|\n",
      "|         102|2017-09-01 01:02:22|       1|POS0001:216437545|          2|      0.91|     0.91|       1|        4810|              null|                null|               null|\n",
      "|         102|2017-09-01 01:03:44|       1|POS0001:216437547|          1|      1.64|     0.82|       2|        3025|             16.04|480EC4A4B4EE56F82...|2017-09-01 01:04:00|\n",
      "|         102|2017-09-01 01:03:44|       1|POS0001:216437547|          2|      5.86|     2.93|       2|        6024|             16.04|480EC4A4B4EE56F82...|2017-09-01 01:04:00|\n",
      "|         102|2017-09-01 01:03:44|       1|POS0001:216437547|          3|      2.83|     2.83|       1|        1410|             16.04|480EC4A4B4EE56F82...|2017-09-01 01:04:00|\n",
      "|         102|2017-09-01 01:03:44|       1|POS0001:216437547|          4|       0.0|      0.0|       2|        4600|             16.04|480EC4A4B4EE56F82...|2017-09-01 01:04:00|\n",
      "|         102|2017-09-01 01:03:44|       1|POS0001:216437547|          5|      2.14|     1.07|       2|        3810|             16.04|480EC4A4B4EE56F82...|2017-09-01 01:04:00|\n",
      "|         102|2017-09-01 01:03:44|       1|POS0001:216437547|          6|       0.0|      0.0|       2|        4833|             16.04|480EC4A4B4EE56F82...|2017-09-01 01:04:00|\n",
      "|         102|2017-09-01 01:03:44|       1|POS0001:216437547|          7|      0.91|     0.91|       1|        4810|             16.04|480EC4A4B4EE56F82...|2017-09-01 01:04:00|\n",
      "|         102|2017-09-01 01:05:56|       1|POS0001:216437550|          1|      2.48|     1.24|       2|        1146|              4.37|0215BE605618FB588...|2017-09-01 01:06:00|\n",
      "|         102|2017-09-01 01:05:56|       1|POS0001:216437550|          2|      1.16|     1.16|       1|        4820|              4.37|0215BE605618FB588...|2017-09-01 01:06:00|\n",
      "|         102|2017-09-01 01:09:48|       1|POS0001:216437555|          1|      1.66|     1.66|       1|        2281|              3.48|48205A37CD0AF501F...|2017-09-01 01:10:00|\n",
      "+------------+-------------------+--------+-----------------+-----------+----------+---------+--------+------------+------------------+--------------------+-------------------+\n",
      "only showing top 100 rows\n",
      "\n"
     ]
    }
   ],
   "source": [
    "df_joined_basket1.show(100)"
   ]
  },
  {
   "cell_type": "code",
   "execution_count": 87,
   "metadata": {},
   "outputs": [
    {
     "data": {
      "text/plain": [
       "1732243"
      ]
     },
     "execution_count": 87,
     "metadata": {},
     "output_type": "execute_result"
    }
   ],
   "source": [
    "df_joined_basket1.count()"
   ]
  },
  {
   "cell_type": "markdown",
   "metadata": {},
   "source": [
    "## 9.4.- Save joined basket data to disk "
   ]
  },
  {
   "cell_type": "code",
   "execution_count": 88,
   "metadata": {},
   "outputs": [],
   "source": [
    "df_joined_basket1.repartition(1).write.format('com.databricks.spark.csv').save('joined_basket_reading.csv', header = 'true')"
   ]
  }
 ],
 "metadata": {
  "kernelspec": {
   "display_name": "Python 3",
   "language": "python",
   "name": "python3"
  },
  "language_info": {
   "codemirror_mode": {
    "name": "ipython",
    "version": 3
   },
   "file_extension": ".py",
   "mimetype": "text/x-python",
   "name": "python",
   "nbconvert_exporter": "python",
   "pygments_lexer": "ipython3",
   "version": "3.5.2"
  }
 },
 "nbformat": 4,
 "nbformat_minor": 1
}
