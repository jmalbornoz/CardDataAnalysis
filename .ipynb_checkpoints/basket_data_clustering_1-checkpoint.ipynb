{
 "cells": [
  {
   "cell_type": "markdown",
   "metadata": {},
   "source": [
    "# McDonald's Basket Data Analysis - Clustering v1\n",
    "## April 2018\n",
    "### Dr Jose M Albornoz\n",
    "\n",
    "This notebook performs a clustering analysis for the basket items found in data for all 7 Reading areas stores during September 2017"
   ]
  },
  {
   "cell_type": "markdown",
   "metadata": {},
   "source": [
    "# 1.- Import necessary modules, define SQLContext"
   ]
  },
  {
   "cell_type": "code",
   "execution_count": 1,
   "metadata": {},
   "outputs": [],
   "source": [
    "# Import required modules\n",
    "import pandas as pd\n",
    "import numpy as np\n",
    "\n",
    "from sklearn.cluster import DBSCAN\n",
    "from sklearn import metrics\n",
    "from sklearn.preprocessing import StandardScaler\n",
    "\n",
    "import matplotlib\n",
    "import matplotlib.pyplot as plt\n",
    "from matplotlib import style\n",
    "from matplotlib.ticker import MultipleLocator, FormatStrFormatter\n",
    "style.use('fivethirtyeight')\n",
    "%matplotlib inline\n",
    "\n",
    "import datetime"
   ]
  },
  {
   "cell_type": "code",
   "execution_count": 2,
   "metadata": {},
   "outputs": [],
   "source": [
    "pd.set_option('display.height', 1000)\n",
    "pd.set_option('display.max_rows', 500)\n",
    "pd.set_option('display.max_columns', 500)\n",
    "pd.set_option('display.width', 1000)"
   ]
  },
  {
   "cell_type": "markdown",
   "metadata": {},
   "source": [
    "# 2.- Load basket data"
   ]
  },
  {
   "cell_type": "code",
   "execution_count": 3,
   "metadata": {},
   "outputs": [],
   "source": [
    "column_labels = ['store_number', 'time_period', 'time_of_day', 'business_date', 'pos_code', 'c6', 'total_cost', \\\n",
    "                 'unit_cost', 'quantity', 'food_cost', 'paper_cost', 'hour', 'transaction_time', 'transaction_date', \\\n",
    "                 'pos_id', 'unique_till_code', 'sale_number', 'menu_item_id', 'till_key', 'channel', 'c20', \\\n",
    "                 'sale_or_refund', 'eatin_eatout', 'eat_in_eatout_str', 'payment_type_id', 'payment_type']"
   ]
  },
  {
   "cell_type": "code",
   "execution_count": 4,
   "metadata": {},
   "outputs": [],
   "source": [
    "df_basket1 = pd.read_csv(\"BasketDataReading7Sept_not15/000\", names=column_labels, sep='|')"
   ]
  },
  {
   "cell_type": "code",
   "execution_count": 5,
   "metadata": {},
   "outputs": [
    {
     "data": {
      "text/plain": [
       "(1278812, 26)"
      ]
     },
     "execution_count": 5,
     "metadata": {},
     "output_type": "execute_result"
    }
   ],
   "source": [
    "df_basket1.shape"
   ]
  },
  {
   "cell_type": "code",
   "execution_count": 6,
   "metadata": {},
   "outputs": [
    {
     "data": {
      "text/html": [
       "<div>\n",
       "<style scoped>\n",
       "    .dataframe tbody tr th:only-of-type {\n",
       "        vertical-align: middle;\n",
       "    }\n",
       "\n",
       "    .dataframe tbody tr th {\n",
       "        vertical-align: top;\n",
       "    }\n",
       "\n",
       "    .dataframe thead th {\n",
       "        text-align: right;\n",
       "    }\n",
       "</style>\n",
       "<table border=\"1\" class=\"dataframe\">\n",
       "  <thead>\n",
       "    <tr style=\"text-align: right;\">\n",
       "      <th></th>\n",
       "      <th>store_number</th>\n",
       "      <th>time_period</th>\n",
       "      <th>time_of_day</th>\n",
       "      <th>business_date</th>\n",
       "      <th>pos_code</th>\n",
       "      <th>c6</th>\n",
       "      <th>total_cost</th>\n",
       "      <th>unit_cost</th>\n",
       "      <th>quantity</th>\n",
       "      <th>food_cost</th>\n",
       "      <th>paper_cost</th>\n",
       "      <th>hour</th>\n",
       "      <th>transaction_time</th>\n",
       "      <th>transaction_date</th>\n",
       "      <th>pos_id</th>\n",
       "      <th>unique_till_code</th>\n",
       "      <th>sale_number</th>\n",
       "      <th>menu_item_id</th>\n",
       "      <th>till_key</th>\n",
       "      <th>channel</th>\n",
       "      <th>c20</th>\n",
       "      <th>sale_or_refund</th>\n",
       "      <th>eatin_eatout</th>\n",
       "      <th>eat_in_eatout_str</th>\n",
       "      <th>payment_type_id</th>\n",
       "      <th>payment_type</th>\n",
       "    </tr>\n",
       "  </thead>\n",
       "  <tbody>\n",
       "    <tr>\n",
       "      <th>0</th>\n",
       "      <td>787</td>\n",
       "      <td>5</td>\n",
       "      <td>Evening</td>\n",
       "      <td>2017-09-17</td>\n",
       "      <td>2</td>\n",
       "      <td>NaN</td>\n",
       "      <td>0.74</td>\n",
       "      <td>0.74</td>\n",
       "      <td>1</td>\n",
       "      <td>0.0955</td>\n",
       "      <td>0.0033</td>\n",
       "      <td>21</td>\n",
       "      <td>2017-09-17 21:05:33</td>\n",
       "      <td>2017-09-17</td>\n",
       "      <td>POS0002:947136517</td>\n",
       "      <td>947136517</td>\n",
       "      <td>1</td>\n",
       "      <td>4800</td>\n",
       "      <td>1</td>\n",
       "      <td>FRONT COUNTER</td>\n",
       "      <td>1</td>\n",
       "      <td>Sale</td>\n",
       "      <td>0</td>\n",
       "      <td>Take Out</td>\n",
       "      <td>1</td>\n",
       "      <td>Cash</td>\n",
       "    </tr>\n",
       "    <tr>\n",
       "      <th>1</th>\n",
       "      <td>787</td>\n",
       "      <td>4</td>\n",
       "      <td>Dinner</td>\n",
       "      <td>2017-09-17</td>\n",
       "      <td>2</td>\n",
       "      <td>NaN</td>\n",
       "      <td>0.20</td>\n",
       "      <td>0.20</td>\n",
       "      <td>1</td>\n",
       "      <td>0.1554</td>\n",
       "      <td>0.0000</td>\n",
       "      <td>19</td>\n",
       "      <td>2017-09-17 19:34:03</td>\n",
       "      <td>2017-09-17</td>\n",
       "      <td>POS0002:947136508</td>\n",
       "      <td>947136508</td>\n",
       "      <td>1</td>\n",
       "      <td>4630</td>\n",
       "      <td>1</td>\n",
       "      <td>FRONT COUNTER</td>\n",
       "      <td>1</td>\n",
       "      <td>Sale</td>\n",
       "      <td>0</td>\n",
       "      <td>Take Out</td>\n",
       "      <td>1</td>\n",
       "      <td>Cash</td>\n",
       "    </tr>\n",
       "    <tr>\n",
       "      <th>2</th>\n",
       "      <td>787</td>\n",
       "      <td>2</td>\n",
       "      <td>Lunch</td>\n",
       "      <td>2017-09-17</td>\n",
       "      <td>20</td>\n",
       "      <td>NaN</td>\n",
       "      <td>0.77</td>\n",
       "      <td>0.77</td>\n",
       "      <td>1</td>\n",
       "      <td>0.0612</td>\n",
       "      <td>0.0325</td>\n",
       "      <td>13</td>\n",
       "      <td>2017-09-17 13:24:39</td>\n",
       "      <td>2017-09-17</td>\n",
       "      <td>POS0019:1051702100</td>\n",
       "      <td>1051702100</td>\n",
       "      <td>6</td>\n",
       "      <td>3025</td>\n",
       "      <td>2</td>\n",
       "      <td>DRIVE THRU</td>\n",
       "      <td>1</td>\n",
       "      <td>Sale</td>\n",
       "      <td>0</td>\n",
       "      <td>Take Out</td>\n",
       "      <td>1</td>\n",
       "      <td>Cash</td>\n",
       "    </tr>\n",
       "    <tr>\n",
       "      <th>3</th>\n",
       "      <td>787</td>\n",
       "      <td>2</td>\n",
       "      <td>Lunch</td>\n",
       "      <td>2017-09-17</td>\n",
       "      <td>20</td>\n",
       "      <td>NaN</td>\n",
       "      <td>0.00</td>\n",
       "      <td>0.00</td>\n",
       "      <td>1</td>\n",
       "      <td>0.0000</td>\n",
       "      <td>0.0000</td>\n",
       "      <td>13</td>\n",
       "      <td>2017-09-17 13:24:39</td>\n",
       "      <td>2017-09-17</td>\n",
       "      <td>POS0019:1051702100</td>\n",
       "      <td>1051702100</td>\n",
       "      <td>5</td>\n",
       "      <td>4833</td>\n",
       "      <td>2</td>\n",
       "      <td>DRIVE THRU</td>\n",
       "      <td>1</td>\n",
       "      <td>Sale</td>\n",
       "      <td>0</td>\n",
       "      <td>Take Out</td>\n",
       "      <td>1</td>\n",
       "      <td>Cash</td>\n",
       "    </tr>\n",
       "    <tr>\n",
       "      <th>4</th>\n",
       "      <td>787</td>\n",
       "      <td>2</td>\n",
       "      <td>Lunch</td>\n",
       "      <td>2017-09-17</td>\n",
       "      <td>20</td>\n",
       "      <td>NaN</td>\n",
       "      <td>2.97</td>\n",
       "      <td>2.97</td>\n",
       "      <td>1</td>\n",
       "      <td>0.4751</td>\n",
       "      <td>0.0348</td>\n",
       "      <td>13</td>\n",
       "      <td>2017-09-17 13:24:39</td>\n",
       "      <td>2017-09-17</td>\n",
       "      <td>POS0019:1051702100</td>\n",
       "      <td>1051702100</td>\n",
       "      <td>1</td>\n",
       "      <td>6150</td>\n",
       "      <td>2</td>\n",
       "      <td>DRIVE THRU</td>\n",
       "      <td>1</td>\n",
       "      <td>Sale</td>\n",
       "      <td>0</td>\n",
       "      <td>Take Out</td>\n",
       "      <td>1</td>\n",
       "      <td>Cash</td>\n",
       "    </tr>\n",
       "  </tbody>\n",
       "</table>\n",
       "</div>"
      ],
      "text/plain": [
       "   store_number  time_period time_of_day business_date  pos_code  c6  total_cost  unit_cost  quantity  food_cost  paper_cost  hour     transaction_time transaction_date              pos_id  unique_till_code  sale_number  menu_item_id  till_key        channel  c20 sale_or_refund  eatin_eatout eat_in_eatout_str  payment_type_id payment_type\n",
       "0           787            5     Evening    2017-09-17         2 NaN        0.74       0.74         1     0.0955      0.0033    21  2017-09-17 21:05:33       2017-09-17   POS0002:947136517         947136517            1          4800         1  FRONT COUNTER    1           Sale             0          Take Out                1         Cash\n",
       "1           787            4      Dinner    2017-09-17         2 NaN        0.20       0.20         1     0.1554      0.0000    19  2017-09-17 19:34:03       2017-09-17   POS0002:947136508         947136508            1          4630         1  FRONT COUNTER    1           Sale             0          Take Out                1         Cash\n",
       "2           787            2       Lunch    2017-09-17        20 NaN        0.77       0.77         1     0.0612      0.0325    13  2017-09-17 13:24:39       2017-09-17  POS0019:1051702100        1051702100            6          3025         2     DRIVE THRU    1           Sale             0          Take Out                1         Cash\n",
       "3           787            2       Lunch    2017-09-17        20 NaN        0.00       0.00         1     0.0000      0.0000    13  2017-09-17 13:24:39       2017-09-17  POS0019:1051702100        1051702100            5          4833         2     DRIVE THRU    1           Sale             0          Take Out                1         Cash\n",
       "4           787            2       Lunch    2017-09-17        20 NaN        2.97       2.97         1     0.4751      0.0348    13  2017-09-17 13:24:39       2017-09-17  POS0019:1051702100        1051702100            1          6150         2     DRIVE THRU    1           Sale             0          Take Out                1         Cash"
      ]
     },
     "execution_count": 6,
     "metadata": {},
     "output_type": "execute_result"
    }
   ],
   "source": [
    "df_basket1.head()"
   ]
  },
  {
   "cell_type": "code",
   "execution_count": 7,
   "metadata": {},
   "outputs": [
    {
     "data": {
      "text/plain": [
       "array(['Evening', 'Dinner', 'Lunch', 'Afternoon', 'Breakfast', 'Night'],\n",
       "      dtype=object)"
      ]
     },
     "execution_count": 7,
     "metadata": {},
     "output_type": "execute_result"
    }
   ],
   "source": [
    "df_basket1['time_of_day'].unique()"
   ]
  },
  {
   "cell_type": "code",
   "execution_count": 8,
   "metadata": {},
   "outputs": [
    {
     "data": {
      "text/plain": [
       "array([5, 4, 2, 3, 1, 6])"
      ]
     },
     "execution_count": 8,
     "metadata": {},
     "output_type": "execute_result"
    }
   ],
   "source": [
    "df_basket1['time_period'].unique()"
   ]
  },
  {
   "cell_type": "markdown",
   "metadata": {},
   "source": [
    "## 2.1.- Convert transaction_time to datetime"
   ]
  },
  {
   "cell_type": "code",
   "execution_count": 9,
   "metadata": {},
   "outputs": [],
   "source": [
    "df_basket1['transaction_time'] = pd.to_datetime(df_basket1['transaction_time'])"
   ]
  },
  {
   "cell_type": "markdown",
   "metadata": {},
   "source": [
    "## 2.2.- Filter data by range of days"
   ]
  },
  {
   "cell_type": "code",
   "execution_count": 10,
   "metadata": {},
   "outputs": [],
   "source": [
    "df_basket2 = df_basket1[(df_basket1['transaction_time'] >= datetime.date(2017,9,1)) & \\\n",
    "                         (df_basket1['transaction_time'] <= datetime.date(2017,9,5))]"
   ]
  },
  {
   "cell_type": "code",
   "execution_count": 11,
   "metadata": {},
   "outputs": [
    {
     "data": {
      "text/plain": [
       "(218408, 26)"
      ]
     },
     "execution_count": 11,
     "metadata": {},
     "output_type": "execute_result"
    }
   ],
   "source": [
    "df_basket2.shape"
   ]
  },
  {
   "cell_type": "markdown",
   "metadata": {},
   "source": [
    "# 3.- Preprocessing"
   ]
  },
  {
   "cell_type": "code",
   "execution_count": 12,
   "metadata": {},
   "outputs": [],
   "source": [
    "df_basket3 = df_basket2[['store_number', 'time_period', 'eatin_eatout', 'payment_type_id', \\\n",
    "                         'channel', 'menu_item_id', 'unit_cost']]"
   ]
  },
  {
   "cell_type": "code",
   "execution_count": 13,
   "metadata": {},
   "outputs": [
    {
     "data": {
      "text/html": [
       "<div>\n",
       "<style scoped>\n",
       "    .dataframe tbody tr th:only-of-type {\n",
       "        vertical-align: middle;\n",
       "    }\n",
       "\n",
       "    .dataframe tbody tr th {\n",
       "        vertical-align: top;\n",
       "    }\n",
       "\n",
       "    .dataframe thead th {\n",
       "        text-align: right;\n",
       "    }\n",
       "</style>\n",
       "<table border=\"1\" class=\"dataframe\">\n",
       "  <thead>\n",
       "    <tr style=\"text-align: right;\">\n",
       "      <th></th>\n",
       "      <th>store_number</th>\n",
       "      <th>time_period</th>\n",
       "      <th>eatin_eatout</th>\n",
       "      <th>payment_type_id</th>\n",
       "      <th>channel</th>\n",
       "      <th>menu_item_id</th>\n",
       "      <th>unit_cost</th>\n",
       "    </tr>\n",
       "  </thead>\n",
       "  <tbody>\n",
       "    <tr>\n",
       "      <th>573559</th>\n",
       "      <td>1262</td>\n",
       "      <td>2</td>\n",
       "      <td>0</td>\n",
       "      <td>2</td>\n",
       "      <td>DRIVE THRU</td>\n",
       "      <td>1146</td>\n",
       "      <td>1.24</td>\n",
       "    </tr>\n",
       "    <tr>\n",
       "      <th>573560</th>\n",
       "      <td>1262</td>\n",
       "      <td>2</td>\n",
       "      <td>0</td>\n",
       "      <td>2</td>\n",
       "      <td>DRIVE THRU</td>\n",
       "      <td>4834</td>\n",
       "      <td>0.00</td>\n",
       "    </tr>\n",
       "    <tr>\n",
       "      <th>573561</th>\n",
       "      <td>1262</td>\n",
       "      <td>2</td>\n",
       "      <td>0</td>\n",
       "      <td>2</td>\n",
       "      <td>DRIVE THRU</td>\n",
       "      <td>4903</td>\n",
       "      <td>1.33</td>\n",
       "    </tr>\n",
       "    <tr>\n",
       "      <th>573562</th>\n",
       "      <td>1262</td>\n",
       "      <td>2</td>\n",
       "      <td>0</td>\n",
       "      <td>2</td>\n",
       "      <td>DRIVE THRU</td>\n",
       "      <td>3030</td>\n",
       "      <td>1.01</td>\n",
       "    </tr>\n",
       "    <tr>\n",
       "      <th>573563</th>\n",
       "      <td>1262</td>\n",
       "      <td>2</td>\n",
       "      <td>0</td>\n",
       "      <td>2</td>\n",
       "      <td>DRIVE THRU</td>\n",
       "      <td>6120</td>\n",
       "      <td>3.07</td>\n",
       "    </tr>\n",
       "  </tbody>\n",
       "</table>\n",
       "</div>"
      ],
      "text/plain": [
       "        store_number  time_period  eatin_eatout  payment_type_id     channel  menu_item_id  unit_cost\n",
       "573559          1262            2             0                2  DRIVE THRU          1146       1.24\n",
       "573560          1262            2             0                2  DRIVE THRU          4834       0.00\n",
       "573561          1262            2             0                2  DRIVE THRU          4903       1.33\n",
       "573562          1262            2             0                2  DRIVE THRU          3030       1.01\n",
       "573563          1262            2             0                2  DRIVE THRU          6120       3.07"
      ]
     },
     "execution_count": 13,
     "metadata": {},
     "output_type": "execute_result"
    }
   ],
   "source": [
    "df_basket3.head()"
   ]
  },
  {
   "cell_type": "code",
   "execution_count": 14,
   "metadata": {},
   "outputs": [
    {
     "data": {
      "text/plain": [
       "array([ 1.24,  0.  ,  1.33,  1.01,  3.07,  0.59,  1.57,  2.97,  0.71,\n",
       "        1.66,  0.77,  3.33,  0.49,  0.2 , -0.62, -0.5 ,  0.82,  3.43,\n",
       "        3.01,  2.19,  0.83,  0.91,  1.99,  3.41,  1.07, -0.52,  2.99,\n",
       "        0.87,  2.95,  2.93,  3.49,  2.49,  1.62,  2.31,  3.38,  1.11,\n",
       "        0.74,  0.17,  1.16,  2.83,  4.48,  1.85,  0.16,  4.46,  4.29,\n",
       "       -0.42,  2.07,  1.41, -0.48,  2.74,  1.63,  4.65,  0.62,  2.96,\n",
       "        1.59,  0.9 , -0.4 ,  2.16, -0.46,  2.28,  1.15,  4.56,  1.02,\n",
       "        2.41,  3.37,  1.38,  3.84, -0.7 ,  0.25,  4.07,  3.93,  2.57,\n",
       "       -0.33,  2.12,  4.6 ,  1.06, -0.82,  3.15,  3.16,  0.66,  1.19,\n",
       "        1.67,  3.1 ,  1.2 , -0.68,  3.83,  3.17, -0.55,  4.45,  1.45,\n",
       "        1.69,  1.91,  1.49,  3.  ,  0.58,  1.81,  0.19,  3.97,  0.97,\n",
       "        3.11,  4.5 ,  3.7 ,  1.74,  2.  ,  3.29,  0.13,  1.39,  1.34,\n",
       "       -0.45,  3.24,  3.14,  1.56,  3.53,  2.17, -0.43,  1.84,  0.14,\n",
       "        1.51,  4.4 ,  2.33,  3.02,  4.52,  0.99,  3.64,  3.72,  4.26,\n",
       "        1.89,  2.08,  1.9 ,  3.34,  3.48,  2.24,  1.7 , -0.38,  1.61,\n",
       "        1.65,  1.82,  0.09,  3.71,  2.91,  3.91,  1.83,  2.66,  0.57,\n",
       "        3.52,  0.21,  0.23,  4.43,  1.29,  4.35,  2.22, -0.78,  2.79,\n",
       "        2.23,  4.28,  3.05,  4.57,  3.57,  1.64,  4.64,  4.3 ,  0.41,\n",
       "       -0.35,  0.4 ,  1.35,  2.13, -0.63,  2.87,  4.02,  2.5 ,  0.48,\n",
       "       -0.36,  2.84,  4.44, -0.25,  3.5 ,  1.79,  3.19,  3.74, -0.53,\n",
       "        3.99,  0.79,  2.32,  1.21,  3.32,  0.75,  1.71,  2.54,  3.98,\n",
       "        1.92,  0.11,  3.9 ,  3.96,  3.85,  3.82,  4.42, -0.73,  4.23,\n",
       "        2.27,  3.67, -0.76,  0.22,  3.95,  0.15,  3.76,  0.56, -0.6 ,\n",
       "        3.27,  4.11,  2.67, -0.8 ,  4.15,  4.08,  0.5 ,  3.86,  2.29,\n",
       "        0.61,  1.36, -0.75,  1.09,  2.53,  2.04,  0.47,  2.52,  0.1 ,\n",
       "        0.12,  0.27, -0.72,  2.98,  2.43,  0.33,  1.86,  0.38,  1.3 ,\n",
       "        2.36,  1.44,  0.73,  0.7 ,  3.66,  0.95,  4.1 ,  2.03,  1.46,\n",
       "        2.3 , -0.28,  2.51,  1.4 , -0.32, -0.83, -0.2 , -0.12,  1.5 ,\n",
       "        1.6 ,  1.8 ,  2.76,  2.01,  1.  ,  1.52,  1.25,  2.75, -0.26,\n",
       "        1.17,  0.93,  2.59,  2.78, -0.3 ,  2.1 , -0.1 , -0.66,  2.05,\n",
       "        2.09,  0.26,  1.55,  0.76,  0.39,  0.63,  2.68,  0.67,  1.23,\n",
       "        1.72,  1.87,  0.43])"
      ]
     },
     "execution_count": 14,
     "metadata": {},
     "output_type": "execute_result"
    }
   ],
   "source": [
    "df_basket3['unit_cost'].unique()"
   ]
  },
  {
   "cell_type": "code",
   "execution_count": 15,
   "metadata": {},
   "outputs": [
    {
     "data": {
      "text/plain": [
       "282"
      ]
     },
     "execution_count": 15,
     "metadata": {},
     "output_type": "execute_result"
    }
   ],
   "source": [
    "len(df_basket3['unit_cost'].unique())"
   ]
  },
  {
   "cell_type": "markdown",
   "metadata": {},
   "source": [
    "## 3.1.- Exclude items with zero or negative cost"
   ]
  },
  {
   "cell_type": "code",
   "execution_count": 16,
   "metadata": {},
   "outputs": [],
   "source": [
    "df_basket3 = df_basket3[(df_basket3['unit_cost'] != 0) & (df_basket3['unit_cost'] >= 0)]"
   ]
  },
  {
   "cell_type": "code",
   "execution_count": 17,
   "metadata": {},
   "outputs": [
    {
     "data": {
      "text/plain": [
       "array([1.24, 1.33, 1.01, 3.07, 0.59, 1.57, 2.97, 0.71, 1.66, 0.77, 3.33,\n",
       "       0.49, 0.2 , 0.82, 3.43, 3.01, 2.19, 0.83, 0.91, 1.99, 3.41, 1.07,\n",
       "       2.99, 0.87, 2.95, 2.93, 3.49, 2.49, 1.62, 2.31, 3.38, 1.11, 0.74,\n",
       "       0.17, 1.16, 2.83, 4.48, 1.85, 0.16, 4.46, 4.29, 2.07, 1.41, 2.74,\n",
       "       1.63, 4.65, 0.62, 2.96, 1.59, 0.9 , 2.16, 2.28, 1.15, 4.56, 1.02,\n",
       "       2.41, 3.37, 1.38, 3.84, 0.25, 4.07, 3.93, 2.57, 2.12, 4.6 , 1.06,\n",
       "       3.15, 3.16, 0.66, 1.19, 1.67, 3.1 , 1.2 , 3.83, 3.17, 4.45, 1.45,\n",
       "       1.69, 1.91, 1.49, 3.  , 0.58, 1.81, 0.19, 3.97, 0.97, 3.11, 4.5 ,\n",
       "       3.7 , 1.74, 2.  , 3.29, 0.13, 1.39, 1.34, 3.24, 3.14, 1.56, 3.53,\n",
       "       2.17, 1.84, 0.14, 1.51, 4.4 , 2.33, 3.02, 4.52, 0.99, 3.64, 3.72,\n",
       "       4.26, 1.89, 2.08, 1.9 , 3.34, 3.48, 2.24, 1.7 , 1.61, 1.65, 1.82,\n",
       "       0.09, 3.71, 2.91, 3.91, 1.83, 2.66, 0.57, 3.52, 0.21, 0.23, 4.43,\n",
       "       1.29, 4.35, 2.22, 2.79, 2.23, 4.28, 3.05, 4.57, 3.57, 1.64, 4.64,\n",
       "       4.3 , 0.41, 0.4 , 1.35, 2.13, 2.87, 4.02, 2.5 , 0.48, 2.84, 4.44,\n",
       "       3.5 , 1.79, 3.19, 3.74, 3.99, 0.79, 2.32, 1.21, 3.32, 0.75, 1.71,\n",
       "       2.54, 3.98, 1.92, 0.11, 3.9 , 3.96, 3.85, 3.82, 4.42, 4.23, 2.27,\n",
       "       3.67, 0.22, 3.95, 0.15, 3.76, 0.56, 3.27, 4.11, 2.67, 4.15, 4.08,\n",
       "       0.5 , 3.86, 2.29, 0.61, 1.36, 1.09, 2.53, 2.04, 0.47, 2.52, 0.1 ,\n",
       "       0.12, 0.27, 2.98, 2.43, 0.33, 1.86, 0.38, 1.3 , 2.36, 1.44, 0.73,\n",
       "       0.7 , 3.66, 0.95, 4.1 , 2.03, 1.46, 2.3 , 2.51, 1.4 , 1.5 , 1.6 ,\n",
       "       1.8 , 2.76, 2.01, 1.  , 1.52, 1.25, 2.75, 1.17, 0.93, 2.59, 2.78,\n",
       "       2.1 , 2.05, 2.09, 0.26, 1.55, 0.76, 0.39, 0.63, 2.68, 0.67, 1.23,\n",
       "       1.72, 1.87, 0.43])"
      ]
     },
     "execution_count": 17,
     "metadata": {},
     "output_type": "execute_result"
    }
   ],
   "source": [
    "df_basket3['unit_cost'].unique()"
   ]
  },
  {
   "cell_type": "code",
   "execution_count": 18,
   "metadata": {},
   "outputs": [
    {
     "data": {
      "text/plain": [
       "245"
      ]
     },
     "execution_count": 18,
     "metadata": {},
     "output_type": "execute_result"
    }
   ],
   "source": [
    "len(df_basket3['unit_cost'].unique())"
   ]
  },
  {
   "cell_type": "code",
   "execution_count": 19,
   "metadata": {},
   "outputs": [
    {
     "data": {
      "text/plain": [
       "473"
      ]
     },
     "execution_count": 19,
     "metadata": {},
     "output_type": "execute_result"
    }
   ],
   "source": [
    "len(df_basket3['menu_item_id'].unique())"
   ]
  },
  {
   "cell_type": "code",
   "execution_count": 20,
   "metadata": {},
   "outputs": [
    {
     "data": {
      "text/plain": [
       "(141446, 7)"
      ]
     },
     "execution_count": 20,
     "metadata": {},
     "output_type": "execute_result"
    }
   ],
   "source": [
    "df_basket3.shape"
   ]
  },
  {
   "cell_type": "markdown",
   "metadata": {},
   "source": [
    "## 3.1.- Encode channel"
   ]
  },
  {
   "cell_type": "code",
   "execution_count": 21,
   "metadata": {},
   "outputs": [
    {
     "data": {
      "text/plain": [
       "array(['DRIVE THRU', 'FRONT COUNTER', 'KIOSK'], dtype=object)"
      ]
     },
     "execution_count": 21,
     "metadata": {},
     "output_type": "execute_result"
    }
   ],
   "source": [
    "df_basket3['channel'].unique()"
   ]
  },
  {
   "cell_type": "code",
   "execution_count": 22,
   "metadata": {},
   "outputs": [],
   "source": [
    "channel_mapping = {label:idx for idx,label in enumerate(np.unique(df_basket3['channel']))}"
   ]
  },
  {
   "cell_type": "code",
   "execution_count": 23,
   "metadata": {},
   "outputs": [
    {
     "data": {
      "text/plain": [
       "{'DRIVE THRU': 0, 'FRONT COUNTER': 1, 'KIOSK': 2}"
      ]
     },
     "execution_count": 23,
     "metadata": {},
     "output_type": "execute_result"
    }
   ],
   "source": [
    "channel_mapping"
   ]
  },
  {
   "cell_type": "code",
   "execution_count": 24,
   "metadata": {},
   "outputs": [],
   "source": [
    "df_basket3['channel'] = df_basket3['channel'].map(channel_mapping)"
   ]
  },
  {
   "cell_type": "code",
   "execution_count": 25,
   "metadata": {},
   "outputs": [
    {
     "data": {
      "text/html": [
       "<div>\n",
       "<style scoped>\n",
       "    .dataframe tbody tr th:only-of-type {\n",
       "        vertical-align: middle;\n",
       "    }\n",
       "\n",
       "    .dataframe tbody tr th {\n",
       "        vertical-align: top;\n",
       "    }\n",
       "\n",
       "    .dataframe thead th {\n",
       "        text-align: right;\n",
       "    }\n",
       "</style>\n",
       "<table border=\"1\" class=\"dataframe\">\n",
       "  <thead>\n",
       "    <tr style=\"text-align: right;\">\n",
       "      <th></th>\n",
       "      <th>store_number</th>\n",
       "      <th>time_period</th>\n",
       "      <th>eatin_eatout</th>\n",
       "      <th>payment_type_id</th>\n",
       "      <th>channel</th>\n",
       "      <th>menu_item_id</th>\n",
       "      <th>unit_cost</th>\n",
       "    </tr>\n",
       "  </thead>\n",
       "  <tbody>\n",
       "    <tr>\n",
       "      <th>573559</th>\n",
       "      <td>1262</td>\n",
       "      <td>2</td>\n",
       "      <td>0</td>\n",
       "      <td>2</td>\n",
       "      <td>0</td>\n",
       "      <td>1146</td>\n",
       "      <td>1.24</td>\n",
       "    </tr>\n",
       "    <tr>\n",
       "      <th>573561</th>\n",
       "      <td>1262</td>\n",
       "      <td>2</td>\n",
       "      <td>0</td>\n",
       "      <td>2</td>\n",
       "      <td>0</td>\n",
       "      <td>4903</td>\n",
       "      <td>1.33</td>\n",
       "    </tr>\n",
       "    <tr>\n",
       "      <th>573562</th>\n",
       "      <td>1262</td>\n",
       "      <td>2</td>\n",
       "      <td>0</td>\n",
       "      <td>2</td>\n",
       "      <td>0</td>\n",
       "      <td>3030</td>\n",
       "      <td>1.01</td>\n",
       "    </tr>\n",
       "    <tr>\n",
       "      <th>573563</th>\n",
       "      <td>1262</td>\n",
       "      <td>2</td>\n",
       "      <td>0</td>\n",
       "      <td>2</td>\n",
       "      <td>0</td>\n",
       "      <td>6120</td>\n",
       "      <td>3.07</td>\n",
       "    </tr>\n",
       "    <tr>\n",
       "      <th>573565</th>\n",
       "      <td>102</td>\n",
       "      <td>5</td>\n",
       "      <td>0</td>\n",
       "      <td>1</td>\n",
       "      <td>1</td>\n",
       "      <td>4903</td>\n",
       "      <td>1.33</td>\n",
       "    </tr>\n",
       "  </tbody>\n",
       "</table>\n",
       "</div>"
      ],
      "text/plain": [
       "        store_number  time_period  eatin_eatout  payment_type_id  channel  menu_item_id  unit_cost\n",
       "573559          1262            2             0                2        0          1146       1.24\n",
       "573561          1262            2             0                2        0          4903       1.33\n",
       "573562          1262            2             0                2        0          3030       1.01\n",
       "573563          1262            2             0                2        0          6120       3.07\n",
       "573565           102            5             0                1        1          4903       1.33"
      ]
     },
     "execution_count": 25,
     "metadata": {},
     "output_type": "execute_result"
    }
   ],
   "source": [
    "df_basket3.head()"
   ]
  },
  {
   "cell_type": "markdown",
   "metadata": {},
   "source": [
    "## 3.2.- Encoding summary"
   ]
  },
  {
   "cell_type": "markdown",
   "metadata": {},
   "source": [
    "time_of_day: \n",
    "\n",
    "* 1 for breakfast \n",
    "* 2 for lunch\n",
    "* 3 for afternoon\n",
    "* 4 for dinner \n",
    "* 5 for evening\n",
    "* 6 for night\n",
    "             \n",
    "eatin_eatout: \n",
    "* 0 for take-out \n",
    "* 1 for eat-in             \n",
    "\n",
    "payment_type_id: \n",
    "* 1 for cash \n",
    "* 2 for cashless\n",
    "\n",
    "channel: \n",
    "* 0 for drive-thru \n",
    "* 1 for front counter \n",
    "* 2 for kiosk \n",
    "* 3 for mobile"
   ]
  },
  {
   "cell_type": "markdown",
   "metadata": {},
   "source": [
    "# 4.- Feature selection"
   ]
  },
  {
   "cell_type": "code",
   "execution_count": 26,
   "metadata": {},
   "outputs": [],
   "source": [
    "# df_basket2 = df_basket1[['time_period', 'eatin_eatout', 'payment_type_id', \\\n",
    "#                          'channel', 'menu_item_id', 'unit_cost']]"
   ]
  },
  {
   "cell_type": "code",
   "execution_count": 27,
   "metadata": {},
   "outputs": [],
   "source": [
    "#df_basket4 = df_basket3[['time_period', 'eatin_eatout']]"
   ]
  },
  {
   "cell_type": "code",
   "execution_count": 28,
   "metadata": {},
   "outputs": [],
   "source": [
    "df_basket4 = df_basket3[['time_period', 'unit_cost']]"
   ]
  },
  {
   "cell_type": "markdown",
   "metadata": {},
   "source": [
    "# 5.- Clustering"
   ]
  },
  {
   "cell_type": "markdown",
   "metadata": {},
   "source": [
    "## 5.1.- Scaling "
   ]
  },
  {
   "cell_type": "code",
   "execution_count": 29,
   "metadata": {},
   "outputs": [],
   "source": [
    "X_raw = df_basket4.values"
   ]
  },
  {
   "cell_type": "code",
   "execution_count": 30,
   "metadata": {},
   "outputs": [
    {
     "data": {
      "text/plain": [
       "array([[2.  , 1.24],\n",
       "       [2.  , 1.33],\n",
       "       [2.  , 1.01],\n",
       "       ...,\n",
       "       [2.  , 0.59],\n",
       "       [2.  , 1.57],\n",
       "       [2.  , 1.07]])"
      ]
     },
     "execution_count": 30,
     "metadata": {},
     "output_type": "execute_result"
    }
   ],
   "source": [
    "X_raw"
   ]
  },
  {
   "cell_type": "code",
   "execution_count": 31,
   "metadata": {},
   "outputs": [],
   "source": [
    "X = StandardScaler().fit_transform(X_raw)"
   ]
  },
  {
   "cell_type": "markdown",
   "metadata": {},
   "source": [
    "## 5.2.- Running DBSCAN"
   ]
  },
  {
   "cell_type": "code",
   "execution_count": 79,
   "metadata": {},
   "outputs": [],
   "source": [
    "db = DBSCAN(eps=0.10, min_samples=100).fit(X)"
   ]
  },
  {
   "cell_type": "code",
   "execution_count": 80,
   "metadata": {},
   "outputs": [],
   "source": [
    "# create an array of zeros with the same lenght of the cluster labels\n",
    "core_samples_mask = np.zeros_like(db.labels_, dtype=bool)"
   ]
  },
  {
   "cell_type": "code",
   "execution_count": 81,
   "metadata": {},
   "outputs": [],
   "source": [
    "# sets mask values to True\n",
    "core_samples_mask[db.core_sample_indices_] = True"
   ]
  },
  {
   "cell_type": "code",
   "execution_count": 82,
   "metadata": {},
   "outputs": [],
   "source": [
    "labels = db.labels_"
   ]
  },
  {
   "cell_type": "code",
   "execution_count": 83,
   "metadata": {},
   "outputs": [],
   "source": [
    "# Number of clusters in labels, ignoring noise if present.\n",
    "n_clusters_ = len(set(labels)) - (1 if -1 in labels else 0)"
   ]
  },
  {
   "cell_type": "code",
   "execution_count": 84,
   "metadata": {},
   "outputs": [
    {
     "name": "stdout",
     "output_type": "stream",
     "text": [
      "Estimated number of clusters: 13\n"
     ]
    }
   ],
   "source": [
    "print('Estimated number of clusters: %d' % n_clusters_)"
   ]
  },
  {
   "cell_type": "markdown",
   "metadata": {},
   "source": [
    "# 6.- Visualisation"
   ]
  },
  {
   "cell_type": "code",
   "execution_count": 85,
   "metadata": {},
   "outputs": [
    {
     "data": {
      "text/plain": [
       "Text(0,0.5,'Item cost, £')"
      ]
     },
     "execution_count": 85,
     "metadata": {},
     "output_type": "execute_result"
    },
    {
     "data": {
      "image/png": "[encoded data removed]",
      "text/plain": [
       "<Figure size 1080x720 with 1 Axes>"
      ]
     },
     "metadata": {},
     "output_type": "display_data"
    }
   ],
   "source": [
    "fig, ax = plt.subplots(figsize=(15, 10))\n",
    "\n",
    "# Black removed and is used for noise instead.\n",
    "unique_labels = set(labels)\n",
    "colors = [plt.cm.Spectral(each)\n",
    "          for each in np.linspace(0, 1, len(unique_labels))]\n",
    "\n",
    "for k, col in zip(unique_labels, colors):\n",
    "    \n",
    "    if k == -1:\n",
    "        # Black used for noise.\n",
    "        col = [0, 0, 0, 1]\n",
    "\n",
    "    class_member_mask = (labels == k)\n",
    "    \n",
    "    xy = X_raw[class_member_mask & core_samples_mask]\n",
    "    plt.plot(xy[:, 0], xy[:, 1], 'o', markerfacecolor=tuple(col), markeredgecolor='k', markersize=14)\n",
    "\n",
    "    xy = X_raw[class_member_mask & ~core_samples_mask]\n",
    "    plt.plot(xy[:, 0], xy[:, 1], 'o', markerfacecolor=tuple(col), markeredgecolor='k', markersize=6)\n",
    "\n",
    "plt.title('Reading stores, clustering by item price: %d clusters' % n_clusters_, fontsize=20)\n",
    "plt.xlabel('Time of the day', fontsize=16)\n",
    "x_labels = ['', 'Breakfast', 'Lunch', 'Afternoon', 'Dinner', 'Evening', 'Night']\n",
    "ax.set_xticklabels(x_labels, fontsize=12)\n",
    "plt.ylabel('Item cost, £', fontsize=16)\n",
    "#plt.savefig('clusterByPrice.png', dpi=150)"
   ]
  },
  {
   "cell_type": "code",
   "execution_count": 86,
   "metadata": {},
   "outputs": [
    {
     "data": {
      "text/plain": [
       "{-1, 0, 1, 2, 3, 4, 5, 6, 7, 8, 9, 10, 11, 12}"
      ]
     },
     "execution_count": 86,
     "metadata": {},
     "output_type": "execute_result"
    }
   ],
   "source": [
    "unique_labels"
   ]
  },
  {
   "cell_type": "markdown",
   "metadata": {},
   "source": [
    "# 7.- Menu item identification"
   ]
  },
  {
   "cell_type": "markdown",
   "metadata": {},
   "source": [
    "## 7.1.- Read menu item data"
   ]
  },
  {
   "cell_type": "code",
   "execution_count": 87,
   "metadata": {},
   "outputs": [],
   "source": [
    "df_menu = pd.read_csv('other_datasets/MenuItemGroupsOrdered.csv')"
   ]
  },
  {
   "cell_type": "code",
   "execution_count": 88,
   "metadata": {},
   "outputs": [
    {
     "data": {
      "text/html": [
       "<div>\n",
       "<style scoped>\n",
       "    .dataframe tbody tr th:only-of-type {\n",
       "        vertical-align: middle;\n",
       "    }\n",
       "\n",
       "    .dataframe tbody tr th {\n",
       "        vertical-align: top;\n",
       "    }\n",
       "\n",
       "    .dataframe thead th {\n",
       "        text-align: right;\n",
       "    }\n",
       "</style>\n",
       "<table border=\"1\" class=\"dataframe\">\n",
       "  <thead>\n",
       "    <tr style=\"text-align: right;\">\n",
       "      <th></th>\n",
       "      <th>1046</th>\n",
       "      <th>1955</th>\n",
       "      <th>1955 ALC</th>\n",
       "      <th>Promo Sandwiches ALC</th>\n",
       "      <th>Promo Sandwiches ALC.1</th>\n",
       "      <th>Promo Sandwiches ALC.2</th>\n",
       "      <th>Sandwiches ALC</th>\n",
       "      <th>Sandwiches ALC.1</th>\n",
       "      <th>Premium</th>\n",
       "      <th>Premium.1</th>\n",
       "      <th>Beef</th>\n",
       "      <th>1955.1</th>\n",
       "      <th>Promotional Beef ALC</th>\n",
       "      <th>Premium.2</th>\n",
       "      <th>Promo ALC and EVMs</th>\n",
       "      <th>Promo ALC and EVMs.1</th>\n",
       "      <th>Promotional Food</th>\n",
       "      <th>No Voucher</th>\n",
       "    </tr>\n",
       "  </thead>\n",
       "  <tbody>\n",
       "    <tr>\n",
       "      <th>0</th>\n",
       "      <td>1047</td>\n",
       "      <td>LSM-BOGOF HAM</td>\n",
       "      <td>Hamburger ALC</td>\n",
       "      <td>Core Sandwiches ALC</td>\n",
       "      <td>Core Sandwiches ALC</td>\n",
       "      <td>Core Sandwiches ALC</td>\n",
       "      <td>Sandwiches ALC</td>\n",
       "      <td>Sandwiches ALC</td>\n",
       "      <td>Core ALC Food</td>\n",
       "      <td>Core ALC Food</td>\n",
       "      <td>Beef</td>\n",
       "      <td>Hamburger</td>\n",
       "      <td>Hamburger ALC</td>\n",
       "      <td>Core ALC Food</td>\n",
       "      <td>Core ALC and EVMs</td>\n",
       "      <td>Core ALC and EVMs</td>\n",
       "      <td>Permanent Food</td>\n",
       "      <td>LSM</td>\n",
       "    </tr>\n",
       "    <tr>\n",
       "      <th>1</th>\n",
       "      <td>1048</td>\n",
       "      <td>LSM-BOGOF MAYO LEGND</td>\n",
       "      <td>Chicken Legend with Cool Mayo ALC</td>\n",
       "      <td>Premium Sandwiches ALC</td>\n",
       "      <td>Premium Sandwiches ALC</td>\n",
       "      <td>Premium Sandwiches ALC</td>\n",
       "      <td>Sandwiches ALC</td>\n",
       "      <td>Sandwiches ALC</td>\n",
       "      <td>Premium</td>\n",
       "      <td>Premium</td>\n",
       "      <td>Chicken</td>\n",
       "      <td>Chicken Legend with Cool Mayo</td>\n",
       "      <td>Chicken Legend with Cool Mayo ALC</td>\n",
       "      <td>Premium</td>\n",
       "      <td>Permanent Premium ALC and EVMs</td>\n",
       "      <td>Permanent Premium ALC and EVMs</td>\n",
       "      <td>Permanent Food</td>\n",
       "      <td>LSM</td>\n",
       "    </tr>\n",
       "    <tr>\n",
       "      <th>2</th>\n",
       "      <td>1049</td>\n",
       "      <td>LSM-BOGOF SALS LEGND</td>\n",
       "      <td>Chicken Legend with Salsa ALC</td>\n",
       "      <td>Premium Sandwiches ALC</td>\n",
       "      <td>Premium Sandwiches ALC</td>\n",
       "      <td>Premium Sandwiches ALC</td>\n",
       "      <td>Sandwiches ALC</td>\n",
       "      <td>Sandwiches ALC</td>\n",
       "      <td>Premium</td>\n",
       "      <td>Premium</td>\n",
       "      <td>Chicken</td>\n",
       "      <td>Chicken Legend with Salsa</td>\n",
       "      <td>Chicken Legend with Salsa ALC</td>\n",
       "      <td>Premium</td>\n",
       "      <td>Permanent Premium ALC and EVMs</td>\n",
       "      <td>Permanent Premium ALC and EVMs</td>\n",
       "      <td>Permanent Food</td>\n",
       "      <td>LSM</td>\n",
       "    </tr>\n",
       "    <tr>\n",
       "      <th>3</th>\n",
       "      <td>1051</td>\n",
       "      <td>SPANISH</td>\n",
       "      <td>Spanish ALC</td>\n",
       "      <td>Promo Sandwiches ALC</td>\n",
       "      <td>Promo Sandwiches ALC</td>\n",
       "      <td>Promo Sandwiches ALC</td>\n",
       "      <td>Sandwiches ALC</td>\n",
       "      <td>Sandwiches ALC</td>\n",
       "      <td>Premium</td>\n",
       "      <td>Premium</td>\n",
       "      <td>Beef</td>\n",
       "      <td>Spanish</td>\n",
       "      <td>Promotional Beef ALC</td>\n",
       "      <td>Premium</td>\n",
       "      <td>Promo ALC and EVMs</td>\n",
       "      <td>Promo ALC and EVMs</td>\n",
       "      <td>Promotional Food</td>\n",
       "      <td>No Voucher</td>\n",
       "    </tr>\n",
       "    <tr>\n",
       "      <th>4</th>\n",
       "      <td>1052</td>\n",
       "      <td>AUSTRALIAN</td>\n",
       "      <td>Australian ALC</td>\n",
       "      <td>Promo Sandwiches ALC</td>\n",
       "      <td>Promo Sandwiches ALC</td>\n",
       "      <td>Promo Sandwiches ALC</td>\n",
       "      <td>Sandwiches ALC</td>\n",
       "      <td>Sandwiches ALC</td>\n",
       "      <td>Premium</td>\n",
       "      <td>Premium</td>\n",
       "      <td>Beef</td>\n",
       "      <td>Australian</td>\n",
       "      <td>Promotional Beef ALC</td>\n",
       "      <td>Premium</td>\n",
       "      <td>Promo ALC and EVMs</td>\n",
       "      <td>Promo ALC and EVMs</td>\n",
       "      <td>Promotional Food</td>\n",
       "      <td>No Voucher</td>\n",
       "    </tr>\n",
       "  </tbody>\n",
       "</table>\n",
       "</div>"
      ],
      "text/plain": [
       "   1046                  1955                           1955 ALC    Promo Sandwiches ALC  Promo Sandwiches ALC.1  Promo Sandwiches ALC.2  Sandwiches ALC Sandwiches ALC.1        Premium      Premium.1     Beef                         1955.1               Promotional Beef ALC      Premium.2              Promo ALC and EVMs            Promo ALC and EVMs.1  Promotional Food  No Voucher\n",
       "0  1047         LSM-BOGOF HAM                      Hamburger ALC     Core Sandwiches ALC     Core Sandwiches ALC     Core Sandwiches ALC  Sandwiches ALC   Sandwiches ALC  Core ALC Food  Core ALC Food     Beef                      Hamburger                      Hamburger ALC  Core ALC Food               Core ALC and EVMs               Core ALC and EVMs    Permanent Food         LSM\n",
       "1  1048  LSM-BOGOF MAYO LEGND  Chicken Legend with Cool Mayo ALC  Premium Sandwiches ALC  Premium Sandwiches ALC  Premium Sandwiches ALC  Sandwiches ALC   Sandwiches ALC        Premium        Premium  Chicken  Chicken Legend with Cool Mayo  Chicken Legend with Cool Mayo ALC        Premium  Permanent Premium ALC and EVMs  Permanent Premium ALC and EVMs    Permanent Food         LSM\n",
       "2  1049  LSM-BOGOF SALS LEGND      Chicken Legend with Salsa ALC  Premium Sandwiches ALC  Premium Sandwiches ALC  Premium Sandwiches ALC  Sandwiches ALC   Sandwiches ALC        Premium        Premium  Chicken      Chicken Legend with Salsa      Chicken Legend with Salsa ALC        Premium  Permanent Premium ALC and EVMs  Permanent Premium ALC and EVMs    Permanent Food         LSM\n",
       "3  1051               SPANISH                        Spanish ALC    Promo Sandwiches ALC    Promo Sandwiches ALC    Promo Sandwiches ALC  Sandwiches ALC   Sandwiches ALC        Premium        Premium     Beef                        Spanish               Promotional Beef ALC        Premium              Promo ALC and EVMs              Promo ALC and EVMs  Promotional Food  No Voucher\n",
       "4  1052            AUSTRALIAN                     Australian ALC    Promo Sandwiches ALC    Promo Sandwiches ALC    Promo Sandwiches ALC  Sandwiches ALC   Sandwiches ALC        Premium        Premium     Beef                     Australian               Promotional Beef ALC        Premium              Promo ALC and EVMs              Promo ALC and EVMs  Promotional Food  No Voucher"
      ]
     },
     "execution_count": 88,
     "metadata": {},
     "output_type": "execute_result"
    }
   ],
   "source": [
    "df_menu.head(5)"
   ]
  },
  {
   "cell_type": "code",
   "execution_count": 89,
   "metadata": {},
   "outputs": [
    {
     "data": {
      "text/plain": [
       "1046                       int64\n",
       "1955                      object\n",
       "1955 ALC                  object\n",
       "Promo Sandwiches ALC      object\n",
       "Promo Sandwiches ALC.1    object\n",
       "Promo Sandwiches ALC.2    object\n",
       "Sandwiches ALC            object\n",
       "Sandwiches ALC.1          object\n",
       "Premium                   object\n",
       "Premium.1                 object\n",
       "Beef                      object\n",
       "1955.1                    object\n",
       "Promotional Beef ALC      object\n",
       "Premium.2                 object\n",
       "Promo ALC and EVMs        object\n",
       "Promo ALC and EVMs.1      object\n",
       "Promotional Food          object\n",
       "No Voucher                object\n",
       "dtype: object"
      ]
     },
     "execution_count": 89,
     "metadata": {},
     "output_type": "execute_result"
    }
   ],
   "source": [
    "df_menu.dtypes"
   ]
  },
  {
   "cell_type": "code",
   "execution_count": 90,
   "metadata": {},
   "outputs": [],
   "source": [
    "df_menu['1046'] = df_menu['1046'].astype(str).astype(int)"
   ]
  },
  {
   "cell_type": "markdown",
   "metadata": {},
   "source": [
    "## 7.2.- Consider items not sold at night-time"
   ]
  },
  {
   "cell_type": "code",
   "execution_count": 91,
   "metadata": {},
   "outputs": [],
   "source": [
    "df_night_items = df_basket3[df_basket3['time_period'] == 6]"
   ]
  },
  {
   "cell_type": "code",
   "execution_count": 92,
   "metadata": {},
   "outputs": [
    {
     "data": {
      "text/plain": [
       "(5956, 7)"
      ]
     },
     "execution_count": 92,
     "metadata": {},
     "output_type": "execute_result"
    }
   ],
   "source": [
    "df_night_items.shape"
   ]
  },
  {
   "cell_type": "code",
   "execution_count": 93,
   "metadata": {},
   "outputs": [],
   "source": [
    "night_items = df_night_items['menu_item_id'].unique()"
   ]
  },
  {
   "cell_type": "code",
   "execution_count": 94,
   "metadata": {},
   "outputs": [
    {
     "data": {
      "text/plain": [
       "283"
      ]
     },
     "execution_count": 94,
     "metadata": {},
     "output_type": "execute_result"
    }
   ],
   "source": [
    "len(night_items)"
   ]
  },
  {
   "cell_type": "code",
   "execution_count": 95,
   "metadata": {},
   "outputs": [],
   "source": [
    "all_items = df_basket3['menu_item_id'].unique()"
   ]
  },
  {
   "cell_type": "code",
   "execution_count": 96,
   "metadata": {},
   "outputs": [
    {
     "data": {
      "text/plain": [
       "473"
      ]
     },
     "execution_count": 96,
     "metadata": {},
     "output_type": "execute_result"
    }
   ],
   "source": [
    "len(all_items)"
   ]
  },
  {
   "cell_type": "code",
   "execution_count": 97,
   "metadata": {},
   "outputs": [],
   "source": [
    "not_sold_at_night = set(all_items) - set(night_items)"
   ]
  },
  {
   "cell_type": "code",
   "execution_count": 98,
   "metadata": {},
   "outputs": [
    {
     "data": {
      "text/plain": [
       "190"
      ]
     },
     "execution_count": 98,
     "metadata": {},
     "output_type": "execute_result"
    }
   ],
   "source": [
    "len(not_sold_at_night)"
   ]
  },
  {
   "cell_type": "code",
   "execution_count": 99,
   "metadata": {},
   "outputs": [],
   "source": [
    "df_not_sold_at_night = df_menu[df_menu['1046'].isin(not_sold_at_night)]"
   ]
  },
  {
   "cell_type": "code",
   "execution_count": 100,
   "metadata": {},
   "outputs": [
    {
     "data": {
      "text/html": [
       "<div>\n",
       "<style scoped>\n",
       "    .dataframe tbody tr th:only-of-type {\n",
       "        vertical-align: middle;\n",
       "    }\n",
       "\n",
       "    .dataframe tbody tr th {\n",
       "        vertical-align: top;\n",
       "    }\n",
       "\n",
       "    .dataframe thead th {\n",
       "        text-align: right;\n",
       "    }\n",
       "</style>\n",
       "<table border=\"1\" class=\"dataframe\">\n",
       "  <thead>\n",
       "    <tr style=\"text-align: right;\">\n",
       "      <th></th>\n",
       "      <th>1046</th>\n",
       "      <th>1955</th>\n",
       "      <th>1955 ALC</th>\n",
       "      <th>Promo Sandwiches ALC</th>\n",
       "      <th>Promo Sandwiches ALC.1</th>\n",
       "      <th>Promo Sandwiches ALC.2</th>\n",
       "      <th>Sandwiches ALC</th>\n",
       "      <th>Sandwiches ALC.1</th>\n",
       "      <th>Premium</th>\n",
       "      <th>Premium.1</th>\n",
       "      <th>Beef</th>\n",
       "      <th>1955.1</th>\n",
       "      <th>Promotional Beef ALC</th>\n",
       "      <th>Premium.2</th>\n",
       "      <th>Promo ALC and EVMs</th>\n",
       "      <th>Promo ALC and EVMs.1</th>\n",
       "      <th>Promotional Food</th>\n",
       "      <th>No Voucher</th>\n",
       "    </tr>\n",
       "  </thead>\n",
       "  <tbody>\n",
       "    <tr>\n",
       "      <th>180</th>\n",
       "      <td>2252</td>\n",
       "      <td>WRAP M CHILLI GRL</td>\n",
       "      <td>Grilled Sweet Chilli Chicken Wrap Medium EVM</td>\n",
       "      <td>Wraps Medium EVM</td>\n",
       "      <td>Wraps Medium EVM</td>\n",
       "      <td>Deli Choices Medium EVMs</td>\n",
       "      <td>Deli Choices EVM</td>\n",
       "      <td>Total EVMs</td>\n",
       "      <td>Deli Choices</td>\n",
       "      <td>Deli Choices</td>\n",
       "      <td>Chicken</td>\n",
       "      <td>Wrap - Grilled Sweet Chilli Chicken</td>\n",
       "      <td>Wrap - Grilled Sweet Chilli Chicken</td>\n",
       "      <td>Deli Choices</td>\n",
       "      <td>Deli ALC and EVMs (Perm. and Promo)</td>\n",
       "      <td>Deli ALC and EVMs (Perm. and Promo)</td>\n",
       "      <td>Permanent Food</td>\n",
       "      <td>No Voucher</td>\n",
       "    </tr>\n",
       "    <tr>\n",
       "      <th>181</th>\n",
       "      <td>2253</td>\n",
       "      <td>WRAP M CHILI GR(WOD)</td>\n",
       "      <td>Grilled Sweet Chilli Chicken Wrap Medium EVM</td>\n",
       "      <td>Wraps Medium EVM</td>\n",
       "      <td>Wraps Medium EVM</td>\n",
       "      <td>Deli Choices Medium EVMs</td>\n",
       "      <td>Deli Choices EVM</td>\n",
       "      <td>Total EVMs</td>\n",
       "      <td>Deli Choices</td>\n",
       "      <td>Deli Choices</td>\n",
       "      <td>Chicken</td>\n",
       "      <td>Wrap - Grilled Sweet Chilli Chicken</td>\n",
       "      <td>Wrap - Grilled Sweet Chilli Chicken</td>\n",
       "      <td>Deli Choices</td>\n",
       "      <td>Deli ALC and EVMs (Perm. and Promo)</td>\n",
       "      <td>Deli ALC and EVMs (Perm. and Promo)</td>\n",
       "      <td>Permanent Food</td>\n",
       "      <td>Of the Day</td>\n",
       "    </tr>\n",
       "    <tr>\n",
       "      <th>183</th>\n",
       "      <td>2255</td>\n",
       "      <td>WRAP L CHILI GR(WOD)</td>\n",
       "      <td>Grilled Sweet Chilli Chicken Wrap Large EVM</td>\n",
       "      <td>Wraps Large EVM</td>\n",
       "      <td>Wraps Large EVM</td>\n",
       "      <td>Deli Choices Large EVMs</td>\n",
       "      <td>Deli Choices EVM</td>\n",
       "      <td>Total EVMs</td>\n",
       "      <td>Deli Choices</td>\n",
       "      <td>Deli Choices</td>\n",
       "      <td>Chicken</td>\n",
       "      <td>Wrap - Grilled Sweet Chilli Chicken</td>\n",
       "      <td>Wrap - Grilled Sweet Chilli Chicken</td>\n",
       "      <td>Deli Choices</td>\n",
       "      <td>Deli ALC and EVMs (Perm. and Promo)</td>\n",
       "      <td>Deli ALC and EVMs (Perm. and Promo)</td>\n",
       "      <td>Permanent Food</td>\n",
       "      <td>Of the Day</td>\n",
       "    </tr>\n",
       "    <tr>\n",
       "      <th>184</th>\n",
       "      <td>2256</td>\n",
       "      <td>M EMP WRP CHILLI GRL</td>\n",
       "      <td>Grilled Sweet Chilli Chicken Wrap Medium EVM</td>\n",
       "      <td>Wraps Medium EVM</td>\n",
       "      <td>Wraps Medium EVM</td>\n",
       "      <td>Deli Choices Medium EVMs</td>\n",
       "      <td>Deli Choices EVM</td>\n",
       "      <td>Total EVMs</td>\n",
       "      <td>Deli Choices</td>\n",
       "      <td>Deli Choices</td>\n",
       "      <td>Chicken</td>\n",
       "      <td>Wrap - Grilled Sweet Chilli Chicken</td>\n",
       "      <td>Wrap - Grilled Sweet Chilli Chicken</td>\n",
       "      <td>Deli Choices</td>\n",
       "      <td>Deli ALC and EVMs (Perm. and Promo)</td>\n",
       "      <td>Deli ALC and EVMs (Perm. and Promo)</td>\n",
       "      <td>Permanent Food</td>\n",
       "      <td>Employee Meal</td>\n",
       "    </tr>\n",
       "    <tr>\n",
       "      <th>189</th>\n",
       "      <td>2261</td>\n",
       "      <td>WRAP M PIRI GRL(WOD)</td>\n",
       "      <td>Grilled Peri Peri Chicken Wrap Medium EVM</td>\n",
       "      <td>Wraps Medium EVM</td>\n",
       "      <td>Wraps Medium EVM</td>\n",
       "      <td>Deli Choices Medium EVMs</td>\n",
       "      <td>Deli Choices EVM</td>\n",
       "      <td>Total EVMs</td>\n",
       "      <td>Deli Choices</td>\n",
       "      <td>Deli Choices</td>\n",
       "      <td>Chicken</td>\n",
       "      <td>Wrap - Grilled Peri Peri Chicken</td>\n",
       "      <td>Wrap - Grilled Peri Peri Chicken</td>\n",
       "      <td>Deli Choices</td>\n",
       "      <td>Deli ALC and EVMs (Perm. and Promo)</td>\n",
       "      <td>Deli ALC and EVMs (Perm. and Promo)</td>\n",
       "      <td>Permanent Food</td>\n",
       "      <td>Of the Day</td>\n",
       "    </tr>\n",
       "  </tbody>\n",
       "</table>\n",
       "</div>"
      ],
      "text/plain": [
       "     1046                  1955                                      1955 ALC Promo Sandwiches ALC Promo Sandwiches ALC.1    Promo Sandwiches ALC.2    Sandwiches ALC Sandwiches ALC.1       Premium     Premium.1     Beef                               1955.1                 Promotional Beef ALC     Premium.2                   Promo ALC and EVMs                 Promo ALC and EVMs.1 Promotional Food     No Voucher\n",
       "180  2252     WRAP M CHILLI GRL  Grilled Sweet Chilli Chicken Wrap Medium EVM     Wraps Medium EVM       Wraps Medium EVM  Deli Choices Medium EVMs  Deli Choices EVM       Total EVMs  Deli Choices  Deli Choices  Chicken  Wrap - Grilled Sweet Chilli Chicken  Wrap - Grilled Sweet Chilli Chicken  Deli Choices  Deli ALC and EVMs (Perm. and Promo)  Deli ALC and EVMs (Perm. and Promo)   Permanent Food     No Voucher\n",
       "181  2253  WRAP M CHILI GR(WOD)  Grilled Sweet Chilli Chicken Wrap Medium EVM     Wraps Medium EVM       Wraps Medium EVM  Deli Choices Medium EVMs  Deli Choices EVM       Total EVMs  Deli Choices  Deli Choices  Chicken  Wrap - Grilled Sweet Chilli Chicken  Wrap - Grilled Sweet Chilli Chicken  Deli Choices  Deli ALC and EVMs (Perm. and Promo)  Deli ALC and EVMs (Perm. and Promo)   Permanent Food     Of the Day\n",
       "183  2255  WRAP L CHILI GR(WOD)   Grilled Sweet Chilli Chicken Wrap Large EVM      Wraps Large EVM        Wraps Large EVM   Deli Choices Large EVMs  Deli Choices EVM       Total EVMs  Deli Choices  Deli Choices  Chicken  Wrap - Grilled Sweet Chilli Chicken  Wrap - Grilled Sweet Chilli Chicken  Deli Choices  Deli ALC and EVMs (Perm. and Promo)  Deli ALC and EVMs (Perm. and Promo)   Permanent Food     Of the Day\n",
       "184  2256  M EMP WRP CHILLI GRL  Grilled Sweet Chilli Chicken Wrap Medium EVM     Wraps Medium EVM       Wraps Medium EVM  Deli Choices Medium EVMs  Deli Choices EVM       Total EVMs  Deli Choices  Deli Choices  Chicken  Wrap - Grilled Sweet Chilli Chicken  Wrap - Grilled Sweet Chilli Chicken  Deli Choices  Deli ALC and EVMs (Perm. and Promo)  Deli ALC and EVMs (Perm. and Promo)   Permanent Food  Employee Meal\n",
       "189  2261  WRAP M PIRI GRL(WOD)     Grilled Peri Peri Chicken Wrap Medium EVM     Wraps Medium EVM       Wraps Medium EVM  Deli Choices Medium EVMs  Deli Choices EVM       Total EVMs  Deli Choices  Deli Choices  Chicken     Wrap - Grilled Peri Peri Chicken     Wrap - Grilled Peri Peri Chicken  Deli Choices  Deli ALC and EVMs (Perm. and Promo)  Deli ALC and EVMs (Perm. and Promo)   Permanent Food     Of the Day"
      ]
     },
     "execution_count": 100,
     "metadata": {},
     "output_type": "execute_result"
    }
   ],
   "source": [
    "df_not_sold_at_night.head()"
   ]
  },
  {
   "cell_type": "code",
   "execution_count": null,
   "metadata": {},
   "outputs": [],
   "source": []
  }
 ],
 "metadata": {
  "kernelspec": {
   "display_name": "Python 3",
   "language": "python",
   "name": "python3"
  },
  "language_info": {
   "codemirror_mode": {
    "name": "ipython",
    "version": 3
   },
   "file_extension": ".py",
   "mimetype": "text/x-python",
   "name": "python",
   "nbconvert_exporter": "python",
   "pygments_lexer": "ipython3",
   "version": "3.5.2"
  }
 },
 "nbformat": 4,
 "nbformat_minor": 1
}
