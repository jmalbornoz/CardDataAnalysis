{
 "cells": [
  {
   "cell_type": "markdown",
   "metadata": {},
   "source": [
    "# McDonald's Card Data Analysis - v3\n",
    "## March 2018\n",
    "### Dr Jose M Albornoz"
   ]
  },
  {
   "cell_type": "markdown",
   "metadata": {},
   "source": [
    "# 1.- Import necessary modules, define SQLContext"
   ]
  },
  {
   "cell_type": "code",
   "execution_count": 1,
   "metadata": {},
   "outputs": [],
   "source": [
    "# Import required modules\n",
    "from pyspark.context import SparkContext\n",
    "from pyspark.sql.context import SQLContext\n",
    "from pyspark.sql.functions import *\n",
    "from pyspark.sql.types import *\n",
    "from pyspark.sql.functions import unix_timestamp"
   ]
  },
  {
   "cell_type": "code",
   "execution_count": 2,
   "metadata": {},
   "outputs": [],
   "source": [
    "# Define SQLContext\n",
    "sqlContext = SQLContext(sc)"
   ]
  },
  {
   "cell_type": "markdown",
   "metadata": {},
   "source": [
    "# 2.- Generic function to load data from a csv file"
   ]
  },
  {
   "cell_type": "code",
   "execution_count": 3,
   "metadata": {},
   "outputs": [],
   "source": [
    "def load_data(filename, schema, columns = None):\n",
    "    df = sqlContext.read.format('com.databricks.spark.csv').option(\"delimiter\", \";\").options(header='false'). \\\n",
    "    load(filename, schema = schema)\n",
    "    if columns is None:\n",
    "        # If no columns are given, then select all\n",
    "        columns = schema.names\n",
    "    return df.select(columns)"
   ]
  },
  {
   "cell_type": "markdown",
   "metadata": {},
   "source": [
    "# 3.- Data schema"
   ]
  },
  {
   "cell_type": "code",
   "execution_count": 4,
   "metadata": {},
   "outputs": [],
   "source": [
    "schema = StructType([ \n",
    "    StructField('store_number', IntegerType(), True), \n",
    "    StructField('terminal_number', IntegerType(), True), \n",
    "    StructField('transaction_date', StringType(), True), \n",
    "    StructField('transaction_time', IntegerType(), True), \n",
    "    StructField('transaction_amount', IntegerType(), True),\n",
    "    StructField('card_scheme', StringType(), True),\n",
    "    StructField('pan_token', StringType(), True),\n",
    "    StructField('empty_field', IntegerType(), True)    \n",
    "])"
   ]
  },
  {
   "cell_type": "markdown",
   "metadata": {},
   "source": [
    "# 4.- Load data"
   ]
  },
  {
   "cell_type": "code",
   "execution_count": 5,
   "metadata": {},
   "outputs": [],
   "source": [
    "filename = 'McD_Card_Data/CT_201709_p1.csv'\n",
    "df_p1 = load_data(filename, schema)"
   ]
  },
  {
   "cell_type": "code",
   "execution_count": 6,
   "metadata": {},
   "outputs": [],
   "source": [
    "filename = 'McD_Card_Data/CT_201709_p2.csv'\n",
    "df_p2 = load_data(filename, schema)"
   ]
  },
  {
   "cell_type": "code",
   "execution_count": 7,
   "metadata": {},
   "outputs": [],
   "source": [
    "filename = 'McD_Card_Data/CT_201709_p3.csv'\n",
    "df_p3 = load_data(filename, schema)"
   ]
  },
  {
   "cell_type": "code",
   "execution_count": 8,
   "metadata": {},
   "outputs": [],
   "source": [
    "filename = 'McD_Card_Data/CT_201710_p1.csv'\n",
    "df_p4 = load_data(filename, schema)"
   ]
  },
  {
   "cell_type": "code",
   "execution_count": 9,
   "metadata": {},
   "outputs": [],
   "source": [
    "filename = 'McD_Card_Data/CT_201710_p2.csv'\n",
    "df_p5 = load_data(filename, schema)"
   ]
  },
  {
   "cell_type": "code",
   "execution_count": 10,
   "metadata": {},
   "outputs": [],
   "source": [
    "filename = 'McD_Card_Data/CT_201710_p3.csv'\n",
    "df_p6 = load_data(filename, schema)"
   ]
  },
  {
   "cell_type": "code",
   "execution_count": 11,
   "metadata": {},
   "outputs": [],
   "source": [
    "filename = 'McD_Card_Data/CT_201711_p1.csv'\n",
    "df_p7 = load_data(filename, schema)"
   ]
  },
  {
   "cell_type": "code",
   "execution_count": 12,
   "metadata": {},
   "outputs": [],
   "source": [
    "filename = 'McD_Card_Data/CT_201711_p2.csv'\n",
    "df_p8 = load_data(filename, schema)"
   ]
  },
  {
   "cell_type": "code",
   "execution_count": 13,
   "metadata": {},
   "outputs": [],
   "source": [
    "filename = 'McD_Card_Data/CT_201711_p3.csv'\n",
    "df_p9 = load_data(filename, schema)"
   ]
  },
  {
   "cell_type": "code",
   "execution_count": 14,
   "metadata": {},
   "outputs": [],
   "source": [
    "# filename = 'McD_Card_Data/CT_201712_p1.csv'\n",
    "# df_p10 = load_data(filename, schema)"
   ]
  },
  {
   "cell_type": "code",
   "execution_count": 15,
   "metadata": {},
   "outputs": [],
   "source": [
    "# filename = 'McD_Card_Data/CT_201712_p2.csv'\n",
    "# df_p11 = load_data(filename, schema)"
   ]
  },
  {
   "cell_type": "code",
   "execution_count": 16,
   "metadata": {},
   "outputs": [],
   "source": [
    "# filename = 'McD_Card_Data/CT_201712_p3.csv'\n",
    "# df_p12 = load_data(filename, schema)"
   ]
  },
  {
   "cell_type": "markdown",
   "metadata": {},
   "source": [
    "# 5.- Concatenate data"
   ]
  },
  {
   "cell_type": "code",
   "execution_count": 17,
   "metadata": {},
   "outputs": [],
   "source": [
    "df_data = df_p1.unionAll(df_p2)"
   ]
  },
  {
   "cell_type": "code",
   "execution_count": 18,
   "metadata": {},
   "outputs": [],
   "source": [
    "df_data = df_data.unionAll(df_p3)"
   ]
  },
  {
   "cell_type": "code",
   "execution_count": 19,
   "metadata": {},
   "outputs": [],
   "source": [
    "df_data = df_data.unionAll(df_p4)"
   ]
  },
  {
   "cell_type": "code",
   "execution_count": 20,
   "metadata": {},
   "outputs": [],
   "source": [
    "df_data = df_data.unionAll(df_p5)"
   ]
  },
  {
   "cell_type": "code",
   "execution_count": 21,
   "metadata": {},
   "outputs": [],
   "source": [
    "df_data = df_data.unionAll(df_p6)"
   ]
  },
  {
   "cell_type": "code",
   "execution_count": 22,
   "metadata": {},
   "outputs": [],
   "source": [
    "df_data = df_data.unionAll(df_p7)"
   ]
  },
  {
   "cell_type": "code",
   "execution_count": 23,
   "metadata": {},
   "outputs": [],
   "source": [
    "df_data = df_data.unionAll(df_p8)"
   ]
  },
  {
   "cell_type": "code",
   "execution_count": 24,
   "metadata": {},
   "outputs": [],
   "source": [
    "df_data = df_data.unionAll(df_p9)"
   ]
  },
  {
   "cell_type": "code",
   "execution_count": 25,
   "metadata": {},
   "outputs": [],
   "source": [
    "# df_data = df_data.unionAll(df_p10)"
   ]
  },
  {
   "cell_type": "code",
   "execution_count": 26,
   "metadata": {},
   "outputs": [],
   "source": [
    "# df_data = df_data.unionAll(df_p11)"
   ]
  },
  {
   "cell_type": "code",
   "execution_count": 27,
   "metadata": {},
   "outputs": [],
   "source": [
    "# df_data = df_data.unionAll(df_p12)"
   ]
  },
  {
   "cell_type": "code",
   "execution_count": 28,
   "metadata": {},
   "outputs": [
    {
     "data": {
      "text/plain": [
       "89421024"
      ]
     },
     "execution_count": 28,
     "metadata": {},
     "output_type": "execute_result"
    }
   ],
   "source": [
    "df_data.count()"
   ]
  },
  {
   "cell_type": "markdown",
   "metadata": {},
   "source": [
    "# 6.- Remove unnecessary data from memory"
   ]
  },
  {
   "cell_type": "code",
   "execution_count": 29,
   "metadata": {},
   "outputs": [
    {
     "data": {
      "text/plain": [
       "DataFrame[store_number: int, terminal_number: int, transaction_date: string, transaction_time: int, transaction_amount: int, card_scheme: string, pan_token: string, empty_field: int]"
      ]
     },
     "execution_count": 29,
     "metadata": {},
     "output_type": "execute_result"
    }
   ],
   "source": [
    "df_p1.unpersist()\n",
    "df_p2.unpersist()\n",
    "df_p3.unpersist()\n",
    "df_p4.unpersist()\n",
    "df_p5.unpersist()\n",
    "df_p6.unpersist()\n",
    "df_p7.unpersist()\n",
    "df_p8.unpersist()\n",
    "df_p9.unpersist()\n",
    "# df_p10.unpersist()\n",
    "# df_p11.unpersist()\n",
    "# df_p12.unpersist()"
   ]
  },
  {
   "cell_type": "markdown",
   "metadata": {},
   "source": [
    "# 7.- Register data as table"
   ]
  },
  {
   "cell_type": "code",
   "execution_count": 30,
   "metadata": {},
   "outputs": [],
   "source": [
    "df_data.registerTempTable(\"data\")"
   ]
  },
  {
   "cell_type": "markdown",
   "metadata": {},
   "source": [
    "# 8.- Identify unique cards, register as table"
   ]
  },
  {
   "cell_type": "code",
   "execution_count": 31,
   "metadata": {},
   "outputs": [],
   "source": [
    "df_unique_cards = sqlContext.sql(\"SELECT DISTINCT pan_token FROM data\")"
   ]
  },
  {
   "cell_type": "code",
   "execution_count": 32,
   "metadata": {},
   "outputs": [
    {
     "data": {
      "text/plain": [
       "26994812"
      ]
     },
     "execution_count": 32,
     "metadata": {},
     "output_type": "execute_result"
    }
   ],
   "source": [
    "df_unique_cards.count()"
   ]
  },
  {
   "cell_type": "code",
   "execution_count": 33,
   "metadata": {},
   "outputs": [],
   "source": [
    "#df_unique_cards.registerTempTable(\"unique_cards\")"
   ]
  },
  {
   "cell_type": "markdown",
   "metadata": {},
   "source": [
    "# 9.- Order data by transaction date and card token"
   ]
  },
  {
   "cell_type": "code",
   "execution_count": 32,
   "metadata": {},
   "outputs": [],
   "source": [
    "df_data = sqlContext.sql(\"SELECT * FROM data ORDER BY pan_token, transaction_date, transaction_time\")"
   ]
  },
  {
   "cell_type": "code",
   "execution_count": 35,
   "metadata": {},
   "outputs": [
    {
     "name": "stdout",
     "output_type": "stream",
     "text": [
      "+------------+---------------+----------------+----------------+------------------+-----------+--------------------+-----------+\n",
      "|store_number|terminal_number|transaction_date|transaction_time|transaction_amount|card_scheme|           pan_token|empty_field|\n",
      "+------------+---------------+----------------+----------------+------------------+-----------+--------------------+-----------+\n",
      "|         751|             20|      2017/09/09|            1242|              1755|          S|0000000ABF375473C...|       null|\n",
      "|         930|             20|      2017/11/11|            2348|              1307|          S|0000000ABF375473C...|       null|\n",
      "|         719|             20|      2017/10/28|            2058|               547|          S|0000007FCA6A76508...|       null|\n",
      "|           7|             20|      2017/09/24|              26|               778|          S|000001195509842BB...|       null|\n",
      "|           7|              2|      2017/10/01|            2310|               838|          S|000001195509842BB...|       null|\n",
      "|           7|              4|      2017/10/23|              44|               928|          S|000001195509842BB...|       null|\n",
      "|           7|             20|      2017/10/26|              17|               778|          S|000001195509842BB...|       null|\n",
      "|        1221|             20|      2017/09/24|            1329|               497|          S|000001A48786C246E...|       null|\n",
      "|          54|              1|      2017/09/30|             248|               897|          S|000001D6868043665...|       null|\n",
      "|        1206|             20|      2017/10/08|            1438|               938|          S|0000028F074C5CF83...|       null|\n",
      "|         345|             22|      2017/10/28|            2011|               579|          S|0000047CF017E532A...|       null|\n",
      "|          38|             24|      2017/09/06|            1704|               168|          S|0000072ED0D5B5F4A...|       null|\n",
      "|          38|             24|      2017/09/21|            1407|               199|          S|0000072ED0D5B5F4A...|       null|\n",
      "|          38|             23|      2017/09/29|            1414|               337|          S|0000072ED0D5B5F4A...|       null|\n",
      "|        1085|             21|      2017/09/21|            2013|              1926|          S|000007638E04F6CEC...|       null|\n",
      "|         394|             23|      2017/10/18|            1212|               998|          S|0000076FE9761F659...|       null|\n",
      "|         428|             22|      2017/10/10|            2005|               788|          S|00000784ADEF36F01...|       null|\n",
      "|         428|             22|      2017/11/20|             123|               717|          S|00000784ADEF36F01...|       null|\n",
      "|         215|             24|      2017/09/01|            1254|              1196|          S|000007A1796402231...|       null|\n",
      "|         215|             25|      2017/09/08|            1257|               918|          S|000007A1796402231...|       null|\n",
      "|         215|             21|      2017/11/25|            1141|               718|          S|000007A1796402231...|       null|\n",
      "|         949|             20|      2017/10/06|             839|               100|          S|00000906DBFBDA59D...|       null|\n",
      "|         671|             22|      2017/10/30|            1708|               448|          S|00000906DBFBDA59D...|       null|\n",
      "|         901|              5|      2017/09/29|            1816|               837|          S|00000ACF650F7E2D9...|       null|\n",
      "|        1224|             20|      2017/09/08|            1910|               525|          S|00000CDD26BC7AED7...|       null|\n",
      "|        1056|              1|      2017/10/10|            1843|              2363|          S|00000CDD26BC7AED7...|       null|\n",
      "|         535|             20|      2017/11/19|            1715|              1137|          S|00000CDD26BC7AED7...|       null|\n",
      "|         771|             24|      2017/09/01|            1705|              1215|          S|00000CE4D29182785...|       null|\n",
      "|        1098|             20|      2017/09/29|             655|              1055|          S|00000CE4D29182785...|       null|\n",
      "|         215|             21|      2017/10/26|            1338|               169|          S|00000CE4D29182785...|       null|\n",
      "|         295|             23|      2017/11/03|            2236|               149|          S|00000CE4D29182785...|       null|\n",
      "|         771|             25|      2017/11/04|            1026|               945|          S|00000CE4D29182785...|       null|\n",
      "|         242|             22|      2017/11/20|            1244|               797|          S|00000D375C918FE5E...|       null|\n",
      "|         331|              1|      2017/09/02|            1730|              1944|          S|00000DB632194A525...|       null|\n",
      "|          28|             21|      2017/09/22|            1456|               469|          S|00000E0A0208C3A6C...|       null|\n",
      "|         244|              2|      2017/10/06|            1944|               489|          S|00000E0A0208C3A6C...|       null|\n",
      "|         494|              1|      2017/09/10|            1836|               469|          S|000010AB28F51E30B...|       null|\n",
      "|         125|              1|      2017/09/28|            2252|               379|          S|000010AB28F51E30B...|       null|\n",
      "|         125|             22|      2017/09/30|            1606|               469|          S|000010AB28F51E30B...|       null|\n",
      "|         125|             26|      2017/10/01|             223|               149|          S|000010AB28F51E30B...|       null|\n",
      "+------------+---------------+----------------+----------------+------------------+-----------+--------------------+-----------+\n",
      "only showing top 40 rows\n",
      "\n"
     ]
    }
   ],
   "source": [
    "df_data.show(40)"
   ]
  },
  {
   "cell_type": "markdown",
   "metadata": {},
   "source": [
    "# 10.- Find frequency of visits per customer"
   ]
  },
  {
   "cell_type": "markdown",
   "metadata": {},
   "source": [
    "## 10.1.- Number of unique customers that have visited at least twice in any calendar week (H) "
   ]
  },
  {
   "cell_type": "code",
   "execution_count": 33,
   "metadata": {},
   "outputs": [],
   "source": [
    "df_weekly1 = df_data.groupBy(\"pan_token\", weekofyear(from_unixtime(unix_timestamp('transaction_date', 'yyy/MM/dd'))).\\\n",
    "                            alias('week')).agg(count(\"*\").alias('visits')).sort('pan_token')\n",
    "#df_weekly1.show(20)"
   ]
  },
  {
   "cell_type": "code",
   "execution_count": 34,
   "metadata": {},
   "outputs": [],
   "source": [
    "df_weekly1.registerTempTable(\"weekly_visit1\")"
   ]
  },
  {
   "cell_type": "code",
   "execution_count": 35,
   "metadata": {},
   "outputs": [],
   "source": [
    "df_weekly2 = sqlContext.sql(\"SELECT DISTINCT pan_token, visits \\\n",
    "                             FROM weekly_visit1 \\\n",
    "                             WHERE visits >= 2\")"
   ]
  },
  {
   "cell_type": "code",
   "execution_count": 36,
   "metadata": {},
   "outputs": [],
   "source": [
    "#df_weekly2.show(20)"
   ]
  },
  {
   "cell_type": "code",
   "execution_count": 37,
   "metadata": {},
   "outputs": [],
   "source": [
    "df_weekly2.registerTempTable(\"weekly_visit2\")"
   ]
  },
  {
   "cell_type": "code",
   "execution_count": 38,
   "metadata": {},
   "outputs": [],
   "source": [
    "df_weekly3 = sqlContext.sql(\"SELECT DISTINCT pan_token \\\n",
    "                             FROM weekly_visit2\")"
   ]
  },
  {
   "cell_type": "code",
   "execution_count": 39,
   "metadata": {},
   "outputs": [],
   "source": [
    "#df_weekly3.show(20)"
   ]
  },
  {
   "cell_type": "code",
   "execution_count": 40,
   "metadata": {},
   "outputs": [
    {
     "data": {
      "text/plain": [
       "7695617"
      ]
     },
     "execution_count": 40,
     "metadata": {},
     "output_type": "execute_result"
    }
   ],
   "source": [
    "H_count = df_weekly3.count()\n",
    "H_count"
   ]
  },
  {
   "cell_type": "code",
   "execution_count": 41,
   "metadata": {},
   "outputs": [
    {
     "data": {
      "text/plain": [
       "DataFrame[pan_token: string]"
      ]
     },
     "execution_count": 41,
     "metadata": {},
     "output_type": "execute_result"
    }
   ],
   "source": [
    "df_weekly1.unpersist()\n",
    "df_weekly2.unpersist()\n",
    "df_weekly3.unpersist()"
   ]
  },
  {
   "cell_type": "markdown",
   "metadata": {},
   "source": [
    "## 10.2.- Number of unique customers that visit twice in any calendar month (M)"
   ]
  },
  {
   "cell_type": "code",
   "execution_count": 42,
   "metadata": {},
   "outputs": [],
   "source": [
    "df_monthly1 = df_data.groupBy(\"pan_token\", month(from_unixtime(unix_timestamp('transaction_date', 'yyy/MM/dd'))).\\\n",
    "                            alias('month')).agg(count(\"*\").alias('visits')).sort('pan_token')\n",
    "#df_monthly1.show(20)"
   ]
  },
  {
   "cell_type": "code",
   "execution_count": 43,
   "metadata": {},
   "outputs": [],
   "source": [
    "df_monthly1.registerTempTable(\"monthly_visit1\")"
   ]
  },
  {
   "cell_type": "code",
   "execution_count": 44,
   "metadata": {},
   "outputs": [],
   "source": [
    "df_monthly2 = sqlContext.sql(\"SELECT DISTINCT pan_token, visits \\\n",
    "                             FROM monthly_visit1 \\\n",
    "                             WHERE visits = 1\")"
   ]
  },
  {
   "cell_type": "code",
   "execution_count": 45,
   "metadata": {},
   "outputs": [
    {
     "data": {
      "text/plain": [
       "19786649"
      ]
     },
     "execution_count": 45,
     "metadata": {},
     "output_type": "execute_result"
    }
   ],
   "source": [
    "M_count = df_monthly2.count()\n",
    "M_count"
   ]
  },
  {
   "cell_type": "code",
   "execution_count": 46,
   "metadata": {},
   "outputs": [
    {
     "data": {
      "text/plain": [
       "DataFrame[pan_token: string, visits: bigint]"
      ]
     },
     "execution_count": 46,
     "metadata": {},
     "output_type": "execute_result"
    }
   ],
   "source": [
    "df_monthly1.unpersist()\n",
    "df_monthly2.unpersist()"
   ]
  },
  {
   "cell_type": "markdown",
   "metadata": {},
   "source": [
    "## 10.3.- Number of unique customers that visit once in any 6 calendar weeks lapse (L)"
   ]
  },
  {
   "cell_type": "code",
   "execution_count": 47,
   "metadata": {},
   "outputs": [],
   "source": [
    "interval = 42 * 24 * 60 * 60     # 6 weeks = 42 days  \n",
    "gdf = df_data.\\\n",
    "withColumn('6week_interval', \\\n",
    "           from_unixtime(floor(unix_timestamp('transaction_date', 'yyy/MM/dd') / interval) * interval\\\n",
    "           + ((unix_timestamp(lit('2017/09/01'),'yyy/MM/dd')/interval)%1)*interval))\n",
    "\n",
    "df_6weekly1 = gdf.groupBy('pan_token', '6week_interval').agg(count(\"*\").alias('visits')).sort('pan_token')\n",
    "\n",
    "#df_6weekly.show(20)"
   ]
  },
  {
   "cell_type": "code",
   "execution_count": 48,
   "metadata": {},
   "outputs": [],
   "source": [
    "df_6weekly1.registerTempTable(\"6weekly_visit1\")"
   ]
  },
  {
   "cell_type": "code",
   "execution_count": 49,
   "metadata": {},
   "outputs": [],
   "source": [
    "df_6weekly2 = sqlContext.sql(\"SELECT DISTINCT pan_token, visits \\\n",
    "                             FROM 6weekly_visit1 \\\n",
    "                             WHERE visits = 1\")"
   ]
  },
  {
   "cell_type": "code",
   "execution_count": 50,
   "metadata": {},
   "outputs": [],
   "source": [
    "#df_6weekly2.show(40)"
   ]
  },
  {
   "cell_type": "code",
   "execution_count": 51,
   "metadata": {},
   "outputs": [
    {
     "data": {
      "text/plain": [
       "19560960"
      ]
     },
     "execution_count": 51,
     "metadata": {},
     "output_type": "execute_result"
    }
   ],
   "source": [
    "L_count = df_6weekly2.count()\n",
    "L_count"
   ]
  },
  {
   "cell_type": "code",
   "execution_count": 52,
   "metadata": {},
   "outputs": [
    {
     "data": {
      "text/plain": [
       "DataFrame[pan_token: string, visits: bigint]"
      ]
     },
     "execution_count": 52,
     "metadata": {},
     "output_type": "execute_result"
    }
   ],
   "source": [
    "gdf.unpersist()\n",
    "df_6weekly1.unpersist()\n",
    "df_6weekly2.unpersist()"
   ]
  },
  {
   "cell_type": "markdown",
   "metadata": {},
   "source": [
    "## 10.4.- Number of unique customers that visit once in a 3 calendar month period (I)"
   ]
  },
  {
   "cell_type": "code",
   "execution_count": 53,
   "metadata": {},
   "outputs": [],
   "source": [
    "interval = 90 * 24 * 60 * 60     # 3 months = 90 days  \n",
    "gdf = df_data.\\\n",
    "withColumn('quarter_interval', \\\n",
    "           from_unixtime(floor(unix_timestamp('transaction_date', 'yyy/MM/dd') / interval) * interval\\\n",
    "           + ((unix_timestamp(lit('2017/09/01'),'yyy/MM/dd')/interval)%1)*interval))\n",
    "\n",
    "df_3month1 = gdf.groupBy('pan_token', 'quarter_interval').agg(count(\"*\").alias('visits')).sort('pan_token')"
   ]
  },
  {
   "cell_type": "code",
   "execution_count": 54,
   "metadata": {},
   "outputs": [],
   "source": [
    "df_3month1.registerTempTable(\"3month_visit1\")"
   ]
  },
  {
   "cell_type": "code",
   "execution_count": 55,
   "metadata": {},
   "outputs": [],
   "source": [
    "df_3month2 = sqlContext.sql(\"SELECT DISTINCT pan_token, visits \\\n",
    "                             FROM 3month_visit1 \\\n",
    "                             WHERE visits = 1\")"
   ]
  },
  {
   "cell_type": "code",
   "execution_count": 56,
   "metadata": {},
   "outputs": [
    {
     "data": {
      "text/plain": [
       "16702547"
      ]
     },
     "execution_count": 56,
     "metadata": {},
     "output_type": "execute_result"
    }
   ],
   "source": [
    "I_count = df_3month2.count()\n",
    "I_count"
   ]
  },
  {
   "cell_type": "code",
   "execution_count": null,
   "metadata": {},
   "outputs": [],
   "source": []
  }
 ],
 "metadata": {
  "kernelspec": {
   "display_name": "Python 3",
   "language": "python",
   "name": "python3"
  },
  "language_info": {
   "codemirror_mode": {
    "name": "ipython",
    "version": 3
   },
   "file_extension": ".py",
   "mimetype": "text/x-python",
   "name": "python",
   "nbconvert_exporter": "python",
   "pygments_lexer": "ipython3",
   "version": "3.5.2"
  }
 },
 "nbformat": 4,
 "nbformat_minor": 1
}
