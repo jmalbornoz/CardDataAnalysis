{
 "cells": [
  {
   "cell_type": "markdown",
   "metadata": {},
   "source": [
    "# McDonald's Joined Basket Analysis - v3 \n",
    "## April 2018\n",
    "### Dr Jose M Albornoz\n",
    "\n",
    "This notebook analyses joined basket data using Ingenico card tokens form March 2018 in the Reading area stores to examine i) unmatched transactions; ii) multiple payments between succesive baskets"
   ]
  },
  {
   "cell_type": "markdown",
   "metadata": {},
   "source": [
    "# 1.- Import necessary modules, define SQLContext"
   ]
  },
  {
   "cell_type": "code",
   "execution_count": 1,
   "metadata": {},
   "outputs": [],
   "source": [
    "# Import required modules\n",
    "from pyspark.context import SparkContext\n",
    "from pyspark.sql.context import SQLContext\n",
    "from pyspark.sql.functions import *\n",
    "from pyspark.sql.functions import col\n",
    "from pyspark.sql.functions import row_number\n",
    "from pyspark.sql.types import *\n",
    "from pyspark.sql.functions import unix_timestamp\n",
    "import math\n",
    "from pyspark.sql.window import *\n",
    "import pandas as pd"
   ]
  },
  {
   "cell_type": "code",
   "execution_count": 2,
   "metadata": {},
   "outputs": [],
   "source": [
    "# Define SQLContext\n",
    "sqlContext = SQLContext(sc)"
   ]
  },
  {
   "cell_type": "markdown",
   "metadata": {},
   "source": [
    "# 2.- Generic functions to load data from a text-based file"
   ]
  },
  {
   "cell_type": "code",
   "execution_count": 3,
   "metadata": {},
   "outputs": [],
   "source": [
    "# a function to load a colon-separated value file\n",
    "def load_data_colon(filename, schema, columns = None):\n",
    "    df = sqlContext.read.format('com.databricks.spark.csv').option(\"delimiter\", \";\").options(header='true'). \\\n",
    "    load(filename, schema = schema)\n",
    "    if columns is None:\n",
    "        # If no columns are given, then select all\n",
    "        columns = schema.names\n",
    "    return df.select(columns)"
   ]
  },
  {
   "cell_type": "code",
   "execution_count": 4,
   "metadata": {},
   "outputs": [],
   "source": [
    "# a function to load a pipe-separated value file\n",
    "def load_data_pipe(filename, schema, columns = None):\n",
    "    df = sqlContext.read.format('com.databricks.spark.csv').option(\"delimiter\", \"|\").options(header='false'). \\\n",
    "    load(filename, schema = schema)\n",
    "    if columns is None:\n",
    "        # If no columns are given, then select all\n",
    "        columns = schema.names\n",
    "    return df.select(columns)"
   ]
  },
  {
   "cell_type": "code",
   "execution_count": 5,
   "metadata": {},
   "outputs": [],
   "source": [
    "# a function to load a comma-separated value file\n",
    "def load_data_comma(filename, schema, columns = None):\n",
    "    df = sqlContext.read.format('com.databricks.spark.csv').option(\"delimiter\", \",\").options(header='true'). \\\n",
    "    load(filename, schema = schema)\n",
    "    if columns is None:\n",
    "        # If no columns are given, then select all\n",
    "        columns = schema.names\n",
    "    return df.select(columns)"
   ]
  },
  {
   "cell_type": "markdown",
   "metadata": {},
   "source": [
    "# 3.- Schema for joined basket file"
   ]
  },
  {
   "cell_type": "code",
   "execution_count": 6,
   "metadata": {},
   "outputs": [],
   "source": [
    "schema_basket = StructType([ \n",
    "    StructField('store_number', IntegerType(), True), \n",
    "    StructField('timestamp_basket', TimestampType(), True), \n",
    "    StructField('pos_code', IntegerType(), True), \n",
    "    StructField('pos_id', StringType(), True), \n",
    "    StructField('sale_number', IntegerType(), True), \n",
    "    StructField('total_cost', FloatType(), True),\\\n",
    "    StructField('menu_item_id', IntegerType(), True),\n",
    "    StructField('channel', StringType(), True), \n",
    "    StructField('pan_token', StringType(), True),     \n",
    "    StructField('timestamp_cards', TimestampType(), True),\n",
    "    StructField('next_timestamp', TimestampType(), True)\n",
    "])"
   ]
  },
  {
   "cell_type": "markdown",
   "metadata": {},
   "source": [
    "# 4.- Load joined basket data"
   ]
  },
  {
   "cell_type": "code",
   "execution_count": 7,
   "metadata": {},
   "outputs": [],
   "source": [
    "df_basket0 = load_data_comma(\"joined_basket_ReadingMarch2018.csv/part-00000-ccefe0fd-a5df-450d-b884-807f401ceb93-c000.csv\", \\\n",
    "                           schema_basket)"
   ]
  },
  {
   "cell_type": "code",
   "execution_count": 8,
   "metadata": {},
   "outputs": [],
   "source": [
    "df_basket0 = df_basket0.select('store_number', 'pos_code', 'pos_id', 'sale_number', 'pan_token', 'total_cost', \\\n",
    "                               'timestamp_basket', 'timestamp_cards', 'next_timestamp').\\\n",
    "                               orderBy('store_number', 'pos_code', 'timestamp_basket', 'sale_number')"
   ]
  },
  {
   "cell_type": "code",
   "execution_count": 9,
   "metadata": {},
   "outputs": [
    {
     "name": "stdout",
     "output_type": "stream",
     "text": [
      "+------------+--------+-----------------+-----------+-------------------+----------+-------------------+-------------------+-------------------+\n",
      "|store_number|pos_code|           pos_id|sale_number|          pan_token|total_cost|   timestamp_basket|    timestamp_cards|     next_timestamp|\n",
      "+------------+--------+-----------------+-----------+-------------------+----------+-------------------+-------------------+-------------------+\n",
      "|         102|       1|POS0001:216506961|          1|5573611294275381348|      1.66|2018-03-01 12:13:19|2018-03-01 12:14:19|2018-03-01 12:14:40|\n",
      "|         102|       1|POS0001:216506961|          2|5573611294275381348|       0.0|2018-03-01 12:13:19|2018-03-01 12:14:19|2018-03-01 12:14:40|\n",
      "|         102|       1|POS0001:216506962|          1|5573611294275381348|      1.33|2018-03-01 12:14:40|2018-03-01 12:15:10|2018-03-01 13:24:55|\n",
      "|         102|       1|POS0001:216506962|          2|5573611294275381348|     -0.76|2018-03-01 12:14:40|2018-03-01 12:15:10|2018-03-01 13:24:55|\n",
      "|         102|       1|POS0001:216506962|          3|5573611294275381348|      0.82|2018-03-01 12:14:40|2018-03-01 12:15:10|2018-03-01 13:24:55|\n",
      "|         102|       1|POS0001:216506962|          4|5573611294275381348|      4.09|2018-03-01 12:14:40|2018-03-01 12:15:10|2018-03-01 13:24:55|\n",
      "|         102|       1|POS0001:216506962|          5|5573611294275381348|       0.0|2018-03-01 12:14:40|2018-03-01 12:15:10|2018-03-01 13:24:55|\n",
      "|         102|       1|POS0001:216506962|          6|5573611294275381348|       0.0|2018-03-01 12:14:40|2018-03-01 12:15:10|2018-03-01 13:24:55|\n",
      "|         102|       1|POS0001:216506988|          1|3770647320610855465|      1.06|2018-03-01 13:24:55|2018-03-01 13:25:13|2018-03-01 13:31:58|\n",
      "|         102|       1|POS0001:216506988|          2|3770647320610855465|       0.0|2018-03-01 13:24:55|2018-03-01 13:25:13|2018-03-01 13:31:58|\n",
      "|         102|       1|POS0001:216506988|          3|3770647320610855465|      3.93|2018-03-01 13:24:55|2018-03-01 13:25:13|2018-03-01 13:31:58|\n",
      "|         102|       1|POS0001:216506988|          4|3770647320610855465|       0.0|2018-03-01 13:24:55|2018-03-01 13:25:13|2018-03-01 13:31:58|\n",
      "|         102|       1|POS0001:216506993|          1|4658598774717247027|      0.74|2018-03-01 13:31:58|2018-03-01 13:32:12|2018-03-01 13:41:34|\n",
      "|         102|       1|POS0001:216507006|          1|4832043329918528320|      0.17|2018-03-01 13:41:34|2018-03-01 13:42:27|2018-03-01 13:45:02|\n",
      "|         102|       1|POS0001:216507006|          2|4832043329918528320|      0.82|2018-03-01 13:41:34|2018-03-01 13:42:27|2018-03-01 13:45:02|\n",
      "|         102|       1|POS0001:216507006|          4|4832043329918528320|       0.0|2018-03-01 13:41:34|2018-03-01 13:42:27|2018-03-01 13:45:02|\n",
      "|         102|       1|POS0001:216507006|          5|4832043329918528320|      3.01|2018-03-01 13:41:34|2018-03-01 13:42:27|2018-03-01 13:45:02|\n",
      "|         102|       1|POS0001:216507006|          6|4832043329918528320|     -0.52|2018-03-01 13:41:34|2018-03-01 13:42:27|2018-03-01 13:45:02|\n",
      "|         102|       1|POS0001:216507008|          1|4462721520674372218|      2.57|2018-03-01 13:45:02|2018-03-01 13:45:35|2018-03-01 13:48:46|\n",
      "|         102|       1|POS0001:216507008|          2|4462721520674372218|      2.48|2018-03-01 13:45:02|2018-03-01 13:45:35|2018-03-01 13:48:46|\n",
      "+------------+--------+-----------------+-----------+-------------------+----------+-------------------+-------------------+-------------------+\n",
      "only showing top 20 rows\n",
      "\n"
     ]
    }
   ],
   "source": [
    "df_basket0.show(20)"
   ]
  },
  {
   "cell_type": "code",
   "execution_count": 10,
   "metadata": {},
   "outputs": [
    {
     "data": {
      "text/plain": [
       "1979699"
      ]
     },
     "execution_count": 10,
     "metadata": {},
     "output_type": "execute_result"
    }
   ],
   "source": [
    "df_basket0.count()"
   ]
  },
  {
   "cell_type": "markdown",
   "metadata": {},
   "source": [
    "# 5.- Compute aggregated basket"
   ]
  },
  {
   "cell_type": "code",
   "execution_count": 11,
   "metadata": {},
   "outputs": [],
   "source": [
    "df_basket_aggregated = df_basket0.groupBy(\"store_number\", \"pos_code\", \"pos_id\", \"pan_token\", \"timestamp_basket\", \\\n",
    "                                          \"timestamp_cards\", \"next_timestamp\").\\\n",
    "                                 agg(sum(\"total_cost\").alias(\"total_cost\")). \\\n",
    "                                                                         orderBy(\"store_number\", \\\n",
    "                                                                                 \"pos_code\", \\\n",
    "                                                                                 \"timestamp_basket\")"
   ]
  },
  {
   "cell_type": "code",
   "execution_count": 12,
   "metadata": {},
   "outputs": [
    {
     "name": "stdout",
     "output_type": "stream",
     "text": [
      "+------------+--------+-----------------+-------------------+-------------------+-------------------+-------------------+------------------+\n",
      "|store_number|pos_code|           pos_id|          pan_token|   timestamp_basket|    timestamp_cards|     next_timestamp|        total_cost|\n",
      "+------------+--------+-----------------+-------------------+-------------------+-------------------+-------------------+------------------+\n",
      "|         102|       1|POS0001:216506961|5573611294275381348|2018-03-01 12:13:19|2018-03-01 12:14:19|2018-03-01 12:14:40| 1.659999966621399|\n",
      "|         102|       1|POS0001:216506962|5573611294275381348|2018-03-01 12:14:40|2018-03-01 12:15:10|2018-03-01 13:24:55| 5.480000197887421|\n",
      "|         102|       1|POS0001:216506988|3770647320610855465|2018-03-01 13:24:55|2018-03-01 13:25:13|2018-03-01 13:31:58| 4.990000009536743|\n",
      "|         102|       1|POS0001:216506993|4658598774717247027|2018-03-01 13:31:58|2018-03-01 13:32:12|2018-03-01 13:41:34|0.7400000095367432|\n",
      "|         102|       1|POS0001:216507006|4832043329918528320|2018-03-01 13:41:34|2018-03-01 13:42:27|2018-03-01 13:45:02| 3.480000004172325|\n",
      "|         102|       1|POS0001:216507008|4462721520674372218|2018-03-01 13:45:02|2018-03-01 13:45:35|2018-03-01 13:48:46| 5.049999952316284|\n",
      "|         102|       1|POS0001:216507013|4757147527171760525|2018-03-01 13:48:46|2018-03-01 13:49:09|2018-03-01 13:49:23| 5.330000221729279|\n",
      "|         102|       1|POS0001:216507014|4762484728867996199|2018-03-01 13:49:23|2018-03-01 13:49:49|2018-03-01 13:59:07| 4.850000023841858|\n",
      "|         102|       1|POS0001:216507027|4921814519479290644|2018-03-01 13:59:07|2018-03-01 13:59:25|2018-03-01 13:59:38| 4.310000061988831|\n",
      "|         102|       1|POS0001:216507028|4751456821457785509|2018-03-01 13:59:38|2018-03-01 14:00:06|2018-03-01 14:04:40|1.8599999696016312|\n",
      "+------------+--------+-----------------+-------------------+-------------------+-------------------+-------------------+------------------+\n",
      "only showing top 10 rows\n",
      "\n"
     ]
    }
   ],
   "source": [
    "df_basket_aggregated.show(10)"
   ]
  },
  {
   "cell_type": "code",
   "execution_count": 13,
   "metadata": {},
   "outputs": [],
   "source": [
    "total_transactions = df_basket_aggregated.count()"
   ]
  },
  {
   "cell_type": "code",
   "execution_count": 14,
   "metadata": {},
   "outputs": [
    {
     "data": {
      "text/plain": [
       "390172"
      ]
     },
     "execution_count": 14,
     "metadata": {},
     "output_type": "execute_result"
    }
   ],
   "source": [
    "total_transactions"
   ]
  },
  {
   "cell_type": "markdown",
   "metadata": {},
   "source": [
    "# 6.- Count of unmatched baskets"
   ]
  },
  {
   "cell_type": "code",
   "execution_count": 15,
   "metadata": {},
   "outputs": [],
   "source": [
    "df_unmatched = df_basket_aggregated.where(col('pan_token').isNull())"
   ]
  },
  {
   "cell_type": "code",
   "execution_count": 16,
   "metadata": {},
   "outputs": [
    {
     "name": "stdout",
     "output_type": "stream",
     "text": [
      "+------------+--------+-----------------+---------+-------------------+-------------------+-------------------+------------------+\n",
      "|store_number|pos_code|           pos_id|pan_token|   timestamp_basket|    timestamp_cards|     next_timestamp|        total_cost|\n",
      "+------------+--------+-----------------+---------+-------------------+-------------------+-------------------+------------------+\n",
      "|         102|       1| POS0023:35435297|     null|2018-03-02 12:05:53|2018-03-07 19:32:26|2018-03-10 13:14:47|  3.39000004529953|\n",
      "|         102|       1| POS0023:35435297|     null|2018-03-02 12:05:53|2018-03-03 21:02:37|2018-03-10 13:14:47|  3.39000004529953|\n",
      "|         102|       1|POS0022:184234456|     null|2018-03-03 11:34:10|2018-03-03 21:02:37|2018-03-06 01:27:02|3.3100000619888306|\n",
      "|         102|       1|POS0001:216508027|     null|2018-03-03 21:01:16|2018-03-03 21:02:37|2018-03-03 21:08:05| 3.319999933242798|\n",
      "|         102|       1|POS0024:685699383|     null|2018-03-06 01:16:03|2018-03-13 19:50:17|2018-03-25 02:11:22| 6.949999988079071|\n",
      "|         102|       1|POS0024:685699383|     null|2018-03-06 01:16:03|2018-03-13 20:45:14|2018-03-25 02:11:22| 6.949999988079071|\n",
      "|         102|       1|POS0024:685699383|     null|2018-03-06 01:16:03|2018-03-07 19:32:26|2018-03-25 02:11:22| 6.949999988079071|\n",
      "|         102|       1|POS0024:685699383|     null|2018-03-06 01:16:03|2018-03-13 19:48:51|2018-03-25 02:11:22| 6.949999988079071|\n",
      "|         102|       1|POS0024:685699383|     null|2018-03-06 01:16:03|2018-03-13 20:52:38|2018-03-25 02:11:22| 6.949999988079071|\n",
      "|         102|       1|POS0024:685699383|     null|2018-03-06 01:16:03|2018-03-13 20:36:48|2018-03-25 02:11:22| 6.949999988079071|\n",
      "+------------+--------+-----------------+---------+-------------------+-------------------+-------------------+------------------+\n",
      "only showing top 10 rows\n",
      "\n"
     ]
    }
   ],
   "source": [
    "df_unmatched.show(10)"
   ]
  },
  {
   "cell_type": "markdown",
   "metadata": {},
   "source": [
    "## 6.1.- Proportion of unmatched transactions"
   ]
  },
  {
   "cell_type": "code",
   "execution_count": 17,
   "metadata": {},
   "outputs": [],
   "source": [
    "unmatched_transactions = df_unmatched.count()"
   ]
  },
  {
   "cell_type": "code",
   "execution_count": 18,
   "metadata": {},
   "outputs": [
    {
     "data": {
      "text/plain": [
       "832"
      ]
     },
     "execution_count": 18,
     "metadata": {},
     "output_type": "execute_result"
    }
   ],
   "source": [
    "unmatched_transactions"
   ]
  },
  {
   "cell_type": "code",
   "execution_count": 19,
   "metadata": {},
   "outputs": [
    {
     "data": {
      "text/plain": [
       "0.21323928933906072"
      ]
     },
     "execution_count": 19,
     "metadata": {},
     "output_type": "execute_result"
    }
   ],
   "source": [
    "unmatched_transactions*100/total_transactions"
   ]
  },
  {
   "cell_type": "markdown",
   "metadata": {},
   "source": [
    "## 6.2.- Are there any repeated timestamps in the unmatched baskets?"
   ]
  },
  {
   "cell_type": "code",
   "execution_count": 20,
   "metadata": {},
   "outputs": [
    {
     "data": {
      "text/plain": [
       "418"
      ]
     },
     "execution_count": 20,
     "metadata": {},
     "output_type": "execute_result"
    }
   ],
   "source": [
    "len([i.timestamp_basket for i in df_unmatched.select('timestamp_basket').distinct().collect()])"
   ]
  },
  {
   "cell_type": "markdown",
   "metadata": {},
   "source": [
    "# 7.- Count of multiple payments between transactions"
   ]
  },
  {
   "cell_type": "code",
   "execution_count": 21,
   "metadata": {},
   "outputs": [],
   "source": [
    "df_basket_payment_counts = df_basket_aggregated.groupBy(\"store_number\", \"pos_code\", \"pos_id\", \"pan_token\", \\\n",
    "                                                        \"timestamp_basket\", \"timestamp_cards\", \"next_timestamp\").\\\n",
    "                                 agg(count('pos_id').alias(\"payment_count\")). \\\n",
    "                                 orderBy(\"store_number\", \"pos_id\", \"timestamp_basket\")"
   ]
  },
  {
   "cell_type": "code",
   "execution_count": 22,
   "metadata": {},
   "outputs": [],
   "source": [
    "df_basket_payment_counts = df_basket_aggregated.groupBy('store_number', 'pos_code', 'pos_id', 'timestamp_basket').count()"
   ]
  },
  {
   "cell_type": "code",
   "execution_count": 23,
   "metadata": {},
   "outputs": [
    {
     "name": "stdout",
     "output_type": "stream",
     "text": [
      "+------------+--------+-------------------+-----+\n",
      "|store_number|pos_code|   timestamp_basket|count|\n",
      "+------------+--------+-------------------+-----+\n",
      "|         102|       1|2018-03-01 12:13:19|    1|\n",
      "|         102|       1|2018-03-01 12:14:40|    1|\n",
      "|         102|       1|2018-03-01 13:24:55|    1|\n",
      "|         102|       1|2018-03-01 13:31:58|    1|\n",
      "|         102|       1|2018-03-01 13:41:34|    1|\n",
      "|         102|       1|2018-03-01 13:45:02|    1|\n",
      "|         102|       1|2018-03-01 13:48:46|    1|\n",
      "|         102|       1|2018-03-01 13:49:23|    1|\n",
      "|         102|       1|2018-03-01 13:59:07|    1|\n",
      "|         102|       1|2018-03-01 13:59:38|    1|\n",
      "+------------+--------+-------------------+-----+\n",
      "only showing top 10 rows\n",
      "\n"
     ]
    }
   ],
   "source": [
    "df_basket_payment_counts.show(10)"
   ]
  },
  {
   "cell_type": "code",
   "execution_count": 24,
   "metadata": {},
   "outputs": [
    {
     "data": {
      "text/plain": [
       "182006"
      ]
     },
     "execution_count": 24,
     "metadata": {},
     "output_type": "execute_result"
    }
   ],
   "source": [
    "df_basket_payment_counts.count()"
   ]
  },
  {
   "cell_type": "code",
   "execution_count": 32,
   "metadata": {},
   "outputs": [],
   "source": [
    "df_single_payments = df_basket_payment_counts.where(df_basket_payment_counts['count'] == 1)"
   ]
  },
  {
   "cell_type": "code",
   "execution_count": 33,
   "metadata": {},
   "outputs": [],
   "source": [
    "single_payments = df_single_payments.count()"
   ]
  },
  {
   "cell_type": "code",
   "execution_count": 34,
   "metadata": {},
   "outputs": [
    {
     "data": {
      "text/plain": [
       "157056"
      ]
     },
     "execution_count": 34,
     "metadata": {},
     "output_type": "execute_result"
    }
   ],
   "source": [
    "single_payments"
   ]
  },
  {
   "cell_type": "code",
   "execution_count": 25,
   "metadata": {},
   "outputs": [],
   "source": [
    "df_multiple_payments = df_basket_payment_counts.where(df_basket_payment_counts['count'] != 1)"
   ]
  },
  {
   "cell_type": "code",
   "execution_count": 26,
   "metadata": {},
   "outputs": [
    {
     "name": "stdout",
     "output_type": "stream",
     "text": [
      "+------------+--------+-------------------+-----+\n",
      "|store_number|pos_code|   timestamp_basket|count|\n",
      "+------------+--------+-------------------+-----+\n",
      "|         102|       1|2018-03-02 02:19:31|    2|\n",
      "|         102|       1|2018-03-02 12:05:53| 1496|\n",
      "|         102|       1|2018-03-02 13:32:37|    2|\n",
      "|         102|       1|2018-03-03 10:56:45|    2|\n",
      "|         102|       1|2018-03-03 11:31:25|    2|\n",
      "|         102|       1|2018-03-03 11:34:10|  480|\n",
      "|         102|       1|2018-03-03 11:57:21|    2|\n",
      "|         102|       1|2018-03-03 12:32:25|    2|\n",
      "|         102|       1|2018-03-03 13:55:23|    2|\n",
      "|         102|       1|2018-03-03 21:01:16|    2|\n",
      "|         102|       1|2018-03-04 12:33:38|    2|\n",
      "|         102|       1|2018-03-04 13:31:49|    2|\n",
      "|         102|       1|2018-03-04 15:24:52|    2|\n",
      "|         102|       1|2018-03-05 14:06:13|    2|\n",
      "|         102|       1|2018-03-06 01:14:55|    2|\n",
      "|         102|       1|2018-03-06 01:16:03| 3801|\n",
      "|         102|       1|2018-03-06 01:26:19|    2|\n",
      "|         102|       1|2018-03-06 01:27:02|   15|\n",
      "|         102|       1|2018-03-06 01:52:13|    2|\n",
      "|         102|       1|2018-03-06 01:52:43|   13|\n",
      "+------------+--------+-------------------+-----+\n",
      "only showing top 20 rows\n",
      "\n"
     ]
    }
   ],
   "source": [
    "df_multiple_payments.show()"
   ]
  },
  {
   "cell_type": "code",
   "execution_count": 27,
   "metadata": {},
   "outputs": [],
   "source": [
    "multiple_payments = df_multiple_payments.count()"
   ]
  },
  {
   "cell_type": "code",
   "execution_count": 28,
   "metadata": {},
   "outputs": [
    {
     "data": {
      "text/plain": [
       "24950"
      ]
     },
     "execution_count": 28,
     "metadata": {},
     "output_type": "execute_result"
    }
   ],
   "source": [
    "multiple_payments"
   ]
  },
  {
   "cell_type": "markdown",
   "metadata": {},
   "source": [
    "## 7.1.- A closer look at multiple payments"
   ]
  },
  {
   "cell_type": "code",
   "execution_count": 38,
   "metadata": {},
   "outputs": [
    {
     "name": "stdout",
     "output_type": "stream",
     "text": [
      "+----------------+-------------------+-------------------+-------------------+-------------------+\n",
      "|          pos_id|          pan_token|   timestamp_basket|    timestamp_cards|     next_timestamp|\n",
      "+----------------+-------------------+-------------------+-------------------+-------------------+\n",
      "|POS0023:35435297|4929147876412187001|2018-03-02 12:05:53|2018-03-02 13:33:03|2018-03-10 13:14:47|\n",
      "|POS0023:35435297|4762305177088802330|2018-03-02 12:05:53|2018-03-02 23:30:51|2018-03-10 13:14:47|\n",
      "|POS0023:35435297|4832044082018736749|2018-03-02 12:05:53|2018-03-03 10:09:32|2018-03-10 13:14:47|\n",
      "|POS0023:35435297|4386621274821512081|2018-03-02 12:05:53|2018-03-03 19:19:39|2018-03-10 13:14:47|\n",
      "|POS0023:35435297|4462913067970885939|2018-03-02 12:05:53|2018-03-04 15:28:24|2018-03-10 13:14:47|\n",
      "|POS0023:35435297|5355620656579955723|2018-03-02 12:05:53|2018-03-04 20:28:03|2018-03-10 13:14:47|\n",
      "|POS0023:35435297|4659439603208941941|2018-03-02 12:05:53|2018-03-06 14:41:09|2018-03-10 13:14:47|\n",
      "|POS0023:35435297|4751281594696999483|2018-03-02 12:05:53|2018-03-07 11:28:05|2018-03-10 13:14:47|\n",
      "|POS0023:35435297|5573611600537037782|2018-03-02 12:05:53|2018-03-07 23:43:05|2018-03-10 13:14:47|\n",
      "|POS0023:35435297|4921810886041098819|2018-03-02 12:05:53|2018-03-09 23:41:05|2018-03-10 13:14:47|\n",
      "|POS0023:35435297|4751307303858515367|2018-03-02 12:05:53|2018-03-10 00:59:59|2018-03-10 13:14:47|\n",
      "|POS0023:35435297|4658586641752509019|2018-03-02 12:05:53|2018-03-10 01:20:40|2018-03-10 13:14:47|\n",
      "|POS0023:35435297|4751441243187149208|2018-03-02 12:05:53|2018-03-02 12:51:03|2018-03-10 13:14:47|\n",
      "|POS0023:35435297|4828711672538627412|2018-03-02 12:05:53|2018-03-03 10:50:24|2018-03-10 13:14:47|\n",
      "|POS0023:35435297|4462788941714543819|2018-03-02 12:05:53|2018-03-04 08:07:35|2018-03-10 13:14:47|\n",
      "|POS0023:35435297|4762483632166803784|2018-03-02 12:05:53|2018-03-04 19:19:07|2018-03-10 13:14:47|\n",
      "|POS0023:35435297|4659423660715279481|2018-03-02 12:05:53|2018-03-06 02:25:38|2018-03-10 13:14:47|\n",
      "|POS0023:35435297|4659430936904553927|2018-03-02 12:05:53|2018-03-06 11:54:12|2018-03-10 13:14:47|\n",
      "|POS0023:35435297|4751413675528781208|2018-03-02 12:05:53|2018-03-07 01:14:43|2018-03-10 13:14:47|\n",
      "|POS0023:35435297|4662480526006954223|2018-03-02 12:05:53|2018-03-07 11:34:21|2018-03-10 13:14:47|\n",
      "+----------------+-------------------+-------------------+-------------------+-------------------+\n",
      "only showing top 20 rows\n",
      "\n"
     ]
    }
   ],
   "source": [
    "df_basket_aggregated[(col('store_number') == 102) & \\\n",
    "                     (col('pos_code') == 1) & \\\n",
    "                    (col('timestamp_basket') == '2018-03-02 12:05:53')].\\\n",
    "                    select('pos_id', 'pan_token', 'timestamp_basket', 'timestamp_cards', \\\n",
    "                           'next_timestamp').show()"
   ]
  },
  {
   "cell_type": "code",
   "execution_count": 29,
   "metadata": {},
   "outputs": [
    {
     "name": "stdout",
     "output_type": "stream",
     "text": [
      "+------------+--------+-----------------+-------------------+-------------------+-------------------+-------------------+-----------------+\n",
      "|store_number|pos_code|           pos_id|          pan_token|   timestamp_basket|    timestamp_cards|     next_timestamp|       total_cost|\n",
      "+------------+--------+-----------------+-------------------+-------------------+-------------------+-------------------+-----------------+\n",
      "|         102|       1|POS0001:216509065|4386623393317280841|2018-03-06 01:52:13|2018-03-06 01:53:31|2018-03-06 01:53:41|7.659999907016754|\n",
      "|         102|       1|POS0001:216509065|4832045180974836027|2018-03-06 01:52:13|2018-03-06 01:52:33|2018-03-06 01:53:41|7.659999907016754|\n",
      "+------------+--------+-----------------+-------------------+-------------------+-------------------+-------------------+-----------------+\n",
      "\n"
     ]
    }
   ],
   "source": [
    "df_basket_aggregated[(col('store_number') == 102) & \\\n",
    "                     (col('pos_code') == 1) & \\\n",
    "                    (col('timestamp_basket') == '2018-03-06 01:52:13')].show()"
   ]
  },
  {
   "cell_type": "code",
   "execution_count": 30,
   "metadata": {},
   "outputs": [
    {
     "name": "stdout",
     "output_type": "stream",
     "text": [
      "+-----------------+-----------+-------------------+-------------------+-------------------+-------------------+\n",
      "|           pos_id|sale_number|          pan_token|   timestamp_basket|    timestamp_cards|     next_timestamp|\n",
      "+-----------------+-----------+-------------------+-------------------+-------------------+-------------------+\n",
      "|POS0001:216509065|          1|4832045180974836027|2018-03-06 01:52:13|2018-03-06 01:52:33|2018-03-06 01:53:41|\n",
      "|POS0001:216509065|          2|4832045180974836027|2018-03-06 01:52:13|2018-03-06 01:52:33|2018-03-06 01:53:41|\n",
      "|POS0001:216509065|          3|4832045180974836027|2018-03-06 01:52:13|2018-03-06 01:52:33|2018-03-06 01:53:41|\n",
      "|POS0001:216509065|          4|4832045180974836027|2018-03-06 01:52:13|2018-03-06 01:52:33|2018-03-06 01:53:41|\n",
      "|POS0001:216509065|          5|4832045180974836027|2018-03-06 01:52:13|2018-03-06 01:52:33|2018-03-06 01:53:41|\n",
      "|POS0001:216509065|          6|4832045180974836027|2018-03-06 01:52:13|2018-03-06 01:52:33|2018-03-06 01:53:41|\n",
      "|POS0001:216509065|          1|4386623393317280841|2018-03-06 01:52:13|2018-03-06 01:53:31|2018-03-06 01:53:41|\n",
      "|POS0001:216509065|          2|4386623393317280841|2018-03-06 01:52:13|2018-03-06 01:53:31|2018-03-06 01:53:41|\n",
      "|POS0001:216509065|          3|4386623393317280841|2018-03-06 01:52:13|2018-03-06 01:53:31|2018-03-06 01:53:41|\n",
      "|POS0001:216509065|          4|4386623393317280841|2018-03-06 01:52:13|2018-03-06 01:53:31|2018-03-06 01:53:41|\n",
      "|POS0001:216509065|          5|4386623393317280841|2018-03-06 01:52:13|2018-03-06 01:53:31|2018-03-06 01:53:41|\n",
      "|POS0001:216509065|          6|4386623393317280841|2018-03-06 01:52:13|2018-03-06 01:53:31|2018-03-06 01:53:41|\n",
      "+-----------------+-----------+-------------------+-------------------+-------------------+-------------------+\n",
      "\n"
     ]
    }
   ],
   "source": [
    "df_basket0[(col('store_number') == 102) & \\\n",
    "                     (col('pos_code') == 1) & \\\n",
    "                    (col('timestamp_basket') == '2018-03-06 01:52:13')].\\\n",
    "                    sort('store_number', 'pos_code', 'timestamp_basket', 'timestamp_cards', 'sale_number').\\\n",
    "                    select('pos_id', 'sale_number', 'pan_token', 'timestamp_basket', 'timestamp_cards', \\\n",
    "                           'next_timestamp').show()"
   ]
  },
  {
   "cell_type": "code",
   "execution_count": 31,
   "metadata": {},
   "outputs": [
    {
     "name": "stdout",
     "output_type": "stream",
     "text": [
      "+-----------------+-----------+-------------------+-------------------+-------------------+-------------------+\n",
      "|           pos_id|sale_number|          pan_token|   timestamp_basket|    timestamp_cards|     next_timestamp|\n",
      "+-----------------+-----------+-------------------+-------------------+-------------------+-------------------+\n",
      "|POS0021:172009093|          1|4659435373866350219|2018-03-29 13:58:26|2018-03-29 13:58:39|2018-03-29 14:00:11|\n",
      "|POS0021:172009093|          2|4659435373866350219|2018-03-29 13:58:26|2018-03-29 13:58:39|2018-03-29 14:00:11|\n",
      "|POS0021:172009093|          3|4659435373866350219|2018-03-29 13:58:26|2018-03-29 13:58:39|2018-03-29 14:00:11|\n",
      "|POS0021:172009093|          1|4658581689937518013|2018-03-29 13:58:26|2018-03-29 13:59:37|2018-03-29 14:00:11|\n",
      "|POS0021:172009093|          2|4658581689937518013|2018-03-29 13:58:26|2018-03-29 13:59:37|2018-03-29 14:00:11|\n",
      "|POS0021:172009093|          3|4658581689937518013|2018-03-29 13:58:26|2018-03-29 13:59:37|2018-03-29 14:00:11|\n",
      "+-----------------+-----------+-------------------+-------------------+-------------------+-------------------+\n",
      "\n"
     ]
    }
   ],
   "source": [
    "df_basket0[(col('pos_id') == 'POS0021:172009093')].\\\n",
    "                    sort('store_number', 'pos_code', 'timestamp_basket', 'timestamp_cards', 'sale_number').\\\n",
    "                    select('pos_id', 'sale_number', 'pan_token', 'timestamp_basket', 'timestamp_cards', \\\n",
    "                           'next_timestamp').show()"
   ]
  },
  {
   "cell_type": "markdown",
   "metadata": {},
   "source": [
    "# 8.- Convert to Pandas"
   ]
  },
  {
   "cell_type": "code",
   "execution_count": null,
   "metadata": {},
   "outputs": [],
   "source": [
    "pdf_basket = df_basket.toPandas()"
   ]
  },
  {
   "cell_type": "code",
   "execution_count": null,
   "metadata": {},
   "outputs": [],
   "source": [
    "pdf_basket.head(50)"
   ]
  },
  {
   "cell_type": "code",
   "execution_count": null,
   "metadata": {},
   "outputs": [],
   "source": [
    "pdf_basket.tail(50)"
   ]
  },
  {
   "cell_type": "code",
   "execution_count": null,
   "metadata": {},
   "outputs": [],
   "source": [
    "pdf_basket_aggregated = df_basket_aggregated.toPandas()"
   ]
  },
  {
   "cell_type": "code",
   "execution_count": null,
   "metadata": {},
   "outputs": [],
   "source": [
    "pdf_basket_aggregated.head(50)"
   ]
  },
  {
   "cell_type": "code",
   "execution_count": null,
   "metadata": {},
   "outputs": [],
   "source": [
    "pdf_basket_aggregated.tail(50)"
   ]
  },
  {
   "cell_type": "code",
   "execution_count": null,
   "metadata": {},
   "outputs": [],
   "source": []
  }
 ],
 "metadata": {
  "kernelspec": {
   "display_name": "Python 3",
   "language": "python",
   "name": "python3"
  },
  "language_info": {
   "codemirror_mode": {
    "name": "ipython",
    "version": 3
   },
   "file_extension": ".py",
   "mimetype": "text/x-python",
   "name": "python",
   "nbconvert_exporter": "python",
   "pygments_lexer": "ipython3",
   "version": "3.5.2"
  }
 },
 "nbformat": 4,
 "nbformat_minor": 1
}
