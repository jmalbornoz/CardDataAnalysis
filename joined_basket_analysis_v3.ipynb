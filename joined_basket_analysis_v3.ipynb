{
 "cells": [
  {
   "cell_type": "markdown",
   "metadata": {},
   "source": [
    "# McDonald's Joined Basket Analysis - v3 \n",
    "## April 2018\n",
    "### Dr Jose M Albornoz\n",
    "\n",
    "This notebook analyses joined basket data using Ingenico card tokens form March 2018 in the Reading area stores to examine i) unmatched transactions; ii) multiple payments between succesive baskets"
   ]
  },
  {
   "cell_type": "markdown",
   "metadata": {},
   "source": [
    "# 1.- Import necessary modules, define SQLContext"
   ]
  },
  {
   "cell_type": "code",
   "execution_count": 1,
   "metadata": {},
   "outputs": [],
   "source": [
    "# Import required modules\n",
    "from pyspark.context import SparkContext\n",
    "from pyspark.sql.context import SQLContext\n",
    "from pyspark.sql.functions import *\n",
    "from pyspark.sql.functions import col\n",
    "from pyspark.sql.functions import row_number\n",
    "from pyspark.sql.types import *\n",
    "from pyspark.sql.functions import unix_timestamp\n",
    "import math\n",
    "from pyspark.sql.window import *\n",
    "import pandas as pd"
   ]
  },
  {
   "cell_type": "code",
   "execution_count": 2,
   "metadata": {},
   "outputs": [],
   "source": [
    "# Define SQLContext\n",
    "sqlContext = SQLContext(sc)"
   ]
  },
  {
   "cell_type": "markdown",
   "metadata": {},
   "source": [
    "# 2.- Generic functions to load data from a text-based file"
   ]
  },
  {
   "cell_type": "code",
   "execution_count": 3,
   "metadata": {},
   "outputs": [],
   "source": [
    "# a function to load a colon-separated value file\n",
    "def load_data_colon(filename, schema, columns = None):\n",
    "    df = sqlContext.read.format('com.databricks.spark.csv').option(\"delimiter\", \";\").options(header='true'). \\\n",
    "    load(filename, schema = schema)\n",
    "    if columns is None:\n",
    "        # If no columns are given, then select all\n",
    "        columns = schema.names\n",
    "    return df.select(columns)"
   ]
  },
  {
   "cell_type": "code",
   "execution_count": 4,
   "metadata": {},
   "outputs": [],
   "source": [
    "# a function to load a pipe-separated value file\n",
    "def load_data_pipe(filename, schema, columns = None):\n",
    "    df = sqlContext.read.format('com.databricks.spark.csv').option(\"delimiter\", \"|\").options(header='false'). \\\n",
    "    load(filename, schema = schema)\n",
    "    if columns is None:\n",
    "        # If no columns are given, then select all\n",
    "        columns = schema.names\n",
    "    return df.select(columns)"
   ]
  },
  {
   "cell_type": "code",
   "execution_count": 5,
   "metadata": {},
   "outputs": [],
   "source": [
    "# a function to load a comma-separated value file\n",
    "def load_data_comma(filename, schema, columns = None):\n",
    "    df = sqlContext.read.format('com.databricks.spark.csv').option(\"delimiter\", \",\").options(header='true'). \\\n",
    "    load(filename, schema = schema)\n",
    "    if columns is None:\n",
    "        # If no columns are given, then select all\n",
    "        columns = schema.names\n",
    "    return df.select(columns)"
   ]
  },
  {
   "cell_type": "markdown",
   "metadata": {},
   "source": [
    "# 3.- Schema for joined basket file"
   ]
  },
  {
   "cell_type": "code",
   "execution_count": 6,
   "metadata": {},
   "outputs": [],
   "source": [
    "schema_basket = StructType([ \n",
    "    StructField('store_number', IntegerType(), True), \n",
    "    StructField('timestamp_basket', TimestampType(), True), \n",
    "    StructField('pos_code', IntegerType(), True), \n",
    "    StructField('pos_id', StringType(), True), \n",
    "    StructField('sale_number', IntegerType(), True), \n",
    "    StructField('total_cost', FloatType(), True),\\\n",
    "    StructField('menu_item_id', IntegerType(), True),\n",
    "    StructField('channel', StringType(), True), \n",
    "    StructField('pan_token', StringType(), True),     \n",
    "    StructField('timestamp_cards', TimestampType(), True),\n",
    "    StructField('next_timestamp', TimestampType(), True)\n",
    "])"
   ]
  },
  {
   "cell_type": "markdown",
   "metadata": {},
   "source": [
    "# 4.- Load joined basket data"
   ]
  },
  {
   "cell_type": "code",
   "execution_count": 7,
   "metadata": {},
   "outputs": [],
   "source": [
    "df_basket0 = load_data_comma(\"joined_basket_ReadingMarch2018.csv/part-00000-ccefe0fd-a5df-450d-b884-807f401ceb93-c000.csv\", \\\n",
    "                           schema_basket)"
   ]
  },
  {
   "cell_type": "code",
   "execution_count": 8,
   "metadata": {},
   "outputs": [],
   "source": [
    "df_basket0 = df_basket0.select('store_number', 'pos_code', 'pos_id', 'sale_number', 'pan_token', 'total_cost', \\\n",
    "                               'timestamp_basket', 'timestamp_cards', 'next_timestamp').\\\n",
    "                               orderBy('store_number', 'pos_code', 'timestamp_basket', 'sale_number')"
   ]
  },
  {
   "cell_type": "code",
   "execution_count": 9,
   "metadata": {},
   "outputs": [
    {
     "name": "stdout",
     "output_type": "stream",
     "text": [
      "+------------+--------+-----------------+-----------+-------------------+----------+-------------------+-------------------+-------------------+\n",
      "|store_number|pos_code|           pos_id|sale_number|          pan_token|total_cost|   timestamp_basket|    timestamp_cards|     next_timestamp|\n",
      "+------------+--------+-----------------+-----------+-------------------+----------+-------------------+-------------------+-------------------+\n",
      "|         102|       1|POS0001:216506961|          1|5573611294275381348|      1.66|2018-03-01 12:13:19|2018-03-01 12:14:19|2018-03-01 12:14:40|\n",
      "|         102|       1|POS0001:216506961|          2|5573611294275381348|       0.0|2018-03-01 12:13:19|2018-03-01 12:14:19|2018-03-01 12:14:40|\n",
      "|         102|       1|POS0001:216506962|          1|5573611294275381348|      1.33|2018-03-01 12:14:40|2018-03-01 12:15:10|2018-03-01 13:24:55|\n",
      "|         102|       1|POS0001:216506962|          2|5573611294275381348|     -0.76|2018-03-01 12:14:40|2018-03-01 12:15:10|2018-03-01 13:24:55|\n",
      "|         102|       1|POS0001:216506962|          3|5573611294275381348|      0.82|2018-03-01 12:14:40|2018-03-01 12:15:10|2018-03-01 13:24:55|\n",
      "|         102|       1|POS0001:216506962|          4|5573611294275381348|      4.09|2018-03-01 12:14:40|2018-03-01 12:15:10|2018-03-01 13:24:55|\n",
      "|         102|       1|POS0001:216506962|          5|5573611294275381348|       0.0|2018-03-01 12:14:40|2018-03-01 12:15:10|2018-03-01 13:24:55|\n",
      "|         102|       1|POS0001:216506962|          6|5573611294275381348|       0.0|2018-03-01 12:14:40|2018-03-01 12:15:10|2018-03-01 13:24:55|\n",
      "|         102|       1|POS0001:216506988|          1|3770647320610855465|      1.06|2018-03-01 13:24:55|2018-03-01 13:25:13|2018-03-01 13:31:58|\n",
      "|         102|       1|POS0001:216506988|          2|3770647320610855465|       0.0|2018-03-01 13:24:55|2018-03-01 13:25:13|2018-03-01 13:31:58|\n",
      "|         102|       1|POS0001:216506988|          3|3770647320610855465|      3.93|2018-03-01 13:24:55|2018-03-01 13:25:13|2018-03-01 13:31:58|\n",
      "|         102|       1|POS0001:216506988|          4|3770647320610855465|       0.0|2018-03-01 13:24:55|2018-03-01 13:25:13|2018-03-01 13:31:58|\n",
      "|         102|       1|POS0001:216506993|          1|4658598774717247027|      0.74|2018-03-01 13:31:58|2018-03-01 13:32:12|2018-03-01 13:41:34|\n",
      "|         102|       1|POS0001:216507006|          1|4832043329918528320|      0.17|2018-03-01 13:41:34|2018-03-01 13:42:27|2018-03-01 13:45:02|\n",
      "|         102|       1|POS0001:216507006|          2|4832043329918528320|      0.82|2018-03-01 13:41:34|2018-03-01 13:42:27|2018-03-01 13:45:02|\n",
      "|         102|       1|POS0001:216507006|          4|4832043329918528320|       0.0|2018-03-01 13:41:34|2018-03-01 13:42:27|2018-03-01 13:45:02|\n",
      "|         102|       1|POS0001:216507006|          5|4832043329918528320|      3.01|2018-03-01 13:41:34|2018-03-01 13:42:27|2018-03-01 13:45:02|\n",
      "|         102|       1|POS0001:216507006|          6|4832043329918528320|     -0.52|2018-03-01 13:41:34|2018-03-01 13:42:27|2018-03-01 13:45:02|\n",
      "|         102|       1|POS0001:216507008|          1|4462721520674372218|      2.57|2018-03-01 13:45:02|2018-03-01 13:45:35|2018-03-01 13:48:46|\n",
      "|         102|       1|POS0001:216507008|          2|4462721520674372218|      2.48|2018-03-01 13:45:02|2018-03-01 13:45:35|2018-03-01 13:48:46|\n",
      "+------------+--------+-----------------+-----------+-------------------+----------+-------------------+-------------------+-------------------+\n",
      "only showing top 20 rows\n",
      "\n"
     ]
    }
   ],
   "source": [
    "df_basket0.show(20)"
   ]
  },
  {
   "cell_type": "code",
   "execution_count": 10,
   "metadata": {},
   "outputs": [
    {
     "data": {
      "text/plain": [
       "1008727"
      ]
     },
     "execution_count": 10,
     "metadata": {},
     "output_type": "execute_result"
    }
   ],
   "source": [
    "df_basket0.count()"
   ]
  },
  {
   "cell_type": "markdown",
   "metadata": {},
   "source": [
    "# 5.- Compute aggregated basket"
   ]
  },
  {
   "cell_type": "code",
   "execution_count": 11,
   "metadata": {},
   "outputs": [],
   "source": [
    "df_basket_aggregated = df_basket0.groupBy(\"store_number\", \"pos_code\", \"pos_id\", \"pan_token\", \"timestamp_basket\", \\\n",
    "                                          \"timestamp_cards\", \"next_timestamp\").\\\n",
    "                                 agg(sum(\"total_cost\").alias(\"total_cost\")). \\\n",
    "                                                                         orderBy(\"store_number\", \\\n",
    "                                                                                 \"pos_code\", \\\n",
    "                                                                                 \"timestamp_basket\")"
   ]
  },
  {
   "cell_type": "code",
   "execution_count": 12,
   "metadata": {},
   "outputs": [
    {
     "name": "stdout",
     "output_type": "stream",
     "text": [
      "+------------+--------+-----------------+-------------------+-------------------+-------------------+-------------------+------------------+\n",
      "|store_number|pos_code|           pos_id|          pan_token|   timestamp_basket|    timestamp_cards|     next_timestamp|        total_cost|\n",
      "+------------+--------+-----------------+-------------------+-------------------+-------------------+-------------------+------------------+\n",
      "|         102|       1|POS0001:216506961|5573611294275381348|2018-03-01 12:13:19|2018-03-01 12:14:19|2018-03-01 12:14:40| 1.659999966621399|\n",
      "|         102|       1|POS0001:216506962|5573611294275381348|2018-03-01 12:14:40|2018-03-01 12:15:10|2018-03-01 13:24:55| 5.480000197887421|\n",
      "|         102|       1|POS0001:216506988|3770647320610855465|2018-03-01 13:24:55|2018-03-01 13:25:13|2018-03-01 13:31:58| 4.990000009536743|\n",
      "|         102|       1|POS0001:216506993|4658598774717247027|2018-03-01 13:31:58|2018-03-01 13:32:12|2018-03-01 13:41:34|0.7400000095367432|\n",
      "|         102|       1|POS0001:216507006|4832043329918528320|2018-03-01 13:41:34|2018-03-01 13:42:27|2018-03-01 13:45:02| 3.480000004172325|\n",
      "|         102|       1|POS0001:216507008|4462721520674372218|2018-03-01 13:45:02|2018-03-01 13:45:35|2018-03-01 13:48:46| 5.049999952316284|\n",
      "|         102|       1|POS0001:216507013|4757147527171760525|2018-03-01 13:48:46|2018-03-01 13:49:09|2018-03-01 13:49:23| 5.330000221729279|\n",
      "|         102|       1|POS0001:216507014|4762484728867996199|2018-03-01 13:49:23|2018-03-01 13:49:49|2018-03-01 13:59:07| 4.850000023841858|\n",
      "|         102|       1|POS0001:216507027|4921814519479290644|2018-03-01 13:59:07|2018-03-01 13:59:25|2018-03-01 13:59:38| 4.310000061988831|\n",
      "|         102|       1|POS0001:216507028|4751456821457785509|2018-03-01 13:59:38|2018-03-01 14:00:06|2018-03-01 14:04:40|1.8599999696016312|\n",
      "+------------+--------+-----------------+-------------------+-------------------+-------------------+-------------------+------------------+\n",
      "only showing top 10 rows\n",
      "\n"
     ]
    }
   ],
   "source": [
    "df_basket_aggregated.show(10)"
   ]
  },
  {
   "cell_type": "code",
   "execution_count": 13,
   "metadata": {},
   "outputs": [],
   "source": [
    "total_transactions = df_basket_aggregated.count()"
   ]
  },
  {
   "cell_type": "code",
   "execution_count": 14,
   "metadata": {},
   "outputs": [
    {
     "data": {
      "text/plain": [
       "202481"
      ]
     },
     "execution_count": 14,
     "metadata": {},
     "output_type": "execute_result"
    }
   ],
   "source": [
    "total_transactions"
   ]
  },
  {
   "cell_type": "markdown",
   "metadata": {},
   "source": [
    "# 6.- Count of unmatched baskets"
   ]
  },
  {
   "cell_type": "code",
   "execution_count": 15,
   "metadata": {},
   "outputs": [],
   "source": [
    "df_unmatched = df_basket_aggregated.where(col('pan_token').isNull())"
   ]
  },
  {
   "cell_type": "code",
   "execution_count": 16,
   "metadata": {},
   "outputs": [
    {
     "name": "stdout",
     "output_type": "stream",
     "text": [
      "+------------+--------+-----------------+---------+-------------------+-------------------+-------------------+------------------+\n",
      "|store_number|pos_code|           pos_id|pan_token|   timestamp_basket|    timestamp_cards|     next_timestamp|        total_cost|\n",
      "+------------+--------+-----------------+---------+-------------------+-------------------+-------------------+------------------+\n",
      "|         102|       1|POS0001:216508027|     null|2018-03-03 21:01:16|2018-03-03 21:02:37|2018-03-03 21:08:05| 3.319999933242798|\n",
      "|         102|       1|POS0001:216509830|     null|2018-03-07 19:29:32|2018-03-07 19:32:26|2018-03-07 19:32:41| 7.299999892711639|\n",
      "|         102|       1|POS0001:216512974|     null|2018-03-13 19:48:36|2018-03-13 19:48:51|2018-03-13 19:49:54|1.2400000095367432|\n",
      "|         102|       1|POS0001:216512975|     null|2018-03-13 19:49:54|2018-03-13 19:50:17|2018-03-13 20:36:27| 5.239999771118164|\n",
      "|         102|       1|POS0001:216512982|     null|2018-03-13 20:36:27|2018-03-13 20:36:48|2018-03-13 20:37:07|1.7400000095367432|\n",
      "|         102|       1|POS0001:216512983|     null|2018-03-13 20:37:07|2018-03-13 20:37:22|2018-03-13 20:44:52|0.8299999833106995|\n",
      "|         102|       1|POS0001:216512986|     null|2018-03-13 20:44:52|2018-03-13 20:45:14|2018-03-13 20:50:10| 5.659999847412109|\n",
      "|         102|       1|POS0001:216512988|     null|2018-03-13 20:50:10|2018-03-13 20:50:19|2018-03-13 20:52:29|1.2400000095367432|\n",
      "|         102|       1|POS0001:216512990|     null|2018-03-13 20:52:29|2018-03-13 20:52:38|2018-03-13 20:53:03| 1.659999966621399|\n",
      "|         102|       1|POS0001:216512991|     null|2018-03-13 20:53:03|2018-03-13 20:53:13|2018-03-13 21:23:01| 2.569999933242798|\n",
      "+------------+--------+-----------------+---------+-------------------+-------------------+-------------------+------------------+\n",
      "only showing top 10 rows\n",
      "\n"
     ]
    }
   ],
   "source": [
    "df_unmatched.show(10)"
   ]
  },
  {
   "cell_type": "markdown",
   "metadata": {},
   "source": [
    "## 6.1.- Proportion of unmatched transactions"
   ]
  },
  {
   "cell_type": "code",
   "execution_count": 17,
   "metadata": {},
   "outputs": [],
   "source": [
    "unmatched_transactions = df_unmatched.count()"
   ]
  },
  {
   "cell_type": "code",
   "execution_count": 18,
   "metadata": {},
   "outputs": [
    {
     "data": {
      "text/plain": [
       "408"
      ]
     },
     "execution_count": 18,
     "metadata": {},
     "output_type": "execute_result"
    }
   ],
   "source": [
    "unmatched_transactions"
   ]
  },
  {
   "cell_type": "code",
   "execution_count": 19,
   "metadata": {},
   "outputs": [
    {
     "data": {
      "text/plain": [
       "0.2015003876906969"
      ]
     },
     "execution_count": 19,
     "metadata": {},
     "output_type": "execute_result"
    }
   ],
   "source": [
    "unmatched_transactions*100/total_transactions"
   ]
  },
  {
   "cell_type": "markdown",
   "metadata": {},
   "source": [
    "## 6.2.- Are there any repeated timestamps in the unmatched baskets?"
   ]
  },
  {
   "cell_type": "code",
   "execution_count": 20,
   "metadata": {},
   "outputs": [
    {
     "data": {
      "text/plain": [
       "392"
      ]
     },
     "execution_count": 20,
     "metadata": {},
     "output_type": "execute_result"
    }
   ],
   "source": [
    "len([i.timestamp_basket for i in df_unmatched.select('timestamp_basket').distinct().collect()])"
   ]
  },
  {
   "cell_type": "markdown",
   "metadata": {},
   "source": [
    "# 7.- Count of multiple payments between transactions"
   ]
  },
  {
   "cell_type": "code",
   "execution_count": 21,
   "metadata": {},
   "outputs": [],
   "source": [
    "df_basket_payment_counts = df_basket_aggregated.groupBy(\"store_number\", \"pos_code\", \"pos_id\", \"pan_token\", \\\n",
    "                                                        \"timestamp_basket\", \"timestamp_cards\", \"next_timestamp\").\\\n",
    "                                 agg(count('pos_id').alias(\"payment_count\")). \\\n",
    "                                 orderBy(\"store_number\", \"pos_id\", \"timestamp_basket\")"
   ]
  },
  {
   "cell_type": "code",
   "execution_count": 22,
   "metadata": {},
   "outputs": [],
   "source": [
    "df_basket_payment_counts = df_basket_aggregated.groupBy('store_number', 'pos_code', 'pos_id', 'timestamp_basket').count()"
   ]
  },
  {
   "cell_type": "code",
   "execution_count": 23,
   "metadata": {},
   "outputs": [
    {
     "name": "stdout",
     "output_type": "stream",
     "text": [
      "+------------+--------+-----------------+-------------------+-----+\n",
      "|store_number|pos_code|           pos_id|   timestamp_basket|count|\n",
      "+------------+--------+-----------------+-------------------+-----+\n",
      "|         102|       1|POS0001:216506961|2018-03-01 12:13:19|    1|\n",
      "|         102|       1|POS0001:216506962|2018-03-01 12:14:40|    1|\n",
      "|         102|       1|POS0001:216506988|2018-03-01 13:24:55|    1|\n",
      "|         102|       1|POS0001:216506993|2018-03-01 13:31:58|    1|\n",
      "|         102|       1|POS0001:216507006|2018-03-01 13:41:34|    1|\n",
      "|         102|       1|POS0001:216507008|2018-03-01 13:45:02|    1|\n",
      "|         102|       1|POS0001:216507013|2018-03-01 13:48:46|    1|\n",
      "|         102|       1|POS0001:216507014|2018-03-01 13:49:23|    1|\n",
      "|         102|       1|POS0001:216507027|2018-03-01 13:59:07|    1|\n",
      "|         102|       1|POS0001:216507028|2018-03-01 13:59:38|    1|\n",
      "+------------+--------+-----------------+-------------------+-----+\n",
      "only showing top 10 rows\n",
      "\n"
     ]
    }
   ],
   "source": [
    "df_basket_payment_counts.show(10)"
   ]
  },
  {
   "cell_type": "code",
   "execution_count": 24,
   "metadata": {},
   "outputs": [
    {
     "data": {
      "text/plain": [
       "181220"
      ]
     },
     "execution_count": 24,
     "metadata": {},
     "output_type": "execute_result"
    }
   ],
   "source": [
    "df_basket_payment_counts.count()"
   ]
  },
  {
   "cell_type": "code",
   "execution_count": 25,
   "metadata": {},
   "outputs": [],
   "source": [
    "df_single_payments = df_basket_payment_counts.where(df_basket_payment_counts['count'] == 1)"
   ]
  },
  {
   "cell_type": "code",
   "execution_count": 26,
   "metadata": {},
   "outputs": [],
   "source": [
    "single_payments = df_single_payments.count()"
   ]
  },
  {
   "cell_type": "code",
   "execution_count": 27,
   "metadata": {},
   "outputs": [
    {
     "data": {
      "text/plain": [
       "170937"
      ]
     },
     "execution_count": 27,
     "metadata": {},
     "output_type": "execute_result"
    }
   ],
   "source": [
    "single_payments"
   ]
  },
  {
   "cell_type": "code",
   "execution_count": 28,
   "metadata": {},
   "outputs": [],
   "source": [
    "df_multiple_payments = df_basket_payment_counts.where(df_basket_payment_counts['count'] != 1)"
   ]
  },
  {
   "cell_type": "code",
   "execution_count": 29,
   "metadata": {},
   "outputs": [
    {
     "name": "stdout",
     "output_type": "stream",
     "text": [
      "+------------+--------+-----------------+-------------------+-----+\n",
      "|store_number|pos_code|           pos_id|   timestamp_basket|count|\n",
      "+------------+--------+-----------------+-------------------+-----+\n",
      "|         102|       1|POS0001:216507292|2018-03-02 13:32:37|    2|\n",
      "|         102|       1|POS0001:216507609|2018-03-03 10:56:45|    2|\n",
      "|         102|       1|POS0001:216507658|2018-03-03 11:57:21|    2|\n",
      "|         102|       1|POS0001:216507689|2018-03-03 12:32:25|    2|\n",
      "|         102|       1|POS0001:216507757|2018-03-03 13:55:23|    2|\n",
      "|         102|       1|POS0001:216508027|2018-03-03 21:01:16|    2|\n",
      "|         102|       1|POS0001:216508382|2018-03-04 12:33:38|    2|\n",
      "|         102|       1|POS0001:216508423|2018-03-04 13:31:49|    2|\n",
      "|         102|       1|POS0001:216508482|2018-03-04 15:24:52|    2|\n",
      "|         102|       1|POS0001:216508835|2018-03-05 14:06:13|    2|\n",
      "|         102|       1|POS0001:216509066|2018-03-06 01:53:41|    2|\n",
      "|         102|       1|POS0001:216509152|2018-03-06 08:00:00|    2|\n",
      "|         102|       1|POS0001:216509636|2018-03-07 13:35:02|    2|\n",
      "|         102|       1|POS0001:216509709|2018-03-07 15:11:42|    2|\n",
      "|         102|       1|POS0001:216509830|2018-03-07 19:29:32|    2|\n",
      "|         102|       1|POS0001:216509911|2018-03-07 22:14:41|    2|\n",
      "|         102|       1|POS0001:216510666|2018-03-09 19:51:46|    2|\n",
      "|         102|       1|POS0001:216511195|2018-03-10 13:34:56|    2|\n",
      "|         102|       1|POS0001:216511734|2018-03-11 01:14:31|    2|\n",
      "|         102|       1|POS0001:216513074|2018-03-14 11:31:13|    2|\n",
      "+------------+--------+-----------------+-------------------+-----+\n",
      "only showing top 20 rows\n",
      "\n"
     ]
    }
   ],
   "source": [
    "df_multiple_payments.show()"
   ]
  },
  {
   "cell_type": "code",
   "execution_count": 30,
   "metadata": {},
   "outputs": [],
   "source": [
    "multiple_payments = df_multiple_payments.count()"
   ]
  },
  {
   "cell_type": "code",
   "execution_count": 31,
   "metadata": {},
   "outputs": [
    {
     "data": {
      "text/plain": [
       "10283"
      ]
     },
     "execution_count": 31,
     "metadata": {},
     "output_type": "execute_result"
    }
   ],
   "source": [
    "multiple_payments"
   ]
  },
  {
   "cell_type": "markdown",
   "metadata": {},
   "source": [
    "## 7.1.- A closer look at multiple payments"
   ]
  },
  {
   "cell_type": "code",
   "execution_count": 32,
   "metadata": {},
   "outputs": [
    {
     "name": "stdout",
     "output_type": "stream",
     "text": [
      "+----------------+-------------------+-------------------+-------------------+-------------------+\n",
      "|          pos_id|          pan_token|   timestamp_basket|    timestamp_cards|     next_timestamp|\n",
      "+----------------+-------------------+-------------------+-------------------+-------------------+\n",
      "|POS0023:35435297|4147092511800140201|2018-03-02 12:05:53|2018-03-02 12:06:03|2018-03-02 12:08:50|\n",
      "+----------------+-------------------+-------------------+-------------------+-------------------+\n",
      "\n"
     ]
    }
   ],
   "source": [
    "df_basket_aggregated[(col('store_number') == 102) & \\\n",
    "                     (col('pos_code') == 1) & \\\n",
    "                    (col('timestamp_basket') == '2018-03-02 12:05:53')].\\\n",
    "                    select('pos_id', 'pan_token', 'timestamp_basket', 'timestamp_cards', \\\n",
    "                           'next_timestamp').show()"
   ]
  },
  {
   "cell_type": "code",
   "execution_count": 33,
   "metadata": {},
   "outputs": [
    {
     "name": "stdout",
     "output_type": "stream",
     "text": [
      "+------------+--------+-----------------+-------------------+-------------------+-------------------+-------------------+-----------------+\n",
      "|store_number|pos_code|           pos_id|          pan_token|   timestamp_basket|    timestamp_cards|     next_timestamp|       total_cost|\n",
      "+------------+--------+-----------------+-------------------+-------------------+-------------------+-------------------+-----------------+\n",
      "|         102|       1|POS0001:216509065|4832045180974836027|2018-03-06 01:52:13|2018-03-06 01:52:33|2018-03-06 01:52:43|7.659999907016754|\n",
      "+------------+--------+-----------------+-------------------+-------------------+-------------------+-------------------+-----------------+\n",
      "\n"
     ]
    }
   ],
   "source": [
    "df_basket_aggregated[(col('store_number') == 102) & \\\n",
    "                     (col('pos_code') == 1) & \\\n",
    "                    (col('timestamp_basket') == '2018-03-06 01:52:13')].show()"
   ]
  },
  {
   "cell_type": "code",
   "execution_count": 34,
   "metadata": {},
   "outputs": [
    {
     "name": "stdout",
     "output_type": "stream",
     "text": [
      "+-----------------+-----------+-------------------+-------------------+-------------------+-------------------+\n",
      "|           pos_id|sale_number|          pan_token|   timestamp_basket|    timestamp_cards|     next_timestamp|\n",
      "+-----------------+-----------+-------------------+-------------------+-------------------+-------------------+\n",
      "|POS0001:216509065|          1|4832045180974836027|2018-03-06 01:52:13|2018-03-06 01:52:33|2018-03-06 01:52:43|\n",
      "|POS0001:216509065|          2|4832045180974836027|2018-03-06 01:52:13|2018-03-06 01:52:33|2018-03-06 01:52:43|\n",
      "|POS0001:216509065|          3|4832045180974836027|2018-03-06 01:52:13|2018-03-06 01:52:33|2018-03-06 01:52:43|\n",
      "|POS0001:216509065|          4|4832045180974836027|2018-03-06 01:52:13|2018-03-06 01:52:33|2018-03-06 01:52:43|\n",
      "|POS0001:216509065|          5|4832045180974836027|2018-03-06 01:52:13|2018-03-06 01:52:33|2018-03-06 01:52:43|\n",
      "|POS0001:216509065|          6|4832045180974836027|2018-03-06 01:52:13|2018-03-06 01:52:33|2018-03-06 01:52:43|\n",
      "+-----------------+-----------+-------------------+-------------------+-------------------+-------------------+\n",
      "\n"
     ]
    }
   ],
   "source": [
    "df_basket0[(col('store_number') == 102) & \\\n",
    "                     (col('pos_code') == 1) & \\\n",
    "                    (col('timestamp_basket') == '2018-03-06 01:52:13')].\\\n",
    "                    sort('store_number', 'pos_code', 'timestamp_basket', 'timestamp_cards', 'sale_number').\\\n",
    "                    select('pos_id', 'sale_number', 'pan_token', 'timestamp_basket', 'timestamp_cards', \\\n",
    "                           'next_timestamp').show()"
   ]
  },
  {
   "cell_type": "code",
   "execution_count": 35,
   "metadata": {},
   "outputs": [
    {
     "name": "stdout",
     "output_type": "stream",
     "text": [
      "+-----------------+-----------+-------------------+-------------------+-------------------+-------------------+\n",
      "|           pos_id|sale_number|          pan_token|   timestamp_basket|    timestamp_cards|     next_timestamp|\n",
      "+-----------------+-----------+-------------------+-------------------+-------------------+-------------------+\n",
      "|POS0021:172009093|          1|4659435373866350219|2018-03-29 13:58:26|2018-03-29 13:58:39|2018-03-29 14:00:11|\n",
      "|POS0021:172009093|          2|4659435373866350219|2018-03-29 13:58:26|2018-03-29 13:58:39|2018-03-29 14:00:11|\n",
      "|POS0021:172009093|          3|4659435373866350219|2018-03-29 13:58:26|2018-03-29 13:58:39|2018-03-29 14:00:11|\n",
      "|POS0021:172009093|          1|4658581689937518013|2018-03-29 13:58:26|2018-03-29 13:59:37|2018-03-29 14:00:11|\n",
      "|POS0021:172009093|          2|4658581689937518013|2018-03-29 13:58:26|2018-03-29 13:59:37|2018-03-29 14:00:11|\n",
      "|POS0021:172009093|          3|4658581689937518013|2018-03-29 13:58:26|2018-03-29 13:59:37|2018-03-29 14:00:11|\n",
      "+-----------------+-----------+-------------------+-------------------+-------------------+-------------------+\n",
      "\n"
     ]
    }
   ],
   "source": [
    "df_basket0[(col('pos_id') == 'POS0021:172009093')].\\\n",
    "                    sort('store_number', 'pos_code', 'timestamp_basket', 'timestamp_cards', 'sale_number').\\\n",
    "                    select('pos_id', 'sale_number', 'pan_token', 'timestamp_basket', 'timestamp_cards', \\\n",
    "                           'next_timestamp').show()"
   ]
  },
  {
   "cell_type": "markdown",
   "metadata": {},
   "source": [
    "# 8.- Convert to Pandas"
   ]
  },
  {
   "cell_type": "code",
   "execution_count": 36,
   "metadata": {},
   "outputs": [
    {
     "ename": "NameError",
     "evalue": "name 'df_basket' is not defined",
     "output_type": "error",
     "traceback": [
      "\u001b[0;31m---------------------------------------------------------------------------\u001b[0m",
      "\u001b[0;31mNameError\u001b[0m                                 Traceback (most recent call last)",
      "\u001b[0;32m<ipython-input-36-510e5385056d>\u001b[0m in \u001b[0;36m<module>\u001b[0;34m()\u001b[0m\n\u001b[0;32m----> 1\u001b[0;31m \u001b[0mpdf_basket\u001b[0m \u001b[0;34m=\u001b[0m \u001b[0mdf_basket\u001b[0m\u001b[0;34m.\u001b[0m\u001b[0mtoPandas\u001b[0m\u001b[0;34m(\u001b[0m\u001b[0;34m)\u001b[0m\u001b[0;34m\u001b[0m\u001b[0m\n\u001b[0m",
      "\u001b[0;31mNameError\u001b[0m: name 'df_basket' is not defined"
     ]
    }
   ],
   "source": [
    "pdf_basket = df_basket.toPandas()"
   ]
  },
  {
   "cell_type": "code",
   "execution_count": null,
   "metadata": {},
   "outputs": [],
   "source": [
    "pdf_basket.head(50)"
   ]
  },
  {
   "cell_type": "code",
   "execution_count": null,
   "metadata": {},
   "outputs": [],
   "source": [
    "pdf_basket.tail(50)"
   ]
  },
  {
   "cell_type": "code",
   "execution_count": null,
   "metadata": {},
   "outputs": [],
   "source": [
    "pdf_basket_aggregated = df_basket_aggregated.toPandas()"
   ]
  },
  {
   "cell_type": "code",
   "execution_count": null,
   "metadata": {},
   "outputs": [],
   "source": [
    "pdf_basket_aggregated.head(50)"
   ]
  },
  {
   "cell_type": "code",
   "execution_count": null,
   "metadata": {},
   "outputs": [],
   "source": [
    "pdf_basket_aggregated.tail(50)"
   ]
  },
  {
   "cell_type": "code",
   "execution_count": null,
   "metadata": {},
   "outputs": [],
   "source": []
  }
 ],
 "metadata": {
  "kernelspec": {
   "display_name": "Python 3",
   "language": "python",
   "name": "python3"
  },
  "language_info": {
   "codemirror_mode": {
    "name": "ipython",
    "version": 3
   },
   "file_extension": ".py",
   "mimetype": "text/x-python",
   "name": "python",
   "nbconvert_exporter": "python",
   "pygments_lexer": "ipython3",
   "version": "3.5.2"
  }
 },
 "nbformat": 4,
 "nbformat_minor": 1
}
